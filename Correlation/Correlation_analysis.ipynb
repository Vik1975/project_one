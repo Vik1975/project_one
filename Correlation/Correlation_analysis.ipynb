{
 "cells": [
  {
   "cell_type": "code",
   "execution_count": 27,
   "metadata": {},
   "outputs": [],
   "source": [
    "import pandas as pd\n",
    "import os\n",
    "import matplotlib.pyplot as plt\n",
    "import numpy as np\n",
    "from pandas.plotting import scatter_matrix\n",
    "from pathlib import Path\n",
    "import scipy.stats as stats\n",
    "import plotly.express as px"
   ]
  },
  {
   "cell_type": "code",
   "execution_count": 28,
   "metadata": {},
   "outputs": [],
   "source": [
    "def linear_regression_plot(x, y):\n",
    "    # Perform linear regression\n",
    "    pe_slope, pe_int, pe_r, pe_p, pe_std_err = stats.linregress(x, y.astype(int))\n",
    "    regression_line = pe_slope * np.array(x) + pe_int\n",
    "\n",
    "    print(f'The r-value is: {round(pe_r,2)}')\n",
    "\n",
    "    # Plotting\n",
    "    plt.scatter(x, y, label='Data Points')\n",
    "    plt.plot(x, regression_line, color='red', label='Linear Regression')\n",
    "    plt.annotate(f'y = {round(pe_slope,2)}x + {round(pe_int,2)}', xy=(min(x)+5,min(y)), \n",
    "                 xycoords='data', color='red', size=15)"
   ]
  },
  {
   "cell_type": "code",
   "execution_count": 29,
   "metadata": {},
   "outputs": [
    {
     "data": {
      "text/html": [
       "<div>\n",
       "<style scoped>\n",
       "    .dataframe tbody tr th:only-of-type {\n",
       "        vertical-align: middle;\n",
       "    }\n",
       "\n",
       "    .dataframe tbody tr th {\n",
       "        vertical-align: top;\n",
       "    }\n",
       "\n",
       "    .dataframe thead th {\n",
       "        text-align: right;\n",
       "    }\n",
       "</style>\n",
       "<table border=\"1\" class=\"dataframe\">\n",
       "  <thead>\n",
       "    <tr style=\"text-align: right;\">\n",
       "      <th></th>\n",
       "      <th>State</th>\n",
       "      <th>2022_homelesess</th>\n",
       "      <th>2021_homelesess</th>\n",
       "      <th>2020_homelesess</th>\n",
       "      <th>2019_homelesess</th>\n",
       "      <th>2018_homelesess</th>\n",
       "      <th>2017_homelesess</th>\n",
       "      <th>2016_homelesess</th>\n",
       "      <th>2015_homelesess</th>\n",
       "      <th>2014_homelesess</th>\n",
       "      <th>...</th>\n",
       "      <th>2021_rental</th>\n",
       "      <th>2020_rental</th>\n",
       "      <th>2019_rental</th>\n",
       "      <th>2018_rental</th>\n",
       "      <th>2017_rental</th>\n",
       "      <th>2016_rental</th>\n",
       "      <th>2015_rental</th>\n",
       "      <th>2014_rental</th>\n",
       "      <th>2013_rental</th>\n",
       "      <th>2012_rental</th>\n",
       "    </tr>\n",
       "  </thead>\n",
       "  <tbody>\n",
       "    <tr>\n",
       "      <th>0</th>\n",
       "      <td>AK</td>\n",
       "      <td>2320</td>\n",
       "      <td>1949</td>\n",
       "      <td>1949</td>\n",
       "      <td>1907</td>\n",
       "      <td>2016</td>\n",
       "      <td>1845</td>\n",
       "      <td>1940.0</td>\n",
       "      <td>1956.0</td>\n",
       "      <td>1784.0</td>\n",
       "      <td>...</td>\n",
       "      <td>2340.0</td>\n",
       "      <td>1990.0</td>\n",
       "      <td>2016.0</td>\n",
       "      <td>1967.0</td>\n",
       "      <td>1900.0</td>\n",
       "      <td>1903.0</td>\n",
       "      <td>1940.0</td>\n",
       "      <td>1957.0</td>\n",
       "      <td>1909.0</td>\n",
       "      <td>1908.0</td>\n",
       "    </tr>\n",
       "    <tr>\n",
       "      <th>1</th>\n",
       "      <td>AL</td>\n",
       "      <td>3752</td>\n",
       "      <td>2556</td>\n",
       "      <td>3351</td>\n",
       "      <td>3261</td>\n",
       "      <td>3434</td>\n",
       "      <td>3793</td>\n",
       "      <td>4111.0</td>\n",
       "      <td>3970.0</td>\n",
       "      <td>4561.0</td>\n",
       "      <td>...</td>\n",
       "      <td>1240.0</td>\n",
       "      <td>1054.0</td>\n",
       "      <td>1068.0</td>\n",
       "      <td>1042.0</td>\n",
       "      <td>1007.0</td>\n",
       "      <td>1016.0</td>\n",
       "      <td>958.0</td>\n",
       "      <td>1103.0</td>\n",
       "      <td>1022.0</td>\n",
       "      <td>945.0</td>\n",
       "    </tr>\n",
       "    <tr>\n",
       "      <th>2</th>\n",
       "      <td>AR</td>\n",
       "      <td>2459</td>\n",
       "      <td>2139</td>\n",
       "      <td>2366</td>\n",
       "      <td>2717</td>\n",
       "      <td>2712</td>\n",
       "      <td>2467</td>\n",
       "      <td>2463.0</td>\n",
       "      <td>2560.0</td>\n",
       "      <td>2936.0</td>\n",
       "      <td>...</td>\n",
       "      <td>1334.0</td>\n",
       "      <td>1134.0</td>\n",
       "      <td>1149.0</td>\n",
       "      <td>1121.0</td>\n",
       "      <td>1083.0</td>\n",
       "      <td>1081.0</td>\n",
       "      <td>1045.0</td>\n",
       "      <td>1075.0</td>\n",
       "      <td>953.0</td>\n",
       "      <td>929.0</td>\n",
       "    </tr>\n",
       "    <tr>\n",
       "      <th>3</th>\n",
       "      <td>AZ</td>\n",
       "      <td>13553</td>\n",
       "      <td>5460</td>\n",
       "      <td>10979</td>\n",
       "      <td>10007</td>\n",
       "      <td>9865</td>\n",
       "      <td>8947</td>\n",
       "      <td>9707.0</td>\n",
       "      <td>9896.0</td>\n",
       "      <td>10495.0</td>\n",
       "      <td>...</td>\n",
       "      <td>1556.0</td>\n",
       "      <td>1323.0</td>\n",
       "      <td>1340.0</td>\n",
       "      <td>1307.0</td>\n",
       "      <td>1263.0</td>\n",
       "      <td>1260.0</td>\n",
       "      <td>1227.0</td>\n",
       "      <td>1222.0</td>\n",
       "      <td>1210.0</td>\n",
       "      <td>1201.0</td>\n",
       "    </tr>\n",
       "    <tr>\n",
       "      <th>4</th>\n",
       "      <td>CA</td>\n",
       "      <td>171521</td>\n",
       "      <td>57468</td>\n",
       "      <td>161548</td>\n",
       "      <td>151278</td>\n",
       "      <td>129972</td>\n",
       "      <td>131532</td>\n",
       "      <td>118142.0</td>\n",
       "      <td>115738.0</td>\n",
       "      <td>113952.0</td>\n",
       "      <td>...</td>\n",
       "      <td>3040.0</td>\n",
       "      <td>2585.0</td>\n",
       "      <td>2619.0</td>\n",
       "      <td>2555.0</td>\n",
       "      <td>2469.0</td>\n",
       "      <td>2465.0</td>\n",
       "      <td>2345.0</td>\n",
       "      <td>2237.0</td>\n",
       "      <td>2132.0</td>\n",
       "      <td>2031.0</td>\n",
       "    </tr>\n",
       "  </tbody>\n",
       "</table>\n",
       "<p>5 rows × 23 columns</p>\n",
       "</div>"
      ],
      "text/plain": [
       "  State  2022_homelesess  2021_homelesess  2020_homelesess  2019_homelesess  \\\n",
       "0    AK             2320             1949             1949             1907   \n",
       "1    AL             3752             2556             3351             3261   \n",
       "2    AR             2459             2139             2366             2717   \n",
       "3    AZ            13553             5460            10979            10007   \n",
       "4    CA           171521            57468           161548           151278   \n",
       "\n",
       "   2018_homelesess  2017_homelesess  2016_homelesess  2015_homelesess  \\\n",
       "0             2016             1845           1940.0           1956.0   \n",
       "1             3434             3793           4111.0           3970.0   \n",
       "2             2712             2467           2463.0           2560.0   \n",
       "3             9865             8947           9707.0           9896.0   \n",
       "4           129972           131532         118142.0         115738.0   \n",
       "\n",
       "   2014_homelesess  ...  2021_rental  2020_rental  2019_rental  2018_rental  \\\n",
       "0           1784.0  ...       2340.0       1990.0       2016.0       1967.0   \n",
       "1           4561.0  ...       1240.0       1054.0       1068.0       1042.0   \n",
       "2           2936.0  ...       1334.0       1134.0       1149.0       1121.0   \n",
       "3          10495.0  ...       1556.0       1323.0       1340.0       1307.0   \n",
       "4         113952.0  ...       3040.0       2585.0       2619.0       2555.0   \n",
       "\n",
       "   2017_rental  2016_rental  2015_rental  2014_rental  2013_rental  \\\n",
       "0       1900.0       1903.0       1940.0       1957.0       1909.0   \n",
       "1       1007.0       1016.0        958.0       1103.0       1022.0   \n",
       "2       1083.0       1081.0       1045.0       1075.0        953.0   \n",
       "3       1263.0       1260.0       1227.0       1222.0       1210.0   \n",
       "4       2469.0       2465.0       2345.0       2237.0       2132.0   \n",
       "\n",
       "   2012_rental  \n",
       "0       1908.0  \n",
       "1        945.0  \n",
       "2        929.0  \n",
       "3       1201.0  \n",
       "4       2031.0  \n",
       "\n",
       "[5 rows x 23 columns]"
      ]
     },
     "execution_count": 29,
     "metadata": {},
     "output_type": "execute_result"
    }
   ],
   "source": [
    "merge_data = Path(\"../Resources/merge_file.csv\")\n",
    "merge_df = pd.read_csv(merge_data)\n",
    "merge_df.head()"
   ]
  },
  {
   "cell_type": "code",
   "execution_count": 30,
   "metadata": {},
   "outputs": [
    {
     "data": {
      "text/plain": [
       "[0.7032699158867,\n",
       " -0.5401698082906344,\n",
       " -0.7293032649055923,\n",
       " -0.08116113854907588,\n",
       " 0.08526594988822515,\n",
       " -0.5864216882578707,\n",
       " -0.8126363860373677,\n",
       " -0.8896202899457616,\n",
       " 0.9092862387030219,\n",
       " -0.8913837656671405,\n",
       " -0.8197139746785923,\n",
       " -0.5795651198821752,\n",
       " -0.6602339034331199,\n",
       " 0.08358068871767334,\n",
       " -0.8510344810226538,\n",
       " -0.6951466484234711,\n",
       " -0.5368653080975704,\n",
       " -0.7538956786956933,\n",
       " 0.11610161214340858,\n",
       " -0.6845013714734712,\n",
       " -0.9314993679703446,\n",
       " 0.3535260061994191,\n",
       " -0.8039070726308136,\n",
       " -0.39066272481941383,\n",
       " -0.8897765018130165,\n",
       " -0.16098280106915572,\n",
       " -0.7018029831238649,\n",
       " -0.3217265790093112,\n",
       " -0.9023937506823502,\n",
       " 0.41719035826646456,\n",
       " -0.7828607145369638,\n",
       " -0.04304561761185524,\n",
       " -0.49334961426540697,\n",
       " -0.4336043393658582,\n",
       " -0.6957100125021061,\n",
       " -0.7621767668600055,\n",
       " -0.007925107999305755,\n",
       " -0.8310621459897568,\n",
       " 0.3137332761197743,\n",
       " -0.7113902122450045,\n",
       " 0.3546001332873305,\n",
       " -0.29039288728404006,\n",
       " -0.7234249758266915,\n",
       " 0.3119717148045225,\n",
       " -0.42629004206038074,\n",
       " 0.8066778702686939,\n",
       " 0.04069925957383439,\n",
       " -0.7707820771200911,\n",
       " -0.575877402505886]"
      ]
     },
     "execution_count": 30,
     "metadata": {},
     "output_type": "execute_result"
    }
   ],
   "source": [
    "state_correlation = []\n",
    "p_value_correlation = []\n",
    "\n",
    "for k in merge_df[\"State\"].index:\n",
    "    homelesess = merge_df.iloc[k,1:12].values\n",
    "    rental_price=merge_df.iloc[k,12:24].values\n",
    "    pe_slope, pe_int, pe_r, pe_p, pe_std_err = stats.linregress(homelesess.astype(int), rental_price.astype(int))\n",
    "    state_correlation.append(pe_r)\n",
    "    p_value_correlation.append(pe_p)\n",
    "    \n",
    "state_correlation"
   ]
  },
  {
   "cell_type": "code",
   "execution_count": 31,
   "metadata": {},
   "outputs": [
    {
     "data": {
      "application/vnd.plotly.v1+json": {
       "config": {
        "plotlyServerURL": "https://plot.ly"
       },
       "data": [
        {
         "coloraxis": "coloraxis",
         "geo": "geo",
         "hovertemplate": "locations=%{location}<br>color=%{z}<extra></extra>",
         "locationmode": "USA-states",
         "locations": [
          "AK",
          "AL",
          "AR",
          "AZ",
          "CA",
          "CO",
          "CT",
          "DC",
          "DE",
          "FL",
          "GA",
          "HI",
          "IA",
          "ID",
          "IL",
          "IN",
          "KS",
          "KY",
          "LA",
          "MA",
          "MD",
          "ME",
          "MI",
          "MN",
          "MS",
          "MT",
          "NC",
          "ND",
          "NE",
          "NH",
          "NJ",
          "NM",
          "NV",
          "NY",
          "OH",
          "OK",
          "OR",
          "PA",
          "RI",
          "SC",
          "SD",
          "TN",
          "TX",
          "UT",
          "VA",
          "VT",
          "WA",
          "WI",
          "WV"
         ],
         "name": "",
         "type": "choropleth",
         "z": [
          0.7032699158867,
          -0.5401698082906344,
          -0.7293032649055923,
          -0.08116113854907588,
          0.08526594988822515,
          -0.5864216882578707,
          -0.8126363860373677,
          -0.8896202899457616,
          0.9092862387030219,
          -0.8913837656671405,
          -0.8197139746785923,
          -0.5795651198821752,
          -0.6602339034331199,
          0.08358068871767334,
          -0.8510344810226538,
          -0.6951466484234711,
          -0.5368653080975704,
          -0.7538956786956933,
          0.11610161214340858,
          -0.6845013714734712,
          -0.9314993679703446,
          0.3535260061994191,
          -0.8039070726308136,
          -0.39066272481941383,
          -0.8897765018130165,
          -0.16098280106915572,
          -0.7018029831238649,
          -0.3217265790093112,
          -0.9023937506823502,
          0.41719035826646456,
          -0.7828607145369638,
          -0.04304561761185524,
          -0.49334961426540697,
          -0.4336043393658582,
          -0.6957100125021061,
          -0.7621767668600055,
          -0.007925107999305755,
          -0.8310621459897568,
          0.3137332761197743,
          -0.7113902122450045,
          0.3546001332873305,
          -0.29039288728404006,
          -0.7234249758266915,
          0.3119717148045225,
          -0.42629004206038074,
          0.8066778702686939,
          0.04069925957383439,
          -0.7707820771200911,
          -0.575877402505886
         ]
        }
       ],
       "layout": {
        "coloraxis": {
         "colorbar": {
          "title": {
           "text": "Correlation Coefficients"
          }
         },
         "colorscale": [
          [
           0,
           "#440154"
          ],
          [
           0.1111111111111111,
           "#482878"
          ],
          [
           0.2222222222222222,
           "#3e4989"
          ],
          [
           0.3333333333333333,
           "#31688e"
          ],
          [
           0.4444444444444444,
           "#26828e"
          ],
          [
           0.5555555555555556,
           "#1f9e89"
          ],
          [
           0.6666666666666666,
           "#35b779"
          ],
          [
           0.7777777777777778,
           "#6ece58"
          ],
          [
           0.8888888888888888,
           "#b5de2b"
          ],
          [
           1,
           "#fde725"
          ]
         ]
        },
        "geo": {
         "center": {},
         "domain": {
          "x": [
           0,
           1
          ],
          "y": [
           0,
           1
          ]
         },
         "scope": "usa"
        },
        "legend": {
         "tracegroupgap": 0
        },
        "margin": {
         "b": 50,
         "l": 60,
         "r": 60,
         "t": 50
        },
        "template": {
         "data": {
          "bar": [
           {
            "error_x": {
             "color": "#2a3f5f"
            },
            "error_y": {
             "color": "#2a3f5f"
            },
            "marker": {
             "line": {
              "color": "#E5ECF6",
              "width": 0.5
             },
             "pattern": {
              "fillmode": "overlay",
              "size": 10,
              "solidity": 0.2
             }
            },
            "type": "bar"
           }
          ],
          "barpolar": [
           {
            "marker": {
             "line": {
              "color": "#E5ECF6",
              "width": 0.5
             },
             "pattern": {
              "fillmode": "overlay",
              "size": 10,
              "solidity": 0.2
             }
            },
            "type": "barpolar"
           }
          ],
          "carpet": [
           {
            "aaxis": {
             "endlinecolor": "#2a3f5f",
             "gridcolor": "white",
             "linecolor": "white",
             "minorgridcolor": "white",
             "startlinecolor": "#2a3f5f"
            },
            "baxis": {
             "endlinecolor": "#2a3f5f",
             "gridcolor": "white",
             "linecolor": "white",
             "minorgridcolor": "white",
             "startlinecolor": "#2a3f5f"
            },
            "type": "carpet"
           }
          ],
          "choropleth": [
           {
            "colorbar": {
             "outlinewidth": 0,
             "ticks": ""
            },
            "type": "choropleth"
           }
          ],
          "contour": [
           {
            "colorbar": {
             "outlinewidth": 0,
             "ticks": ""
            },
            "colorscale": [
             [
              0,
              "#0d0887"
             ],
             [
              0.1111111111111111,
              "#46039f"
             ],
             [
              0.2222222222222222,
              "#7201a8"
             ],
             [
              0.3333333333333333,
              "#9c179e"
             ],
             [
              0.4444444444444444,
              "#bd3786"
             ],
             [
              0.5555555555555556,
              "#d8576b"
             ],
             [
              0.6666666666666666,
              "#ed7953"
             ],
             [
              0.7777777777777778,
              "#fb9f3a"
             ],
             [
              0.8888888888888888,
              "#fdca26"
             ],
             [
              1,
              "#f0f921"
             ]
            ],
            "type": "contour"
           }
          ],
          "contourcarpet": [
           {
            "colorbar": {
             "outlinewidth": 0,
             "ticks": ""
            },
            "type": "contourcarpet"
           }
          ],
          "heatmap": [
           {
            "colorbar": {
             "outlinewidth": 0,
             "ticks": ""
            },
            "colorscale": [
             [
              0,
              "#0d0887"
             ],
             [
              0.1111111111111111,
              "#46039f"
             ],
             [
              0.2222222222222222,
              "#7201a8"
             ],
             [
              0.3333333333333333,
              "#9c179e"
             ],
             [
              0.4444444444444444,
              "#bd3786"
             ],
             [
              0.5555555555555556,
              "#d8576b"
             ],
             [
              0.6666666666666666,
              "#ed7953"
             ],
             [
              0.7777777777777778,
              "#fb9f3a"
             ],
             [
              0.8888888888888888,
              "#fdca26"
             ],
             [
              1,
              "#f0f921"
             ]
            ],
            "type": "heatmap"
           }
          ],
          "heatmapgl": [
           {
            "colorbar": {
             "outlinewidth": 0,
             "ticks": ""
            },
            "colorscale": [
             [
              0,
              "#0d0887"
             ],
             [
              0.1111111111111111,
              "#46039f"
             ],
             [
              0.2222222222222222,
              "#7201a8"
             ],
             [
              0.3333333333333333,
              "#9c179e"
             ],
             [
              0.4444444444444444,
              "#bd3786"
             ],
             [
              0.5555555555555556,
              "#d8576b"
             ],
             [
              0.6666666666666666,
              "#ed7953"
             ],
             [
              0.7777777777777778,
              "#fb9f3a"
             ],
             [
              0.8888888888888888,
              "#fdca26"
             ],
             [
              1,
              "#f0f921"
             ]
            ],
            "type": "heatmapgl"
           }
          ],
          "histogram": [
           {
            "marker": {
             "pattern": {
              "fillmode": "overlay",
              "size": 10,
              "solidity": 0.2
             }
            },
            "type": "histogram"
           }
          ],
          "histogram2d": [
           {
            "colorbar": {
             "outlinewidth": 0,
             "ticks": ""
            },
            "colorscale": [
             [
              0,
              "#0d0887"
             ],
             [
              0.1111111111111111,
              "#46039f"
             ],
             [
              0.2222222222222222,
              "#7201a8"
             ],
             [
              0.3333333333333333,
              "#9c179e"
             ],
             [
              0.4444444444444444,
              "#bd3786"
             ],
             [
              0.5555555555555556,
              "#d8576b"
             ],
             [
              0.6666666666666666,
              "#ed7953"
             ],
             [
              0.7777777777777778,
              "#fb9f3a"
             ],
             [
              0.8888888888888888,
              "#fdca26"
             ],
             [
              1,
              "#f0f921"
             ]
            ],
            "type": "histogram2d"
           }
          ],
          "histogram2dcontour": [
           {
            "colorbar": {
             "outlinewidth": 0,
             "ticks": ""
            },
            "colorscale": [
             [
              0,
              "#0d0887"
             ],
             [
              0.1111111111111111,
              "#46039f"
             ],
             [
              0.2222222222222222,
              "#7201a8"
             ],
             [
              0.3333333333333333,
              "#9c179e"
             ],
             [
              0.4444444444444444,
              "#bd3786"
             ],
             [
              0.5555555555555556,
              "#d8576b"
             ],
             [
              0.6666666666666666,
              "#ed7953"
             ],
             [
              0.7777777777777778,
              "#fb9f3a"
             ],
             [
              0.8888888888888888,
              "#fdca26"
             ],
             [
              1,
              "#f0f921"
             ]
            ],
            "type": "histogram2dcontour"
           }
          ],
          "mesh3d": [
           {
            "colorbar": {
             "outlinewidth": 0,
             "ticks": ""
            },
            "type": "mesh3d"
           }
          ],
          "parcoords": [
           {
            "line": {
             "colorbar": {
              "outlinewidth": 0,
              "ticks": ""
             }
            },
            "type": "parcoords"
           }
          ],
          "pie": [
           {
            "automargin": true,
            "type": "pie"
           }
          ],
          "scatter": [
           {
            "fillpattern": {
             "fillmode": "overlay",
             "size": 10,
             "solidity": 0.2
            },
            "type": "scatter"
           }
          ],
          "scatter3d": [
           {
            "line": {
             "colorbar": {
              "outlinewidth": 0,
              "ticks": ""
             }
            },
            "marker": {
             "colorbar": {
              "outlinewidth": 0,
              "ticks": ""
             }
            },
            "type": "scatter3d"
           }
          ],
          "scattercarpet": [
           {
            "marker": {
             "colorbar": {
              "outlinewidth": 0,
              "ticks": ""
             }
            },
            "type": "scattercarpet"
           }
          ],
          "scattergeo": [
           {
            "marker": {
             "colorbar": {
              "outlinewidth": 0,
              "ticks": ""
             }
            },
            "type": "scattergeo"
           }
          ],
          "scattergl": [
           {
            "marker": {
             "colorbar": {
              "outlinewidth": 0,
              "ticks": ""
             }
            },
            "type": "scattergl"
           }
          ],
          "scattermapbox": [
           {
            "marker": {
             "colorbar": {
              "outlinewidth": 0,
              "ticks": ""
             }
            },
            "type": "scattermapbox"
           }
          ],
          "scatterpolar": [
           {
            "marker": {
             "colorbar": {
              "outlinewidth": 0,
              "ticks": ""
             }
            },
            "type": "scatterpolar"
           }
          ],
          "scatterpolargl": [
           {
            "marker": {
             "colorbar": {
              "outlinewidth": 0,
              "ticks": ""
             }
            },
            "type": "scatterpolargl"
           }
          ],
          "scatterternary": [
           {
            "marker": {
             "colorbar": {
              "outlinewidth": 0,
              "ticks": ""
             }
            },
            "type": "scatterternary"
           }
          ],
          "surface": [
           {
            "colorbar": {
             "outlinewidth": 0,
             "ticks": ""
            },
            "colorscale": [
             [
              0,
              "#0d0887"
             ],
             [
              0.1111111111111111,
              "#46039f"
             ],
             [
              0.2222222222222222,
              "#7201a8"
             ],
             [
              0.3333333333333333,
              "#9c179e"
             ],
             [
              0.4444444444444444,
              "#bd3786"
             ],
             [
              0.5555555555555556,
              "#d8576b"
             ],
             [
              0.6666666666666666,
              "#ed7953"
             ],
             [
              0.7777777777777778,
              "#fb9f3a"
             ],
             [
              0.8888888888888888,
              "#fdca26"
             ],
             [
              1,
              "#f0f921"
             ]
            ],
            "type": "surface"
           }
          ],
          "table": [
           {
            "cells": {
             "fill": {
              "color": "#EBF0F8"
             },
             "line": {
              "color": "white"
             }
            },
            "header": {
             "fill": {
              "color": "#C8D4E3"
             },
             "line": {
              "color": "white"
             }
            },
            "type": "table"
           }
          ]
         },
         "layout": {
          "annotationdefaults": {
           "arrowcolor": "#2a3f5f",
           "arrowhead": 0,
           "arrowwidth": 1
          },
          "autotypenumbers": "strict",
          "coloraxis": {
           "colorbar": {
            "outlinewidth": 0,
            "ticks": ""
           }
          },
          "colorscale": {
           "diverging": [
            [
             0,
             "#8e0152"
            ],
            [
             0.1,
             "#c51b7d"
            ],
            [
             0.2,
             "#de77ae"
            ],
            [
             0.3,
             "#f1b6da"
            ],
            [
             0.4,
             "#fde0ef"
            ],
            [
             0.5,
             "#f7f7f7"
            ],
            [
             0.6,
             "#e6f5d0"
            ],
            [
             0.7,
             "#b8e186"
            ],
            [
             0.8,
             "#7fbc41"
            ],
            [
             0.9,
             "#4d9221"
            ],
            [
             1,
             "#276419"
            ]
           ],
           "sequential": [
            [
             0,
             "#0d0887"
            ],
            [
             0.1111111111111111,
             "#46039f"
            ],
            [
             0.2222222222222222,
             "#7201a8"
            ],
            [
             0.3333333333333333,
             "#9c179e"
            ],
            [
             0.4444444444444444,
             "#bd3786"
            ],
            [
             0.5555555555555556,
             "#d8576b"
            ],
            [
             0.6666666666666666,
             "#ed7953"
            ],
            [
             0.7777777777777778,
             "#fb9f3a"
            ],
            [
             0.8888888888888888,
             "#fdca26"
            ],
            [
             1,
             "#f0f921"
            ]
           ],
           "sequentialminus": [
            [
             0,
             "#0d0887"
            ],
            [
             0.1111111111111111,
             "#46039f"
            ],
            [
             0.2222222222222222,
             "#7201a8"
            ],
            [
             0.3333333333333333,
             "#9c179e"
            ],
            [
             0.4444444444444444,
             "#bd3786"
            ],
            [
             0.5555555555555556,
             "#d8576b"
            ],
            [
             0.6666666666666666,
             "#ed7953"
            ],
            [
             0.7777777777777778,
             "#fb9f3a"
            ],
            [
             0.8888888888888888,
             "#fdca26"
            ],
            [
             1,
             "#f0f921"
            ]
           ]
          },
          "colorway": [
           "#636efa",
           "#EF553B",
           "#00cc96",
           "#ab63fa",
           "#FFA15A",
           "#19d3f3",
           "#FF6692",
           "#B6E880",
           "#FF97FF",
           "#FECB52"
          ],
          "font": {
           "color": "#2a3f5f"
          },
          "geo": {
           "bgcolor": "white",
           "lakecolor": "white",
           "landcolor": "#E5ECF6",
           "showlakes": true,
           "showland": true,
           "subunitcolor": "white"
          },
          "hoverlabel": {
           "align": "left"
          },
          "hovermode": "closest",
          "mapbox": {
           "style": "light"
          },
          "paper_bgcolor": "white",
          "plot_bgcolor": "#E5ECF6",
          "polar": {
           "angularaxis": {
            "gridcolor": "white",
            "linecolor": "white",
            "ticks": ""
           },
           "bgcolor": "#E5ECF6",
           "radialaxis": {
            "gridcolor": "white",
            "linecolor": "white",
            "ticks": ""
           }
          },
          "scene": {
           "xaxis": {
            "backgroundcolor": "#E5ECF6",
            "gridcolor": "white",
            "gridwidth": 2,
            "linecolor": "white",
            "showbackground": true,
            "ticks": "",
            "zerolinecolor": "white"
           },
           "yaxis": {
            "backgroundcolor": "#E5ECF6",
            "gridcolor": "white",
            "gridwidth": 2,
            "linecolor": "white",
            "showbackground": true,
            "ticks": "",
            "zerolinecolor": "white"
           },
           "zaxis": {
            "backgroundcolor": "#E5ECF6",
            "gridcolor": "white",
            "gridwidth": 2,
            "linecolor": "white",
            "showbackground": true,
            "ticks": "",
            "zerolinecolor": "white"
           }
          },
          "shapedefaults": {
           "line": {
            "color": "#2a3f5f"
           }
          },
          "ternary": {
           "aaxis": {
            "gridcolor": "white",
            "linecolor": "white",
            "ticks": ""
           },
           "baxis": {
            "gridcolor": "white",
            "linecolor": "white",
            "ticks": ""
           },
           "bgcolor": "#E5ECF6",
           "caxis": {
            "gridcolor": "white",
            "linecolor": "white",
            "ticks": ""
           }
          },
          "title": {
           "x": 0.05
          },
          "xaxis": {
           "automargin": true,
           "gridcolor": "white",
           "linecolor": "white",
           "ticks": "",
           "title": {
            "standoff": 15
           },
           "zerolinecolor": "white",
           "zerolinewidth": 2
          },
          "yaxis": {
           "automargin": true,
           "gridcolor": "white",
           "linecolor": "white",
           "ticks": "",
           "title": {
            "standoff": 15
           },
           "zerolinecolor": "white",
           "zerolinewidth": 2
          }
         }
        }
       }
      }
     },
     "metadata": {},
     "output_type": "display_data"
    }
   ],
   "source": [
    "fig = px.choropleth(locations=merge_df[\"State\"], locationmode=\"USA-states\", \n",
    "                    color=state_correlation, scope=\"usa\", \n",
    "                    color_continuous_scale=\"Viridis\")\n",
    "fig.update_layout(margin=dict(l=60, r=60, t=50, b=50))\n",
    "fig.layout.coloraxis.colorbar.title = 'Correlation Coefficients'\n",
    "fig.show()"
   ]
  },
  {
   "cell_type": "code",
   "execution_count": 32,
   "metadata": {},
   "outputs": [
    {
     "data": {
      "application/vnd.plotly.v1+json": {
       "config": {
        "plotlyServerURL": "https://plot.ly"
       },
       "data": [
        {
         "coloraxis": "coloraxis",
         "geo": "geo",
         "hovertemplate": "locations=%{location}<br>color=%{z}<extra></extra>",
         "locationmode": "USA-states",
         "locations": [
          "AK",
          "AL",
          "AR",
          "AZ",
          "CA",
          "CO",
          "CT",
          "DC",
          "DE",
          "FL",
          "GA",
          "HI",
          "IA",
          "ID",
          "IL",
          "IN",
          "KS",
          "KY",
          "LA",
          "MA",
          "MD",
          "ME",
          "MI",
          "MN",
          "MS",
          "MT",
          "NC",
          "ND",
          "NE",
          "NH",
          "NJ",
          "NM",
          "NV",
          "NY",
          "OH",
          "OK",
          "OR",
          "PA",
          "RI",
          "SC",
          "SD",
          "TN",
          "TX",
          "UT",
          "VA",
          "VT",
          "WA",
          "WI",
          "WV"
         ],
         "name": "",
         "type": "choropleth",
         "z": [
          0.01576104304233,
          0.08627737562342377,
          0.010869480369301724,
          0.8124848685620538,
          0.8031576721703606,
          0.057932391868241534,
          0.0023644695577853653,
          0.000245655585834581,
          0.00010460652117816917,
          0.0002290838744198521,
          0.0020100280893933812,
          0.06166334819907903,
          0.02703723982150568,
          0.8069843016380274,
          0.0008933090341472847,
          0.017566588272223658,
          0.08859760860761526,
          0.007361655181419409,
          0.733899286578364,
          0.020150928672856786,
          0.00003054149258491122,
          0.28617806908266563,
          0.0028634241226102902,
          0.23486121770854654,
          0.0002441519368383311,
          0.6363121168655432,
          0.01607675421858596,
          0.3346424162102518,
          0.00014395842372491826,
          0.20175020497523855,
          0.004384892950271115,
          0.8999971337708879,
          0.12305180302130617,
          0.18274805056147966,
          0.017436809764403857,
          0.006393487565417578,
          0.9815500405984762,
          0.0015264736292530052,
          0.3474652475173914,
          0.014093429206603047,
          0.28461319571170773,
          0.38633940693561253,
          0.011861189962160814,
          0.3503251438451914,
          0.19107562612930404,
          0.0026973103222457454,
          0.9054264886378827,
          0.005489950803579127,
          0.06373581125422266
         ]
        }
       ],
       "layout": {
        "coloraxis": {
         "colorbar": {
          "title": {
           "text": "p-value"
          }
         },
         "colorscale": [
          [
           0,
           "gray"
          ],
          [
           0.1,
           "yellow"
          ],
          [
           1,
           "purple"
          ]
         ]
        },
        "geo": {
         "center": {},
         "domain": {
          "x": [
           0,
           1
          ],
          "y": [
           0,
           1
          ]
         },
         "scope": "usa"
        },
        "legend": {
         "tracegroupgap": 0
        },
        "margin": {
         "b": 50,
         "l": 60,
         "r": 60,
         "t": 50
        },
        "template": {
         "data": {
          "bar": [
           {
            "error_x": {
             "color": "#2a3f5f"
            },
            "error_y": {
             "color": "#2a3f5f"
            },
            "marker": {
             "line": {
              "color": "#E5ECF6",
              "width": 0.5
             },
             "pattern": {
              "fillmode": "overlay",
              "size": 10,
              "solidity": 0.2
             }
            },
            "type": "bar"
           }
          ],
          "barpolar": [
           {
            "marker": {
             "line": {
              "color": "#E5ECF6",
              "width": 0.5
             },
             "pattern": {
              "fillmode": "overlay",
              "size": 10,
              "solidity": 0.2
             }
            },
            "type": "barpolar"
           }
          ],
          "carpet": [
           {
            "aaxis": {
             "endlinecolor": "#2a3f5f",
             "gridcolor": "white",
             "linecolor": "white",
             "minorgridcolor": "white",
             "startlinecolor": "#2a3f5f"
            },
            "baxis": {
             "endlinecolor": "#2a3f5f",
             "gridcolor": "white",
             "linecolor": "white",
             "minorgridcolor": "white",
             "startlinecolor": "#2a3f5f"
            },
            "type": "carpet"
           }
          ],
          "choropleth": [
           {
            "colorbar": {
             "outlinewidth": 0,
             "ticks": ""
            },
            "type": "choropleth"
           }
          ],
          "contour": [
           {
            "colorbar": {
             "outlinewidth": 0,
             "ticks": ""
            },
            "colorscale": [
             [
              0,
              "#0d0887"
             ],
             [
              0.1111111111111111,
              "#46039f"
             ],
             [
              0.2222222222222222,
              "#7201a8"
             ],
             [
              0.3333333333333333,
              "#9c179e"
             ],
             [
              0.4444444444444444,
              "#bd3786"
             ],
             [
              0.5555555555555556,
              "#d8576b"
             ],
             [
              0.6666666666666666,
              "#ed7953"
             ],
             [
              0.7777777777777778,
              "#fb9f3a"
             ],
             [
              0.8888888888888888,
              "#fdca26"
             ],
             [
              1,
              "#f0f921"
             ]
            ],
            "type": "contour"
           }
          ],
          "contourcarpet": [
           {
            "colorbar": {
             "outlinewidth": 0,
             "ticks": ""
            },
            "type": "contourcarpet"
           }
          ],
          "heatmap": [
           {
            "colorbar": {
             "outlinewidth": 0,
             "ticks": ""
            },
            "colorscale": [
             [
              0,
              "#0d0887"
             ],
             [
              0.1111111111111111,
              "#46039f"
             ],
             [
              0.2222222222222222,
              "#7201a8"
             ],
             [
              0.3333333333333333,
              "#9c179e"
             ],
             [
              0.4444444444444444,
              "#bd3786"
             ],
             [
              0.5555555555555556,
              "#d8576b"
             ],
             [
              0.6666666666666666,
              "#ed7953"
             ],
             [
              0.7777777777777778,
              "#fb9f3a"
             ],
             [
              0.8888888888888888,
              "#fdca26"
             ],
             [
              1,
              "#f0f921"
             ]
            ],
            "type": "heatmap"
           }
          ],
          "heatmapgl": [
           {
            "colorbar": {
             "outlinewidth": 0,
             "ticks": ""
            },
            "colorscale": [
             [
              0,
              "#0d0887"
             ],
             [
              0.1111111111111111,
              "#46039f"
             ],
             [
              0.2222222222222222,
              "#7201a8"
             ],
             [
              0.3333333333333333,
              "#9c179e"
             ],
             [
              0.4444444444444444,
              "#bd3786"
             ],
             [
              0.5555555555555556,
              "#d8576b"
             ],
             [
              0.6666666666666666,
              "#ed7953"
             ],
             [
              0.7777777777777778,
              "#fb9f3a"
             ],
             [
              0.8888888888888888,
              "#fdca26"
             ],
             [
              1,
              "#f0f921"
             ]
            ],
            "type": "heatmapgl"
           }
          ],
          "histogram": [
           {
            "marker": {
             "pattern": {
              "fillmode": "overlay",
              "size": 10,
              "solidity": 0.2
             }
            },
            "type": "histogram"
           }
          ],
          "histogram2d": [
           {
            "colorbar": {
             "outlinewidth": 0,
             "ticks": ""
            },
            "colorscale": [
             [
              0,
              "#0d0887"
             ],
             [
              0.1111111111111111,
              "#46039f"
             ],
             [
              0.2222222222222222,
              "#7201a8"
             ],
             [
              0.3333333333333333,
              "#9c179e"
             ],
             [
              0.4444444444444444,
              "#bd3786"
             ],
             [
              0.5555555555555556,
              "#d8576b"
             ],
             [
              0.6666666666666666,
              "#ed7953"
             ],
             [
              0.7777777777777778,
              "#fb9f3a"
             ],
             [
              0.8888888888888888,
              "#fdca26"
             ],
             [
              1,
              "#f0f921"
             ]
            ],
            "type": "histogram2d"
           }
          ],
          "histogram2dcontour": [
           {
            "colorbar": {
             "outlinewidth": 0,
             "ticks": ""
            },
            "colorscale": [
             [
              0,
              "#0d0887"
             ],
             [
              0.1111111111111111,
              "#46039f"
             ],
             [
              0.2222222222222222,
              "#7201a8"
             ],
             [
              0.3333333333333333,
              "#9c179e"
             ],
             [
              0.4444444444444444,
              "#bd3786"
             ],
             [
              0.5555555555555556,
              "#d8576b"
             ],
             [
              0.6666666666666666,
              "#ed7953"
             ],
             [
              0.7777777777777778,
              "#fb9f3a"
             ],
             [
              0.8888888888888888,
              "#fdca26"
             ],
             [
              1,
              "#f0f921"
             ]
            ],
            "type": "histogram2dcontour"
           }
          ],
          "mesh3d": [
           {
            "colorbar": {
             "outlinewidth": 0,
             "ticks": ""
            },
            "type": "mesh3d"
           }
          ],
          "parcoords": [
           {
            "line": {
             "colorbar": {
              "outlinewidth": 0,
              "ticks": ""
             }
            },
            "type": "parcoords"
           }
          ],
          "pie": [
           {
            "automargin": true,
            "type": "pie"
           }
          ],
          "scatter": [
           {
            "fillpattern": {
             "fillmode": "overlay",
             "size": 10,
             "solidity": 0.2
            },
            "type": "scatter"
           }
          ],
          "scatter3d": [
           {
            "line": {
             "colorbar": {
              "outlinewidth": 0,
              "ticks": ""
             }
            },
            "marker": {
             "colorbar": {
              "outlinewidth": 0,
              "ticks": ""
             }
            },
            "type": "scatter3d"
           }
          ],
          "scattercarpet": [
           {
            "marker": {
             "colorbar": {
              "outlinewidth": 0,
              "ticks": ""
             }
            },
            "type": "scattercarpet"
           }
          ],
          "scattergeo": [
           {
            "marker": {
             "colorbar": {
              "outlinewidth": 0,
              "ticks": ""
             }
            },
            "type": "scattergeo"
           }
          ],
          "scattergl": [
           {
            "marker": {
             "colorbar": {
              "outlinewidth": 0,
              "ticks": ""
             }
            },
            "type": "scattergl"
           }
          ],
          "scattermapbox": [
           {
            "marker": {
             "colorbar": {
              "outlinewidth": 0,
              "ticks": ""
             }
            },
            "type": "scattermapbox"
           }
          ],
          "scatterpolar": [
           {
            "marker": {
             "colorbar": {
              "outlinewidth": 0,
              "ticks": ""
             }
            },
            "type": "scatterpolar"
           }
          ],
          "scatterpolargl": [
           {
            "marker": {
             "colorbar": {
              "outlinewidth": 0,
              "ticks": ""
             }
            },
            "type": "scatterpolargl"
           }
          ],
          "scatterternary": [
           {
            "marker": {
             "colorbar": {
              "outlinewidth": 0,
              "ticks": ""
             }
            },
            "type": "scatterternary"
           }
          ],
          "surface": [
           {
            "colorbar": {
             "outlinewidth": 0,
             "ticks": ""
            },
            "colorscale": [
             [
              0,
              "#0d0887"
             ],
             [
              0.1111111111111111,
              "#46039f"
             ],
             [
              0.2222222222222222,
              "#7201a8"
             ],
             [
              0.3333333333333333,
              "#9c179e"
             ],
             [
              0.4444444444444444,
              "#bd3786"
             ],
             [
              0.5555555555555556,
              "#d8576b"
             ],
             [
              0.6666666666666666,
              "#ed7953"
             ],
             [
              0.7777777777777778,
              "#fb9f3a"
             ],
             [
              0.8888888888888888,
              "#fdca26"
             ],
             [
              1,
              "#f0f921"
             ]
            ],
            "type": "surface"
           }
          ],
          "table": [
           {
            "cells": {
             "fill": {
              "color": "#EBF0F8"
             },
             "line": {
              "color": "white"
             }
            },
            "header": {
             "fill": {
              "color": "#C8D4E3"
             },
             "line": {
              "color": "white"
             }
            },
            "type": "table"
           }
          ]
         },
         "layout": {
          "annotationdefaults": {
           "arrowcolor": "#2a3f5f",
           "arrowhead": 0,
           "arrowwidth": 1
          },
          "autotypenumbers": "strict",
          "coloraxis": {
           "colorbar": {
            "outlinewidth": 0,
            "ticks": ""
           }
          },
          "colorscale": {
           "diverging": [
            [
             0,
             "#8e0152"
            ],
            [
             0.1,
             "#c51b7d"
            ],
            [
             0.2,
             "#de77ae"
            ],
            [
             0.3,
             "#f1b6da"
            ],
            [
             0.4,
             "#fde0ef"
            ],
            [
             0.5,
             "#f7f7f7"
            ],
            [
             0.6,
             "#e6f5d0"
            ],
            [
             0.7,
             "#b8e186"
            ],
            [
             0.8,
             "#7fbc41"
            ],
            [
             0.9,
             "#4d9221"
            ],
            [
             1,
             "#276419"
            ]
           ],
           "sequential": [
            [
             0,
             "#0d0887"
            ],
            [
             0.1111111111111111,
             "#46039f"
            ],
            [
             0.2222222222222222,
             "#7201a8"
            ],
            [
             0.3333333333333333,
             "#9c179e"
            ],
            [
             0.4444444444444444,
             "#bd3786"
            ],
            [
             0.5555555555555556,
             "#d8576b"
            ],
            [
             0.6666666666666666,
             "#ed7953"
            ],
            [
             0.7777777777777778,
             "#fb9f3a"
            ],
            [
             0.8888888888888888,
             "#fdca26"
            ],
            [
             1,
             "#f0f921"
            ]
           ],
           "sequentialminus": [
            [
             0,
             "#0d0887"
            ],
            [
             0.1111111111111111,
             "#46039f"
            ],
            [
             0.2222222222222222,
             "#7201a8"
            ],
            [
             0.3333333333333333,
             "#9c179e"
            ],
            [
             0.4444444444444444,
             "#bd3786"
            ],
            [
             0.5555555555555556,
             "#d8576b"
            ],
            [
             0.6666666666666666,
             "#ed7953"
            ],
            [
             0.7777777777777778,
             "#fb9f3a"
            ],
            [
             0.8888888888888888,
             "#fdca26"
            ],
            [
             1,
             "#f0f921"
            ]
           ]
          },
          "colorway": [
           "#636efa",
           "#EF553B",
           "#00cc96",
           "#ab63fa",
           "#FFA15A",
           "#19d3f3",
           "#FF6692",
           "#B6E880",
           "#FF97FF",
           "#FECB52"
          ],
          "font": {
           "color": "#2a3f5f"
          },
          "geo": {
           "bgcolor": "white",
           "lakecolor": "white",
           "landcolor": "#E5ECF6",
           "showlakes": true,
           "showland": true,
           "subunitcolor": "white"
          },
          "hoverlabel": {
           "align": "left"
          },
          "hovermode": "closest",
          "mapbox": {
           "style": "light"
          },
          "paper_bgcolor": "white",
          "plot_bgcolor": "#E5ECF6",
          "polar": {
           "angularaxis": {
            "gridcolor": "white",
            "linecolor": "white",
            "ticks": ""
           },
           "bgcolor": "#E5ECF6",
           "radialaxis": {
            "gridcolor": "white",
            "linecolor": "white",
            "ticks": ""
           }
          },
          "scene": {
           "xaxis": {
            "backgroundcolor": "#E5ECF6",
            "gridcolor": "white",
            "gridwidth": 2,
            "linecolor": "white",
            "showbackground": true,
            "ticks": "",
            "zerolinecolor": "white"
           },
           "yaxis": {
            "backgroundcolor": "#E5ECF6",
            "gridcolor": "white",
            "gridwidth": 2,
            "linecolor": "white",
            "showbackground": true,
            "ticks": "",
            "zerolinecolor": "white"
           },
           "zaxis": {
            "backgroundcolor": "#E5ECF6",
            "gridcolor": "white",
            "gridwidth": 2,
            "linecolor": "white",
            "showbackground": true,
            "ticks": "",
            "zerolinecolor": "white"
           }
          },
          "shapedefaults": {
           "line": {
            "color": "#2a3f5f"
           }
          },
          "ternary": {
           "aaxis": {
            "gridcolor": "white",
            "linecolor": "white",
            "ticks": ""
           },
           "baxis": {
            "gridcolor": "white",
            "linecolor": "white",
            "ticks": ""
           },
           "bgcolor": "#E5ECF6",
           "caxis": {
            "gridcolor": "white",
            "linecolor": "white",
            "ticks": ""
           }
          },
          "title": {
           "x": 0.05
          },
          "xaxis": {
           "automargin": true,
           "gridcolor": "white",
           "linecolor": "white",
           "ticks": "",
           "title": {
            "standoff": 15
           },
           "zerolinecolor": "white",
           "zerolinewidth": 2
          },
          "yaxis": {
           "automargin": true,
           "gridcolor": "white",
           "linecolor": "white",
           "ticks": "",
           "title": {
            "standoff": 15
           },
           "zerolinecolor": "white",
           "zerolinewidth": 2
          }
         }
        }
       }
      }
     },
     "metadata": {},
     "output_type": "display_data"
    }
   ],
   "source": [
    "fig = px.choropleth(locations=merge_df[\"State\"], locationmode=\"USA-states\", \n",
    "                    color=p_value_correlation, scope=\"usa\", \n",
    "                    color_continuous_scale=[(0, \"gray\"), (0.1, \"yellow\"), (1, \"purple\")])\n",
    "fig.update_layout(margin=dict(l=60, r=60, t=50, b=50))\n",
    "fig.layout.coloraxis.colorbar.title = 'p-value'\n",
    "fig.show()"
   ]
  },
  {
   "cell_type": "code",
   "execution_count": 33,
   "metadata": {},
   "outputs": [
    {
     "name": "stdout",
     "output_type": "stream",
     "text": [
      "The r-value is: 0.09\n"
     ]
    },
    {
     "data": {
      "image/png": "[encoded data removed]",
      "text/plain": [
       "<Figure size 640x480 with 1 Axes>"
      ]
     },
     "metadata": {},
     "output_type": "display_data"
    }
   ],
   "source": [
    "ca_idx = merge_df.loc[merge_df[\"State\"]=='CA'].index\n",
    "ca_idx = ca_idx[0]\n",
    "homelesess_CA = merge_df.iloc[ca_idx,1:12].values\n",
    "rental_price_CA=merge_df.iloc[ca_idx,12:24].values\n",
    "linear_regression_plot(homelesess_CA.astype(int), rental_price_CA.astype(int))\n",
    "plt.title(\"California\")\n",
    "plt.xlabel(\"Homelesess\")\n",
    "plt.ylabel(\"Rental price\")\n",
    "plt.show()"
   ]
  },
  {
   "cell_type": "code",
   "execution_count": 34,
   "metadata": {},
   "outputs": [
    {
     "name": "stdout",
     "output_type": "stream",
     "text": [
      "The r-value is: -0.93\n"
     ]
    },
    {
     "data": {
      "image/png": "[encoded data removed]",
      "text/plain": [
       "<Figure size 640x480 with 1 Axes>"
      ]
     },
     "metadata": {},
     "output_type": "display_data"
    }
   ],
   "source": [
    "idx_min = min(state_correlation)\n",
    "idx = state_correlation.index(idx_min)\n",
    "name_state = merge_df.loc[idx,'State']\n",
    "homelesess_value= merge_df.iloc[idx,1:12].values\n",
    "rental_price_value=merge_df.iloc[idx,12:24].values\n",
    "linear_regression_plot(homelesess_value.astype(int), rental_price_value.astype(int))\n",
    "plt.title(\"Maryland\")\n",
    "plt.xlabel(\"Homelesess\")\n",
    "plt.ylabel(\"Rental price\")\n",
    "plt.show()"
   ]
  },
  {
   "cell_type": "code",
   "execution_count": 35,
   "metadata": {},
   "outputs": [
    {
     "name": "stdout",
     "output_type": "stream",
     "text": [
      "The r-value is: 0.91\n"
     ]
    },
    {
     "data": {
      "image/png": "[encoded data removed]",
      "text/plain": [
       "<Figure size 640x480 with 1 Axes>"
      ]
     },
     "metadata": {},
     "output_type": "display_data"
    }
   ],
   "source": [
    "idx_min = max(state_correlation)\n",
    "idx = state_correlation.index(idx_min)\n",
    "name_state = merge_df.loc[idx,'State']\n",
    "homelesess_value= merge_df.iloc[idx,1:12].values\n",
    "rental_price_value=merge_df.iloc[idx,12:24].values\n",
    "linear_regression_plot(homelesess_value.astype(int), rental_price_value.astype(int))\n",
    "plt.title(\"Delaware\")\n",
    "plt.xlabel(\"Homelesess\")\n",
    "plt.ylabel(\"Rental price\")\n",
    "plt.show()"
   ]
  },
  {
   "cell_type": "code",
   "execution_count": 36,
   "metadata": {},
   "outputs": [
    {
     "data": {
      "text/html": [
       "<div>\n",
       "<style scoped>\n",
       "    .dataframe tbody tr th:only-of-type {\n",
       "        vertical-align: middle;\n",
       "    }\n",
       "\n",
       "    .dataframe tbody tr th {\n",
       "        vertical-align: top;\n",
       "    }\n",
       "\n",
       "    .dataframe thead th {\n",
       "        text-align: right;\n",
       "    }\n",
       "</style>\n",
       "<table border=\"1\" class=\"dataframe\">\n",
       "  <thead>\n",
       "    <tr style=\"text-align: right;\">\n",
       "      <th></th>\n",
       "      <th>State</th>\n",
       "      <th>2022_homelesess</th>\n",
       "      <th>2021_homelesess</th>\n",
       "      <th>2020_homelesess</th>\n",
       "      <th>2019_homelesess</th>\n",
       "      <th>2018_homelesess</th>\n",
       "      <th>2017_homelesess</th>\n",
       "      <th>2016_homelesess</th>\n",
       "      <th>2015_homelesess</th>\n",
       "      <th>2014_homelesess</th>\n",
       "      <th>...</th>\n",
       "      <th>2019_rental</th>\n",
       "      <th>2018_rental</th>\n",
       "      <th>2017_rental</th>\n",
       "      <th>2016_rental</th>\n",
       "      <th>2015_rental</th>\n",
       "      <th>2014_rental</th>\n",
       "      <th>2013_rental</th>\n",
       "      <th>2012_rental</th>\n",
       "      <th>Correlation</th>\n",
       "      <th>p_value_correlations</th>\n",
       "    </tr>\n",
       "  </thead>\n",
       "  <tbody>\n",
       "    <tr>\n",
       "      <th>0</th>\n",
       "      <td>AK</td>\n",
       "      <td>2320</td>\n",
       "      <td>1949</td>\n",
       "      <td>1949</td>\n",
       "      <td>1907</td>\n",
       "      <td>2016</td>\n",
       "      <td>1845</td>\n",
       "      <td>1940.0</td>\n",
       "      <td>1956.0</td>\n",
       "      <td>1784.0</td>\n",
       "      <td>...</td>\n",
       "      <td>2016.0</td>\n",
       "      <td>1967.0</td>\n",
       "      <td>1900.0</td>\n",
       "      <td>1903.0</td>\n",
       "      <td>1940.0</td>\n",
       "      <td>1957.0</td>\n",
       "      <td>1909.0</td>\n",
       "      <td>1908.0</td>\n",
       "      <td>0.703270</td>\n",
       "      <td>0.015761</td>\n",
       "    </tr>\n",
       "    <tr>\n",
       "      <th>1</th>\n",
       "      <td>AL</td>\n",
       "      <td>3752</td>\n",
       "      <td>2556</td>\n",
       "      <td>3351</td>\n",
       "      <td>3261</td>\n",
       "      <td>3434</td>\n",
       "      <td>3793</td>\n",
       "      <td>4111.0</td>\n",
       "      <td>3970.0</td>\n",
       "      <td>4561.0</td>\n",
       "      <td>...</td>\n",
       "      <td>1068.0</td>\n",
       "      <td>1042.0</td>\n",
       "      <td>1007.0</td>\n",
       "      <td>1016.0</td>\n",
       "      <td>958.0</td>\n",
       "      <td>1103.0</td>\n",
       "      <td>1022.0</td>\n",
       "      <td>945.0</td>\n",
       "      <td>-0.540170</td>\n",
       "      <td>0.086277</td>\n",
       "    </tr>\n",
       "    <tr>\n",
       "      <th>2</th>\n",
       "      <td>AR</td>\n",
       "      <td>2459</td>\n",
       "      <td>2139</td>\n",
       "      <td>2366</td>\n",
       "      <td>2717</td>\n",
       "      <td>2712</td>\n",
       "      <td>2467</td>\n",
       "      <td>2463.0</td>\n",
       "      <td>2560.0</td>\n",
       "      <td>2936.0</td>\n",
       "      <td>...</td>\n",
       "      <td>1149.0</td>\n",
       "      <td>1121.0</td>\n",
       "      <td>1083.0</td>\n",
       "      <td>1081.0</td>\n",
       "      <td>1045.0</td>\n",
       "      <td>1075.0</td>\n",
       "      <td>953.0</td>\n",
       "      <td>929.0</td>\n",
       "      <td>-0.729303</td>\n",
       "      <td>0.010869</td>\n",
       "    </tr>\n",
       "    <tr>\n",
       "      <th>3</th>\n",
       "      <td>AZ</td>\n",
       "      <td>13553</td>\n",
       "      <td>5460</td>\n",
       "      <td>10979</td>\n",
       "      <td>10007</td>\n",
       "      <td>9865</td>\n",
       "      <td>8947</td>\n",
       "      <td>9707.0</td>\n",
       "      <td>9896.0</td>\n",
       "      <td>10495.0</td>\n",
       "      <td>...</td>\n",
       "      <td>1340.0</td>\n",
       "      <td>1307.0</td>\n",
       "      <td>1263.0</td>\n",
       "      <td>1260.0</td>\n",
       "      <td>1227.0</td>\n",
       "      <td>1222.0</td>\n",
       "      <td>1210.0</td>\n",
       "      <td>1201.0</td>\n",
       "      <td>-0.081161</td>\n",
       "      <td>0.812485</td>\n",
       "    </tr>\n",
       "    <tr>\n",
       "      <th>4</th>\n",
       "      <td>CA</td>\n",
       "      <td>171521</td>\n",
       "      <td>57468</td>\n",
       "      <td>161548</td>\n",
       "      <td>151278</td>\n",
       "      <td>129972</td>\n",
       "      <td>131532</td>\n",
       "      <td>118142.0</td>\n",
       "      <td>115738.0</td>\n",
       "      <td>113952.0</td>\n",
       "      <td>...</td>\n",
       "      <td>2619.0</td>\n",
       "      <td>2555.0</td>\n",
       "      <td>2469.0</td>\n",
       "      <td>2465.0</td>\n",
       "      <td>2345.0</td>\n",
       "      <td>2237.0</td>\n",
       "      <td>2132.0</td>\n",
       "      <td>2031.0</td>\n",
       "      <td>0.085266</td>\n",
       "      <td>0.803158</td>\n",
       "    </tr>\n",
       "  </tbody>\n",
       "</table>\n",
       "<p>5 rows × 25 columns</p>\n",
       "</div>"
      ],
      "text/plain": [
       "  State  2022_homelesess  2021_homelesess  2020_homelesess  2019_homelesess  \\\n",
       "0    AK             2320             1949             1949             1907   \n",
       "1    AL             3752             2556             3351             3261   \n",
       "2    AR             2459             2139             2366             2717   \n",
       "3    AZ            13553             5460            10979            10007   \n",
       "4    CA           171521            57468           161548           151278   \n",
       "\n",
       "   2018_homelesess  2017_homelesess  2016_homelesess  2015_homelesess  \\\n",
       "0             2016             1845           1940.0           1956.0   \n",
       "1             3434             3793           4111.0           3970.0   \n",
       "2             2712             2467           2463.0           2560.0   \n",
       "3             9865             8947           9707.0           9896.0   \n",
       "4           129972           131532         118142.0         115738.0   \n",
       "\n",
       "   2014_homelesess  ...  2019_rental  2018_rental  2017_rental  2016_rental  \\\n",
       "0           1784.0  ...       2016.0       1967.0       1900.0       1903.0   \n",
       "1           4561.0  ...       1068.0       1042.0       1007.0       1016.0   \n",
       "2           2936.0  ...       1149.0       1121.0       1083.0       1081.0   \n",
       "3          10495.0  ...       1340.0       1307.0       1263.0       1260.0   \n",
       "4         113952.0  ...       2619.0       2555.0       2469.0       2465.0   \n",
       "\n",
       "   2015_rental  2014_rental  2013_rental  2012_rental  Correlation  \\\n",
       "0       1940.0       1957.0       1909.0       1908.0     0.703270   \n",
       "1        958.0       1103.0       1022.0        945.0    -0.540170   \n",
       "2       1045.0       1075.0        953.0        929.0    -0.729303   \n",
       "3       1227.0       1222.0       1210.0       1201.0    -0.081161   \n",
       "4       2345.0       2237.0       2132.0       2031.0     0.085266   \n",
       "\n",
       "   p_value_correlations  \n",
       "0              0.015761  \n",
       "1              0.086277  \n",
       "2              0.010869  \n",
       "3              0.812485  \n",
       "4              0.803158  \n",
       "\n",
       "[5 rows x 25 columns]"
      ]
     },
     "execution_count": 36,
     "metadata": {},
     "output_type": "execute_result"
    }
   ],
   "source": [
    "merge_df_correlation = merge_df\n",
    "merge_df_correlation['Correlation'] = state_correlation\n",
    "merge_df_correlation['p_value_correlations'] = p_value_correlation\n",
    "merge_df_correlation.head()"
   ]
  },
  {
   "cell_type": "code",
   "execution_count": 37,
   "metadata": {},
   "outputs": [],
   "source": [
    "neg_correlation = merge_df_correlation.loc[(merge_df_correlation['Correlation']<=0)&(merge_df_correlation['p_value_correlations']<=0.05),['State','Correlation']]\n",
    "num_neg = neg_correlation[\"Correlation\"].count().astype(int)/len(merge_df['Correlation'])*100"
   ]
  },
  {
   "cell_type": "code",
   "execution_count": 38,
   "metadata": {},
   "outputs": [],
   "source": [
    "pos_correlation = merge_df_correlation.loc[(merge_df_correlation['Correlation']>=0)&(merge_df_correlation['p_value_correlations']<=0.05),['State','Correlation']]\n",
    "num_pos = pos_correlation[\"Correlation\"].count().astype(int)/len(merge_df['Correlation'])*100"
   ]
  },
  {
   "cell_type": "code",
   "execution_count": 39,
   "metadata": {},
   "outputs": [],
   "source": [
    "no_correlation = merge_df_correlation.loc[(merge_df_correlation['p_value_correlations']>0.05),['State','Correlation']]\n",
    "num_no = no_correlation[\"Correlation\"].count().astype(int)/len(merge_df['Correlation'])*100"
   ]
  },
  {
   "cell_type": "code",
   "execution_count": 40,
   "metadata": {},
   "outputs": [
    {
     "data": {
      "text/html": [
       "<div>\n",
       "<style scoped>\n",
       "    .dataframe tbody tr th:only-of-type {\n",
       "        vertical-align: middle;\n",
       "    }\n",
       "\n",
       "    .dataframe tbody tr th {\n",
       "        vertical-align: top;\n",
       "    }\n",
       "\n",
       "    .dataframe thead th {\n",
       "        text-align: right;\n",
       "    }\n",
       "</style>\n",
       "<table border=\"1\" class=\"dataframe\">\n",
       "  <thead>\n",
       "    <tr style=\"text-align: right;\">\n",
       "      <th></th>\n",
       "      <th>State_count</th>\n",
       "      <th>Correlation</th>\n",
       "    </tr>\n",
       "  </thead>\n",
       "  <tbody>\n",
       "    <tr>\n",
       "      <th>0</th>\n",
       "      <td>22</td>\n",
       "      <td>44.897959</td>\n",
       "    </tr>\n",
       "    <tr>\n",
       "      <th>1</th>\n",
       "      <td>3</td>\n",
       "      <td>6.122449</td>\n",
       "    </tr>\n",
       "    <tr>\n",
       "      <th>2</th>\n",
       "      <td>24</td>\n",
       "      <td>48.979592</td>\n",
       "    </tr>\n",
       "  </tbody>\n",
       "</table>\n",
       "</div>"
      ],
      "text/plain": [
       "   State_count  Correlation\n",
       "0           22    44.897959\n",
       "1            3     6.122449\n",
       "2           24    48.979592"
      ]
     },
     "execution_count": 40,
     "metadata": {},
     "output_type": "execute_result"
    }
   ],
   "source": [
    "data = [[neg_correlation[\"Correlation\"].count().astype(int),num_neg],[pos_correlation[\"Correlation\"].count().astype(int),num_pos],[no_correlation[\"Correlation\"].count().astype(int),num_no]]\n",
    "correlation_data = pd.DataFrame(data, columns=['State_count', 'Correlation'])\n",
    "correlation_data"
   ]
  },
  {
   "cell_type": "code",
   "execution_count": 41,
   "metadata": {},
   "outputs": [
    {
     "data": {
      "image/png": "[encoded data removed]",
      "text/plain": [
       "<Figure size 640x480 with 1 Axes>"
      ]
     },
     "metadata": {},
     "output_type": "display_data"
    }
   ],
   "source": [
    "colors = ['C1','C3','C8']\n",
    "myexplode = [0.08, 0.08, 0.08]\n",
    "mylabels = ['State negative correlated', 'State postive correlated','State no correlated']\n",
    "plt.pie(correlation_data['Correlation'], colors= colors, explode = myexplode, shadow= True, autopct = '%.2f %%',labels = mylabels)\n",
    "plt.show() "
   ]
  },
  {
   "cell_type": "code",
   "execution_count": 42,
   "metadata": {},
   "outputs": [
    {
     "data": {
      "text/html": [
       "<div>\n",
       "<style scoped>\n",
       "    .dataframe tbody tr th:only-of-type {\n",
       "        vertical-align: middle;\n",
       "    }\n",
       "\n",
       "    .dataframe tbody tr th {\n",
       "        vertical-align: top;\n",
       "    }\n",
       "\n",
       "    .dataframe thead th {\n",
       "        text-align: right;\n",
       "    }\n",
       "</style>\n",
       "<table border=\"1\" class=\"dataframe\">\n",
       "  <thead>\n",
       "    <tr style=\"text-align: right;\">\n",
       "      <th></th>\n",
       "      <th>State_count</th>\n",
       "      <th>Correlation</th>\n",
       "      <th>expected</th>\n",
       "    </tr>\n",
       "  </thead>\n",
       "  <tbody>\n",
       "    <tr>\n",
       "      <th>0</th>\n",
       "      <td>22</td>\n",
       "      <td>44.897959</td>\n",
       "      <td>16.333333</td>\n",
       "    </tr>\n",
       "    <tr>\n",
       "      <th>1</th>\n",
       "      <td>3</td>\n",
       "      <td>6.122449</td>\n",
       "      <td>16.333333</td>\n",
       "    </tr>\n",
       "    <tr>\n",
       "      <th>2</th>\n",
       "      <td>24</td>\n",
       "      <td>48.979592</td>\n",
       "      <td>16.333333</td>\n",
       "    </tr>\n",
       "  </tbody>\n",
       "</table>\n",
       "</div>"
      ],
      "text/plain": [
       "   State_count  Correlation   expected\n",
       "0           22    44.897959  16.333333\n",
       "1            3     6.122449  16.333333\n",
       "2           24    48.979592  16.333333"
      ]
     },
     "execution_count": 42,
     "metadata": {},
     "output_type": "execute_result"
    }
   ],
   "source": [
    "correlation_data['expected'] = [49 / 3] * 3\n",
    "expected_counts = [49 / 3] * 3\n",
    "correlation_data"
   ]
  },
  {
   "cell_type": "code",
   "execution_count": 43,
   "metadata": {},
   "outputs": [
    {
     "name": "stdout",
     "output_type": "stream",
     "text": [
      "5.991464547107979\n"
     ]
    },
    {
     "data": {
      "text/plain": [
       "Power_divergenceResult(statistic=16.448979591836736, pvalue=0.00026800905360431477)"
      ]
     },
     "execution_count": 43,
     "metadata": {},
     "output_type": "execute_result"
    }
   ],
   "source": [
    "critical_value = stats.chi2.ppf(q = 0.95, df = 2)\n",
    "print(critical_value)\n",
    "stats.chisquare(correlation_data['State_count'], correlation_data['expected'])"
   ]
  }
 ],
 "metadata": {
  "kernelspec": {
   "display_name": "mnpy39",
   "language": "python",
   "name": "python3"
  },
  "language_info": {
   "codemirror_mode": {
    "name": "ipython",
    "version": 3
   },
   "file_extension": ".py",
   "mimetype": "text/x-python",
   "name": "python",
   "nbconvert_exporter": "python",
   "pygments_lexer": "ipython3",
   "version": "3.9.18"
  }
 },
 "nbformat": 4,
 "nbformat_minor": 2
}
