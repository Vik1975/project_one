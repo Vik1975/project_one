{
 "cells": [
  {
   "cell_type": "code",
   "execution_count": null,
   "metadata": {},
   "outputs": [],
   "source": [
    "import pandas as pd\n",
    "import os\n",
    "import matplotlib.pyplot as plt\n",
    "import numpy as np\n",
    "from pandas.plotting import scatter_matrix\n",
    "from pathlib import Path\n",
    "from scipy.stats import linregress\n",
    "import plotly.express as px"
   ]
  },
  {
   "cell_type": "code",
   "execution_count": null,
   "metadata": {},
   "outputs": [],
   "source": [
    "def linear_regression_plot(x, y):\n",
    "    # Perform linear regression\n",
    "    pe_slope, pe_int, pe_r, pe_p, pe_std_err = linregress(x, y.astype(int))\n",
    "    regression_line = pe_slope * np.array(x) + pe_int\n",
    "\n",
    "    print(f'The r-value is: {round(pe_r,2)}')\n",
    "\n",
    "    # Plotting\n",
    "    plt.scatter(x, y, label='Data Points')\n",
    "    plt.plot(x, regression_line, color='red', label='Linear Regression')\n",
    "    plt.annotate(f'y = {round(pe_slope,2)}x + {round(pe_int,2)}', xy=(min(x)+5,min(y)), \n",
    "                 xycoords='data', color='red', size=15)"
   ]
  },
  {
   "cell_type": "code",
   "execution_count": null,
   "metadata": {},
   "outputs": [],
   "source": [
    "merge_data = Path(\"../Resources/merge_file.csv\")\n",
    "merge_df = pd.read_csv(merge_data)\n",
    "merge_df.head()"
   ]
  },
  {
   "cell_type": "code",
   "execution_count": null,
   "metadata": {},
   "outputs": [],
   "source": [
    "state_correlation = []\n",
    "p_value_correlation = []\n",
    "\n",
    "for k in merge_df[\"State\"].index:\n",
    "    homelesess = merge_df.iloc[k,1:12].values\n",
    "    rental_price=merge_df.iloc[k,12:24].values\n",
    "    pe_slope, pe_int, pe_r, pe_p, pe_std_err = linregress(homelesess.astype(int), rental_price.astype(int))\n",
    "    state_correlation.append(pe_r)\n",
    "    p_value_correlation.append(pe_p)\n",
    "    \n",
    "state_correlation"
   ]
  },
  {
   "cell_type": "code",
   "execution_count": null,
   "metadata": {},
   "outputs": [],
   "source": [
    "fig = px.choropleth(locations=merge_df[\"State\"], locationmode=\"USA-states\", \n",
    "                    color=state_correlation, scope=\"usa\", \n",
    "                    color_continuous_scale=\"Viridis\")\n",
    "fig.update_layout(margin=dict(l=60, r=60, t=50, b=50))\n",
    "fig.layout.coloraxis.colorbar.title = 'Correlation Coefficients'\n",
    "fig.show()"
   ]
  },
  {
   "cell_type": "code",
   "execution_count": null,
   "metadata": {},
   "outputs": [],
   "source": [
    "fig = px.choropleth(locations=merge_df[\"State\"], locationmode=\"USA-states\", \n",
    "                    color=p_value_correlation, scope=\"usa\", \n",
    "                    color_continuous_scale=[(0, \"gray\"), (0.1, \"yellow\"), (1, \"purple\")])\n",
    "fig.update_layout(margin=dict(l=60, r=60, t=50, b=50))\n",
    "fig.layout.coloraxis.colorbar.title = 'p-value'\n",
    "fig.show()"
   ]
  },
  {
   "cell_type": "code",
   "execution_count": null,
   "metadata": {},
   "outputs": [],
   "source": [
    "ca_idx = merge_df.loc[merge_df[\"State\"]=='CA'].index\n",
    "ca_idx = ca_idx[0]\n",
    "homelesess_CA = merge_df.iloc[ca_idx,1:12].values\n",
    "rental_price_CA=merge_df.iloc[ca_idx,12:24].values\n",
    "linear_regression_plot(homelesess_CA.astype(int), rental_price_CA.astype(int))\n",
    "plt.title(\"California\")\n",
    "plt.xlabel(\"Homelesess\")\n",
    "plt.ylabel(\"Rental price\")\n",
    "plt.show()"
   ]
  }
 ],
 "metadata": {
  "language_info": {
   "name": "python"
  }
 },
 "nbformat": 4,
 "nbformat_minor": 2
}
