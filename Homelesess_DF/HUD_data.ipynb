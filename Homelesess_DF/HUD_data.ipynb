{
 "cells": [
  {
   "cell_type": "code",
   "execution_count": 1,
   "id": "c56211b2-bc14-41ab-a9d3-6b0b0afe9116",
   "metadata": {},
   "outputs": [],
   "source": [
    "%matplotlib inline"
   ]
  },
  {
   "cell_type": "code",
   "execution_count": 2,
   "id": "c17c2d8b-60e8-4bc7-af8c-f9488995a24b",
   "metadata": {},
   "outputs": [],
   "source": [
    "import warnings\n",
    "warnings.filterwarnings('ignore')"
   ]
  },
  {
   "cell_type": "code",
   "execution_count": 3,
   "id": "bbea42a8-5146-41dd-bf81-27548011bb11",
   "metadata": {},
   "outputs": [],
   "source": [
    "import pandas as pd\n",
    "import os\n",
    "import matplotlib.pyplot as plt\n",
    "import numpy as np\n",
    "from pandas.plotting import scatter_matrix\n",
    "from pathlib import Path\n",
    "from scipy.stats import linregress\n",
    "import plotly.express as px"
   ]
  },
  {
   "cell_type": "code",
   "execution_count": 4,
   "id": "f58cc74e-feb1-4a5d-93e3-986a0384cd84",
   "metadata": {},
   "outputs": [
    {
     "data": {
      "text/html": [
       "<div>\n",
       "<style scoped>\n",
       "    .dataframe tbody tr th:only-of-type {\n",
       "        vertical-align: middle;\n",
       "    }\n",
       "\n",
       "    .dataframe tbody tr th {\n",
       "        vertical-align: top;\n",
       "    }\n",
       "\n",
       "    .dataframe thead th {\n",
       "        text-align: right;\n",
       "    }\n",
       "</style>\n",
       "<table border=\"1\" class=\"dataframe\">\n",
       "  <thead>\n",
       "    <tr style=\"text-align: right;\">\n",
       "      <th></th>\n",
       "      <th>State</th>\n",
       "      <th>Overall Homeless, 2022</th>\n",
       "      <th>Overall Homeless, 2021</th>\n",
       "      <th>Overall Homeless, 2020</th>\n",
       "      <th>Overall Homeless, 2019</th>\n",
       "      <th>Overall Homeless, 2018</th>\n",
       "      <th>Overall Homeless, 2017</th>\n",
       "      <th>Overall Homeless, 2016</th>\n",
       "      <th>Overall Homeless, 2015</th>\n",
       "      <th>Overall Homeless, 2014</th>\n",
       "      <th>Overall Homeless, 2013</th>\n",
       "      <th>Overall Homeless, 2012</th>\n",
       "    </tr>\n",
       "  </thead>\n",
       "  <tbody>\n",
       "    <tr>\n",
       "      <th>0</th>\n",
       "      <td>AK</td>\n",
       "      <td>2,320</td>\n",
       "      <td>1,949</td>\n",
       "      <td>1,949</td>\n",
       "      <td>1,907</td>\n",
       "      <td>2,016</td>\n",
       "      <td>1,845</td>\n",
       "      <td>1,940</td>\n",
       "      <td>1,956</td>\n",
       "      <td>1,784</td>\n",
       "      <td>1,946</td>\n",
       "      <td>1,913</td>\n",
       "    </tr>\n",
       "    <tr>\n",
       "      <th>1</th>\n",
       "      <td>AL</td>\n",
       "      <td>3,752</td>\n",
       "      <td>2,556</td>\n",
       "      <td>3,351</td>\n",
       "      <td>3,261</td>\n",
       "      <td>3,434</td>\n",
       "      <td>3,793</td>\n",
       "      <td>4,111</td>\n",
       "      <td>3,970</td>\n",
       "      <td>4,561</td>\n",
       "      <td>4,689</td>\n",
       "      <td>5,209</td>\n",
       "    </tr>\n",
       "    <tr>\n",
       "      <th>2</th>\n",
       "      <td>AR</td>\n",
       "      <td>2,459</td>\n",
       "      <td>2,139</td>\n",
       "      <td>2,366</td>\n",
       "      <td>2,717</td>\n",
       "      <td>2,712</td>\n",
       "      <td>2,467</td>\n",
       "      <td>2,463</td>\n",
       "      <td>2,560</td>\n",
       "      <td>2,936</td>\n",
       "      <td>3,812</td>\n",
       "      <td>4,214</td>\n",
       "    </tr>\n",
       "    <tr>\n",
       "      <th>3</th>\n",
       "      <td>AS</td>\n",
       "      <td></td>\n",
       "      <td></td>\n",
       "      <td></td>\n",
       "      <td></td>\n",
       "      <td></td>\n",
       "      <td></td>\n",
       "      <td></td>\n",
       "      <td></td>\n",
       "      <td></td>\n",
       "      <td></td>\n",
       "      <td></td>\n",
       "    </tr>\n",
       "    <tr>\n",
       "      <th>4</th>\n",
       "      <td>AZ</td>\n",
       "      <td>13,553</td>\n",
       "      <td>5,460</td>\n",
       "      <td>10,979</td>\n",
       "      <td>10,007</td>\n",
       "      <td>9,865</td>\n",
       "      <td>8,947</td>\n",
       "      <td>9,707</td>\n",
       "      <td>9,896</td>\n",
       "      <td>10,495</td>\n",
       "      <td>10,562</td>\n",
       "      <td>11,302</td>\n",
       "    </tr>\n",
       "  </tbody>\n",
       "</table>\n",
       "</div>"
      ],
      "text/plain": [
       "  State Overall Homeless, 2022 Overall Homeless, 2021 Overall Homeless, 2020  \\\n",
       "0    AK                  2,320                  1,949                  1,949   \n",
       "1    AL                  3,752                  2,556                  3,351   \n",
       "2    AR                  2,459                  2,139                  2,366   \n",
       "3    AS                                                                        \n",
       "4    AZ                 13,553                  5,460                 10,979   \n",
       "\n",
       "  Overall Homeless, 2019 Overall Homeless, 2018 Overall Homeless, 2017  \\\n",
       "0                  1,907                  2,016                  1,845   \n",
       "1                  3,261                  3,434                  3,793   \n",
       "2                  2,717                  2,712                  2,467   \n",
       "3                                                                        \n",
       "4                 10,007                  9,865                  8,947   \n",
       "\n",
       "  Overall Homeless, 2016 Overall Homeless, 2015 Overall Homeless, 2014  \\\n",
       "0                  1,940                  1,956                  1,784   \n",
       "1                  4,111                  3,970                  4,561   \n",
       "2                  2,463                  2,560                  2,936   \n",
       "3                                                                        \n",
       "4                  9,707                  9,896                 10,495   \n",
       "\n",
       "  Overall Homeless, 2013 Overall Homeless, 2012  \n",
       "0                  1,946                  1,913  \n",
       "1                  4,689                  5,209  \n",
       "2                  3,812                  4,214  \n",
       "3                                                \n",
       "4                 10,562                 11,302  "
      ]
     },
     "execution_count": 4,
     "metadata": {},
     "output_type": "execute_result"
    }
   ],
   "source": [
    "# Load csv file Resources/homelesess_2012_2022.csv\n",
    "file_path = Path('../Resources/homelesess_2012_2022.csv')\n",
    "# Read the csv file\n",
    "homelesess_df = pd.read_csv(file_path)\n",
    "# Display data\n",
    "homelesess_df.head()\n"
   ]
  },
  {
   "cell_type": "code",
   "execution_count": 5,
   "id": "85d775df-75ca-4d5e-8b56-92c34f5bbe65",
   "metadata": {},
   "outputs": [
    {
     "data": {
      "text/html": [
       "<div>\n",
       "<style scoped>\n",
       "    .dataframe tbody tr th:only-of-type {\n",
       "        vertical-align: middle;\n",
       "    }\n",
       "\n",
       "    .dataframe tbody tr th {\n",
       "        vertical-align: top;\n",
       "    }\n",
       "\n",
       "    .dataframe thead th {\n",
       "        text-align: right;\n",
       "    }\n",
       "</style>\n",
       "<table border=\"1\" class=\"dataframe\">\n",
       "  <thead>\n",
       "    <tr style=\"text-align: right;\">\n",
       "      <th></th>\n",
       "      <th>State</th>\n",
       "      <th>Overall Homeless, 2022</th>\n",
       "      <th>Overall Homeless, 2021</th>\n",
       "      <th>Overall Homeless, 2020</th>\n",
       "      <th>Overall Homeless, 2019</th>\n",
       "      <th>Overall Homeless, 2018</th>\n",
       "      <th>Overall Homeless, 2017</th>\n",
       "      <th>Overall Homeless, 2016</th>\n",
       "      <th>Overall Homeless, 2015</th>\n",
       "      <th>Overall Homeless, 2014</th>\n",
       "      <th>Overall Homeless, 2013</th>\n",
       "      <th>Overall Homeless, 2012</th>\n",
       "    </tr>\n",
       "  </thead>\n",
       "  <tbody>\n",
       "    <tr>\n",
       "      <th>0</th>\n",
       "      <td>AK</td>\n",
       "      <td>2320</td>\n",
       "      <td>1949</td>\n",
       "      <td>1949</td>\n",
       "      <td>1907</td>\n",
       "      <td>2016</td>\n",
       "      <td>1845</td>\n",
       "      <td>1940</td>\n",
       "      <td>1956</td>\n",
       "      <td>1784</td>\n",
       "      <td>1946</td>\n",
       "      <td>1913</td>\n",
       "    </tr>\n",
       "    <tr>\n",
       "      <th>1</th>\n",
       "      <td>AL</td>\n",
       "      <td>3752</td>\n",
       "      <td>2556</td>\n",
       "      <td>3351</td>\n",
       "      <td>3261</td>\n",
       "      <td>3434</td>\n",
       "      <td>3793</td>\n",
       "      <td>4111</td>\n",
       "      <td>3970</td>\n",
       "      <td>4561</td>\n",
       "      <td>4689</td>\n",
       "      <td>5209</td>\n",
       "    </tr>\n",
       "    <tr>\n",
       "      <th>2</th>\n",
       "      <td>AR</td>\n",
       "      <td>2459</td>\n",
       "      <td>2139</td>\n",
       "      <td>2366</td>\n",
       "      <td>2717</td>\n",
       "      <td>2712</td>\n",
       "      <td>2467</td>\n",
       "      <td>2463</td>\n",
       "      <td>2560</td>\n",
       "      <td>2936</td>\n",
       "      <td>3812</td>\n",
       "      <td>4214</td>\n",
       "    </tr>\n",
       "    <tr>\n",
       "      <th>4</th>\n",
       "      <td>AZ</td>\n",
       "      <td>13553</td>\n",
       "      <td>5460</td>\n",
       "      <td>10979</td>\n",
       "      <td>10007</td>\n",
       "      <td>9865</td>\n",
       "      <td>8947</td>\n",
       "      <td>9707</td>\n",
       "      <td>9896</td>\n",
       "      <td>10495</td>\n",
       "      <td>10562</td>\n",
       "      <td>11302</td>\n",
       "    </tr>\n",
       "    <tr>\n",
       "      <th>5</th>\n",
       "      <td>CA</td>\n",
       "      <td>171521</td>\n",
       "      <td>57468</td>\n",
       "      <td>161548</td>\n",
       "      <td>151278</td>\n",
       "      <td>129972</td>\n",
       "      <td>131532</td>\n",
       "      <td>118142</td>\n",
       "      <td>115738</td>\n",
       "      <td>113952</td>\n",
       "      <td>118552</td>\n",
       "      <td>120098</td>\n",
       "    </tr>\n",
       "  </tbody>\n",
       "</table>\n",
       "</div>"
      ],
      "text/plain": [
       "  State Overall Homeless, 2022 Overall Homeless, 2021 Overall Homeless, 2020  \\\n",
       "0    AK                   2320                   1949                   1949   \n",
       "1    AL                   3752                   2556                   3351   \n",
       "2    AR                   2459                   2139                   2366   \n",
       "4    AZ                  13553                   5460                  10979   \n",
       "5    CA                 171521                  57468                 161548   \n",
       "\n",
       "  Overall Homeless, 2019 Overall Homeless, 2018 Overall Homeless, 2017  \\\n",
       "0                   1907                   2016                   1845   \n",
       "1                   3261                   3434                   3793   \n",
       "2                   2717                   2712                   2467   \n",
       "4                  10007                   9865                   8947   \n",
       "5                 151278                 129972                 131532   \n",
       "\n",
       "  Overall Homeless, 2016 Overall Homeless, 2015 Overall Homeless, 2014  \\\n",
       "0                   1940                   1956                   1784   \n",
       "1                   4111                   3970                   4561   \n",
       "2                   2463                   2560                   2936   \n",
       "4                   9707                   9896                  10495   \n",
       "5                 118142                 115738                 113952   \n",
       "\n",
       "  Overall Homeless, 2013 Overall Homeless, 2012  \n",
       "0                   1946                   1913  \n",
       "1                   4689                   5209  \n",
       "2                   3812                   4214  \n",
       "4                  10562                  11302  \n",
       "5                 118552                 120098  "
      ]
     },
     "execution_count": 5,
     "metadata": {},
     "output_type": "execute_result"
    }
   ],
   "source": [
    "condition = (homelesess_df['State'] != 'AS')\n",
    "# Use boolean indexing to select and keep rows that satisfy the condition\n",
    "homelesess_df_clean = homelesess_df[condition]\n",
    "\n",
    "#Changing the type for all columns exept State\n",
    "# Specify the column to keep as object\n",
    "object_column = 'State'\n",
    "\n",
    "# Convert all values to float except the specified object column\n",
    "homelesess_df_clean = homelesess_df_clean.replace(',','', regex = True)\n",
    "homelesess_df_clean.loc[:, homelesess_df_clean.columns != object_column] = homelesess_df_clean.loc[:, homelesess_df_clean.columns != object_column].apply(pd.to_numeric, errors='coerce')\n",
    "homelesess_df_clean.head()"
   ]
  },
  {
   "cell_type": "code",
   "execution_count": 6,
   "id": "86cda961-9ecb-4fc2-9a2f-49eedaca745c",
   "metadata": {},
   "outputs": [
    {
<<<<<<< HEAD
     "ename": "KeyError",
     "evalue": "'Overall Homeless, '",
     "output_type": "error",
     "traceback": [
      "\u001b[1;31m---------------------------------------------------------------------------\u001b[0m",
      "\u001b[1;31mKeyError\u001b[0m                                  Traceback (most recent call last)",
      "File \u001b[1;32mc:\\Users\\nigro\\anaconda3\\envs\\mnpy39\\lib\\site-packages\\pandas\\core\\indexes\\base.py:3791\u001b[0m, in \u001b[0;36mIndex.get_loc\u001b[1;34m(self, key)\u001b[0m\n\u001b[0;32m   3790\u001b[0m \u001b[38;5;28;01mtry\u001b[39;00m:\n\u001b[1;32m-> 3791\u001b[0m     \u001b[38;5;28;01mreturn\u001b[39;00m \u001b[38;5;28;43mself\u001b[39;49m\u001b[38;5;241;43m.\u001b[39;49m\u001b[43m_engine\u001b[49m\u001b[38;5;241;43m.\u001b[39;49m\u001b[43mget_loc\u001b[49m\u001b[43m(\u001b[49m\u001b[43mcasted_key\u001b[49m\u001b[43m)\u001b[49m\n\u001b[0;32m   3792\u001b[0m \u001b[38;5;28;01mexcept\u001b[39;00m \u001b[38;5;167;01mKeyError\u001b[39;00m \u001b[38;5;28;01mas\u001b[39;00m err:\n",
      "File \u001b[1;32mindex.pyx:152\u001b[0m, in \u001b[0;36mpandas._libs.index.IndexEngine.get_loc\u001b[1;34m()\u001b[0m\n",
      "File \u001b[1;32mindex.pyx:181\u001b[0m, in \u001b[0;36mpandas._libs.index.IndexEngine.get_loc\u001b[1;34m()\u001b[0m\n",
      "File \u001b[1;32mpandas\\_libs\\hashtable_class_helper.pxi:7080\u001b[0m, in \u001b[0;36mpandas._libs.hashtable.PyObjectHashTable.get_item\u001b[1;34m()\u001b[0m\n",
      "File \u001b[1;32mpandas\\_libs\\hashtable_class_helper.pxi:7088\u001b[0m, in \u001b[0;36mpandas._libs.hashtable.PyObjectHashTable.get_item\u001b[1;34m()\u001b[0m\n",
      "\u001b[1;31mKeyError\u001b[0m: 'Overall Homeless, '",
      "\nThe above exception was the direct cause of the following exception:\n",
      "\u001b[1;31mKeyError\u001b[0m                                  Traceback (most recent call last)",
      "Cell \u001b[1;32mIn[6], line 7\u001b[0m\n\u001b[0;32m      5\u001b[0m plt\u001b[38;5;241m.\u001b[39mfigure(figsize\u001b[38;5;241m=\u001b[39m(\u001b[38;5;241m20\u001b[39m,\u001b[38;5;241m8\u001b[39m))\n\u001b[0;32m      6\u001b[0m plt\u001b[38;5;241m.\u001b[39mxlim(\u001b[38;5;241m-\u001b[39m\u001b[38;5;241m0.25\u001b[39m, \u001b[38;5;28mlen\u001b[39m(x_axis))\n\u001b[1;32m----> 7\u001b[0m plt\u001b[38;5;241m.\u001b[39mbar(x_axis, \u001b[43mhomelesess_df_clean\u001b[49m\u001b[43m[\u001b[49m\u001b[43myear_value\u001b[49m\u001b[43m]\u001b[49m, color\u001b[38;5;241m=\u001b[39m\u001b[38;5;124m'\u001b[39m\u001b[38;5;124mb\u001b[39m\u001b[38;5;124m'\u001b[39m, alpha\u001b[38;5;241m=\u001b[39m\u001b[38;5;241m0.5\u001b[39m, align\u001b[38;5;241m=\u001b[39m\u001b[38;5;124m\"\u001b[39m\u001b[38;5;124medge\u001b[39m\u001b[38;5;124m\"\u001b[39m)\n\u001b[0;32m      8\u001b[0m plt\u001b[38;5;241m.\u001b[39mxticks(tick_locations , homelesess_df_clean[\u001b[38;5;124m\"\u001b[39m\u001b[38;5;124mState\u001b[39m\u001b[38;5;124m\"\u001b[39m],rotation\u001b[38;5;241m=\u001b[39m\u001b[38;5;124m\"\u001b[39m\u001b[38;5;124mvertical\u001b[39m\u001b[38;5;124m\"\u001b[39m,size \u001b[38;5;241m=\u001b[39m \u001b[38;5;124m'\u001b[39m\u001b[38;5;124mlarge\u001b[39m\u001b[38;5;124m'\u001b[39m)\n\u001b[0;32m      9\u001b[0m plt\u001b[38;5;241m.\u001b[39mtight_layout()\n",
      "File \u001b[1;32mc:\\Users\\nigro\\anaconda3\\envs\\mnpy39\\lib\\site-packages\\pandas\\core\\frame.py:3893\u001b[0m, in \u001b[0;36mDataFrame.__getitem__\u001b[1;34m(self, key)\u001b[0m\n\u001b[0;32m   3891\u001b[0m \u001b[38;5;28;01mif\u001b[39;00m \u001b[38;5;28mself\u001b[39m\u001b[38;5;241m.\u001b[39mcolumns\u001b[38;5;241m.\u001b[39mnlevels \u001b[38;5;241m>\u001b[39m \u001b[38;5;241m1\u001b[39m:\n\u001b[0;32m   3892\u001b[0m     \u001b[38;5;28;01mreturn\u001b[39;00m \u001b[38;5;28mself\u001b[39m\u001b[38;5;241m.\u001b[39m_getitem_multilevel(key)\n\u001b[1;32m-> 3893\u001b[0m indexer \u001b[38;5;241m=\u001b[39m \u001b[38;5;28;43mself\u001b[39;49m\u001b[38;5;241;43m.\u001b[39;49m\u001b[43mcolumns\u001b[49m\u001b[38;5;241;43m.\u001b[39;49m\u001b[43mget_loc\u001b[49m\u001b[43m(\u001b[49m\u001b[43mkey\u001b[49m\u001b[43m)\u001b[49m\n\u001b[0;32m   3894\u001b[0m \u001b[38;5;28;01mif\u001b[39;00m is_integer(indexer):\n\u001b[0;32m   3895\u001b[0m     indexer \u001b[38;5;241m=\u001b[39m [indexer]\n",
      "File \u001b[1;32mc:\\Users\\nigro\\anaconda3\\envs\\mnpy39\\lib\\site-packages\\pandas\\core\\indexes\\base.py:3798\u001b[0m, in \u001b[0;36mIndex.get_loc\u001b[1;34m(self, key)\u001b[0m\n\u001b[0;32m   3793\u001b[0m     \u001b[38;5;28;01mif\u001b[39;00m \u001b[38;5;28misinstance\u001b[39m(casted_key, \u001b[38;5;28mslice\u001b[39m) \u001b[38;5;129;01mor\u001b[39;00m (\n\u001b[0;32m   3794\u001b[0m         \u001b[38;5;28misinstance\u001b[39m(casted_key, abc\u001b[38;5;241m.\u001b[39mIterable)\n\u001b[0;32m   3795\u001b[0m         \u001b[38;5;129;01mand\u001b[39;00m \u001b[38;5;28many\u001b[39m(\u001b[38;5;28misinstance\u001b[39m(x, \u001b[38;5;28mslice\u001b[39m) \u001b[38;5;28;01mfor\u001b[39;00m x \u001b[38;5;129;01min\u001b[39;00m casted_key)\n\u001b[0;32m   3796\u001b[0m     ):\n\u001b[0;32m   3797\u001b[0m         \u001b[38;5;28;01mraise\u001b[39;00m InvalidIndexError(key)\n\u001b[1;32m-> 3798\u001b[0m     \u001b[38;5;28;01mraise\u001b[39;00m \u001b[38;5;167;01mKeyError\u001b[39;00m(key) \u001b[38;5;28;01mfrom\u001b[39;00m \u001b[38;5;21;01merr\u001b[39;00m\n\u001b[0;32m   3799\u001b[0m \u001b[38;5;28;01mexcept\u001b[39;00m \u001b[38;5;167;01mTypeError\u001b[39;00m:\n\u001b[0;32m   3800\u001b[0m     \u001b[38;5;66;03m# If we have a listlike key, _check_indexing_error will raise\u001b[39;00m\n\u001b[0;32m   3801\u001b[0m     \u001b[38;5;66;03m#  InvalidIndexError. Otherwise we fall through and re-raise\u001b[39;00m\n\u001b[0;32m   3802\u001b[0m     \u001b[38;5;66;03m#  the TypeError.\u001b[39;00m\n\u001b[0;32m   3803\u001b[0m     \u001b[38;5;28mself\u001b[39m\u001b[38;5;241m.\u001b[39m_check_indexing_error(key)\n",
      "\u001b[1;31mKeyError\u001b[0m: 'Overall Homeless, '"
=======
     "name": "stdin",
     "output_type": "stream",
     "text": [
      "Enter the year in a range 2012 - 2022:  2019\n"
>>>>>>> c8947ef58c7ae3a68254309445e111221c5575e5
     ]
    },
    {
     "data": {
<<<<<<< HEAD
      "image/png": "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",
=======
      "image/png": "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",
>>>>>>> c8947ef58c7ae3a68254309445e111221c5575e5
      "text/plain": [
       "<Figure size 2000x800 with 1 Axes>"
      ]
     },
     "metadata": {},
     "output_type": "display_data"
    }
   ],
   "source": [
    "x_axis = np.arange(len(homelesess_df_clean))\n",
    "value_for_year = input(\"Enter the year in a range 2012 - 2022: \")\n",
    "year_value = \"Overall Homeless, \" + value_for_year\n",
    "tick_locations = [value + 0.3 for value in x_axis]\n",
    "plt.figure(figsize=(20,8))\n",
    "plt.xlim(-0.25, len(x_axis))\n",
    "plt.bar(x_axis, homelesess_df_clean[year_value], color='b', alpha=0.5, align=\"edge\")\n",
    "plt.xticks(tick_locations , homelesess_df_clean[\"State\"],rotation=\"vertical\",size = 'large')\n",
    "plt.tight_layout()\n",
    "y = homelesess_df_clean[year_value]\n",
    "for index, value in enumerate(y):\n",
    "    plt.text(index + 0.3, value + 2000,\n",
    "             str(value), size = 'x-large',rotation=\"vertical\")\n",
    "plt.title(f\"Number of Homelesess for {value_for_year} per State\")\n",
    "plt.xlabel(\"States\")\n",
    "plt.ylabel(\"Number of Homelesess\")\n",
    "plt.savefig(\"../Outputs/HUD_bar_chat.png\")\n",
    "plt.show()"
   ]
  },
  {
   "cell_type": "code",
   "execution_count": 7,
   "id": "ae3e82d9-05f2-40b7-98b3-9826f9638de7",
   "metadata": {},
   "outputs": [
    {
     "name": "stdout",
     "output_type": "stream",
     "text": [
      "The lower quartile of homelesess is: 2006\n",
      "The upper quartile of homelesses is: 9088\n",
      "The interquartile range of homelesess is: 7082\n",
      "The the median of homelesess is: 4079 \n",
      "Values above 19711 could be outliers.\n"
     ]
    }
   ],
   "source": [
    "# Determine if there are any potential outliers in the average homelesses in USA\n",
    "quartiles = homelesess_df_clean[year_value].quantile([.25,.5,.75])\n",
    "lowerq = int(quartiles[0.25])\n",
    "upperq = int(quartiles[0.75])\n",
    "iqr = upperq-lowerq\n",
    "\n",
    "print(f\"The lower quartile of homelesess is: {lowerq}\")\n",
    "print(f\"The upper quartile of homelesses is: {upperq}\")\n",
    "print(f\"The interquartile range of homelesess is: {iqr}\")\n",
    "print(f\"The the median of homelesess is: {int(quartiles[0.5])} \")\n",
    "\n",
    "lower_bound = lowerq - (1.5*iqr)\n",
    "upper_bound = int(upperq + (1.5*iqr))\n",
    "print(f\"Values above {upper_bound} could be outliers.\")"
   ]
  },
  {
   "cell_type": "code",
   "execution_count": 14,
   "id": "f200439b-0499-4f06-9db0-f24e64448344",
   "metadata": {},
   "outputs": [
    {
     "data": {
      "image/png": "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",
      "text/plain": [
       "<Figure size 640x480 with 1 Axes>"
      ]
     },
     "metadata": {},
     "output_type": "display_data"
    }
   ],
   "source": [
    "Median_Homelesess = homelesess_df_clean[year_value]\n",
    "fig1, ax1 = plt.subplots()\n",
    "ax1.set_title(f'Median Homelesess Distribution for {year_value} Year')\n",
    "ax1.set_ylabel('Median Amount of  Homelesess')\n",
    "ax1.boxplot(Median_Homelesess, showmeans=True)\n",
    "plt.savefig(\"../Outputs/HUD_state_whiskey_plot\")\n",
    "plt.show()"
   ]
  },
  {
   "cell_type": "code",
   "execution_count": 9,
   "id": "e9eab97b-4eae-42a0-b87e-fa65658fb439",
   "metadata": {
    "scrolled": true
   },
   "outputs": [],
   "source": [
    "# Set the 'State' to be our index for easy referencing of rows\n",
    "if 'State' in homelesess_df_clean.columns:\n",
    "    homelesess_df_clean.set_index(\"State\", inplace=True)\n",
    "else:\n",
    "    print(\"Warning: 'State' column not found in DataFrame.\")\n",
    "    \n",
    "homelesess_df_yearly = homelesess_df_clean.rename(columns={'Overall Homeless, 2022' : '2022', 'Overall Homeless, 2021': '2021',\n",
    "       'Overall Homeless, 2020' : '2020', 'Overall Homeless, 2019' : '2019',\n",
    "       'Overall Homeless, 2018' : '2018', 'Overall Homeless, 2017' : '2017',\n",
    "       'Overall Homeless, 2016' : '2016', 'Overall Homeless, 2015' : '2015',\n",
    "       'Overall Homeless, 2014': '2014', 'Overall Homeless, 2013' : '2013',\n",
    "       'Overall Homeless, 2012': '2012'})\n",
    "homelesess_df_yearly.to_csv('../Resources/HUD_States_Data.csv')\n"
   ]
  },
  {
   "cell_type": "code",
<<<<<<< HEAD
   "execution_count": null,
   "id": "57d6c954-4c09-45ed-91dc-a54bee75befe",
   "metadata": {},
   "outputs": [],
=======
   "execution_count": 10,
   "id": "579000c5-76f8-4049-93ad-3340a35fe6f7",
   "metadata": {},
   "outputs": [
    {
     "name": "stdout",
     "output_type": "stream",
     "text": [
      " Potential outliers for 2019 Year : \n",
      "State\n",
      "CA    151278\n",
      "FL     28328\n",
      "NY     92091\n",
      "TX     25848\n",
      "WA     21577\n",
      "Name: 2019, dtype: object\n"
     ]
    }
   ],
   "source": [
    "outlier_rental = homelesess_df_yearly[value_for_year].loc[(homelesess_df_yearly[value_for_year] < lower_bound) | (homelesess_df_yearly[value_for_year] > upper_bound)]\n",
    "print(f' Potential outliers for {value_for_year} Year : ' +  '\\n' +\n",
    "                                   f'{outlier_rental}' )"
   ]
  },
  {
   "cell_type": "code",
   "execution_count": 11,
   "id": "6dd2a8aa-b73a-48f6-b53a-342e5ea557c1",
   "metadata": {},
   "outputs": [
    {
     "data": {
      "text/html": [
       "<div>\n",
       "<style scoped>\n",
       "    .dataframe tbody tr th:only-of-type {\n",
       "        vertical-align: middle;\n",
       "    }\n",
       "\n",
       "    .dataframe tbody tr th {\n",
       "        vertical-align: top;\n",
       "    }\n",
       "\n",
       "    .dataframe thead th {\n",
       "        text-align: right;\n",
       "    }\n",
       "</style>\n",
       "<table border=\"1\" class=\"dataframe\">\n",
       "  <thead>\n",
       "    <tr style=\"text-align: right;\">\n",
       "      <th></th>\n",
       "      <th>Year</th>\n",
       "      <th>Total Number of US homelesess</th>\n",
       "    </tr>\n",
       "  </thead>\n",
       "  <tbody>\n",
       "    <tr>\n",
       "      <th>0</th>\n",
       "      <td>2012</td>\n",
       "      <td>621553</td>\n",
       "    </tr>\n",
       "    <tr>\n",
       "      <th>1</th>\n",
       "      <td>2013</td>\n",
       "      <td>590364</td>\n",
       "    </tr>\n",
       "    <tr>\n",
       "      <th>2</th>\n",
       "      <td>2014</td>\n",
       "      <td>576450</td>\n",
       "    </tr>\n",
       "    <tr>\n",
       "      <th>3</th>\n",
       "      <td>2015</td>\n",
       "      <td>564708</td>\n",
       "    </tr>\n",
       "    <tr>\n",
       "      <th>4</th>\n",
       "      <td>2016</td>\n",
       "      <td>549928</td>\n",
       "    </tr>\n",
       "    <tr>\n",
       "      <th>5</th>\n",
       "      <td>2017</td>\n",
       "      <td>550996</td>\n",
       "    </tr>\n",
       "    <tr>\n",
       "      <th>6</th>\n",
       "      <td>2018</td>\n",
       "      <td>552830</td>\n",
       "    </tr>\n",
       "    <tr>\n",
       "      <th>7</th>\n",
       "      <td>2019</td>\n",
       "      <td>567715</td>\n",
       "    </tr>\n",
       "    <tr>\n",
       "      <th>8</th>\n",
       "      <td>2020</td>\n",
       "      <td>580466</td>\n",
       "    </tr>\n",
       "    <tr>\n",
       "      <th>9</th>\n",
       "      <td>2021</td>\n",
       "      <td>380630</td>\n",
       "    </tr>\n",
       "    <tr>\n",
       "      <th>10</th>\n",
       "      <td>2022</td>\n",
       "      <td>582462</td>\n",
       "    </tr>\n",
       "  </tbody>\n",
       "</table>\n",
       "</div>"
      ],
      "text/plain": [
       "    Year Total Number of US homelesess\n",
       "0   2012                        621553\n",
       "1   2013                        590364\n",
       "2   2014                        576450\n",
       "3   2015                        564708\n",
       "4   2016                        549928\n",
       "5   2017                        550996\n",
       "6   2018                        552830\n",
       "7   2019                        567715\n",
       "8   2020                        580466\n",
       "9   2021                        380630\n",
       "10  2022                        582462"
      ]
     },
     "execution_count": 11,
     "metadata": {},
     "output_type": "execute_result"
    }
   ],
   "source": [
    "year_array = [2012,2013,2014,2015,2016,2017,2018,2019,2020,2021,2022]\n",
    "\n",
    "# Specify the columns for which to calculate the sum of homelesess\n",
    "columns_to_sum = ['2022', '2021', '2020', '2019', '2018', '2017', '2016', '2015', '2014',\n",
    "       '2013', '2012']\n",
    "\n",
    "# Calculate the sum for specific columns\n",
    "specific_column_sums = homelesess_df_yearly[columns_to_sum].sum().loc[::-1]\n",
    "\n",
    "# Convert the result to a NumPy array\n",
    "sums_array = np.array(specific_column_sums)\n",
    "# Create a DataFrame from the arrays\n",
    "usa_homelesess_df = pd.DataFrame({'Year': year_array , 'Total Number of US homelesess': sums_array})\n",
    "\n",
    "usa_homelesess_df"
   ]
  },
  {
   "cell_type": "code",
   "execution_count": 12,
   "id": "ceeb04c0-64db-45c9-adc2-3b4cec27a565",
   "metadata": {},
   "outputs": [
    {
     "data": {
      "image/png": "iVBORw0KGgoAAAANSUhEUgAABPEAAAIOCAYAAADZSZhuAAAAOXRFWHRTb2Z0d2FyZQBNYXRwbG90bGliIHZlcnNpb24zLjguMCwgaHR0cHM6Ly9tYXRwbG90bGliLm9yZy81sbWrAAAACXBIWXMAAA9hAAAPYQGoP6dpAAEAAElEQVR4nOzdd3wUdf7H8fdsS0IIqaRBIICASAklSjsFDgKcFBHRUxApSjkLIIh68hPRE+xYQEVBKSpyKiIKijQBkRpIkEDonRAgEJIAIdvm90fcOZZ02OSTZd7Pe/C4MZlsvvN97WQ3k5ldRVVVFURERERERERERFRpGaQHQERERERERERERMXjQTwiIiIiIiIiIqJKjgfxiIiIiIiIiIiIKjkexCMiIiIiIiIiIqrkeBCPiIiIiIiIiIiokuNBPCIiIiIiIiIiokqOB/GIiIiIiIiIiIgqOR7EIyIiIiIiIiIiquR4EI+IiIiIiIiIiKiS40E8IiIiLzRnzhwoioLExMRCP9+zZ0/Exsa6fUxRFDz55JOFrv/dd99BURSsWbNG+9jgwYOhKIr2z9/fH7Gxsejduzdmz56NvLy8Uo110qRJUBQFGRkZhX6+SZMm6NixY6luS4prvo8cOSI9lEL99NNP6NWrFyIiImCxWBASEoLOnTvjq6++gs1mkx4eAGDKlCn44YcfSr2+oiiYNGmSx77/zz//XOTtFbdveFJZ90FVVbFgwQLceeedCA8Ph6+vL2rWrIlu3bph1qxZHhuTJ+fZk/bt24dnnnkGrVq1QlBQEEJCQtC+fXt89913ha5/5swZDB48GGFhYahSpQratm2LVatWFVhvyZIleOSRR9C0aVOYzWYoilLo7W3btg1PPPEEmjZtioCAAERERKBLly5YvXq1R7eTiIiotHgQj4iIiIrk5+eHjRs3YuPGjViyZAleeeUV+Pv7Y9iwYWjVqhVOnDghPURdU1UVQ4YMQe/eveF0OjF16lSsXLkSc+fORVxcHB5//HF89NFH0sMEUPaDeBs3bsRjjz3mse//888/4+WXX/bY7VWEf//733jooYfQqFEjzJo1C7/88gteffVVREREYPHixR75Hp6eZ09avnw5li5divvuuw/ffvstvvrqK9SvXx/3338/XnnlFbd18/Ly0LlzZ6xatQrvv/8+Fi9ejIiICHTv3h1r1651W3fRokXYtGkTbrvtNsTFxRX5/b/++mts2bIFQ4cOxeLFizFr1iz4+Pigc+fOmDdvXrlsMxERUXFM0gMgIiKiystgMKBNmzZuH3vkkUcwZMgQ9OzZE/369cOmTZuERkdvvfUW5syZg5dffhkTJ050+1yvXr3w7LPP4sCBA0KjuzHX3u/0Jjc3F++99x4eeeQRfPrpp26fGzx4MJxOp0e+T2We5wcffBBPPPGE25ly//jHP5CRkYE33ngDzz33HHx8fAAAn332GVJSUrBhwwa0bdsWANCpUyfExcXh2WefxebNm7XbmDlzJgyG/HMZnnzySWzbtq3Q7//ss8/i7bffdvvY3XffjZYtW+KVV17BI4884tHtJSIiKgnPxCMiIqIy69q1K4YNG4bNmzdj3bp1Hr/98+fP4/HHH0eNGjVgsVhQt25dTJgwocAlvK7LE2fPno2GDRvCz88P8fHx2LRpE1RVxVtvvYU6deqgatWq+Pvf/17oAa2VK1eic+fOqFatGqpUqYL27dsXegleYUrztWfPnsXw4cMRExMDHx8fVK9eHe3bt8fKlSu1dZKSktCzZ0+Eh4fDx8cH0dHR6NGjR7FnOtpsNrzxxhu49dZb8eKLLxa6TmRkJP72t7+VaV6PHDkCRVEwZ86cArd37aWXrkuld+3ahYceegiBgYGIiIjA0KFDkZWV5fZ1ly5dwty5c7XLs0u6hPra7+W6pPm3337Dv/71L4SFhSE0NBR9+/ZFWlpasbc1ePBgfPjhh9rtuv5de3n0F198gUaNGqFKlSqIi4vDkiVLCtzW/v370b9/f61Vo0aNtNv2pEuXLiEvLw9RUVGFft51EKo4q1evRseOHREaGgo/Pz/UqlUL9913Hy5fvqytc6PzPH/+fLRt2xZVq1ZF1apV0bx5c3z22Wdu61zvPhYWFlbopa533HEHLl++jPPnz2sfW7RoERo2bKgdwAMAk8mEhx9+GFu2bMHJkye1j5dm7gAgPDy8wMeMRiNatWqF48ePl+o2iIiIPIkH8YiIiLyYw+GA3W4v8E9V1XL/3r179waAUh/EK2qs17py5Qo6deqEefPmYezYsVi6dCkefvhhvPnmm+jbt2+B9ZcsWYJZs2bh9ddfx9dff42cnBz06NED48aNwx9//IHp06fj008/xe7du3Hfffe5zc2XX36Jrl27olq1apg7dy6++eYbhISEoFu3biUeZCjt1w4cOBA//PADJk6ciOXLl2PWrFno0qULzp07ByD/YE1CQgJOnz6NDz/8ECtWrMB7772HWrVqIScnp8jvn5iYiPPnz+Oee+4p8jW9bmRey+K+++5DgwYNsHDhQjz//POYP38+nn76ae3zGzduhJ+fH+6++27t8uzrvcz3scceg9lsxvz58/Hmm29izZo1ePjhh4v9mhdffBH9+vXTxuL6d/UBsqVLl2L69Ol45ZVXsHDhQoSEhODee+/FoUOHtHV2796N22+/HSkpKXjnnXewZMkS9OjRA6NGjfL4pbphYWG45ZZb8NFHH2Hq1KnYs2dPmfbrI0eOoEePHrBYLPj888+xbNkyvP766/D394fVai3x60szzxMnTsSAAQMQHR2NOXPmYNGiRRg0aBCOHj2qrXMj+1hRfvvtN1SvXt3tIFtKSgqaNWtWYF3Xx3bt2nVd3+tadrsdv//+Oxo3buyR2yMiIioTlYiIiLzO7NmzVQDF/qtdu7bb1wBQn3jiiUJv79tvv1UBqL/99pv2sUGDBqn+/v5FjiE1NVUFoP7rX/8qdqwvvfRSiWPt0KGDtv6MGTNUAOo333zjdjtvvPGGCkBdvny52zZFRkaqFy9e1D72ww8/qADU5s2bq06nU/v4e++9pwJQ//zzT1VVVfXSpUtqSEiI2qtXL7fv43A41Li4OPWOO+7QPuaa78OHD5f5a6tWraqOGTOmyPlJTExUAag//PBDkesUZsGCBSoAdcaMGaVav7TzevjwYRWAOnv27AK3AUB96aWXtP92tX3zzTfd1nv88cdVX19ft/n39/dXBw0aVLqNK+R7uRo8/vjjbuu9+eabKgD11KlTxd7eE088oRb11BeAGhERoWZnZ2sfS09PVw0Gg/raa69pH+vWrZtas2ZNNSsry+3rn3zySdXX11c9f/58idtUln1wy5Ytaq1atbT9JCAgQO3Zs6c6b948t7ktzHfffacCUJOTk0sc0/XM86FDh1Sj0agOGDCgyNsuy35SWjNnzlQBqO+//77bx81mszpixIgC62/YsEEFoM6fP7/Q2yvuflGYCRMmXNf+SkRE5Ak8E4+IiMiLzZs3D1u3bi3w7+pLKMuLWsaz/VauXFnoWOvVq+e23urVq+Hv76+dOeUyePBgAChw9k6nTp3g7++v/XejRo0A5L921tVnqLk+7jpLaMOGDTh//jwGDRrkdmag0+lE9+7dsXXrVly6dKnQbSnL195xxx2YM2cOXn31VWzatKnAu8XecsstCA4OxnPPPYcZM2Zg9+7dpZrPsirrvJaF66xMl2bNmuHKlSs4c+bMdd9mWb4XALezv65Hp06dEBAQoP13REQEwsPDtdu9cuUKVq1ahXvvvRdVqlRx63733XfjypUrHn99yNtvvx0HDhzAsmXL8MILL2jvtvrII4+gd+/exe6DzZs3h8ViwfDhwzF37ly3MwpLo6R5XrFiBRwOB5544okib+NG9rHC/PLLL3jiiSfQr18/PPXUUwU+X9wZqaU5W7Uks2bNwuTJkzFu3Djcc889N3x7REREZcU3tiAiIvJijRo1Qnx8fIGPBwYGFnjNJqPRCIfDUejtuC5rNZvNpf7erl/mo6OjS7V+XFwcwsLCCnzc19fX7b/PnTuHyMjIAr90h4eHw2QyaZehuoSEhLj9t8ViKfbjV65cAQCcPn0aAAoc1Lra+fPn3Q4QupTla//73//i1VdfxaxZs/Diiy+iatWquPfee/Hmm28iMjISgYGBWLt2LSZPnowXXngBmZmZiIqKwrBhw/B///d/RTapVasWAODw4cNFjuFqZZ3XsggNDXX7b9ebDeTm5l73bVb097r2dl237brdc+fOwW63Y9q0aZg2bVqht5GRkVHs97iefdBsNqNbt27o1q2bNo5+/fphyZIl+OWXX3D33XcXenv16tXDypUr8eabb+KJJ57ApUuXULduXYwaNQqjR48udpxAyfN89uxZAEDNmjWLvI0b2ceu9euvv6Jv375ISEjAV199VeB+HBoaWuh92PW6edf+PCir2bNnY8SIERg+fDjeeuutG7otIiKi68WDeERERDoRERHh9uLuV3N9PCIiotS39+OPPwJAiW9QUFahoaHYvHkzVFV1+0X9zJkzsNvthR4IvB6u25k2bVqR79BZ1HyU5WvDwsLw3nvv4b333sOxY8fw448/4vnnn8eZM2ewbNkyAEDTpk2xYMECqKqKP//8E3PmzMErr7wCPz8/PP/884Xefnx8PEJCQrB48WK89tprJZ5pVNp5dR1UvfZNRG7kIN/NIDg4GEajEQMHDizy7LM6deoUexue2AdDQ0MxZswYrFmzBikpKUUexAOAO++8E3feeSccDgcSExMxbdo0jBkzBhEREXjwwQeL/T4lqV69OgDgxIkTiImJKXSdG9nHrvbrr7+iT58+6NChAxYuXKgdkL9a06ZNsXPnzgIfd32sSZMmJX6fosyePRuPPfYYBg0ahBkzZnjkrD4iIqLrwctpiYiIdKJLly747bfftDNoXFRVxbfffovY2FjccsstpbqtFStWYNasWWjXrp3HL93t3LkzLl68iB9++MHt4/PmzdM+7wnt27dHUFAQdu/ejfj4+EL/FXaw4Ea+tlatWnjyySeRkJCA7du3F/i8oiiIi4vDu+++i6CgoELXcTGbzXjuueewZ88e/Oc//yl0nTNnzuCPP/4AUPp5jYiIgK+vL/7880+39RYvXlzkWErj6rPaJNzoGXtVqlRBp06dkJSUhGbNmhXavLCz+a5Wln3QZrMVeeA0NTUVQOnPgjUajWjdurX2LrrF3a9Kq2vXrjAajfj444+LXOdG9jGX5cuXo0+fPvjb3/6GH374Qet4rXvvvRd79uzB5s2btY/Z7XZ8+eWXaN26dann6lpz5szBY489hocffhizZs3iATwiIhLFM/GIiIh0YuLEifjpp5/QunVrPP/886hfvz7S09Mxc+ZMbN26Fd98802Br3E6ndrrfOXl5eHYsWP45Zdf8M0336BRo0aFfs2NeuSRR/Dhhx9i0KBBOHLkCJo2bYr169djypQpuPvuu9GlSxePfJ+qVati2rRpGDRoEM6fP49+/fohPDwcZ8+exY4dO3D27NkiD1CU9muzsrLQqVMn9O/fH7feeisCAgKwdetWLFu2THtH2CVLluCjjz5Cnz59ULduXaiqiu+//x4XLlxAQkJCsdswfvx4pKam4qWXXsKWLVvQv39/xMTEICsrC+vWrcOnn36Kl19+Ge3bty/1vCqKgocffhiff/456tWrh7i4OGzZsgXz58+/oflu2rQp1qxZg59++glRUVEICAhAw4YNb+g2y/r9AeCNN97AP/7xDxiNRjRr1qzEg0hXe//99/G3v/0Nd955J/71r38hNjYWOTk5OHDgAH766SesXr262K8vyz6YlZWF2NhY3H///ejSpQtiYmJw8eJFrFmzBu+//z4aNWpU7LsKz5gxA6tXr0aPHj1Qq1YtXLlyBZ9//jkAeGQfio2NxQsvvID//Oc/yM3NxUMPPYTAwEDs3r0bGRkZePnll29oHwOA9evXo0+fPoiMjMQLL7yA5ORkt8/fdtttqFatGgBg6NCh+PDDD3H//ffj9ddfR3h4OD766CPs3bsXK1eudPu6o0ePYuvWrQCAgwcPAgC+++47bbtcL1Hw7bff4tFHH0Xz5s0xYsQIbNmyxe12WrRoUeRBRSIionIh954aREREdL1c7yC5devWQj/fo0ePAu9Oq6qqun//fvXhhx9Wo6KiVJPJpAYFBaldu3ZVV61aVWDdQYMGub2DrJ+fn1qrVi21V69e6ueff67m5eWVaqyudzA9e/ZsoZ9v3Lix27vTqqqqnjt3Th05cqQ2ztq1a6v//ve/1StXrrith0Le7dP17qpvvfWW28d/++03FYD67bffun187dq1ao8ePdSQkBDVbDarNWrUUHv06OG23rXvTlvar71y5Yo6cuRItVmzZmq1atVUPz8/tWHDhupLL72kXrp0SVVVVd2zZ4/60EMPqfXq1VP9/PzUwMBA9Y477lDnzJlT/MReZfHixWqPHj3U6tWrqyaTSQ0ODlY7deqkzpgxw61Taec1KytLfeyxx9SIiAjV399f7dWrl3rkyJEi35322raFzVdycrLavn17tUqVKgXekbgw136vou7zrq5Xv6trYfLy8tTHHntMrV69uqooitv4Crsfqaqq1q5du8A76h4+fFgdOnSoWqNGDdVsNqvVq1dX27Vrp7766qvFfn+X0u6DeXl56ttvv63+4x//UGvVqqX6+Piovr6+aqNGjdRnn31WPXfuXLHfZ+PGjeq9996r1q5dW/Xx8VFDQ0PVDh06qD/++KPbejc6z/PmzVNvv/121dfXV61ataraokWLAu9sXJp9rDAlvbP1tWNJT09XH3nkETUkJET19fVV27Rpo65YsaLA7Rb37t5X9772Z+C1/679eUBERFTeFFUt41vLERERERERERERUYXia+IRERERERERERFVcjyIR0REREREREREVMnxIB4REREREREREVElx4N4RERERERERERElRwP4hEREREREREREVVyPIhHRERERERERERUyZmkB6A3TqcTaWlpCAgIgKIo0sMhIiIiIiIiIiIhqqoiJycH0dHRMBiKP9eOB/EqWFpaGmJiYqSHQURERERERERElcTx48dRs2bNYtfhQbwKFhAQACA/TrVq1YRHQ0REREREREREUrKzsxETE6MdLyoOD+JVMNcltNWqVeNBPAF2ux1JSUlo0aIFTCbe/SWwgTw2kMcG8thAHhvIYwN5bCCL8y+PDeSxQeVRmpdcU1RVVStgLPSX7OxsBAYGIisriwfxBKiqitzcXPj5+fE1CYWwgTw2kMcG8thAHhvIYwN5bCCL8y+PDeSxgbyyHCfiQbwKxoN4REREREREREQElO04UfFve0F0k7Hb7di0aRPsdrv0UHSLDeSxgTw2kMcG8thAHhvIYwNZnH95bCCPDbwLz8SrYDwTT5aqqrBarbBYLDxVWAgbyGMDeWwgjw3ksYE8NpDHBrI4//LYQB4byOOZeETFMBqN0kPQPTaQxwby2EAeG8hjA3lsII8NZHH+5bGBPDbwHjyIR7ricDiQmJgIh8MhPRTdYgN5bCCPDeSxgTw2kMcG8thAFudfHhvIYwPvwstpKxgvp5WlqiocDgeMRiNPFRbCBvLYQB4byGMDeWwgjw3ksYEszr88NpDHBvJ4OS1RMfgXBnlsII8N5LGBPDaQxwby2EAeG8ji/MtjA3ls4D14EI90xeFwICkpiT+kBLGBPDaQxwby2EAeG8hjA3lsIIvzL48N5LGBd+HltBWMl9MSERERERERERHAy2mJiqSqKi5fvgweu5bDBvLYQB4byGMDeWwgjw3ksYEszr88NpDHBt6FB/FIVxwOB3bt2sVThQWxgTw2kMcG8thAHhvIYwN5bCCL8y+PDeSxgXfh5bQVjJfTEhERERERERERwMtpiYqkqipycnJ4qrAgNpDHBvLYQB4byGMDeWwgjw1kcf7lsYE8NvAuPIhHuuJ0OrF//344nU7poegWG8hjA3lsII8N5LGBPDaQxwayOP/y2EAeG3gXXk5bwXg5LRERERERERERAbyclqhIqqriwoULPFVYEBvIYwN5bCCPDeSxgTw2kMcGsjj/8thAHht4Fx7EI11xOp04evQoTxUWxAby2EAeG8hjA3lsII8N5LGBLM6/PDaQxwbehZfTVjA9Xk577NgxZGRkSA+jUgsLC0OtWrWkh0FEREREREREFagsx4lMFTQm0qljx46h4a0NcSX3ivRQAAAGgwENGzbE3r17K9VfGnz9fLF3z15dHMhzOp3IzMxEcHAwDAaeDCyBDeSxgTw2kMcG8thAHhvI4vzLYwN5bOBdeBCPylVGRkb+Aby+AMKkRwMYDUa0btAaB/YdqDwH8TKAK99fQUZGhi4O4qmqilOnTiEoKEh6KLrFBvLYQB4byGMDeWwgjw1kcf7lsYE8NvAuvJy2guntctrt27ejVatWwHAA0dKjqaTSAHwKbNu2DS1btpQeDRERERERERFVEL47LVERDDCgeUBzGHjXF+N0OnHmzJnKcyakDrGBPDaQxwby2EAeG8hjA1mcf3lsII8NvAuPZJCuGBUjGvk3glExSg9Ft1RVxblz5/gW5oLYQB4byGMDeWwgjw3ksYEszr88NpDHBt6Fl9NWMF5OSwXwcloiIiIiIiIiXeLltERFMMKI1oGtYQTPxJPidDpx6tQpnq4tiA3ksYE8NpDHBvLYQB4byOL8y2MDeWzgXXgQj3RFURTU8KkBRVGkh6JbqqoiJyeHp2sLYgN5bCCPDeSxgTw2kMcGsjj/8thAHht4F15OW8F4OS0VwMtpiYiIiIiIiHSJl9MSFcEII+4KuouX0wpyOp04ceIET9cWxAby2EAeG8hjA3lsII8NZHH+5bGBPDbwLjyIR7qiKAoCTAG8nFZYXl6e9BB0jw3ksYE8NpDHBvLYQB4byOL8y2MDeWzgPcQP4p08eRIPP/wwQkNDUaVKFTRv3hzbtm3TPq+qKiZNmoTo6Gj4+fmhY8eO2LVrl9tt5OXl4amnnkJYWBj8/f3Ru3dvnDhxwm2dzMxMDBw4EIGBgQgMDMTAgQNx4cIFt3WOHTuGXr16wd/fH2FhYRg1ahSsVqvbOjt37kSHDh3g5+eHGjVq4JVXXuG1417ErtqxNGMp7Kpdeii6ZTAYUK9ePRgM4j9+dIsN5LGBPDaQxwby2EAeG8ji/MtjA3ls4F1EK2VmZqJ9+/Ywm8345ZdfsHv3brzzzjsICgrS1nnzzTcxdepUTJ8+HVu3bkVkZCQSEhKQk5OjrTNmzBgsWrQICxYswPr163Hx4kX07NkTDodDW6d///5ITk7GsmXLsGzZMiQnJ2PgwIHa5x0OB3r06IFLly5h/fr1WLBgARYuXIhx48Zp62RnZyMhIQHR0dHYunUrpk2bhrfffhtTp04t34kijzEpJnQJ6QKTYpIeim45nU4cPXqUp2sLYgN5bCCPDeSxgTw2kMcGsjj/8thAHht4F9EjGW+88QZiYmIwe/Zs7WOxsbHasqqqeO+99zBhwgT07dsXADB37lxERERg/vz5GDFiBLKysvDZZ5/hiy++QJcuXQAAX375JWJiYrBy5Up069YNqampWLZsGTZt2oTWrVsDAGbOnIm2bdti7969aNiwIZYvX47du3fj+PHjiI7OfweGd955B4MHD8bkyZNRrVo1fPXVV7hy5QrmzJkDHx8fNGnSBPv27cPUqVMxduxYXqJJRERERERERETlQvRMvB9//BHx8fG4//77ER4ejhYtWmDmzJna5w8fPoz09HR07dpV+5iPjw86dOiADRs2AMh/R0+bzea2TnR0NJo0aaKts3HjRgQGBmoH8ACgTZs2CAwMdFunSZMm2gE8AOjWrRvy8vK0y3s3btyIDh06wMfHx22dtLQ0HDlyxIMzQ+XFrtqx8vxKXk4ryGAwoHbt2jxdWxAbyGMDeWwgjw3ksYE8NpDF+ZfHBvLYwLuIVjp06BA+/vhj1K9fH7/++itGjhyJUaNGYd68eQCA9PR0AEBERITb10VERGifS09Ph8ViQXBwcLHrhIeHF/j+4eHhbutc+32Cg4NhsViKXcf13651rpWXl4fs7Gy3fwC0U1WdTmehyw6Ho1TLrtfju3rZbrcXWFZVtcAygALLrkuQr152Op2lWi5sO1RVhdGY/06wJsWkvSusWTHD8Nfdr6hli2JxW1agaMsuhS0rULRlAwxuy34GP/QI6wGLYoFZMWsfdy0bYdQutb162aSY3JZd2+GxbbJYRDtV5H3ParXi4MGDcDgcN802eVsnq9WKAwcOwOl03jTb5G2dbDab1uBm2SZv62S3290a3Azb5G2d7HY79u/fr437Ztgmb+vkcDjcGtwM2+Rtna5ucLNskzd1cjgcOHjwIKxW602zTd7WyW634+DBg7DZbDfNNnlbJ1cDu91+02yTt3YqDdGDeE6nEy1btsSUKVPQokULjBgxAsOGDcPHH3/stt61l6mqqlripavXrlPY+p5YxxWyqPG89tpr2ptpBAYGIiYmBgC0M/eOHz+O48ePA8g/8zAtLQ0AcPDgQZw+fRoAsG/fPmRkZAAAUlNTkZmZCQBISUlBVlYWAGDHjh24ePEiACApKQm5ubkAgMTERFitVjgcDiQmJsLhcMBqtSIxMREAkJubi6SkJADAxYsXsWPHDgBAVlYWUlJSAOS/dmFqaioAICMjA/v27QMAnD59GgcPHgQApKWl4fDhwwW26eLFi2jfvj0AoHf13ogPjAcA9Ivoh2YBzQAAA6IGoKF/QwDA0BpDEesXCwAYGTMSUT5RAIDRtUYj1BwKABgfOx4BxgBYFAvGx46HRbEgwBiA8bHjAQCh5lCMrjUaABDlE4WRMSMBALF+sRgUPQg59hzUr1IfA6IGAACaBTRDv4h+AID4wHj0rt4bANA+qD26hXYDAHQM7oiOwR0BAN1Cu6F9kIe3afx4beeV6FSR973t27fDx8fnptomb+uUnJys/aXtZtkmb+u0Z88e7cH9Ztkmb+t05MgRXL58+abaJm/s5Pr+N9M2eVuns2fP3nTb5G2dTp48edNtkzd18vHxQXJy8k21Td7WycfHB3v27LmptsnbOvn4+ODIkSM31TZ5U6cDBw6gtBTVdRRKQO3atZGQkIBZs2ZpH/v444/x6quv4uTJkzh06BDq1auH7du3o0WLFto699xzD4KCgjB37lysXr0anTt3xvnz593OxouLi0OfPn3w8ssv4/PPP8fYsWMLvBttUFAQ3n33XQwZMgQTJ07E4sWLtQkG8ic2JCQEq1evRqdOnfDII48gKysLixcv1tZJSkpCy5YtcejQIdSpU6fANubl5bm9XXN2djZiYmKQmZmJoKAg7YivwWBwW3Y4HFAUpcRlg8EARVHclu12O4xGo9sykH8k+eplk8mkHQ12LTudThiNRrdl118GS1oubDu2bduG1q1bw/GoA6Yaf30/OGBWzHCoDjjhLHLZolhgV+3ask21QYUKi2KBVc1/1+DClhUoMCtmWFUrDDDApJi0ZaNihE21FblsxF/zptrdll1n4bmWXdtx9fJ1b1OaCsscCzZs2ICWLVuKdLoZ73vcJm4Tt4nbxG3iNnGbuE3cJm4Tt4nbxG3iNlX2bcrKykJISAiysrJQrVo1FEf0TLz27dtj7969bh/bt28fateuDQCoU6cOIiMjsWLFCu3zVqsVa9euRbt27QAArVq1gtlsdlvn1KlTSElJ0dZp27YtsrKysGXLFm2dzZs3Iysry22dlJQUnDp1Sltn+fLl8PHxQatWrbR11q1bB6vV6rZOdHS02xtyXM3HxwfVqlVz+wfk34lc/1/YstFoLNWy6wzAq5dNJlOBZUVRCiwDKLDsugNevWwwGEq1XNh2uO78QP4BMAfyl22qDU44i122qla3ZRWqtuxS2LIKVVt2wum2rEJF3/C+MCgG2FSb9nHXsgMO7fXyrl62q3a3Zdd2eGybrFbRThV531MUBfv27YPT6bxptsnbOimKgv3792sPLjfDNnlbJwA4cOCA9sB/M2yTt3VSVdWtwc2wTd7WSVVV7eUVbpZt8rZOTqfTrcHNsE3e1snpdOLQoUPaL5E3wzZ5Uyen04l9+/Zp474ZtsnbOqmqqp1ZdbNsk7d1cjVQVfWm2SZv7VQaogfxnn76aWzatAlTpkzBgQMHMH/+fHz66ad44oknAORv5JgxYzBlyhQsWrQIKSkpGDx4MKpUqYL+/fsDAAIDA/Hoo49i3LhxWLVqFZKSkvDwww+jadOm2rvVNmrUCN27d8ewYcOwadMmbNq0CcOGDUPPnj3RsGH+JY9du3bFbbfdhoEDByIpKQmrVq3CM888g2HDhmkH3vr37w8fHx8MHjwYKSkpWLRoEaZMmcJ3pvUiqqriZN5JqKrYCai6pygKAgICuM8IYgN5bCCPDeSxgTw2kMcGsjj/8thAHht4F9HLaQFgyZIl+Pe//439+/ejTp06GDt2LIYNG6Z9XlVVvPzyy/jkk0+QmZmJ1q1b48MPP0STJk20da5cuYLx48dj/vz5yM3NRefOnfHRRx9prz8HAOfPn8eoUaPw448/AgB69+6N6dOnIygoSFvn2LFjePzxx7F69Wr4+fmhf//+ePvtt93ejXbnzp144oknsGXLFgQHB2PkyJGYOHFiqe/w2dnZCAwMLNVpkjeD7du355/JOBxAdImr61MagE/z32m5ZcuW0qMhIiIiIiIiogpSluNE4gfx9IYH8WSZFTP6RfTDd6e/0y6hFVcBB/GOHTumvXCnNFVVkZ2djWrVqlWqv/aEhYWhVq1a0sOoEA6HA/v27UODBg3KdOo2eQ4byGMDeWwgjw3ksYEszr88NpDHBvLKcpzIVEFjIqoUHKoDqZdS4VBL/xbO3u7YsWNoeGtDXMm9Ij0UAPnX/Ddr1gx//vmn9kKjlYGvny/27tmriwN5iqIgNDS0Uh1E1Rs2kMcG8thAHhvIYwNZnH95bCCPDbwLD+KRrjjhRHJOsvQwKlRGRkb+Aby+AMKkR/NXAyQDd0iP5CoZwJXvryAjI0MXB/EMBgPCw8Olh6FrbCCPDeSxgTw2kMcGsjj/8thAHht4Fx7EI10xK2YMiBqAr059VXkup60oYag0lzTrtkEl4XA4kJqaikaNGvGUeSFsII8N5LGBPDaQxwayOP/y2EAeG3gX0XenJapoDtWBzVmbdXU5bWXDBvIURUFUVBRPmRfEBvLYQB4byGMDeWwgi/Mvjw3ksYF34Zl4pCtOOJF6KVV6GLrGBvIMBgNCQ0Olh6FrbCCPDeSxgTw2kMcGsjj/8thAHht4Fx7EI10xK2YMrTEUn5/8nJdyCmEDeQ6HAykpKWjSpAlPmRfCBvLYQB4byGMDeWwgi/MvT68Njh07hoyMDOlhAABUVUVmZiaCg4Mrzdl4YWFhunit8uvBg3ikKw7VgRXnVvBSTkFsIM9gMKB27dowGPiKClLYQB4byGMDeWwgT48NKtvBC5vNhuTk5Epz8ALQ1wEMve4DDW9tmP/mg5WAwWBAbGwsjhw5AqfTKT0cAICvny/27tmrm/2gLHgQj3TFCScO5R6SHoausYE8RVEQFBQkPQxdYwN5bCCPDeSxgTy9NahsBy8qKz0dwNDbPgAAGRkZ+ftAX+S/+aAwJ5w4hEr0+1kGcOX7K8jIyNDFPlBWPIhHumJRLBgZMxIzjs+AVbVKD0eX2ECew+HAjh07EBcXp6vLFioTNpDHBvLYQB4byNNbg8p28MJisGBkk5GYkTIDVmcleV6qswMYetsH3IQBiJYeBH8/8zY8iEe6YlftWHh6IeyqXXoouqXXBpXt0hG73V6pLh3R02UjQP5lC/Xr19fVpSOVDRvIYwN5bCBPtw0qycELO+xYmLMQ9kh9PS+tTHS7D1Qiev39zFvxIB7pihNOnMw7KT0MXdNjA146UjI9XTYC5F86EhAQID0MXWMDeWwgjw3ksYEsPT4vrWy4D8jjfuBdeBCPdMWiWDC61mi8f+x9niosRI8NKuOlI6PjRuP9He9XjktHdHbZCADY7XYkJSWhRYsWMJn4UCyBDeSxgTw2kMcGsvT4vLSy4T4gj/uBd+FeQrpiU22YnTYbNtUmPRTd0nWDSnLpiA02zD4/G7ZIHTaoJIxGIxo3bqy/136pRNhAHhvIYwN5bCBL189LKwnuA/K4H3gXHsQjXVGhIsNWOV6XTK/YQB4byFMUBVWqVJEehq6xgTw2kMcG8thAFp8TyeM+II/7gXfhq0eSrlgUCybUmQCLYpEeim6xgTw2kGe327Fp0ybY7XwBYSlsII8N5LGBPDaQxedE8rgPyON+4F14Jh7pilW14oNjH/Baf0FsII8N5BmNRrRo0YKXjghiA3lsIE+PDSrTu8UD+e8YbzQasWPHDr5jvAA+J5Knx59DlQ33A+/Cg3ikO3nOPOkh6B4byGMDeXyyKo8N5LGBPD01qKzvFm+xWGC1Vp5fnvX2jvF8TiRPTz+HKivuB96DB/FIVyyKBeNjx+OtI2/xLw1C2EAeG8hzOBxITExEfHw834lNCBvIYwN5emtQ2d4tHsh/x/jxLcbjraS3+I7xAvicSJ7efg5VRtwPvAv3EtIVq2rlDydhbCBPrw0q0yVUqqrCZDLx8ilBRqMR8fHx/Ou/IDaQp9sGleTd4gHACiveSn8L1kh9PSZXFnp9TlSZ6PbnUCXC/cC78CAe6Y6PwQdWB39ASWIDeXprUBkvoQoICEBOTo70MDR6u3wKyP/rP39pkMUG8thAnt4ekysbzr88/hySx/3Ae/AgHumKRbFgVK1R/EuDIDaQp8cGle0SKovBglEtRvHyKUEOhwNJSUm8fEcQG8hjA3l6fEyuTDj/8vhzSB73A+/CvYR0xapaMfnwZOlh6BobyNN1g0pyCZUVVkw+NRmIlB6JfplMJrRp00Z6GLrGBvLYQJ6uH5MrAc6/PP4cksf9wLsYpAdAVJEUKAgzh0FB5XgNKj1iA3lsII8N5KmqisuXL0NVVemh6BYbyGMDeXw8kMX5l8efQ/K4H3gXHsQjXTErZgyJHgKzYpYeim6xgTw2kMcG8hwOB3bt2gWHwyE9FN1iA3lsII+PB7I4//L4c0ge9wPvwstpSVesqhVvHX1Lehi6xgby2EAeG8gzmUy4/fbbpYeha2wgjw3k8fFAFudfHn8OyeN+4F14Jh7pigEG1PCpAQPv+mLYQB4byGMDeaqqIicnh5fvCGIDeWwgj48Hsjj/8vhzSB73A+/CM/FIV0yKCfdF3IcZx2fwnXeEsIE8NpDHBvKcTif279+PuLg4GI1G6eHokh4bHDt2DBkZGdLD0DidTmRmZiI4OBgGQ+X45S0sLEw375IN8PFAGudfnh4fCyob7gfehQfxSFesqhUfHPtAehi6xgby2EAeG8gzGo1o2bKl9DAqVGU7gOSyY8cO6SFoyvMA0rFjx9Dw1oa4knulXG7/ZuHr54u9e/bq5kAeHw9kcf7l6fHxuLLhfuBdeBCPdMUAA2L9YnEk9wiccEoPR5fYQB4byNNrg8p0EElVVdhsNpjNZihK5Xg3Nr0dQDIYDIiNjcWRI0fgdFaO/aA8DyBlZGTkz39fAGEev/nrYoABsdVicSS7kvwsygCufH8FGRkZujmIp9fHg8qC8y9PVVVkZWUhMDCw0jwe6w33A+/Cg3ikK0bFiITQBHx+8nM4Vf6AksAG8thAnh4bVLaDSGazGUOHDsXnn38Om80mPRwA+juAZDQYkdAoAZ+nfl45DuJV1AGkMADR5XfzZWFUjEiooa+fRZWNHh8PKhPOvzyn04mjR4+iSZMmvJxWCPcD78KDeKQrNtWGT058Ij0MXWMDeWwgT48NKttBJBts+ET9BBgiPZK/6PAAkg02fJL5CRApPRL90uPPosqGDWRx/uUZjUbExcVJD0PXuB94Fx7EI10xwICG/g2x99JenioshA3ksYE8XTeoJAeRdN2gkmADeWwgjw1kcf7lVcY32NEb7gfehXsJ6YpRMaJ1YGsYFZ6qLYUN5LGBPDaQxwby2EAeG8hjA1mcf3mqquLUqVNQVVV6KLrF/cC78Ew80hWbasOctDnSw9A1NpDHBvLYQB4byGMDeWwgjw1kcf7lGY1GNGnSRHoYusb9wLvwTDzSFQMMaB7QHAbe9cWwgTw2kMcG8thAHhvIYwN5bCCL8y/P6XTizJkzleMNjnSK+4F3YSXSFaNiRCP/RjxVWBAbyGMDeWwgjw3ksYE8NpDHBrI4//JUVcW5c+d4Oa0g7gfehZfTkq7YVBu+Tv9aehi6xgby2EAeG8hjA3lsII8N5LGBLM6/PKPRiEaNGkkPQ9e4H3gXnolHumLEXy/aCf6VQQobyGMDeWwgjw3ksYE8NpDHBrI4//KcTidOnTrFy2kFcT/wLjyIR7qiKApq+NSAoijSQ9EtNpDHBvLYQB4byGMDeWwgjw1kcf7lqaqKnJwcXk4riPuBd+HltKQrdtWO7898Lz0MXWMDeWwgjw3ksYE8NpDHBvLYQBbnX57RaESDBg2kh6Fr3A+8C8/EI10xwoi7gu7iqcKC2EAeG8hjA3lsII8N5LGBPDaQxfmX53Q6ceLECV5OK4j7gXfhQTzSFUVREGAK4KnCgthAHhvIYwN5bCCPDeSxgTw2kMX5rxzy8vKkh6Br3A+8Cy+nJV2xq3YszVgqPQxdYwN5bCCPDeSxgTw2kMcG8thAFudfnsFgQL169aSHoWvcD7wLz8QjXTEpJnQJ6QKTwuPXUthAHhvIYwN5bCCPDeSxgTw2kMX5l+d0OnH06FFeTiuI+4F34UE8IiIiIiIiIiKiSo6HWklX7KodK8+vlB6GrrGBPDaQxwby2EAeG8hjA3lsIIvzL89gMKB27drSw9A17gfehWfika6YFBN6hPXgqcKC2EAeG8hjA3lsII8N5LGBPDaQxfmX53Q6cfDgQV5OK4j7gXfhQTzSFVVVkWPPgaqq0kPRLTaQxwby2EAeG8hjA3lsII8NZHH+KwcfHx/pIega9wPvwkOtpCsOOLDuwjrpYegaG8hjA3lsII8N5LGBPDaQxwayOP/yDAYDatasKT0MXeN+4F14Jh7pikkxoW94X54qLIgN5LGBPDaQxwby2EAeG8hjA1mcf3kOhwP79u2Dw+GQHopucT/wLjyIR7qiqipO5p3kqcKC2EAeG8hjA3lsII8N5LGBPDaQxfmXpygKAgICoCiK9FB0i/uBd+GhVtIVBxzYnLVZehi6xgby2EAeG8hjA3lsII8N5LGBLM6/PIPBgKioKOlh6Br3A+/CM/FIV8yKGQ9FPgSzYpYeim6xgTw2kMcG8thAHhvIYwN5bCCL8y/P4XAgNTWVl9MK4n7gXXgQj3TFoTqQeikVDpUPElLYQB4byGMDeWwgjw3ksYE8NpDF+ZenKApCQ0N5Oa0g7gfehZfTkq444URyTrL0MHSNDeSxgTw2kMcG8thAHhvIYwNZnH95BoMB4eHh0sPQNe4H3oVn4pGumBUzBkcP5qnCgthAHhvIYwN5bCCPDeSxgTw2kMX5l+dwOJCSksLLaQVxP/AuPIhHuuJQ81+0k6cKy2EDeWwgjw3ksYE8NpDHBvLYQBbnX56iKIiKiuLltIK4H3gXXk5LuuKEE6mXUqWHoWtsII8N5LGBPDaQxwby2EAeG8ji/MszGAwIDQ2VHoaucT/wLjwTj3TFrJgxouYIniosiA3ksYE8NpDHBvLYQB4byGMDWZx/eQ6HAzt27ODltIK4H3gXHsQjXXGoDqw4t4KnCgtiA3lsII8N5LGBPDaQxwby2EAW51+ewWBA7dq1YTDw0IQU7gfeRXRPmTRpEhRFcfsXGRmpfV5VVUyaNAnR0dHw8/NDx44dsWvXLrfbyMvLw1NPPYWwsDD4+/ujd+/eOHHihNs6mZmZGDhwIAIDAxEYGIiBAwfiwoULbuscO3YMvXr1gr+/P8LCwjBq1ChYrVa3dXbu3IkOHTrAz88PNWrUwCuvvAJVVT07KVSunHDiUO4hOOGUHopusYE8NpDHBvLYQB4byGMDeWwgi/MvT1EUBAUF8TXxBHE/8C7ih7sbN26MU6dOaf927typfe7NN9/E1KlTMX36dGzduhWRkZFISEhATk6Ots6YMWOwaNEiLFiwAOvXr8fFixfRs2dPt9Nx+/fvj+TkZCxbtgzLli1DcnIyBg4cqH3e4XCgR48euHTpEtavX48FCxZg4cKFGDdunLZOdnY2EhISEB0dja1bt2LatGl4++23MXXq1HKeIfIki2LBqFqjYFEs0kPRLTaQxwby2EAeG8hjA3lsII8NZHH+5TkcDmzfvp2X0wrifuBdxN/YwmQyuZ1956KqKt577z1MmDABffv2BQDMnTsXERERmD9/PkaMGIGsrCx89tln+OKLL9ClSxcAwJdffomYmBisXLkS3bp1Q2pqKpYtW4ZNmzahdevWAICZM2eibdu22Lt3Lxo2bIjly5dj9+7dOH78OKKjowEA77zzDgYPHozJkyejWrVq+Oqrr3DlyhXMmTMHPj4+aNKkCfbt24epU6di7Nix/MuBl7Crdiw8vRB21S49FN1iA3lsII8N5LGBPDaQxwby2EAW51+ewWBA/fr1eTmtIO4H3kV8T9m/fz+io6NRp04dPPjggzh06BAA4PDhw0hPT0fXrl21dX18fNChQwds2LABALBt2zbYbDa3daKjo9GkSRNtnY0bNyIwMFA7gAcAbdq0QWBgoNs6TZo00Q7gAUC3bt2Ql5eHbdu2aet06NABPj4+buukpaXhyJEjRW5fXl4esrOz3f4BgNPp1P6/sGWHw1GqZdflvFcv2+32AsuqqhZYBlBg2fUXkKuXnU5nqZYL2w5VVWE0GgEAJsUEI/KXzYoZhr/ufkUtWxSL27ICRVt2KWxZgaItG2BwWzYqRpzMO6l9L9fHXctGGGFSTAWWTYrJbdm1HR7bJoul3DqpqgqTSWCbiuhkUkw4mXcSKtQiOxXWptw7mc3luj+ZzQLbVEQnk2JCWl4anHDe0P7ksU6KUZun8vy5Z7FU4DaV0MmoGHEq7xSccJb7z71SbZPBVKBBeTw+WSwVuE0ldDIoBqTnpcMJZ6V4fDIbzFqD633MLa6Tq4HZUIHbVEInBQpOW0/DCWeleHyyGCxag/J4buRqUKHbVEInADhjPQMnnJXi8clisGh/GC+P57CuBkZF6PleIW2ccOKs9SyccFaKxyezwawdTCmP3zVc+4TY871rOgHAybyTMCmmSvP4ZFJM2u9PN8vvhCU9PgUEBBRYx5u3qaROTqdT288q9PleEfc9g2LAybyTMCiGSvP4ZDAY3OZLopPEfa80RA/itW7dGvPmzcOvv/6KmTNnIj09He3atcO5c+eQnp4OAIiIiHD7moiICO1z6enpsFgsCA4OLnad8PDwAt87PDzcbZ1rv09wcDAsFkux67j+27VOYV577TXttfgCAwMRExMDANqBv+PHj+P48eMA8g9cpqWlAQAOHjyI06dPAwD27duHjIwMAEBqaioyMzMBACkpKcjKygIA7NixAxcvXgQAJCUlITc3FwCQmJgIq9UKh8OBxMREOBwOWK1WJCYmAgByc3ORlJQEALh48SJ27NgBAMjKykJKSgqA/NcUTE3Nf8vpjIwM7Nu3DwBw+vRpHDx4EACQlpaGw4cPF9imixcvon379gCA3tV7Iz4wHgDQL6IfmgU0AwAMiBqAhv4NAQBDawxFrF8sAGBkzEhE+UQBAEbXGo1Qc/5bj4+PHY8AYwAsigXjY8fDolgQYAzA+NjxAIBQcyhG1xoNAIjyicLImJEAgFi/WDxW4zGMrz0ejas2xoCoAQCAZgHN0C+iHwAgPjAevav3BgC0D2qPbqHdAAAdgzuiY3BHAEC30G5oH+ThbRo/Xtt5Pd0pNzcXvXsLbFMRnZ6LfQ7ja49HpCWyyE5DawwFADT0b1hxnYYOhc1mA+D5/clms2HoUIFtKqLT07WfxguxL2htrnd/8linqPxtysnJKbefe06nE+PHV+A2ldDpkahHMKnuJFgUS7n/3CvVNsXmb9Ply5cL/Vnuqcen0aNHI9S3graphE49wnpgyi1TYFEsleLxaWij/G2yWq3X/ZhbXKe8vLz8bWpQgdtUQqc2gW3wdv23YVEsleLxaXyL/G1yOBzl8tzo0qVL+dtUqwK3qYRO9avUxwcNP4BFsVSKx6fRcaMRGpq/TeXxHNb1x/T4cKHne4V0CjWFYkajGfnLleDxaUCDAWjYMH+byuN3DdfjRGw1oed713Sq5VsL42uPx9O1n664x9yStqlWN+33p5vld8LiHp9Onz6NrVu3YteuXTfNNpXUKTMzE1FRAs/3irjvdQnpgvG1x6NHWI9K8/gUGxurzZ1Up4q87x04cAClpaiV6J0ZLl26hHr16uHZZ59FmzZt0L59e6SlpWl3cAAYNmwYjh8/jmXLlmH+/PkYMmSI9sTUJSEhAfXq1cOMGTMwZcoUzJ07F3v37nVbp379+nj00Ufx/PPPY/jw4Th69Ch+/fVXt3UsFgvmzZuHBx98EF27dkWdOnXwySefaJ8/efIkatasiY0bN6JNmzaFblNeXp7b+LKzsxETE4PMzEwEBQX9769RBoPbssPhgKIoJS4bDAYoiuK2bLfbYTQa3ZaB/CelVy+bTCbtaLBr2el0wmg0ui27/nJZ0nJh27Ft2za0bt0ajkcdMNX46/vBAbNihkN1aGehFLZsUSywq3Zt2abatLO3rGr+m44UtqxAgVkxw6paYYABJsXktlzNVA2ZtkwYFANsqg2uM/Rsqg1G/DVvqt1t2fWXCteyazuuXr7ubUpTYZljwYYNG9CyZUuPd9q2bRvatGkD+1A7jNEVtE3FdPJRfBBgCsB52/kCbVzLrh5FLXu8U5oT5tlmbNy4Ea1atfL4/rRt2za0bdsWtiE2GKIraJuK6eSj+KCaqRoybBnavnI9+5PHOqWpcHyS/yDYokWLcvm5t337drRr1w7WwVYo0RWwTSV0sigWBJmCcNZ2FibFVK4/90q1TekK7DPsbg08/fiUlJSUvx8MtkGNroBtKqGTWTEjxBSCM7YzMCpG8ccnY7oRthk2JCYmonnz5tf1mFtcp+TkZMTHx8M80gxHZAVtUwmdTDAhzBKG09bTMMAg/vhkSbfAOiP/SXhcXJzHnxslJSUhPj4ephEmqFEVtE0ldDLCiOqW6jhtPQ0FivjjkyXdAtsn+ftBs2bNPP4c1tXAOMIIJbqCn+8V0UmBgihLFE5ZTwGA+OOTOd0Mx6cObN26FXFxcR7/XWPbtm24/fbbYRhugLFGBT/fK6STQ3Ug2ByMHHsOrKq1Yh5zS9qmUyaos1Rs2bIFcXFxN8XvhMU9PgH5vzNbLBYYDIabYptK6pSYmIjWrVvD+ZgTlhoV+HyviPueAgWBpkBk2bPgVJ3yj08nrTDMMmDLli1o1aqVWKeKvO9lZWUhJCQEWVlZqFatGooj/pp4V/P390fTpk2xf/9+9OnTB0D+WW5XH8Q7c+aMdgZcZGQkrFYrMjMz3c7GO3PmDNq1a6et4zraerWzZ8+63c7mzZvdPp+ZmQmbzea2zrVn3J05cwZAwbMFr+bj4+N2Ca6L6/TZq6/9v3rZdUe4nmXXpZOlWVYUxW3ZdTtXLxc1xtIsu+78ANyusbepthKXXTt4WZdVqNqyE84Cyxm2/CPurrfQdsIJp/rX6bNwAH8d1r56+eqxF7V8Q9tktWrv0OzpTq4fNBW+TUUs56l5yLPluX382k6uHkUtl0snm027hKc89ifXWX4Vuk1FdMpT83DWdrbAx8u6P3ms018fdz14Ap7/uacoivaO4xWyTYUsX9vjjO1MoR+/nuUb3qa/3ozs6gbl8fh09bu+S9/3bKoNp22nC/14Scvl0umvJ5meevy9toHr55vNWYHbVEInO+xIt+Y/t6oMj09WZ/5yeT030i4TrchtKqGTAw6tgQpV/PHJ6rRqt18ez2FdDRyq0PO9ItqkWdMKfFzsuZHTpj0mlMfvGq4mYs/3Cunk+t3g2o8XtVwhzyP+urLuZvmdsKTnEVWqVMHVboZtKm756oNLFfp8r5j73rX7gfTjk9Pp1H5mS3WqyPve1d+rJOKviXe1vLw8pKamIioqCnXq1EFkZCRWrFihfd5qtWLt2rXaAbpWrVrBbDa7rXPq1CmkpKRo67Rt2xZZWVnYsmWLts7mzZuRlZXltk5KSgpOnTqlrbN8+XL4+PigVatW2jrr1q1z+wVk+fLliI6ORmxsrOcng8qFRbFgQp0JbtfjU8ViA3lsII8N5LGBPDaQxwby2EAW51+e3W7Hpk2btJMOqOJxP/AuogfxnnnmGaxduxaHDx/G5s2b0a9fP2RnZ2PQoEFQFAVjxozBlClTsGjRIqSkpGDw4MGoUqUK+vfvDwAIDAzEo48+inHjxmHVqlVISkrCww8/jKZNm2rvVtuoUSN0794dw4YNw6ZNm7Bp0yYMGzYMPXv21F7voWvXrrjtttswcOBAJCUlYdWqVXjmmWcwbNgw7VTG/v37w8fHB4MHD0ZKSgoWLVqEKVOm8J1pvYxVteKDYx+4/RWAKhYbyGMDeWwgjw3ksYE8NpDHBrI4//KMRiNatGhRpjORyLO4H3gX0ctpT5w4gYceeggZGRmoXr062rRpg02bNqF27doAgGeffRa5ubl4/PHHkZmZidatW2P58uUICAjQbuPdd9+FyWTCAw88gNzcXHTu3Blz5sxx+yHw1VdfYdSoUdq72Pbu3RvTp0/XPm80GrF06VI8/vjjaN++Pfz8/NC/f3+8/fbb2jqBgYFYsWIFnnjiCcTHxyM4OBhjx47F2LFjy3uayMPynHklr0Tlig3ksYE8NpDHBvLYQB4byGMDWZx/eTyAJ4/7gfcQPRNvwYIFSEtLg9VqxcmTJ7Fw4ULcdttt2ucVRcGkSZNw6tQpXLlyBWvXrkWTJk3cbsPX1xfTpk3DuXPncPnyZfz000/aO8C6hISE4Msvv0R2djays7Px5ZdfIigoyG2dWrVqYcmSJbh8+TLOnTuHadOmFXgtu6ZNm2LdunW4cuUKTp06hZdeeoln4XmZq98Vh2SwgTw2kMcG8thAHhvIYwN5bCCL8y/v6nf4JBncD7xLpXpNPKLyZlWteOvIWzxVWBAbyGMDeWwgjw3ksYE8NpDHBrI4//KMRmP+u0bzbDwx3A+8Cw/ike74GAq+WzBVLDaQxwby2EAeG8hjA3lsII8NZHH+5fEsPHncD7wHD+KRrlgUC0bVGsVThQWxgTw2kMcG8thAHhvIYwN5bCCL8y/P4XAgKSmJB/IEcT/wLqJvbEFU0ayqFZMPT5Yehq6xgTw2kMcG8thAHhvIYwN5bCCL8y/PZDKhTZs20sPQNe4H3oVn4pGuKFAQZg6DAr4hiRQ2kMcG8thAHhvIYwN5bCCPDWRx/uWpqorLly9DVVXpoegW9wPvwoN4pCtmxYwh0UNgVszSQ9EtNpDHBvLYQB4byGMDeWwgjw1kcf7lORwO7Nq1i5fTCuJ+4F14OS3pilW14q2jb0kPQ9fYQB4byGMDeWwgjw3ksYE8NpDF+ZdnMplw++23Sw9D17gfeBeeiUe6YoABNXxqwMC7vhg2kMcG8thAHhvIYwN5bCCPDWRx/uWpqoqcnBxeTiuI+4F3YSXSFZNiwn0R98Gk8CRUKWwgjw3ksYE8NpDHBvLYQB4byOL8y3M6ndi/fz+cTqf0UHSL+4F3YSXSFatqxQfHPpAehq6xgTw2kMcG8thAHhvIYwN5bCCL8y/PaDSiZcuW0sPQNe4H3oVn4pGuGGBAXb+6PFVYEBvIYwN5bCCPDeSxgTw2kMcGsjj/8lRVxYULF3g5rSDuB96FlUhXjIoRCaEJMCpG6aHoFhvIYwN5bCCPDeSxgTw2kMcGsjj/8pxOJ44ePcrLaQVxP/AuvJyWdMWm2vDJiU+kh6FrbCCPDeSxgTw2kMcG8thAHhvI4vzLMxqNiIuLkx6GrnE/8C48E490xQADGvk34qnCgthAHhvIYwN5bCCPDeSxgTw2kMX5l+d0OnHu3DmeiSeI+4F3YSXSFaNiROvA1jxVWBAbyGMDeWwgjw3ksYE8NpDHBrI4//JUVcWpU6f4mniCuB94F15OS7piU22YkzZHehi6xgby2EAeG8hjA3lsII8N5LGBLM6/PKPRiCZNmkgPQ9e4H3gXnolHumKAAc0DmvNUYUFsII8N5LGBPDaQxwby2EAeG8ji/MtzOp04c+YML6cVxP3Au7AS6YpRMaKRfyOeKiyIDeSxgTw2kMcG8thAHhvIYwNZnH95qqri3LlzvJxWEPcD78LLaUlXbKoNX6d/LT0MXWMDeWwgjw3ksYE8NpDHBvLYQBbnX57RaESjRo2kh6Fr3A+8C8/EI10x4q8X7QT/yiCFDeSxgTw2kMcG8thAHhvIYwNZnH95TqcTp06d4uW0grgfeBcexCNdURQFNXxqQFEU6aHoFhvIYwN5bCCPDeSxgTw2kMcGsjj/8lRVRU5ODi+nFcT9wLvwclrSFbtqx/dnvpcehq6xgTw2kMcG8thAHhvIYwN5bCCL8y/PaDSiQYMG0sPQNe4H3oVn4pGuGGHEXUF38VRhQWwgjw3ksYE8NpDHBvLYQB4byOL8y3M6nThx4gQvpxXE/cC78CAe6YqiKAgwBfBUYUFsII8N5LGBPDaQxwby2EAeG8ji/FcOeXl50kPQNe4H3oWX05Ku2FU7lmYslR6GrrGBPDaQxwby2EAeG8hjA3lsIIvzL89gMKBevXrSw9A17gfehWfika6YFBO6hHSBSeHxaylsII8N5LGBPDaQxwby2EAeG8ji/MtzOp04evQoL6cVxP3Au/AgHhERERERERERUSXHQ62kK3bVjpXnV0oPQ9fYQB4byGMDeWwgjw3ksYE8NpDF+ZdnMBhQu3Zt6WHoGvcD78Iz8UhXTIoJPcJ68FRhQWwgjw3ksYE8NpDHBvLYQB4byOL8y3M6nTh48CAvpxXE/cC78CAe6Yqqqsix50BVVemh6BYbyGMDeWwgjw3ksYE8NpDHBrI4/5WDj4+P9BB0jfuBd+GhVtIVBxxYd2Gd9DB0jQ3ksYE8NpDHBvLYQB4byGMDWZx/eQaDATVr1pQehq5xP/AuPBOPdMWkmNA3vC9PFRbEBvLYQB4byGMDeWwgjw3ksYEszr88h8OBffv2weFwSA9Ft7gfeBcexCNdUVUVJ/NO8lRhQWwgjw3ksYE8NpDHBvLYQB4byOL8y1MUBQEBAVAURXoousX9wLvwUCvpigMObM7aLD0MXWMDeWwgjw3ksYE8NpDHBvLYQBbnX57BYEBUVJT0MHSN+4F34Zl4pCtmxYyHIh+CWTFLD0W32EAeG8hjA3lsII8N5LGBPDaQxfmX53A4kJqaystpBXE/8C48iEe64lAdSL2UCofKBwkpbCCPDeSxgTw2kMcG8thAHhvI4vzLUxQFoaGhvJxWEPcD78LLaUlXnHAiOSdZehi6xgby2EAeG8hjA3lsII8N5LGBLM6/PIPBgPDwcOlh6Br3A+/CM/FIV8yKGYOjB/NUYUFsII8N5LGBPDaQxwby2EAeG8ji/MtzOBxISUnh5bSCuB94Fx7EI11xqPkv2slTheWwgTw2kMcG8thAHhvIYwN5bCCL8y9PURRERUXxclpB3A+8Cy+nJV1xwonUS6nSw9A1NpDHBvLYQB4byGMDeWwgjw1kcf7lGQwGhIaGSg9D17gfeBeeiUe6YlbMGFFzBE8VFsQG8thAHhvIYwN5bCCPDeSxgSzOvzyHw4EdO3bwclpB3A+8Cw/ika44VAdWnFvBU4UFsYE8NpDHBvLYQB4byGMDeWwgi/Mvz2AwoHbt2jAYeGhCCvcD78LLaUlXnHDiUO4h6WHoGhvIYwN5bCCPDeSxgTw2kMcGsjj/8hRFQVBQkPQwdI37gXfh4W7SFYtiwahao2BRLNJD0S02kMcG8thAHhvIYwN5bCCPDWRx/uU5HA5s376dl9MK4n7gXXgQj3TFrtqx8PRC2FW79FB0iw3ksYE8NpDHBvLYQB4byGMDWZx/eQaDAfXr1+fltIK4H3iXMu8p69atg91eMK7dbse6des8Miii8uKEEyfzTsIJp/RQdIsN5LGBPDaQxwby2EAeG8hjA1mcf3mKoiAgIACKokgPRbe4H3iXMh/E69SpE86fP1/g41lZWejUqZNHBkVUXiyKBeNrj+epwoLYQB4byGMDeWwgjw3ksYE8NpDF+Zdnt9uxdevWQk8UoorB/cC7lPkgnqqqhR4lP3fuHPz9/T0yKKLyYlNtmJ02GzbVJj0U3WIDeWwgjw3ksYE8NpDHBvLYQBbnX57RaETjxo1hNBqlh6Jb3A+8S6nfnbZv374A8k93HTx4MHx8fLTPORwO/Pnnn2jXrp3nR0jkQSpUZNgypIeha2wgjw3ksYE8NpDHBvLYQB4byOL8y1MUBVWqVJEehq5xP/AupT4TLzAwEIGBgVBVFQEBAdp/BwYGIjIyEsOHD8eXX35ZnmMlumEWxYIJdSbwVGFBbCCPDeSxgTw2kMcG8thAHhvI4vzLs9vt2LRpEy+nFcT9wLuU+ky82bNnAwBiY2PxzDPP8NJZ8kpW1YoPjn0Aq2qVHopusYE8NpDHBvLYQB4byGMDeWwgi/Mvz2g0okWLFrycVhD3A+9S6oN4Li+99FJ5jIOowuQ586SHoHtsII8N5LGBPDaQxwby2EAeG8ji/MvjATx53A+8R5nf2OL06dMYOHAgoqOjYTKZYDQa3f4RVWYWxYLxsXznHUlsII8N5LGBPDaQxwby2EAeG8ji/MtzOBxITEyEw+GQHopucT/wLmU+E2/w4ME4duwYXnzxRURFRRX6TrVElZVVteKtI2/xVGFBbCCPDeSxgTw2kMcG8thAHhvI4vzLMxqNiI+P5wlBgrgfeJcyH8Rbv349fv/9dzRv3rwchkNU/nwMPrA6+ANKEhvIYwN5bCCPDeSxgTw2kMcGsjj/8hwOBw/iCeN+4D3KfDltTEwMVFUtj7EQlTuLYsGoWqN4qrAgNpDHBvLYQB4byGMDeWwgjw1kcf7lORwOJCUl8XJaQdwPvEuZD+K99957eP7553HkyJFyGA5R+bKqVkw+PJmnCgtiA3lsII8N5LGBPDaQxwby2EAW51+eyWRCmzZtYDKV+SJB8hDuB96lzAfx/vnPf2LNmjWoV68eAgICEBIS4vaPqDJToCDMHAYFfC1HKWwgjw3ksYE8NpDHBvLYQB4byOL8y1NVFZcvX+bVfoK4H3iX6zoT79NPP8Xnn3+O6dOn491333X7R1SZmRUzhkQPgVkxSw9Ft9hAHhvIYwN5bCCPDeSxgTw2kMX5l+dwOLBr1y5eTiuI+4F3KfM5q4MGDSqPcRBVCKtqxVtH35Iehq6xgTw2kMcG8thAHhvIYwN5bCCL8y/PZDLh9ttvlx6GrnE/8C5lPhPv2LFjxf67Xq+99hoURcGYMWO0j6mqikmTJiE6Ohp+fn7o2LEjdu3a5fZ1eXl5eOqppxAWFgZ/f3/07t0bJ06ccFsnMzMTAwcORGBgIAIDAzFw4EBcuHChwHb16tUL/v7+CAsLw6hRo2C1ul8TvnPnTnTo0AF+fn6oUaMGXnnlFZ7262UMMKCGTw0Yyn7XJw9hA3lsII8N5LGBPDaQxwby2EAW51+eqqrIycnh79WCuB94lzJXio2NRZ06dYr8dz22bt2KTz/9FM2aNXP7+JtvvompU6di+vTp2Lp1KyIjI5GQkICcnBxtnTFjxmDRokVYsGAB1q9fj4sXL6Jnz55up+P2798fycnJWLZsGZYtW4bk5GQMHDhQ+7zD4UCPHj1w6dIlrF+/HgsWLMDChQsxbtw4bZ3s7GwkJCQgOjoaW7duxbRp0/D2229j6tSp17XNJMOkmHBfxH0wKXzhVClsII8N5LGBPDaQxwby2EAeG8ji/MtzOp3Yv38/nE6n9FB0i/uBdylzpaSkJLf/ttlsSEpKwtSpUzF58uQyD+DixYsYMGAAZs6ciVdffVX7uKqqeO+99zBhwgT07dsXADB37lxERERg/vz5GDFiBLKysvDZZ5/hiy++QJcuXQAAX375JWJiYrBy5Up069YNqampWLZsGTZt2oTWrVsDAGbOnIm2bdti7969aNiwIZYvX47du3fj+PHjiI6OBgC88847GDx4MCZPnoxq1arhq6++wpUrVzBnzhz4+PigSZMm2LdvH6ZOnYqxY8dCUfgikN7AqlrxwbEPpIeha2wgjw3ksYE8NpDHBvLYQB4byOL8yzMajWjZsqX0MHSN+4F3KfOZeHFxcW7/4uPjMWzYMLz99tv44IOyh3/iiSfQo0cP7SCcy+HDh5Geno6uXbtqH/Px8UGHDh2wYcMGAMC2bdtgs9nc1omOjkaTJk20dTZu3IjAwEDtAB4AtGnTBoGBgW7rNGnSRDuABwDdunVDXl4etm3bpq3ToUMH+Pj4uK2TlpaGI0eOFLl9eXl5yM7OdvsHQPtLg9PpLHTZ4XCUatl12vHVy3a7vcCyqqoFlgEUWHadwXj1stPpLNVyYduhqiqMRiOA/CP8RuQvmxWzdrpuUcsWxeK27Hq3HIti0ea3sGUFirZsgMFt2UfxQV2/ujDBpL1wpwEGbdkIo/YXiKuXTYrJbdm1HR7bJoul3Dqpqqq9ZXuFblMRnXwVX9T1qwsjjEV2KqxNuXcym8t1fzKbBbapiE6+ii/q+dVzm/eimhW3P3msk2LU5qk8f+5ZLBW4TSV08lF8cIvfLdptl+fPvVJtk8FUoEF5PD5ZLBW4TSV0sigWrUFleHwyG8xag+t9zC2uk6uB2VCB21RCJzPMqF+lPgwwVIrHJ4vBojUoj+dGrgYVuk0ldDLBhAZVGsDw1/+kH58sBov2h/HyeA7ramBUhJ7vFdLGAAMaVmkIAwyV4vHJbDDDYMhfLo/fNVz7hNjzvWs6mWBCXb+68FV8K83jk0kxab8/3Sy/Exb3+ORwOHDhwgXY7fabZptK6uR0OrX9rEKf7xVx37MoFtT1qwuLYqk0j08Gg8FtviQ6Sdz3SsNjFz03aNAAW7duLdPXLFiwANu3b8drr71W4HPp6ekAgIiICLePR0REaJ9LT0+HxWJBcHBwseuEh4cXuP3w8HC3da79PsHBwbBYLMWu4/pv1zqFee2117TX4gsMDERMTAwAaAf+jh8/juPHjwPIP3CZlpYGADh48CBOnz4NANi3bx8yMjIAAKmpqcjMzAQApKSkICsrCwCwY8cOXLx4EUD+2ZK5ubkAgMTERFitVjgcDiQmJsLhcMBqtSIxMREAkJubq51defHiRezYsQMAkJWVhZSUFAD5rymYmpoKAMjIyMC+ffsAAKdPn8bBgwcBAGlpaTh8+HCBbbp48SLat28PAOhdvTfiA+MBAP0i+qFZQP7l0wOiBqChf0MAwNAaQxHrFwsAGBkzElE+UQCA0bVGI9QcCgAYHzseAcYAWBQLxseOh0WxIMAYgPGx4wEAoeZQjK41GgAQ5ROFkTEjAQCxfrEYWmMoEkIT0KhqIwyIGgAAaBbQDP0i+gEA4gPj0bt6bwBA+6D26BbaDQDQMbgjOgZ3BAB0C+2G9kEe3qbx47Wd19OdcnNz0bu3wDYV0emZ2GeQEJqAcEt4sZ0AoKF/w4rrNHQobDYbAM/vTzabDUOHCmxTEZ1G1R6FntV7wqgYb3h/8sg2ReVvU05OTrn93HM6nRg/vgK3qRSd+kX0g1ExVsjPvRK3KTZ/my5fvlzoz3JPPT6NHj0aob4VtE0ldOoe1h0PRz8Mo2KsHI9PjfK3yWq1XvdjbnGd8vLy8repQcU+5hbX6fbA2/FYjcdgVIyV4vFpfIv8bXI4HOXy3OjSpUv521SrArephE51q9TFEzFPwKgYK8Xj0+i40QgNzd+m8ngO6/pjeny40PO9QjoFmYIwLnYcjIqxcjw+NRiAhg3zt6k8ftdwPU7EVhN6vndNpxq+NZAQmoBRtUdV3GNuSdtUq5v2+9PN8jthcY9PZ8+exdGjR2+qbSqpU2ZmJqKiBJ7vFXHf6xTSCQmhCege1r3SPD7FxsZqcyfVqSLvewcOHEBpKWoZX0HS9eDnoqoqTp06hUmTJmHPnj1ITk4u1e0cP34c8fHxWL58OeLi4gAAHTt2RPPmzfHee+9hw4YNaN++PdLS0rQ7OAAMGzYMx48fx7JlyzB//nwMGTJEe2LqkpCQgHr16mHGjBmYMmUK5s6di71797qtU79+fTz66KN4/vnnMXz4cBw9ehS//vqr2zoWiwXz5s3Dgw8+iK5du6JOnTr45JNPtM+fPHkSNWvWxMaNG9GmTZtCtzMvL89tfNnZ2YiJiUFmZiaCgoL+99cog8Ft2eFwQFGUEpcNBgMURXFbttvtMBqNbstA/pPSq5dNJpN2NNi17HQ6YTQa3ZZdf7ksabmw7di2bRtat24Nx6MOmGr89f3ggFkxw6E64ISzyGWLYoFdtWvLNtUGFSosigVWNf9NRwpbVqDArJhhVa3aGRauZaNihE21FblsxF/zptrdll1/qXAtu7bj6uXr3qY0FZY5FmzYsAEtW7b0eKdt27ahTZs2sA+1wxhdQdvkbZ3SnDDPNmPjxo1o1aqVx/enbdu2oW3btrANscEQXYnue5WlU5oKxyf5D4ItWrQol59727dvR7t27WAdbIUSXYnue5WlU7oC+wy7WwNPPz4lJSXl7weDbVCjK8l9rzJ1SjfCNsOGxMRENG/e/Loec4vrlJycjPj4eJhHmuGIrET3vcrUKd0C64z8J+FxcXEef26UlJSE+Ph4mEaYoEZVovteZeqUboHtk/z9oFmzZh5/DutqYBxhhBJdie57lalTuhmOTx3YunUr4uLiPP67xrZt23D77bfDMNwAY41KdN+rTJ1OmaDOUrFlyxbExcXdFL8T3oy/597INiUmJqJ169ZwPuaEpUYluu9Vlv3ppBWGWQZs2bIFrVq10sV9LysrCyEhIcjKykK1atVQnDK/Jl5QUFCB139TVRUxMTFYsGBBqW9n27ZtOHPmDFq1aqV9zOFwYN26dZg+fbp20C09Pd3tIN6ZM2e0M+AiIyNhtVqRmZnpdjbemTNn0K5dO20d19HWq509e9btdjZv3uz2+czMTNhsNrd1rj3j7syZMwAKni14NR8fH7dLcF1cp8+6/v/aZdcd4XqWXZdOlmZZURS3ZdftXL1c1BhLs+y68wP5PxhcbKqtxGXXDl7WZRWqtuyE020ZKtDIvxH2XtqrfS8nnHCqf50+Cwfw12Htq5evHntRyze0TVYrFEVx6wF4ppPrB02Fb1MRy3bVrjUoqpOrR1HL5dLJZtN+tpXH/uQ6y69Ct6mITnbVjlv9b3VrcO06pdmfPNbpr4+7HjwBz//cUxRFe8fxCtmmQpav7uFQHWjo39DtZxFQPj/3SrVNf72W9NUNyuPx6ep3fZe+7zlVp9agMjw+uZ5keurx99oGrp9vNmcFblMJnVSoaFClAfZe2lspHp+szvzl8npupF0mWpHbVEInALilyi3Ye2lvpXh8sjqt2u2Xx3NYVwOHKvR8r5BlAwyoV6We1kD68cnmtGmPCeXxu4aridjzvWs6GWDQnpeqf30D6ccnu2oH/rqy7mb5nbC4xyen04lz584hODi4xOeB3rJNJS1ffXCpQp/vFXHfu3o/cP71A0D68cnpdGo/s6U6VeR97+rvVZIyX07722+/YfXq1dq/NWvWYPfu3Th48CDatm1b6tvp3Lkzdu7cieTkZO1ffHw8BgwYgOTkZNStWxeRkZFYsWKF9jVWqxVr167VDtC1atUKZrPZbZ1Tp04hJSVFW6dt27bIysrCli1btHU2b96MrKwst3VSUlJw6tQpbZ3ly5fDx8dHO8jYtm1brFu3zu0XkOXLlyM6OhqxsbFlmEGSZFSMaB3YWnsNLqp4bCCPDeSxgTw2kMcG8thAHhvI4vzLc13ZV8YLBMmDuB94lzKfidehQwePfOOAgAA0adLE7WP+/v4IDQ3VPj5mzBhMmTIF9evXR/369TFlyhRUqVIF/fv3BwAEBgbi0Ucfxbhx4xAaGoqQkBA888wzaNq0qfZGGY0aNUL37t0xbNgw7VLY4cOHo2fPntrrPXTt2hW33XYbBg4ciLfeegvnz5/HM888g2HDhmmnMvbv3x8vv/wyBg8ejBdeeAH79+/HlClTMHHiRL4zrRexqTbMSZsjPQxdYwN5bCCPDeSxgTw2kMcG8thAFudfntFoLHBcgCoW9wPvcl1vbHHw4EE89dRT6NKlCxISEjBq1CjtBQU96dlnn8WYMWPw+OOPIz4+HidPnsTy5csREBCgrfPuu++iT58+eOCBB9C+fXtUqVIFP/30k9vpiF999RWaNm2Krl27omvXrmjWrBm++OIL7fNGoxFLly6Fr68v2rdvjwceeAB9+vTB22+/ra0TGBiIFStW4MSJE4iPj8fjjz+OsWPHYuzYsR7fbio/BhjQPKC59s45VPHYQB4byGMDeWwgjw3ksYE8NpDF+ZfndDpx5swZ7fJSqnjcD7xLmc/E+/XXX9G7d280b94c7du3h6qq2LBhAxo3boyffvoJCQkJ1z2YNWvWuP23oiiYNGkSJk2aVOTX+Pr6Ytq0aZg2bVqR64SEhODLL78s9nvXqlULS5YsKXadpk2bYt26dcWuQ5WbUTGikX8j7Lq4S3t9AKpYbCCPDeSxgTw2kMcG8thAHhvI4vzLU1UV586d096Zmioe9wPvUuaDeM8//zyefvppvP766wU+/txzz93QQTyi8mZTbfg6/WvpYegaG8hjA3lsII8N5LGBPDaQxwayOP/yjEYjGjVqJD0MXeN+4F3KfL5kamoqHn300QIfHzp0KHbv3u2RQRGVFyP+etFO8EU7pbCBPDaQxwby2EAeG8hjA3lsIIvzL8/pdOLUqVO8nFYQ9wPvUuaDeNWrV0dycnKBjycnJyM8PNwTYyIqN4qioIZPDb4ZiSA2kMcG8thAHhvIYwN5bCCPDWRx/uWpqoqcnBy+O60g7gfepcyX0w4bNgzDhw/HoUOH0K5dOyiKgvXr1+ONN97AuHHjymOMRB5jV+34/sz30sPQNTaQxwby2EAeG8hjA3lsII8NZHH+5RmNRjRo0EB6GLrG/cC7lPlMvBdffBETJ07EtGnT0KFDB9x1112YPn06Jk2ahAkTJpTHGIk8xggj7gq6i6cKC2IDeWwgjw3ksYE8NpDHBvLYQBbnX57T6cSJEyd4Oa0g7gfepcxn4imKgqeffhpPP/00cnJyAAABAQEeHxhReVAUBQGmgPxThXnGtgg2kMcG8thAHhvIYwN5bCCPDWRx/iuHvLw86SHoGvcD71Lqg3i5ublYsWIFOnXqpB20c/1/dnY21qxZg27dusHHx6d8RkrkAXbVjqUZS6WHoWtsII8N5LGBPDaQxwby2EAeG8jS6/wfO3YMGRkZ0sNwU9jr7ksKCwtDrVq1pIdRIfS6H3irUh/E+/TTT/Hjjz+id+/eBT5XrVo1fPDBBzh+/DieeOIJjw6QyJNMigkdgztiTeYa2FW79HB0iQ3ksYE8NpDHBvLYQB4byGMDWXqc/2PHjqHhrQ1xJfeK9FAAACaTCR07dsSaNWtgt1eeBr5+vti7Z68uDuTpcT/wZqU+iPfVV1/hxRdfLPLzY8aMwSuvvMKDeERERERERESVUEZGRv4BvL4AwqRHA0ABUANAPVSeSzkzgCvfX0FGRoYuDuKRdyn1Qbz9+/cjLi6uyM83a9YM+/fv98igiMqLXbVj5fmV0sPQNTaQxwby2EAeG8hjA3lsII8NZOl6/sMAREsPArDDjpXOlUCU9Ej0S9f7gRcq9bvT2u12nD17tsjPnz17tlKd/kpUGJNiQo+wHjApZX5PF/IQNpDHBvLYQB4byGMDeWwgjw1kcf7lsYE8NvAupT6I17hxY6xcWfTR2RUrVqBx48YeGRRReVFVFTn2HKhqZTlXW3/YQB4byGMDeWwgjw3ksYE8NpDF+ZfHBvLYwLuU+iDe0KFD8Z///AdLliwp8LmffvoJr776KoYOHerRwRF5mgMOrLuwDg44pIeiW2wgjw3ksYE8NpDHBvLYQB4byOL8y2MDeWzgXUp9EG/48OHo06cPevfujdtuuw333nsv+vbti0aNGqFPnz7o1asXhg8fXp5jJbphJsWEvuF9eaqwIDaQxwby2EAeG8hjA3lsII8NZHH+5bGBPDbwLqU+iAcAX375JRYsWIAGDRpg37592LNnDxo2bIivv/4aX3/9dXmNkchjVFXFybyTPFVYEBvIYwN5bCCPDeSxgTw2kMcGsjj/8thAHht4lzIfan3ggQfwwAMPlMdYiMqdAw5sztosPQxdYwN5bCCPDeSxgTw2kMcG8thAFudfHhvIYwPvUqYz8Yi8nVkx46HIh2BWzNJD0S02kMcG8thAHhvIYwN5bCCPDWRx/uWxgTw28C48iEe64lAdSL2UCofKF+2Uwgby2EAeG8hjA3lsII8N5LGBLM6/PDaQxwbeha9cSLrihBPJOcnSw9A1NpDHBvLYQB4byGMDeWwgjw1kcf7lsYE8NvAuPBOPdMWsmDE4ejBPFRbEBvLYQB4byGMDeWwgjw3ksYEszr88NpDHBt7lhg/iZWdn44cffkBqaqonxkNUrhxq/ot28lRhOWwgjw3ksYE8NpDHBvLYQB4byOL8y2MDeWzgXcp8EO+BBx7A9OnTAQC5ubmIj4/HAw88gGbNmmHhwoUeHyCRJznhROqlVDjhlB6KbrGBPDaQxwby2EAeG8hjA3lsIIvzL48N5LGBdynzQbx169bhzjvvBAAsWrQIqqriwoUL+OCDD/Dqq696fIBEnmRWzBhRcwRPFRbEBvLYQB4byGMDeWwgjw3ksYEszr88NpDHBt6lzAfxsrKyEBISAgBYtmwZ7rvvPlSpUgU9evTA/v37PT5AIk9yqA6sOLeCpwoLYgN5bCCPDeSxgTw2kMcG8thAFudfHhvIYwPvUuaDeDExMdi4cSMuXbqEZcuWoWvXrgCAzMxM+Pr6enyARJ7khBOHcg/xVGFBbCCPDeSxgTw2kMcG8thAHhvI4vzLYwN5bOBdynwQb8yYMRgwYABq1qyJ6OhodOzYEUD+ZbZNmzb19PiIPMqiWDCq1ihYFIv0UHSLDeSxgTw2kMcG8thAHhvIYwNZnH95bCCPDbyLqaxf8Pjjj+OOO+7A8ePHkZCQAIMh/zhg3bp1+Zp4VOnZVTsWnl4Iu2qXHopusYE8NpDHBvLYQB4byGMDeWwgi/Mvjw3ksYF3KfNBPACIj49HfHw8AMDhcGDnzp1o164dgoODPTo4Ik9zwomTeSelh6FrbCCPDeSxgTw2kMcG8thAHhvI4vzLYwN5bOBdruty2s8++wxA/gG8Dh06oGXLloiJicGaNWs8PT4ij7IoFoyvPZ6nCgtiA3lsII8N5LGBPDaQxwby2EAW518eG8hjA+9S5oN43333HeLi4gAAP/30Ew4fPow9e/ZgzJgxmDBhgscHSORJNtWG2WmzYVNt0kPRLTaQxwby2EAeG8hjA3lsII8NZHH+5bGBPDbwLmU+iJeRkYHIyEgAwM8//4z7778fDRo0wKOPPoqdO3d6fIBEnqRCRYYtAypU6aHoFhvIYwN5bCCPDeSxgTw2kMcGsjj/8thAHht4lzIfxIuIiMDu3bvhcDiwbNkydOnSBQBw+fJlGI1Gjw+QyJMsigUT6kzgqcKC2EAeG8hjA3lsII8N5LGBPDaQxfmXxwby2MC7lPmNLYYMGYIHHngAUVFRUBQFCQkJAIDNmzfj1ltv9fgAiTzJqlrxwbEPYFWt0kPRLTaQxwby2EAeG8hjA3lsII8NZHH+5bGBPDbwLmU+iDdp0iQ0adIEx48fx/333w8fHx8AgNFoxPPPP+/xARJ5Wp4zT3oIuscG8thAHhvIYwN5bCCPDeSxgSzOvzw2kMcG3qPMl9MCQL9+/fD0008jLCxM+9igQYNwzz33eGxgROXBolgwPpbvvCOJDeSxgTw2kMcG8thAHhvIYwNZnH95bCCPDbxLmQ/iORwO/Oc//0GNGjVQtWpVHDp0CADw4osv4rPPPvP4AIk8yapa8daRt3iqsCA2kMcG8thAHhvIYwN5bCCPDWRx/uWxgTw28C5lPog3efJkzJkzB2+++SYslv8dqW3atClmzZrl0cERlQcfg4/0EHSPDeSxgTw2kMcG8thAHhvIYwNZnH95bCCPDbxHmQ/izZs3D59++ikGDBjg9m60zZo1w549ezw6OCJPsygWjKo1iqcKC2IDeWwgjw3ksYE8NpDHBvLYQBbnXx4byGMD71LmN7Y4efIkbrnllgIfdzqdsNlsHhkUUXmxqlZMPjxZehi6xgby2EAeG8hjA3lsII8N5LGBLM6/PDaQxwbepcxn4jVu3Bi///57gY9/++23aNGihUcGRVReFCgIM4dBgSI9FN1iA3lsII8N5LGBPDaQxwby2EAW518eG8hjA+9S5oN4L730Ep588km88cYbcDqd+P777zFs2DBMmTIFEydOLI8xEnmMWTFjSPQQmBWz9FB0iw3ksYE8NpDHBvLYQB4byGMDWZx/eWwgjw28S5kP4vXq1Qv//e9/8fPPP0NRFEycOBGpqan46aefkJCQUB5jJPIYq2rFW0f5zjuS2EAeG8hjA3lsII8N5LGBPDaQxfmXxwby2MC7lPkgHgB069YNa9euxcWLF3H58mWsX78eXbt29fTYiDzOAANq+NSA4fru+uQBbCCPDeSxgTw2kMcG8thAHhvI4vzLYwN5bOBdrruS1WrFiRMncOzYMbd/RDcqOiAaX9z7BTLGZ+DSC5eQNCIJLaNaAgBMBhNe7/I6/hz5Jy7++yJOjj2JuX3mIqpqlNttDGs5DL8N+g1Zz2dBfUlFoE9g/tcrJtwXcR9MigmHRx+G+pLq9u+1zq+53c61n1dfUjGi1Qjt8w1CG2D1I6uRPi4duRNycXDUQfyn039gMpT5PWN04+oGJIMN5LGBPDaQxwby2EAeG8ji/MtjA3ls4F3KXGn//v0YOnQoNmzY4PZxVVWhKAocDofHBkf6E+QbhD+G/oHfDv+Gf3z1D5y5dAb1QurhwpULAIAq5ipoGdkS/1n3H+w4vQPBvsF4r/t7+PGhH3H7zNu126liroJlB5Zh2YFleL3L69rHraoVHxz7QPvvF397ETO3zdT++6L1YoExDf5hMJYdWKb9d1ZelrZsc9gw78952H5qOy5cuYC4iDjM7DUTBsWACasneGRObjbXNqCKxwby2EAeG8hjA3lsII8NZHH+5bGBPDbwLmU+iDd48GCYTCYsWbIEUVFRUBS+gwl5znPtn8PxrOMY+uNQ7WNHs45qy9l52ej6pful20/98hS2DtuKmGoxOJ59HADw/ub3AQAdandwW9cAA2L9YnEk9wgAICcvB6cvnS52TBeuXChyncMXDuNw8mHtv49lHcNXO7/CnbXuLGFL9evqBk44pYejS2wgjw3ksYE8NpDHBvLYQBbnXx4byGMD71Lmy2mTk5PxySef4B//+AeaN2+OuLg4t39EN6J3w95IPJWIb/p9g9PPnMb24dvxWMvHiv2aQJ9AOFWndrZecYyKEQmhCTAqRgD5Bw0zxmcgaUQSXrjzBZgNBd+RZ/rd03F2/FlseWwLRrQaUexbb9cLrofut3TH2qNrSxyLXl3bgCoeG8hjA3lsII8N5LGBPDaQxfmXxwby2MC7lPlMvNtuuw0ZGRnlMRYi1A2ui3/F/wtTN07FlPVTcEeNO/BB9w+QZ8/DF39+UWB9H6MPXu/yOubvnI8ca06Jt29TbfjkxCcA8s/W235qOzJzM3FHjTvwWufXUCeoDob9NExb//9W/x9WHV6FXFsuOtftjHe6voOwKmGY/Ptkt9v9Y+gfaBnVEr4mX3yy7RNM/G3iDc7EzevqBiSDDeSxgTw2kMcG8thAHhvI4vzLYwN5bOBdynwm3htvvIFnn30Wa9aswblz55Cdne32j+hGGBQDtp/ajgmrJyA5PRmfbvsUM7fPxL/i/1VgXZPBhAX9FsCgGPD40sdLd/swoJF/IxhgwHub3sO6o+uw88xOfJb0GUYuHYnHWj6GEL8Qbf3Jv0/GphObsOP0DkzdOBUT10zE+HbjC9zuP7/7J1p+0hIPLXwIPer3wDPtnrn+SbjJXd2AZLCBPDaQxwby2EAeG8hjA1mcf3lsII8NvEuZK3Xp0gWbNm1C586dER4ejuDgYAQHByMoKAjBwcHlMUbSkVM5p7D77G63j6VmpKJWYC23j5kMJnzT7xvUCaqDhC8SSnUWHpB/qnDrwNaFniq86cQmAMAtIbcU+fWbTmxCoG8gwv3D3T5+IvsEUjNSsSBlAZ5f+TwmdZwEg8IfgoUprgFVDDaQxwby2EAeG8hjA3lsIIvzL48N5LGBdynz5bS//fZbeYyDCADwx/E/0DC0odvHGoQ2cHtzC9cBvPqh9dFpbieczz1f6tu3qTbMSZtT6OdaRLYAkH8gsSgtIlsg15Zb7OvvKYoCs8Fc7Gvn6VlxDahisIE8NpDHBvLYQB4byGMDWZx/eWwgjw28S5kP4nXo0KHklYiu07ub3sWGoRvw77/9G9/s+gZ31LgDw1sOx/AlwwHk/5Xgu/u/Q8uoluj5dU8YFSMi/CMAAOdzz8PmtAEAIvwjEFk1UjurrmlEU+Tk5eBE1gnEmGNQJbAK7qh5B347/Buy8rJwe/TteLfbu1i8Z7H2Drc9G/REZNVIbDy+Ebn2XHSK7YTJf5+MT7d/CqvDCgDo37Q/bA4bdp7ZiTx7HlpFt8JrnV/Df3f9Fw7VUdHT5xUMMKBZQDP8mfMn3/1ICBvIYwN5bCCPDeSxgTw2kMX5l8cG8tjAu5T5IN6yZctQtWpV/O1vfwMAfPjhh5g5cyZuu+02fPjhh7yklm5IYloi7v3vvXit82uY2GEiDmcexphfx2D+zvkAgJrVauKeW+8BAOwYucPtazvO6ai9K+zI+JGY1HGS9rnfh/wOAHh08aPITc/FAccB/LPxP/FSh5fgY/TB0ayjmLl9Jt78403ta2wOGx6PfxxTu06FQTHgUOYhTFwzER9u+VBbx+6047n2z6FBaAMoioKjF47iw60f4t2N75bL/NwMjIoRjfwbYdfFXXCqfJCQwAby2EAeG8hjA3lsII8NZHH+5bGBPDbwLmU+iDd+/Hi88cYbAICdO3di7NixGDduHFavXo2xY8di9uzZHh8k6cvS/UuxdP/SQj93NOsolJdLvkz15bUv4+W1Lxe7TtvP2hb7+V8P/opfD/5a7Drf7PoG3+z6psTx0P/YVBu+Tv9aehi6xgby2EAeG8hjA3lsII8NZHH+5bGBPDbwLmV+5f3Dhw/jtttuAwAsXLgQvXr1wpQpU/DRRx/hl19+8fgAiTzJiL9etBN80c6ivNThJagvqW7/To373+sEhvuHY/Y9s3Fy7ElceuESfhnwS4E3A7EYLfjgHx/g7PizuPjvi1j84GLUCKgB4H8NfnzwRxwdcxS5E3KRNjYN8/rMQ1TVqALjGRQ3CDtG7kDuhFycGncK0/4xrdBx1wuuh+zns5H5XKYHZ+PmxP1AHhvIYwN5bCCPDeSxgSzOvzw2kMcG3qXMB/EsFgsuX74MAFi5ciW6du0KAAgJCUF2drZnR0fkYYqioIZPDSgK33SiOClnUhD5dqT2r+nHTbXP/fDPH1A3uC7uWXAPWnzSAkezjmLlwJWoYq6irfNe9/dw76334sHvHsTfZv8NVS1VsaT/EhgUg9Zg7ZG1eODbB9BwekPc9819qBdSD9898J3bOJ5u8zQm/30yXl//Ohp/1Bid53Uu9OxIk8GEr+/7Gr8f+738JuUmwv1AHhvIYwN5bCCPDeSxgSzOvzw2kMcG3qXMl9P+7W9/w9ixY9G+fXts2bIF//3vfwEA+/btQ82aNT0+QCJPsqt2fH/me+lhVHp2px2nL50u8PH6IfXRNqYtGn/UGLvP7gYAPL70cZx55gweavIQPkv6DNV8quHRFo9i4KKBWHV4FQDg4e8fxvGnj6NL3S5YfnB5foMz/7vdY1nH8Pr61/HDgz/AZDDB7rQjyDcIr/79VfT6uhdWH16trev6vld79e+vYk/GHqw6vArtYtp5eDZuPtwP5LGBPDaQxwby2EAeG8ji/MtjA3ls4F3KfCbe9OnTYTKZ8N133+Hjjz9GjRr5l8j98ssv6N69u8cHSORJRhhxV9BdPFW4BPVD6uPk2JM4NOoQvr7va9QJqgMA8DH5AACu2K9o6zpVJ6wOK/5WK//NblpFtYLFaMHyg8u1dU5dPIWUMyloF9Ou0AbBvsEY0HQANhzfALvTDgBIqJsAg2JAjYAa2P34bhx/+jj+2++/qFnN/Y8FnWI74f7b7scTPz9RPpNxE+J+II8N5LGBPDaQxwby2EAW518eG5SspJc78jf7Y9o/puH408dx+YXL2P34boyMH6l9Ptg3GB/84wPseWIPLr1wCUfHHMX73d9HNZ9qAAo2sBgtSBqRBPUlFXERcQXGU9zLHXWo3QE//PMHpI1Nw8V/X0TSiCT0b9q/vKZGl8p8Jl6tWrWwZMmSAh9/912+GydVfoqiIMAUkH+qsCo9mspp88nNeOSHR7Dv3D5E+Efg/+76P2x4dAMaf9QYezL24MiFI3it82sYsWQELlkvYWzbsYgKiNJezy6yaiTy7Hm4cOWC2+2evnQakVUj3Rq83vl1PHn7k/C3+GPj8Y3o+XVPbf26wXVhUAx44c4XMHrZaGRdycKrf38VKwauQLOPm8HmtCHELwRz+szBw98/jBxrTkVOk1fjfiCPDeSxgTw2kMcG8tigeC91eAmTOk5y+1j6xXREvZP/vNPf7I/Xu7yOPrf2QahfKI5cOIIPtnyAGYkztPUtRgve7vo2HmryEPxMflh1eBUeX/o4TuacLDD/FqMFmx/bjOaRzdF8RnPsOL3D7XsPihuEsW3HokFoA1y4cgHf7f4OT/3ylNs649qOw/BWw1E7sDbOXDqDjxM/xmvrXyufCboJcB8onZQzKegyr4v23w7VoS2/2/1ddIrthIe/fxhHLhxB13pd8VGPj5CWk4Yf9/6I6IBoRFeNxjMrnsHus7tRO7A2ZvScgeiAaNz/7f0FGryZ8CbSctLQPLJ5gXE83eZpjGs7DuNXjMfmk5vha/JF3eC62ufbxbTDn2f+xBt/vIHTl06jR/0emNdnHrLzsrFkX8HjSFR2ZT4Tb/v27di5c6f234sXL0afPn3wwgsvwGq1lum2Pv74YzRr1gzVqlVDtWrV0LZtW7c3x1BVFZMmTUJ0dDT8/PzQsWNH7Nq1y+028vLy8NRTTyEsLAz+/v7o3bs3Tpw44bZOZmYmBg4ciMDAQAQGBmLgwIG4cOGC2zrHjh1Dr1694O/vj7CwMIwaNarA9uzcuRMdOnSAn58fatSogVdeeQWqyp803sSu2rE0Yynsql16KJXWsgPL8H3q90g5k4JVh1ehx/weAPKftNiddtz3zX1oENoAmc9l4vKEy+gY2xE/7//Z7YGkMAoUqKrq1uCtP95Ci09aIOGLBDhUB+b1maetb1AMsBgtGPXLKCw/uBybT27GQwsfQv2Q+uhUpxMAYGavmZi/c/5N91p4Jf217drPuf490+4Zt9tpU7MNVj2yChf/fRGZz2Xit0G/wdfkW2A/KO6vbYV9nxGtRrit0yS8CdYMWoPLL1zGiadP4MW7Xiynmbl58GeRPDaQxwby2EAeG5SsuNdqfrf7u+h+S3c8/P3DaPRhI7y76V1M+8c09G7YW1unuNdqvnb+XQcvClOa12p+v/v7eKzlY3hm+TO49cNb0evrXthycks5zMrNg/tA6bhe7sj1L+Nyhva5tjXbYu6OuVh7dC2OZh3FzO0zsSN9B+Kj4wEAu87uQr9v+2HJviU4lHkIvx35DRNWT0CvBr1gVIxuDbrf0h1d63bFM8ufKTAG18sdPfLDI/g65WscyjyE3Wd3ux2ce239a5j420RsPLERhzIPYdqWaVh2YBnuvfXe8p8knSjzQbwRI0Zg3759AIBDhw7hwQcfRJUqVfDtt9/i2WefLdNt1axZE6+//joSExORmJiIv//977jnnnu0A3Vvvvkmpk6diunTp2Pr1q2IjIxEQkICcnL+d8bNmDFjsGjRIixYsADr16/HxYsX0bNnTzgc/zug0L9/fyQnJ2PZsmVYtmwZkpOTMXDgQO3zDocDPXr0wKVLl7B+/XosWLAACxcuxLhx47R1srOzkZCQgOjoaGzduhXTpk3D22+/jalTp5Z1CkmQSTGhS0gXmJQyn4SqW5dtl7Hz9E7UD60PANh+ajtafNICga8HIuqdKPzjq38g1C8Uhy8cBpD/11Efkw+CfIPcbifcPxynL512a3Au9xz2n9+PlYdW4sHvHkSPBj3QpmYbAPmX4ALur4GXcTkDGZczUCuwFgDg73X+jmfaPQPbizbYXrThs96fIcg3CLYXbRjSfEh5T025Ku4J69Ufj3w7EkMWD4FTdWLh7oXaOm1qtsGyAcuw/OBy3DHrDtw+83ZM3zIdTtVZYD8o7gkrAAz+YbDb95u7Y672uQBLAFYMXIG0nDTcPvN2PPXLU3im3TMY23ZsOczKzYM/i+SxgTw2kMcG8tigZDdy8ML1Ws3jlo/DqsOrkJyejIe/fxhNw5uiS90ubvN/owcvbg27Ff+K/xfuWXAPftr3E45cOIIdp3dorxFNheM+UDpFvdwRAKw/th69G/RGdEA0AKBjbEc0CG2AXw8UfENAl0CfQGTnZcOhOrQG0VWjMbPXTAxcNBCXbZcLfE1pX+6owPfyDcT53PPXueV0rTIfxNu3bx+aN28OAPj2229x1113Yf78+ZgzZw4WLlxY/Bdfo1evXrj77rvRoEEDNGjQAJMnT0bVqlWxadMmqKqK9957DxMmTEDfvn3RpEkTzJ07F5cvX8b8+fMBAFlZWfjss8/wzjvvoEuXLmjRogW+/PJL7Ny5EytXrgQApKamYtmyZZg1axbatm2Ltm3bYubMmViyZAn27t0LAFi+fDl2796NL7/8Ei1atECXLl3wzjvvYObMmdo77n711Ve4cuUK5syZgyZNmqBv37544YUXMHXqVJ6NRzc1i9GCRtUb4VTOKbePZ+dlI+NyBm4JuQXx0fFYvGcxAGDbqW2wOqxIqJugrRtZNRJNwptgw/ENRX4f17sh+RjzX3fvj2N/AAAahjXU1gn2DUZYlTAcvXAUAND2s7ZoPqO59m/imonIzstG8xnNsWjPIg9svZzinrBe/fHTl07jnob34LfDv2kHUgHg3W7v4oMtH+CNP97A7rO7ceD8ASxMXQirw/0M4+KesLpcuHLB7ftd/ZqIA5oNgK/JF4MXD8aus7uwaM8iTPl9Csa24UE8IiIiunE3cvCipNdqdgn3D7/hgxe9GvTCocxD6NmgJw6NOoTDow9jZq+ZCPYN9vickL64Xu6o25fdMOynYYisGokNj25AiF8IAGDUL6Ow++xunBx7Etb/s2LZgGV4/OfH8cfxPwq9vRC/ELx414v4ZNsnbh//7J7PMCNxBrad2lbo1139ckdjfh2Dft/0Q4hfCFYMXAGzwVzo19zX6D7cHn07ZifPvoEZoKuV+SCeqqpwOp0AgJUrV+Luu+8GAMTExCAjI6O4Ly2Ww+HAggULcOnSJbRt2xaHDx9Geno6unbtqq3j4+ODDh06YMOG/AMB27Ztg81mc1snOjoaTZo00dbZuHEjAgMD0bp1a22dNm3aIDAw0G2dJk2aIDo6WlunW7duyMvLw7Zt27R1OnToAB8fH7d10tLScOTIkevebqpYdtWOledX8nTtYryV8Bbuqn0XYoNicUeNO/Dd/d+hmk817eyrfrf1Q4faHVAnqA56N+yNFQNX4Ic9P2DFoRUA8g/ufZb0Gd7p+g7+XufvaB7ZHF/e+yV2ntmJlYfy5z7LNwsj4kcgLiIOtQJroWNsR8zvOx8Hzh/AxhMbAQD7z+/HD3t+wPvd30fbmm3RuHpjzO0zF3sy9uC3I78BAPZk7MGus7u0fyezT8KpOrHr7K4Cr8nnbYp7wnq1cP9w9KjfA58lfaZ9rHqV6mhTsw3OXDqDP4b+gfRx6VgzaA3ax7QH8L/9IKRKSLFPWF2m3z0dZ8efxZbHtmBEqxFQ8L+3n29bsy3WHlnrdnDw14O/oka1GogNir3BWbh58WeRPDaQxwby2KB4Jb28BZB/9tXiBxfjwnMXkP18NjY+uhEx1WIAALUDaxf5Ehj9busHAGhfqz1WPLUCtom2Auu4ziYD8i8JTRyWiCsTriBpRFKBsRb1vbrV61aOM1T+bvTgRUmv1ezaB2b1nnXDBy/qBtdF7aDauP+2+/HID49g8A+D0SqqFb574Lvym6CbAH8Olay4lzsCgFGtR6FNzTbo9XUvtPq0FcYtH4eP7v4Inet0LnBbAZYALO2/FLvP7sbLa18GkN+g0S2NEGAJKPb1G0vzckdX61C7A+b0mYNhPw1zu7qKbkyZz1mNj4/Hq6++ii5dumDt2rX4+OOPAQCHDx9GREREmQewc+dOtG3bFleuXEHVqlWxaNEi3HbbbdoBtmtvMyIiAkeP5p+Fk56eDovFguDg4ALrpKena+uEh4cX+L7h4eFu61z7fYKDg2GxWNzWiY2NLfB9XJ+rU6fwX7Dz8vKQl5en/bfrzD7XgVDX/xsMBrdlh8MBRVFKXDYYDFAUxW3ZbrfDaDS6LQP5B0qvXjaZTFBV1W3Z6XTCaDS6LTudTqiqWuJyYdvh+rwD+afpqqoKBxwwK2Y4VAeccBa5bFEssKt2bdmm2qBChUWxwKrmHzAobFmBArNihlW1wgADTIpJW/Yx+ODvIX/HinMroEKFTbXBAAOMihE21QYj/po31e627Dq927Xs2g6PbZPFAlVVtR6e7KSqKkwmE+wo3TbFVIvB1/d9jbAqYTh76Sw2n9iMNrPa4FT2KRhgQFTVKEztOhURVSNwKucUvvrzK7yy9hWtgU214ellT0N1qvim3zfwM/vht8O/odfXveBUnahiqILbq96O+xrdh5c7vgx/iz9O5ZzCioMr8ODCB2F32GFWzLCpNgxeNBjvdn8XS/svhVN14vejv6P7V92hOlWYFFOBTkblf+9qVeZOZrN2Vm157E9msxk2uN/firrvJZ5MxJAfhiD1XCqiq0bjhTtfwIZHNyDu4zicu3zObZsGxQ1CjjUHP6T+AAAwK2bcEnwLAGBSh0l4dsWz2J6+HUPihmDVI6vQ5OMmSLuQhk4hnfBktycxc9tMbDu1DbUDa7v97HLtTy+ufhFrj6xFtjUbXep2wTtd30FYlTC89vtrMCpGRFaNxNELR7VmBhhw/lL+6fI1qtbAiawTJe9PSn4b15yVx889Vc3fz6wo/meEUTHihbteKPJFtF3bcUvoLXizy5u4q/ZdMCgG7D67Gw999xAOZx0ucN/76aGf0L1+d/T7bz8s2rMITjjRtU5X/PpI4Zc4tJ7ZGlvStsCiWBAZEInpd0/H3+v8Hbn2XMzfOR8vrHgBlxyXtE4d63bEyx1fRuPqjXHFfgW/H/0d/175b+zL3Ffk/a3Afc+gwA67WwNPPz4BgMVigQ03/rO8VNtUws9yX4MvuoR0wbJzywBA/PHJaDDmz81VjwNlfcwtrpPr55vZYIYDFbRNJXTyUXzQNbQrfjn3C1RVrbjH3KK2yZD/M0JVVdjtdo8/N3I1MCkmqKigbSqhk0WxoHtod/x87mc4Ved1708e62SwwKbY8m+3nJ7DAoBRKd02GWBAypkUdP+iu7ZNhr/+54QTDUMaYv2Q9fgs6TO8uvZVnM89j4bVG8LpcMIAA45nH0etd2q5dRrccjCebf8sVh3Iv8Ryy4ktGDR7EFadXwWHmj9nL3Z6EV3qdMGfp/7Mvw/BACOM+Dz5c7Sp0QbNIpr97+NXdQKAzvM6Y8+ZPdo2ZV/J1p4zlaqTwQyHwaHNdXn8rnHt2Iv7Wb7y4Eqt0x5lDzae2IiDow5iaPOheHvj2xjTZox28OJk1kn8rdbf8NHdH+HsxbPaH5hd3+/q+54CBQbVAItiwQedPkCQbxBeX/+6tt+4uPahqw9erDy0EmbFjIcWPoT0cenoWrcrlh5YCqNihK/JF48segQHzx+EUTHi0R8fxfYR29E4rDF2Zewq/f5k/N9zUk//TuhqUJGPucXd9xQoSAhNwOrzq5HnzKsUj09GxQjFpLjNlyefG2nPta5zmy7bLiPldApuDb0VviZfTOk8Bfd/cz+W7FsCAwzYc3YPmkc2x/h247HuyDqtU4BPAJYOWIpL1ku4/5v7YXfmtzEpJjzU8CHcUfMO5P3f/45dAEDi8ER8vfNrDP5hsPZyR3vO7gGQ/3vH+cvnkXE5A3UD62r7mUWxoG2ttvjpoZ/w7PJn8cWfX5StE6zasQRXg+s9HuEtx1iufjm4kpT5TLz33nsP27dvx5NPPokJEybgllvyf1n87rvv0K5duxK+uqCGDRsiOTkZmzZtwr/+9S8MGjQIu3f/7yit6xI7F9eTvOJcu05h63tiHdedqrjxvPbaa9obagQGBiImJv8vc66z944fP47jx48DyD8QmpaW/7pUBw8exOnTpwHkX8LsOssxNTUVmZmZAICUlBRkZWUBAHbs2IGLFy8CAJKSkpCbmwsASExMhNVqhcPhQGJiIhwOB6xWKxITEwEAubm5SErK/2vexYsXsWNH/jswZWVlISUlBUD+G4OkpqYCADIyMrTXRDx9+jQOHjwIAEhLS8Phw4cLbNPFixfRvn3+2T+9q/dGfGD+XxT7RfRDs4D8JyADogagoX/+JZNDawxFrF8sAGBkzEhE+eS/89ToWqMRag4FAIyPHY8AYwAsigXjY8fDolgQYAzA+NjxAIBQcyhG1xoNAIjyicLImPy31471i8Wg6EHIseegfpX6GBA1AADQLKAZ+kXk/zU0PjAevavnvxBu+6D26Baa/9fLjsEd0TG4IwCgW2g3tA/y8DaNH6/tvJ7ulJubi969S79N3/z+Dfp+1hc+r/pg/Nfj8Z9l/0FqRqq2TdO2TMPk7yaj0TuNEPt+LE4fPI0wc5jbNuU58pC2Jw11ptZB8GvB2LhpI87knEGAMQBja49FypkUPPT1Q3jjmzfgN9kPd35yJ3bt3IW0nDTE+sViaI2hAIBoczTWJa5DyJsh6DKjC75Z9w1OZJ8ostOxY8dw/8z7r6/T0KGw2fJ/cfD0/mSz2TB0aP42NfRvWOJ9LycjB5fPXkbKmRQ4Lzjx9i9vAwAmt51cYJuGthiKrQe3omGVhto2xVbJv79t2bcFa/auQXJ6Mg6mHsSh84cwtMVQPBnzJHo17YVqlmpwnnBq+xOQ/2B89f40Y9MMtDG0wY7TO7Bg+wKsSF6B8e3Gu3UKNAW6bVPP6j21bS3V/hSVv005OTnl9nPP6XRi/PiSf0a4tml/xn6M/nI0It+ORJcZXfDSwpe0TsPqDcP6IetxMeciXlz8IuJmxOHHpB/RqmqrAve9Tzt/imqmagCAdkHttPteLVstjJw7EjXeroFn5z+L1h+2xsztM3Eu5xxOnjsJABhTewx+GfAL/C3+mLN8DoYuGor7Gt2HFf1WaD/3pjSZgsUPLsamo5vw4ZIP0e3LboiuGo1VA1YV2KZi73ux+Z0uX75c6M9yTz0+jR49GqG+N/6zvFTbVMJ9LyEkAdE+0VBVtVI8Pg1tlL9NVqv1uh9zi+vk+oPigAYVuE0ldGpZrSUa+DeAqqoV+5hb1Da1yN8mh8NRLs+NLl3KP/jerVYFblMJnWr51kLLai2hquoN7U8e6xQ3GqGh+dtUHs9hXX9Mjw8v3TbF+MbA7rSjdZXWiDHF4PSl0+gY0FHbprl3z8Ufh//AcyufQ0tjS6h5Kn7e/zPuC70PUT5RcKpOPBj6IOzW/JfIeKT6I7iv0X34dte3eLzG47AoFvjAB3G+cUi/mA671Y7+Yf3Ru0FvfLfzO7f9KSUlBR9t/QjZl7IRbA4u0KlZtfwxnbt8DreYb0Fz3+Y4fek02ge2L1unBgPQsGF+p/L4XcP1OBFb7fp+ll+2XcbJ8ydxV9Rd8DX5YvLfJ+PzPz7Hkn1LUEetgy37tuC/u/6LNzq+gWYBzbTXar495Ha3+164fzhijDGItETitujb0LpGa1z5vyuwvWhD6lP595nE4YnYNGATLIoFmZfzx7377G5tf8q4nIHzuefxcOzD+dt6JRcOpwP7z+/Xtik1I/+2+tfuX+Q2Fbjv1eqm/f5UHr8Tnjt3DhaLBQHminvMLe6+16RqE+TYc/Bg5IOV5vEpPjxe+/3peh5zS+qUmZmJqKjr3yaL0YLG1RujpqEmzAYzLEYLuoR0cdsmh+pANVM1bZvuqn4XNg3eBKvDijd+eQMdgzpqne4KugtT10zF6P+OxmPzH0PzGc0xZekUAMA/v/snNu/cjGYBzbSXO+pSs4vWKS44DmFVwtDU0lTr9P4d72Np/6V4ftXzCDkfcn2dYmO1ubuR4xHecozlwIEDKC1F9dALul25cgVGoxFmc+HXQpdWly5dUK9ePTz33HOoV68etm/fjhYtWmifv+eeexAUFIS5c+di9erV6Ny5M86fP+92Nl5cXBz69OmDl19+GZ9//jnGjh1b4N1og4KC8O6772LIkCGYOHEiFi9erE0ukD+pISEhWL16NTp16oRHHnkEWVlZWLx4sbZOUlISWrZsiUOHDpXpTLyYmBhkZmYiKCjIK48Sl+XI97Zt29C6dWs4HnXAVEP+TLzy/kvSdW1TmgrLHAs2bNiAli1berzTtm3b0KZNG9iH2mGMrsCzC72pU5oT5tlmbNy4Ea1atfL4/rRt2za0bdsWtiE2GKKvb5t+HvAzDmUewhNLn9C2qX1Me6wZsgbxn8QjKT1J26aYwBgcHH0QgxcNxhd/fqG1+aLvF7A5bRj6w1D894H/oleDXlDxv4cAk8EEu9OOr/78CsN/HF5opztr3Yk1Q9Yg6u0onLt8DrPumYUgnyD0+6aftk2tolphy/AtuOX9W3A062jJndJUOD7JfxBs0aJFufzc2759O9q1awfrYCuU6JLPxOtzax/c8ekdhXb66r6vYHVYMeSHIcXe9xpHNMaSh5agzcw2OPnMSbcz8a69HyqKgmNPH8PHWz/Gf9b9B0440at+Lyx6cBFi3o3BuUvnYFWt+Gfjf2JOnzkIfyscOdYc/PO2f+KLvl/A91VfbTt6N+iNRQ8ugs+rPvn3wdLsT+kK7DPsbg08/fiUlJSUvx8MtkGN9rKfERXxcy/dCNsMGxITE9G8eXOP/7U5OTkZ8fHxMI80wxF5k/4sv9FtSrfAOiP/SXhcXJzHnxslJSUhPj4ephEmqFGV6L5XmTqlW2D7JH8/aNasmcefw7oaGEcYoUSXvE0v3vUixrUbh6y8LOTZ87D55Ga8tPolHMg8ABUqsp7Pwlsb3kL7mPZoEdUChzMP47X1r+GXfb8U2ql1dGtsGrYJ7T5rh20ntxXa6f5G92N+v/mo+35dpOekF+g0qcMk9Lm1D5p/0tzt43UD6+LgmIM4lnUMviZfHDh/AFM3TtVes7jUndLNcHzqwNatWxEXF+fx3zW2bduG22////buPL6JOv/j+HtytQXaQottaTkKCCzIaXE5lUNaQBAVbwQEEUXUihwq4G8FXdAVBBVUEFxAQMRdQVxRKJcgcpcWKSAoV6EHZ+lFaa75/VEzEnsCTT4JeT/3wWPHdGhnvq8mk3yZZO6A7hkd9FHX/run0+lwNP4o5u+djxnbZyBnfA76Lu2L1b+v1vbpo74foUH1Bui1pBeq+VXDuXHnMHjFYCw/uBxGxYhbqt6C1JdTcd+y+/DD7z8gKigKof6hsKpWqFBRL6geVg9cjQe/ehBJaUk4nnMcjUIa4ciLR3D353dj0/FNMCpGVPWrinPjzqHfF/3w/dHv0bNBT6wZtAYNP2yIE1knoFf0aBrWFPtG7MNts2/DwQsHK3Z/yjBAna9i165daNWqVaW/JnQ0wDOAKcrLHiPc9biXoYfymYKdO3dq1wOozOdGe/bsQbt27WB/2g5TVPn7NCNuBr45/A1OZZ9CZLVIvNr5VXSJ7oKYOTH4/dLv2PTkJtxS5RY8//3zOJV9Cl2ju2L2PbMxNmEs5iXOg5/RD+sHrUcVYxXcv/x+XDFf0TplFWTBrtqLdWpYvSF+f+l3tJ7TGgfPHtR6rHp0FRqENMAz/3sGBeYCvNX9LdSvUR9///TvuGK7gjvr3YnVA1bjw50f4oOdH2j7YbaZkV+YX7FOaWbo5uuwa9cuxMTE+MSZeNnZ2QgJCUF2djaCgopOACjNNZ+JBwCXLl3C/PnzMX78eFy8WPS2qYMHD+Ls2bPX8+2cqKqKwsJC1K9fHxEREVi37s/ToM1mMzZv3qyd8RcTEwOj0ei0TkZGBlJSUrR1OnTogOzsbOza9eelvXfu3Ins7GyndVJSUpCR8ednXCQkJMDPzw8xMTHaOlu2bIHZbHZaJzIystjbbK/m5+eHoKAgpz8AtLcW6XS6Epf1en2Flh1nAV69bDAYii0rilJsGUCxZccv4NXLOp2uQssl7Yfjlx8oegC3oWjZolpgh73MZbNqdlp2TDY47vilLatQtWU77E7LKlT0D+sPnaKDRbVotzuWbbBpn8dw9bJVtTotO/aj0vbJbHZZJ8cDjdv3qZROdtjRP6w/9Iq+1E4ltXF5J4vFpfcnx1l+17NPOp0OTW9pirTcNKd9GtJmCPak70FiZqLTPh27dAxpOWloGNrQqU2j0EY4mX0Sdtjxw+4fEDM3RrsoyD1Liz7f9NH/PoqJGyeWen9qHt4cBZYCXLxyERbVgu2nt+POenfC8TF5dtjRrUE3pOWk4eiloxXrpNq0cXLl457j8busxwhHj0YhjXDi5RM4Fn8MSx9citrBtbV17ml0D45cPILVT6xG2pg07Bi2A30a93HaJ5PBhGUPLsMLP7yA9Px07XZHDxUq7g+7HwbFAItqQd8mfVGzSk18lvyZtk7bqLZIOZuCjLwMbRvXHl0Lf4M/YiKLjk070nbAptowpM0QWGFFkF8Qnmj5BBKOJsBqt1b8/mS3FmvgiuOT2Vw5j+WV8RgBAPeF3ae9zUz6+GSxW7QG13vMLauTo4HF7sZ9KqeToijod0s/GBSDRxyfzHaztl2ueG7kaODWfSqnk07R4d5b7oVBMbj3mFvaPtnNf77t2AXPYR0NbGrF9ml72vZin8e2+anNqB5QHWFVwxDoF4hXO72KNUfXIG5xHFb+uhIrHl2B9nXbl9hpcOvBOHjuILaf3q41MCgG9L2lr/Y26yfbPIm1R9ciNSe1xPuT+sf//np7tjkbL699GQ999RDuWXoP1h9bj+UPLcejzR+9tk52i/ai1xWvNRz3iYo+lr/d423cVe8u1KleB7dH3q59VvOC5AXINefixxM/4p3Yd9ClXhfUDq6Nga0GYnDLwVjx6wrYYdc+q3la3DR0r98dt4Xfhs8f+Bz7z+7HD0d/gE7R4Q7/O5ByLgUp51KKPmf5/AEAwNGLR3E8p+jMnqs/q7l97fZoVLOR9lnNCceLLpqRcCwBiemJ+He/f6NlREu0iGiBuX3nIuFoAg5eOFjs963M+9Mfr59c8ZrQ8fccv5+O3yup5+U6RYf+Yf2hQvWY45NNtWmvn67nmFtep6snlyqyT7UCa2HZg8vw6wu/YvnDy2G2mdF+fnv8fqno7K3H/vsYdqXtwtL+S5EyMgXjOo3DxI0T8fGej2FRLYipFYN2tduhRXgLHI0/irSxaTg95jQyx2aiVmDR2XP9w/prDR2dHK7uMXDlQOxM24nVA1Zj/ZPrYbab0WtpL1y2XYYddgxpPQRVTVUx/s7xyBybidQxqcgcm4kVj664tk52u9N4ueK5kSfOsVTENX8m3i+//IK7774b1atXx4kTJzB8+HCEhIRg5cqVOHnyJD7//PMKf68JEyagd+/eqFOnDnJzc/Hll1/ixx9/xJo1a6AoCkaNGoWpU6eiUaNGaNSoEaZOnYoqVapgwICi05GDg4MxbNgwjBkzBqGhoQgJCcHYsWPRokUL9OhRdIpn06ZN0atXLwwfPhxz5xZdfeWZZ55B3759tVPF4+Li0KxZMwwaNAjTpk3DxYsXMXbsWAwfPlybdBswYAAmT56MIUOGYMKECfjtt98wdepU/OMf/9BikudTVRVphWnaE0RyPzYo37TYafjfkf8hNTsVYVXD8PqdrztdXAQo+lDah5s9jDEJY0r+HtumYXLXydiXuQ/Jmcl4svWT+FvNv+Gh/zwEVVWx78I+pGSnaAfqPHPRqeJHLx5FWm7R2zn7Nu6LiGoR2H5qOwqsBegW3Q1Tuk/Bp3s/1S5k8cX+L/BGlzew8P6FmPrTVDQKbYQJnSfgzS1vunKIXMrxIdpHLhxBeNVwvH7X69g2bBtu+/g2GHVGBPoF4rVOr+H1Ta/j1fWvotetvbDi0RXotqgbtpzcAgCY2Wsmtp3ahm8Pf1viz/jr/WBYm2FYe3QtTuec1taJqBaBM/lnnP7epSuXUGgtRES1CADAyeyTiFsch/88/B/M7TsXBp0B205t0yZlqXR8LJLHBvLYoGxrfl+jLacgRfs8tidbPYkvU74EAKw6vArv73gfALDvzD50rNMRI2JGaMcDB3+DPwa0GIC3trzldPvVDaICo9CzYU888t9HrnlbLxRc0LYDABIzElEjoAZe6fQKlu5fes3fz1PUDqrt9FnNO07vQPv57ZGanQqgaPLi7bvfxtL+SxESEIKT2ScxceNEzNkzR/seL695GVa7Vfus5g3HNmDIsiGwq3YoUCp8Hxi8crDTZzVvPrkZvZb20v4hTIWKe5fdi1m9Z2HLkC3It+Tjh99+KPW5GhXh41D5Hv/68TK/fib/DJ769qlSv7755GYok0ufs9BDX6zByeyTJf6dXHMunv72aTz97dMlfq+hq4Zi6KqhZW4v3ZhrnsQbPXo0hg4dinfffReBgYHa7b1799Ym1yrqzJkzGDRoEDIyMhAcHIyWLVtizZo1iI2NBQC88sorKCgowMiRI5GVlYV27dohISHB6efOnDkTBoMBjzzyCAoKCnD33Xdj4cKFTjOZS5cuRXx8vHYV2379+mH27Nna1/V6PVavXo2RI0eiU6dOCAgIwIABAzB9+nRtneDgYKxbtw7PP/882rZtixo1amD06NEYPXr0tQ0gibLBhp3ZO6U3w6exQfnKe8IKAI81fwyKomBZyrISv8cHOz+Av8EfM3vOREhACPad2YfYxbE4lnUMACrUwGKzYGTbkZgRNwM6RYdjWcfwjx//gY92faStk1OYg9jFsfjono+w55k9yCrIwowdMzBj+4wbHAU5N/qi7d7G96J7dHe0mdumpG8PwPl+UNaLtpKe0CqKot0eXjUc8/vNx6J9i7AsZRkCTYF4s9ub+O8j/0Xs4tjrHgNfwMeisr3R5Y1SL/ACAAvuW4AhrYc4fX3H6R3o8FkH7b9NehOmx03H480fR4AhABuOb8DI1SO1fyiwwQZzgBk/3PsD7oi6Aza7DV8f+hqj145GviVf+z7d63fHW93eQouwFsgz5+HzXz7HxA0TtbN4HcZ0GINnYp5BveB6OJt/Fp/s+aTMq+x5uhttUMO/BiZ3m4y4BnGoE1wH5y+fxze/foP/2/R/yCks+mw4G2y4qL+Irx/9Gp3qdoJJb8L+M/vx+qbX8eOJHwEAIQEhWNp/KVqGt0RoQCjO5p/FqsOrMGHDBOSac7Wf3TysOWb3no2/R/0dFwsuYm7i3GITVt7usuUy9p/Zj0ahjXD+8nlYbJZiV1w8dP4QOtfpXOzvPtTsIVQxVsHn+5xPeLj6sWhom6G4UHCh1H8AulY7Tu/A021KfqHtLW508gIACm2FiP8hHvE/xBf7WknHguudvACAjLwMPPSfh8rcHnLG47E8NvAu1zyJt3v3bu2MtqtFRUVpV3KtqM8++6zMryuKgkmTJmHSpEmlruPv749Zs2Zh1qxZpa4TEhKCJUuWlPmz6tati++++67MdVq0aIEtW7aUuQ55NqNixEPhD+G/Z/6rnS5N7sUG5SvvCSsAzNs7D/P2zitznX/9/C/86+d/Fbu9pAYlPWFde3Qt1h4t+QqqV0s5m4IuC7uUu563utYXbd3rd0fDkIa49Nolp3W+fuRr/JT6E7ot6ubUoLQXbZl5mWgX1c7ptur+1WHSm7Qz9J7/+/PIKczBq+tf1dYZuGIgTo8+jXZR7bAzzTufkJU3eXG1OX3n4NmYZzFqzSh8sPMD7fYGNRpgeux0dK7bGX4GP6z5fQ1e/OFFnM0v+ugPo2LE2NvGonub7mgb2bbECaSW4S3xWqfX0LluZ9SsUhMnLp3AnMQ5+HDnh07bENcwzukKwVtObsHYdWNx4tKJyh0YN0s5m4Ien/fQ/vuvk2Y//PaD07+2O87QdXi/1/u4t/G9eOy/j+FCwQW8F/cevhvwHWI+jYFdtaNuYF1seXILlqYsxQs/vIAgvyC83/N9LLx/IR7+T9FFilqEtcD3A77HlJ+mYPDKwYgKisKcPnOgV/QYt26c9rM+6PUB4hrGYWzCWOw/ux/BfsGoWaWmK4bFrW6kQWRgJCKrRWLsurE4eO4g6gXXw5y+cxAZGKmNr1ExYsvgLdh7di+6Lyq6Cvao9qPw3ePfoeGHDXEm/wzsqh2rDq/C6xtfx7nL53BryK346J6PEBIQgidWFH0gfKApEOsGrcOm45twx7w70Di0MRbevxD5lnyv/kedvzLpTWh6S1P8lPoTLHYLdqfvRpPQJk7rNA5pjJPZJ4v93WFthuHbw9/i/OXzTrc7HQ9aD8Xn+z7Xzuy6UW0i2mhXk6SS8XmpPDaQxwbe5Zon8fz9/bUrO13t8OHDuOWWWyplo4hcxabacCj/ULEnweQ+bCCPDa7Ntb5oe2frO5i/d77T11NGpuDltS/jf0f+B8C5QWkv2raf3o6Jd05ERLUIZOYV/SNZXMM4XLFeQWJ6IgCgirEKbHbnjo6uOuW6PvbWY5Q3eQEA9zW5D+2i2iEtJ83p9irGKkgYmIB9Z/ah++fdAQBvdXsL/3v8f2g/vz1UqAirGoZX+7yKZSnL8Pz3z5c4gRRTKwbnLp/DwJUDcSr7FDrW6YhP7/0UNrsNH+0uOiO1fvX6WPXYKszYPgNPrHgCwX7BmNlzJlY8sgK3f3q7q4bHLax2a7G3dF+t0FZY6teD/IIwrM0wDFo5CBuOF10teeCKgTj18in0aNADCUcT0LtRbxTaCrUL9gDA898/j+QRyWhYoyGOZh3FY80fwy9nftHO6DqadRTjN4zHsgeXYfLmycgz5+FvNf+G59o+h+afNMeRC0cqeRRk3UiDA+cOOJ0RdCzrGCZunIglDyyBXtHDptpQ3b86IoIj8K8V/8L+s/sBAK+tfw3P3/E8bgu7DWeOn8GlK5ec3pqYmp2Kj3d/jHEd/5xEfaLlE/A3+GPIqiEw28w4cO4AGv/UGKPbj/bqSbzyPt5i2rZpWP7QcmxJ3YJNxzeh1629cG+Te9F1YVen79OwRkPcVe+uEj/qwHE86BLdBQ1qNMBnSSWf5NCwRkNUM1VDRLUIBBgC0Cq8FYCiq6Va7BYMbjUYFpul6EJXqh33Nr4X8e3inf6Rh4rjcyJ5bCCPDbzLNU/i3XfffXjzzTfx1VdfASg6Wy41NRWvvfYaHnzwwUrfQKLKZIcdybnJ0pvh09hAHhuU7UZftJ3JP1Pii+rU7FTtzCxHg+71u5f6oi3haAIOnjuIxQ8sxrh14xASEILpsdMxb+887S1sq4+sxsvtX8b/3fV/2ttpp949FScunUBSZpJrBshNypu8iAyMxOx7ZqPnkp5YPWC109c61emE6OrRaDO3jTZWQ1cNRdarWehevzs2HN+AexrfgyvWKxi5eqT2gdJ/nUBakLzA6fsev3QcHep0QP+m/bVJvNtr3Q69osfrG1/Xvs/07dOx6rFV2hWfvVWjkEZIG52mXZVzwoYJOH7puPb1rtFdcWZs0STP5pObMXHDRJy7fA5A0QSoSW9CwtEEbf2MvAyknE1BxzodkXA0AUaDEZetl7UJPAAosBYAADrX7YyjWUfhZ/DDFesVp+0qsBYgwBiAmFox2HxyM+5tfC+OZR1D38Z98cIdL0BRFKw/th6vrHsFWVeyXDlELncjDUoS7BeMnMIc7YXauYJzOHjuIAa2Gog9GXtQaC3EszHPIjMvU/vHgr+qVa0W+jftj80nN2u3dajdAZtPbHY6E3Dt0bV4p8c7iK4e7bVnpZb38Rbf/PoNRnw3AuM7j8eHvT7E4QuH8eBXD+LnUz87fZ+n2jyFtJw0p/uDg+N4sDR2KX5O/Rm/nv+1xG2Z328+ukZ31f47eUQyACD6/WjtH5Fev+t11AuuB5tqw5ELR/DUqqe8+vPw3IHPieSxgTw28C7XPIk3ffp03HPPPQgLC0NBQQG6dOmCzMxMdOjQAVOmTHHFNhJVGqNixBO1nsDSjKU8VVgIG8hjg7JV1ou2sjga9GzTs9QXbXbVjj5f9MHHfT7Gz0/9jAJLAb5I+QJjE8Zq62w6sQkDvh6AVzq9glc6vYLLlsvYfmo7ei3pVWziw9uUNXmhQMHiBxZj2rZpxd7aDAB+Bj+oUFFoK9Ruu2K9Apvdhs51O2PD8Q2oYqgCI4zaFYKB4hNIJQn2C8bFgovaf+9J31N0RmWboViYvBDVTNUwqOUg7QrB3qqsC7xcLLiIH37/Af85+B+cvHQS9WvUx1vd3sLGJzci5tMYmG1mRFSLQKG1EJeuXHL6vmfyz2gXZvnpxE+Y2XMmXu34KmbsmIGqpqqY2n0qAGhXy1v7+1qMajcKjzV/DF8d+AoR1SLw+p2vO63ToEYD1KteDw83exiDvxkMvaLHzJ4z8d9H/ou7P7/bTSNW+W60wV+FBITg/+76P8xN/PNjcYyKEfMS5mFgt4HIHZ8Lu2rHmbwz6LWkF7ILs53+/hf9v8B9f7sPVYxV8O3hb50+FyyiWkSxibozeWdK/Zq3qMjHWyxIXlBswv+vJm6ciIkbJ5b4NcfxYMjKIWUek7st6lbmz/h83+fFPm+PysfnRPLYQB4beJdrnsQLCgrC1q1bsXHjRuzduxd2ux233367djVYIk9mU4s+tJOnCsthA3lsULbKetF2tb9+3qCjwecrPocd9lL/3qmcU7h32b1lfu/lB5Zj+YHlFd4Wb1De5MWrnV+F1W4t9tl0DjtO70C+OR//6vEvTNgwAYqi4F89/gW9Tq9N/Gw4vgHT4qZhVIdReH/H+yVOIP1V+9rt8chtj6DPF320227WKwSXdYGXmTtm4qsDX2lfP3DuAPak78HJUSfRp1EfrPx1ZanfV8GfF2bZf3Y/xn8/HmO6jsE/7/4nbHYbPtz1ITLzMrW3ia87tg7j1o3DnD5zsPiBxSi0FuKtLW/hznp3auvoFB38Df4YvHIwfrv4GwBg2LfDsPfZvWgc2thr32JbmQ0CTYFYPWA1Dp47iMmbJ2u321Qb7m13L87mn8WdC+5EgaUAT9/+NL4b8B3umHeH9lZ+AHh57cuYvHkymtRsgqndp2JGzxl4/vvnta87zkR1UJSixz1ecbJsPCbL4vjLYwN5bOBdrnkSz6F79+7o3r17ZW4LkcvZYceh/EPSm+HT2EAeG8hjg7KVNXmx+eRmvNTuJdw+t/TPmzt/+Twe/s/D+KTPJ4hvFw+7asey/cuQmJ6oTfyknEvBk988iRk9Z2Dq3VNLnEC6WrNbmmHVY6vw5uY3sf7Yeu12X7lC8NUXeClJZl4mTl46qX09My8TfgY/VPev7nQ2XljVMGw7vQ1A0f1geuJ0TE+cjrCqYcg350OFitHtRzu9ZXTmjpmYuWMmalWrhawrWYiuHo13eryjrZORlwGLzaJN4AFFF5sBgLrBdb12Eu+vrrWBQzVTNawZuAZ55jw8sPwBpzNEu9bvii4NuqDGv2pobz1//vvnEdsgFk+2etLp4kiOjwo4fOEwLly+gK1PbcVbW95CZl4mMvMyEVE1wunnhlUN0/4elY7HA1kcf3lsII8NvEuFJvE+/LDkf+kuSXx88Ut3E3kKo2LEU1FP4d9p/+apwkLYQB4byGODa3P15IVdtSOsahhSX07Vvm7QGfBe3HsY1X4U6n9QH0DRGVy3zroVoQGhsNqtyC7MRsaYDBw/UDTxY1SMCLoUhLoz6qJGlRqlTiABQNOaTbFx8EbM2zsPU35y/uiQm/UKwX919QVeShISEII6wXWQkVt0JczEjESYbWbENojFfw7+B0DR2yqbhzXHK+tfAeB8P3BcNXho66G4Yr2CdUfXFfsZjqtsPt78caRmp2Jvxl4AwM+pP8OoN6JBjQY4lnUMANA4tDEA4OSl4lcJ9VbX2gAoOgNv7cC1KLQVot+yfk5vMQeAIFMQFCjQQ+90u121l3lxHMdZdn56PwBFF+KZ2n0qjDojLPaix7S4hnFIy0nz2rfSuguPB7I4/vLYQB4beJcKTeLNnDmzQt9MURRO4pFHs6k2rLuwjqcKC2IDeWwgjw2uzdWTF4t/Wex0JhwArB24Fot/WVziW5wvFFwAAHSL7oawqmH49vC3AJwblDWB1OyWZtg4eCMW7VuE1ze+Xuz736xXCC7rAi9VjVUxqeskfH3oa2TkZiC6ejSm3j0V5y+f197GmVOYg8+SPsN7ce/hQsEFXCy4iOmx07H/7H6tn021IaJuBFpaWyLHnIPYhrGYFjsNr61/zenz2MZ2HIs1v6+BXbWjf9P+eK3za3jkP4/Arha9FX39sfVITE/Ev/v9G6PWjoJO0eGjez5CwtEEp7PzvM2NNqhmqoaEQQmoYqyCgcsHIsgvCEF+QQCAc5fPwa7a8XPqz7h05RI+u+8zTN4yGQWWAgyPGY76Nepj9W9FF4zpfWtvhFcLx+603cgz56HZLc3wbuy72Jq6Vbugwhf7v8AbXd7AwvsXYupPU9EotBEmdJ6AN7e8KTN4XoTHA1kcf3lsII8NvEuFJvGOHz9e/kpEXsAOO44VHJPeDJ/GBvLYQB4blK2syYuLBRedLiwBABa7BZl5mU5vmxzSeggOnTuEc5fPoUPtDvig1weYuWOmto4ddvRu3hvbTm1DnjmvxAmkZrc0w6YnNyHhaAJmbJ+B8KrhAIqe7J6/fB7AzXuF4LIu8OJv8EeLsBYY3GowqvtXR0ZuBjad2IRH//so8sx52vd4ec3LsNqt+OqhrxBgDMCGYxswZNkQbfLNDjsahDXA2k5rUc1UDb+e/xXPfvcslvyyxGlbet/aGxPvnAg/vR/2ndmH+768z+kt1ypU3LvsXszqPQtbhmxBviUfP/z2A8YkjHHPYLnIjTaIqRWD9rXbAwCOxjtfqMVxRdNzBecQtyQOU7pPwcbBG2HUG3Hg7AHc9+V9+OXMLwCKLvgy/PbhmNlzJvz0fjiVcworDq3AO1vf0b5fTmEOYhfH4qN7PsKeZ/YgqyALM3bMwIztM9w0Wt6LxwNZHH95bCCPDbzLdX8mntlsxvHjx9GwYUMYDNf9bYjcyqSYMKLOCMw5NQdmtfiV28j12EAeG8hjg7KVd4XgimgS2gRv3/02QgJCcOLSCUz5aQpm7vjznQUmxYTBjQdjctfJpU4gPdzsYYRVDcPAlgMxsOVA7fYTl05ob9u9Wa8QXNYFXq5Yr6DX0l7lfo9CWyHif4hH/A8lv0vDpJiQuDcRw1cNL/N+UJErzGbkZeCh/zxU7nre5EYbbD65udhFdf7KpJjQydgJ/b7oV2qDH0/8iE7/7lTu9qacTUGXhV3KXY+c8Xggi+Mvjw3ksYF3uebZt8uXL+PFF1/EokWLAABHjhxBgwYNEB8fj8jISLz22muVvpFElcWqWvH1ma9hVa3lr0wuwQby2EAeG5StIlcIvppjQu1q4zeMx/gN40v9O1bViv7/7Y+MwoxSrxA8efNkpyt5luZmvEKwO/B+II8N5LGBLI6/PDaQxwbe5Zo/rGX8+PHYt28ffvzxR/j7+2u39+jRA8uX8wkseTY77EgrTCv1BRu5HhvIYwN5bCCPDeSxgTw2kMcGsjj+8thAHht4l2uexPvmm28we/ZsdO7cWbsyFQA0a9YMR48eLeNvEskzKSaMqzcOJsUkvSk+iw3ksYE8NpDHBvLYQB4byGMDWRx/eWwgjw28yzVP4p07dw5hYWHFbs/Pz3ea1CPyRBbVggXpC3jpbEFsII8N5LGBPDaQxwby2EAeG8ji+MtjA3ls4F2ueRLvjjvuwOrVq7X/dkzczZs3Dx06dKi8LSNyARUqzlvOQ4UqvSk+iw3ksYE8NpDHBvLYQB4byGMDWRx/eWwgjw28yzVP4r399tuYOHEinnvuOVitVnzwwQeIjY3FwoULMWXKFFdsI1GlMSkmTKw/kacKC2IDeWwgjw3ksYE8NpDHBvLYQBbHXx4byGMD73LNk3gdO3bEzz//jMuXL6Nhw4ZISEhAeHg4tm/fjpiYGFdsI1GlMatmfJj6IS+dLYgN5LGBPDaQxwby2EAeG8hjA1kcf3lsII8NvIvhev5SixYtsGjRosreFiK3KLQXSm+Cz2MDeWwgjw3ksYE8NpDHBvLYQBbHXx4byGMD73HNZ+I5nD17FikpKfjll1+c/hB5MpNiwrhoXnlHEhvIYwN5bCCPDeSxgTw2kMcGsjj+8thAHht4l2s+Ey8xMRFPPvkkDh06BFV1/uBDRVFgs9kqbeOIKptZNWPaiWk8VVgQG8hjA3lsII8N5LGBPDaQxwayOP7y2EAeG3iXa57EGzp0KBo3bozPPvsM4eHh2tVpibyFn84PZhsfoCSxgTw2kMcG8thAHhvIYwN5bCCL4y+PDeSxgfe45rfTHj9+HO+++y7atWuH6Oho1KtXz+kPkSczKSbE143nqcKC2EAeG8hjA3lsII8N5LGBPDaQxfGXxwby2MC7XPOZeHfffTf27duHW2+91RXbQ+RSZtWMKcenSG+GT2MDeWwgjw3ksYE8NpDHBvLYQBbHXx4byGMD73LNk3jz58/Hk08+iZSUFDRv3hxGo9Hp6/369au0jSOqbAoUhBpDccFyASrU8v8CVTo2kMcG8thAHhvIYwN5bCCPDWRx/OWxgTw28C7X/Hbabdu2YevWrZg8eTIefvhh3H///dqfBx54wBXbSFRpjIoRQyOHwqgYy1+ZXIIN5LGBPDaQxwby2EAeG8hjA1kcf3lsII8NvMs1T+LFx8dj0KBByMjIgN1ud/rDK9OSpzOrZkw7ySvvSGIDeWwgjw3ksYE8NpDHBvLYQBbHXx4byGMD73LNk3gXLlzAyy+/jPDwcFdsD5FL6aBDlF8UdNf+q0+VhA3ksYE8NpDHBvLYQB4byGMDWRx/eWwgjw28yzVX6t+/PzZt2uSKbSFyOYNiwIPhD8KgXPPHQVIlYQN5bCCPDeSxgTw2kMcG8thAFsdfHhvIYwPvcs2VGjdujPHjx2Pr1q1o0aJFsQtbxMfHV9rGEVU2s2rGh6kfSm+GT2MDeWwgjw3ksYE8NpDHBvLYQBbHXx4byGMD73JdV6etVq0aNm/ejM2bNzt9TVEUTuKRR9NBh+iAaJwoOAE77NKb45PYQB4byGMDeWwgjw3ksYE8NpDF8ZfHBvLYwLtc89tpjx8/XuqfY8eOuWIbiSqNXtEjNjQWekUvvSk+iw3ksYE8NpDHBvLYQB4byGMDWRx/eWwgjw28yw296VlVVQBFZ+AReQOLasHc03OlN8OnsYE8NpDHBvLYQB4byGMDeWwgi+Mvjw3ksYF3ua7Lj3z++edo0aIFAgICEBAQgJYtW2Lx4sWVvW1ElU4HHZpWbcor7whiA3lsII8N5LGBPDaQxwby2EAWx18eG8hjA+9yzZVmzJiB5557Dvfccw+++uorLF++HL169cKIESMwc+ZMV2wjUaXRK3q0C27HU4UFsYE8NpDHBvLYQB4byGMDeWwgi+Mvjw3ksYF3uea3086aNQuffPIJBg8erN1233334bbbbsOkSZPw8ssvV+oGElUmi2rBwvSF0pvh09hAHhvIYwN5bCCPDeSxgTw2kMXxl8cG8tjAu1zzmXgZGRno2LFjsds7duyIjIyMStkoIlfRQYfWga15qrAgNpDHBvLYQB4byGMDeWwgjw1kcfzlsYE8NvAu11zp1ltvxVdffVXs9uXLl6NRo0aVslFErqJX9GhatSlPFRbEBvLYQB4byGMDeWwgjw3ksYEsjr88NpDHBt7lmt9OO3nyZDz66KPYsmULOnXqBEVRsHXrVmzYsKHEyT0iT2JRLViWuUx6M3waG8hjA3lsII8N5LGBPDaQxwayOP7y2EAeG3iXaz4T78EHH8TOnTtRs2ZNfPPNN1ixYgVq1qyJXbt24YEHHnDFNhJVGj3++NBO8F8ZpLCBPDaQxwby2EAeG8hjA3lsIIvjL48N5LGBd7muNz3HxMRgyZIlSExMxN69e7FkyRK0adOmsreNqNIpioIovygoiiK9KT6LDeSxgTw2kMcG8thAHhvIYwNZHH95bCCPDbxLhd9Om5OTU6H1goKCrntjiFzNqlqx4uwK6c3waWwgjw3ksYE8NpDHBvLYQB4byOL4y2MDeWzgXSp8Jl716tVRo0aNUv84vk7kyfTQ467qd/FUYUFsII8N5LGBPDaQxwby2EAeG8ji+MtjA3ls4F0qfCbepk2btGVVVXHPPfdg/vz5iIqKcsmGEbmCoigINAQWnSqsSm+Nb2IDeWwgjw3ksYE8NpDHBvLYQBbHXx4byGMD71LhSbwuXbo4/bder0f79u3RoEGDSt8oIlexqlasPr9aejN8GhvIYwN5bCCPDeSxgTw2kMcGsjj+8thAHht4l+u6sAWRtzIoBvQI6QGDUuH5a6pkbCCPDeSxgTw2kMcG8thAHhvI4vjLYwN5bOBdOIlHRERERERERETk4W5oqpWXICZvY1WtWH9xvfRm+DQ2kMcG8thAHhvIYwN5bCCPDWRx/OWxgTw28C4VPhOvf//+Tn+uXLmCESNGFLudyJMZFAP61OzDU4UFsYE8NpDHBvLYQB4byGMDeWwgi+Mvjw3ksYF3qXCl4OBgp/8eOHBgpW8Mkaupqopcay5UlZfdkcIG8thAHhvIYwN5bCCPDeSxgSyOvzw2kMcG3qXCk3gLFixw5XYQuYUNNmy5tEV6M3waG8hjA3lsII8N5LGBPDaQxwayOP7y2EAeG3gXXtiCfIpBMaB/WH+eKiyIDeSxgTw2kMcG8thAHhvIYwNZHH95bCCPDbwLJ/HIp6iqirTCNJ4qLIgN5LGBPDaQxwby2EAeG8hjA1kcf3lsII8NvAunWsmn2GDDzuyd0pvh09hAHhvIYwN5bCCPDeSxgTw2kMXxl8cG8tjAu/BMPPIpRsWIxyMeh1ExSm+Kz2IDeWwgjw3ksYE8NpDHBvLYQBbHXx4byGMD78JJPPIpNtWGQ/mHYFNt0pvis9hAHhvIYwN5bCCPDeSxgTw2kMXxl8cG8tjAu/DttORT7LAjOTdZejN8GhvIYwN5bCCPDeSxgTw2kMcGsjj+8thAHht4F56JRz7FqBgxJHIITxUWxAby2EAeG8hjA3lsII8N5LGBLI6/PDaQxwbehZN45FNsatGHdvJUYTlsII8N5LGBPDaQxwby2EAeG8ji+MtjA3ls4F34dlryKXbYcSj/kPRm+DQ2kMcG8thAHhvIYwN5bCCPDWRx/OWxgTw28C48E498ilEx4tnaz/JUYUFsII8N5LGBPDaQxwby2EAeG8ji+MtjA3ls4F04iUc+xabasO7COp4qLIgN5LGBPDaQxwby2EAeG8hjA1kc//KNaDsC+0bsQ/Zr2ch+LRvbntqGXrf20r5e1VgVs3rPwqmXT+HyhMs4OPIgRrQd4fQ9THoTPuz9Ic6NO4e88XlY9dgqRAVGAXBucE+je7Bj2A5cnnAZ58adw9ePfK19j5CAEPzwxA9IG52GKxOvIHVUKmb1noVAU6DTz2oe1hw/PvkjLk+4jNMvn8b/3fV/LhydmwPvB95FdBLv7bffxh133IHAwECEhYXh/vvvx+HDh53WUVUVkyZNQmRkJAICAtC1a1ccOHDAaZ3CwkK8+OKLqFmzJqpWrYp+/frh9OnTTutkZWVh0KBBCA4ORnBwMAYNGoRLly45rZOamop7770XVatWRc2aNREfHw+z2ey0zv79+9GlSxcEBAQgKioKb775JlRVrbxBIZeyw45jBcdgh116U3wWG8hjA3lsII8N5LGBPDaQxwayOP7lO51zGq+tfw1tP22Ltp+2xcYTG7HqsVVodkszAMDMXjPR69ZeGLhiIJp+1BQzd8zErN6z0K9JP+17vN/rfTzwtwfw2H8fQ+cFnVHNVA3fDfgOOkWnNbi/6f1Y/MBiLEhegFZzWqHTvzvhi/1faN/Drtqx6vAq9FvWD41nN8aQVUPQo0EPzOk7R1sn0BSIdYPWIT03HXfMuwMv/vAixnYci9EdRrtvwLwQ7wfeRXQSb/PmzXj++eexY8cOrFu3DlarFXFxccjPz9fWeffddzFjxgzMnj0bu3fvRkREBGJjY5Gbm6utM2rUKKxcuRJffvkltm7diry8PPTt2xc2258zyQMGDEBycjLWrFmDNWvWIDk5GYMGDdK+brPZ0KdPH+Tn52Pr1q348ssv8fXXX2PMmDHaOjk5OYiNjUVkZCR2796NWbNmYfr06ZgxY4aLR4oqi0kxIb5uPEyKSXpTfBYbyGMDeWwgjw3ksYE8NpDHBrI4/uX77sh3+OH3H/Dbxd/w28Xf8PrG15FnzkP72u0BAB1qd8CifYuw+eRmnMw+iXl752Ff5j60jWwLAAjyC8KwNsMwJmEMNhzfgOTMZAxcMRAtwlqgR4MeMCkmjKo3Ch/0+gDj1o3D3MS5+O3ibzhy4Qi+PvTnmXiXrlzCnD1zkJiRiNTsVGw8vhEf7/4Yd9a9U1vniZZPwN/gjyGrhuDAuQNY+etKTP1pKka35yReWXg/8C6ik3hr1qzBkCFDcNttt6FVq1ZYsGABUlNTkZiYCKDoLLz3338fEydORP/+/dG8eXMsWrQIly9fxhdfFM3KZ2dn47PPPsN7772HHj16oE2bNliyZAn279+P9evXAwAOHTqENWvWYP78+ejQoQM6dOiAefPm4bvvvtPO/EtISMDBgwexZMkStGnTBj169MB7772HefPmIScnBwCwdOlSXLlyBQsXLkTz5s3Rv39/TJgwATNmzODZeF7Cqlrx9ZmvYVWt0pvis9hAHhvIYwN5bCCPDeSxgTw2kMXxvzY6RYdHb3sUVY1Vsf3UdgDA1tSt6Ne4HyIDIwEAXaO7onFoY6z9fS0AIKZWDEx6ExKOJmjfJyMvAylnU9CxTkdYVSt+U35D7aDasKt27H1mL9JHp+P7Ad9rZ/uVpFa1WujftD82n9ys3dahdgdsPrEZZtuf76Zbe3QtooKiEF09ujKH4qbC+4F38ajPxMvOzgYAhISEAACOHz+OzMxMxMXFaev4+fmhS5cu2LZtGwAgMTERFovFaZ3IyEg0b95cW2f79u0IDg5Gu3bttHXat2+P4OBgp3WaN2+OyMhIbZ2ePXuisLBQm1Tcvn07unTpAj8/P6d10tPTceLEicocCnIRO+xIK0zjqcKC2EAeG8hjA3lsII8N5LGBPDaQxfGvmOZhzZE7PheFrxdiTt85eGD5Azh0vuhqpvE/xOPguYNIG50G8+tmrHliDUZ+PxI/n/oZABBRLQKF1kJcunLJ6XueyT+DiGoRsMOOalWrAQAmdZmEf/70T/Rd1hdZV7Kwechm1PCv4fT3vuj/BfIn5CN9TDpyCnPw9LdPa1+LqBaBM/lnnH9O3hnta1Qy3g+8i8dM4qmqitGjR6Nz585o3rw5ACAzMxMAEB4e7rRueHi49rXMzEyYTCbUqFGjzHXCwsKK/cywsDCndf76c2rUqAGTyVTmOo7/dqzzV4WFhcjJyXH6AwB2u137/5KWbTZbhZYdZwBevWy1Wostq6pabBlAsWXHW5CvXrbb7RVaLmk/VFWFXq8HABgUA/QoWjYqRuj++PUrbdmkmJyWFSjaskNJywoUbVkHndNyVV1VjKs3Dv6Kv3b1HR102rIeehgUQ7Flg2JwWnbsR6Xtk8nksk6qqsJgENinUjpV01XDuHrj4Kf4ldqppDYu72Q0uvT+ZDQK7FMpnRwNTIrphu5PldZJ0Wvj5MrHPZPJjftUTifHY5FJMbn8ca9C+6QzFGvgiuOTyeTGfSqnU4AuAK/UewUmxeQRxyejzqg1uN5jblmdHA2MOjfuUzmdApQ/G3jC8cmkM2kNXPHcyNHArftUTic/xU9r4AnHJ5POBEUp2idXPId1NNArQs/3SmhjUkx4td6r2nrSxyejzgidrmjZFa81HPcJsed7f+nkp/hhXL1xqKar5jHHJ4Ni0F4/ueI1oePvXcs+HT5/GLfPuR2dP+uMT/Z8gkX3L0LLW1oCAEa1G4X2tdvj3mX34u+f/h2vrHsFH9/zMeIaxGn75NjfqzspUKCoCvwVf/S7pejz897+6W2sOLQC+zP3Y9iqYVBVFY/f9rhTs9FrR+P2ubfjoS8fQsMaDTGj5wynTo51HfvkeEwxwFDxTopee/10Pcfc8jrZ7XbtfubW53ul/O4F6AIwrt44BOgCPOb4pNPpnMbLFc+NPHGOpSI8ZhLvhRdewC+//IJly5YV+5rjjuegqmqx2/7qr+uUtH5lrOMIWdr2vP3229rFNIKDg1GnTh0A0M7cO3XqFE6dOgWg6MzD9PR0AMDRo0dx5kzRvxocOXIE58+fB1D01uCsrCwAQEpKinb24r59+5CXlwcASEpKQkFBAQBgz549MJvNsNls2LNnD2w2G8xmM/bs2QMAKCgoQFJSEgAgLy8P+/btA1B0VmRKSgqAoouCHDpU9C8t58+fx5EjRwAAZ86cwdGjRwEA6enpOH78eLF9ysvLQ6dOnQAA/W7ph7bBRZ+N8FD4Q2gZWPTA/0StJ9CkahMAwFNRTyE6IBoAMKLOCNTyqwUAeKnuSwg1hgIAxkWPQ6A+ECbFhHHRRS+CA/WBGBc9DgAQagzFS3VfAgDU8quFEXWKro4UHRCNgZEDsSB9ARpUaYAnaj0BAGgZ2BIPhT8EAGgb3FY7iHSq3gk9Q3sCALrW6IquNboCAHqG9kSn6pW8T+PGaXfeyu5UUFCAfv0E9qmUTi/VewkL0hcgyBBUaqenop4CADSp2sR9nZ56ChaLBUDl358sFgueekpgn0rp9Fyd57Dq3CpYVMsN3Z8qrVOton3Kzc112eOe3W7HuHFu3KdyOj0c8TB+uvQTLKrF5Y97Fdqn6KJ9unz5comP5ZV1fHrppZcQ6u+mfSqn090hdyMlPwUW1eIRx6enmhbtk9lsvu5jblmdCgsLi/apsRv3qZxOLYNaIsOcAYtq8Yjj07g2Rftks9lc8tzI8ZnPPeu6cZ/K6VTbvzYK1UJYVItHHJ9eavUSQkOL9skVz2Ed/5jeNkzo+V4Jnfx1/qhiqAKLavGI49MTjZ9AkyZF++SK1xqO40R0kNDzvb90usV0CxakL8BzdZ5z3zG3vH2q21N7/eSK14QXLlyAyWRCoLHi+2SxW2AwG9AUTTFhwwQcO38MM7rOgL/BH1PunoL/7vwvvjvyHYLMQTh67CiWH1iOf971T3St0RWZeZnwM/ihZ3hPp05hVcMQqoTib9X+hq9Of6X9jjg6RZoicSzrGO6rc5/T/clqtuLwhcP4m/lvePmHlzHyjpGY3HQyTIoJF/IvoFNYJ6d9CqtadDJPj6AeFe8U1lZ7/XQ9x9zyOmVlZaFWLYHne6X87nWu3hkL0hfg7pC7Peb4FB0drY3djcxHeMscy++//46KUlQP+DC3F198Ed988w22bNmC+vXra7cfO3YMDRs2xN69e9GmTRvt9vvuuw/Vq1fHokWLsHHjRtx99924ePGi09l4rVq1wv3334/Jkyfj3//+N0aPHl3sarTVq1fHzJkzMXToUPzjH//AqlWrtAEGigY2JCQEGzduRLdu3TB48GBkZ2dj1apV2jpJSUm4/fbbcezYMadtdygsLNSeOANFF8eoU6cOsrKyUL169T//NUqnc1q22WxQFKXcZZ1OB0VRnJatViv0er3TMlD0pPTqZYPBoM0GO5btdjv0er3TsuNfLstbLmk/EhMT0a5dO9iG2WCI+uPnwQajYoRNtcEOe6nLJsUEq2rVli2qBSpUmBQTzGrR5xyUtKxAgVExwqyaoYMOBsWgLesVPSyqpdRlPf4YN9XqtOz4lwrHsmM/rl6+7n1KV2FaaMK2bdtw++23V3qnxMREtG/fHtanrNBHummfvK1Tuh3GBUZs374dMTExlX5/SkxMRIcOHWAZaoEu0oN+9zylU7oK29yig2CbNm1c8ri3d+9edOzYEeYhZiiRHvS75ymdMhVY51idGlT28SkpKanofjDEAjXSQ373PKlTph6WORbs2bMHrVu3vq5jblmdkpOT0bZtWxhHGGGL8KDfPU/qlGmCeU7Rk/BWrVpV+nOjpKQktG3bFoZnDVBredDvnid1yjTBMrfoftCyZctKfw7raKB/Vg8l0oN+9zypU6YRtk9t2L17N1q1alXprzUSExNxxx13QPeMDvooD/rd86ROGQao81Xs2rULrVq1qvTXhI4GeAYwRV3fPq0ftB5pOWl44YcXkDM+B32/6IvVv63W9ml2n9loUL0B7ll6D6qYquDcuHMYvGIwlh9cDoNiQHjVcJx8+ST6LeuHNb+vQVVTVZwddxYvfv8i5ifNh1ExQlEUpL6cisk/TsbcxLkldvp7nb/jp6E/ofEHjfHbpd8wou0ITO0+FeHTw2G1W2FUjBjVcRTi/x6PBu83qHinDD2UzxTs3LkTrVu3vuZjbnmd9uzZg3bt2sH+tB2mKA/63fOU+1OaGbr5OuzatQsxMTE3NB/hLXMs2dnZCAkJQXZ2NoKCglAW0TPxVFXFCy+8gBUrVmDjxo3FJsHq16+PiIgIrFu3TrvNbDZj8+bN6NixIwAgJiYGRqPRaZ2MjAykpKRo63To0AHZ2dnYtWuXts7OnTuRnZ3ttE5KSgoyMjK0dRISEuDn54eYmBhtnS1btsBsNjutExkZiejo6BL30c/PD0FBQU5/AGinz+p0uhKX9Xp9hZYdZwBevWwwGIotK4pSbBlAsWXHL+DVyzqdrkLLJe2H45cfKHpgsKFo2aJatPfcl7ZsVs1OyypUbdmhpGUVqrZsh91pWYGCifUnwqAYYFEt2u2OZRts2gd6Xr1sVa1Oy479qLR9Mptd1snxQOP2fSqlEwBMrD9Re7AuqVNJbVzeyWJx6f3JcZafW/eplE4AMKH+BKcDaWnNyro/VVon1aaNkysf9xyP3W7Zp3I6KVAwvv547UmOKx/3KrRPdmuxBq44PpnNbtyncjrpoMNr9V/TnnRKH58sdovW4HqPuWV1cjSw2N24T+V00it6vBpd9DZCTzg+me1mrYErnhtpbxN15z6V08mgGPBKdNHbaT3h+GS2m/9827ELnsM6GthUoed7JbS5+uwUTzg+WewW7UWvK15rOO4TYs/3/tLJoBgwsf5EAPCY45NVtWqvn1zxmtDx9yq6T5O6TULnup1RJ7gOmtzSBP/s/k90je6KxfsXI9ecix9P/Ih3eryDLvW6oE71Onii5RMY3HIwVvy6AlbVipzCHHyW9BmmxU1D9/rd0Ty8ORY9sAj7z+7HmqNrYFAMiI+Kx7w98/BG1zcQ2yAW9UPq46M+HwEAlh1YBjvs6H1rbwxoNQDNbmmGesH1cHfDu/FJn0+wNXUrfrv0GwDgi/1foNBWiIX3L0SzW5rhnib3YELnCZixY8a1dVJt2uun6znmltfp6skltz7fK+V3TwcdJtafCB10HnN8stvtTuPliudGnjjHUhGG8ldxneeffx5ffPEFVq1ahcDAQO1z5YKDgxEQEABFUTBq1ChMnToVjRo1QqNGjTB16lRUqVIFAwYM0NYdNmwYxowZg9DQUISEhGDs2LFo0aIFevQoOmW2adOm6NWrF4YPH465c+cCAJ555hn07dtXO108Li4OzZo1w6BBgzBt2jRcvHgRY8eOxfDhw7WJtwEDBmDy5MkYMmQIJkyYgN9++w1Tp07FP/7xDy0oeTazasaHqR8Wm1Qi92EDeWwgjw3ksYE8NpDHBvLYQBbHv3zh1cKx+IHFqFWtFrILs/HLmV/Qa2kvrD+2HgDw2H8fw9t3v42l/ZciJCAEJ7NPYuLGiZizZ472PV5e8zKsdiu+eugrBBgDsOHYBgxZNgR21Q4zihoUnCxAob0Qix9YjABjAHae3onun3fXLohRYC3A8NuHY2bPmfDT++FUzimsOLQC72x9R/s5OYU5iF0ci4/u+Qh7ntmDrIIszNgxAzO2z3DrmHkb3g+8i+gk3ieffAIA6Nq1q9PtCxYswJAhQwAAr7zyCgoKCjBy5EhkZWWhXbt2SEhIQGBgoLb+zJkzYTAY8Mgjj6CgoAB33303Fi5c6DSbuXTpUsTHx2tXse3Xrx9mz56tfV2v12P16tUYOXIkOnXqhICAAAwYMADTp0/X1gkODsa6devw/PPPo23btqhRowZGjx6N0aNHV/bQkAsV2gvLX4lcig3ksYE8NpDHBvLYQB4byGMDWRz/sl199deSnMk/g6e+farMdQpthYj/IR7xP8SX/HV7IayqFePWjcO4deNKXOfHEz+i0787lbu9KWdT0GVhl3LXI2e8H3gP8bfTlvTHMYEHFJ1yOGnSJGRkZODKlSvYvHmzdvVaB39/f8yaNQsXLlzA5cuX8b///U+7gIRDSEgIlixZol0hdsmSJahevbrTOnXr1sV3332Hy5cv48KFC5g1axb8/Pyc1mnRogW2bNmCK1euICMjA2+88QbPwvMiV79lgWSwgTw2kMcG8thAHhvIYwN5bCCL4y+PDeSxgXfxmKvTErmDWTVj2olpPFVYEBvIYwN5bCCPDeSxgTw2kMcGsjj+8thAHht4F07ikc/x0/mVvxK5FBvIYwN5bCCPDeSxgTw2kMcGsjj+8thAHht4D07ikU8xKSbE143nqcKC2EAeG8hjA3lsII8N5LGBPDaQxfGXxwby2MC7iF7YgsjdzKoZU45Pkd4Mn8YG8thAHhvIYwN5bCCPDeSxgSyOvzw2kMcG3oVn4pFPUaCgprEmFPBiJFLYQB4byGMDeWwgjw3ksYE8NpDF8ZfHBvLYwLtwEo98ilExYmjkUBgVo/Sm+Cw2kMcG8thAHhvIYwN5bCCPDWRx/OWxgTw28C58Oy35FLNqxrST06Q3w6exgTw2kMcG8thAHhvIYwN5bCCL4y+PDeSxgXfhmXjkU3TQIcovCjr+6othA3lsII8N5LGBPDaQxwby2EAWx18eG8hjA+/CSuRTDIoBD4Y/CIPCk1ClsIE8NpDHBvLYQB4byGMDeWwgi+Mvjw3ksYF3YSXyKWbVjA9TP5TeDJ/GBvLYQB4byGMDeWwgjw3ksYEsjr88NpDHBt6FZ+KRT9FBhwYBDXiqsCA2kMcG8thAHhvIYwN5bCCPDWRx/OWxgTw28C6sRD5Fr+gRGxoLvaKX3hSfxQby2EAeG8hjA3lsII8N5LGBLI6/PDaQxwbehW+nJZ9iUS2Ye3qu9Gb4NDaQxwby2EAeG8hjA3lsII8NZHH85bGBPDbwLjwTj3yKDjo0rdqUpwoLYgN5bCCPDeSxgTw2kMcG8thAFsdfHhvIYwPvwkrkU/SKHu2C2/FUYUFsII8N5LGBPDaQxwby2EAeG8ji+MtjA3ls4F34dlryKRbVgoXpC6U3w6exgTw2kMcG8thAHhvIYwN5bCCL4y+PDeSxgXfhmXjkU3TQoXVga54qLIgN5LGBPDaQxwby2EAeG8hjA1kcf3lsII8NvAsrkU/RK3o0rdqUpwoLYgN5bCCPDeSxgTw2kMcG8thAFsdfHhvIYwPvwrfTkk+xqBYsy1wmvRk+jQ3ksYE8NpDHBvLYQB4byGMDWRx/eWwgjw28C8/EI5+ixx8f2gn+K4MUNpDHBvLYQB4byGMDeWwgjw1kcfzlsYE8NvAunMQjn6IoCqL8oqAoivSm+Cw2kMcG8thAHhvIYwN5bCCPDWRx/OWxgTw28C58Oy35FKtqxYqzK6Q3w6exgTw2kMcG8thAHhvIYwN5bCCL4y+PDeSxgXfhmXjkU/TQ467qd/FUYUFsII8N5LGBPDaQxwby2EAeG8ji+MtjA3ls4F04iUc+RVEUBBoCeaqwIDaQxwby2EAeG8hjA3lsII8NZHH85bGBPDbwLnw7LfkUq2rF6vOrpTfDp7GBPDaQxwby2EAeG8hjA3lsIIvjL48N5LGBd+GZeORTDIoBPUJ6wKBw/loKG8hjA3lsII8N5LGBPDaQxwayOP7y2EAeG3gXTuIRERERERERERF5OE61kk+xqlasv7heejN8GhvIYwN5bCCPDeSxgTw2kMcGsjj+8thAHht4F56JRz7FoBjQp2YfniosiA3ksYE8NpDHBvLYQB4byGMDWRx/eWwgjw28CyfxyKeoqopcay5UVZXeFJ/FBvLYQB4byGMDeWwgjw3ksYEsjr88NpDHBt6FU63kU2ywYculLdKb4dPYQB4byGMDeWwgjw3ksYE8NpDF8ZfHBvLYwLvwTDzyKQbFgP5h/XmqsCA2kMcG8thAHhvIYwN5bCCPDWRx/OWxgTw28C6cxCOfoqoq0grTeKqwIDaQxwby2EAeG8hjA3lsII8NZHH85bGBPDbwLpxqJZ9igw07s3dKb4ZPYwN5bCCPDeSxgTw2kMcG8thAFsdfHhvIYwPvwjPxyKcYFSMej3gcRsUovSk+iw3ksYE8NpDHBvLYQB4byGMDWRx/eWwgjw28CyfxyKfYVBsO5R+CTbVJb4rPYgN5bCCPDeSxgTw2kMcG8thAFsdfHhvIYwPvwrfTkk+xw47k3GTpzfBpbCCPDeSxgTw2kMcG8thAHhvI4vjLYwN5bOBdeCYe+RSjYsSQyCE8VVgQG8hjA3lsII8N5LGBPDaQxwayOP7y2EAeG3gXTuKRT7GpRR/ayVOF5bCBPDaQxwby2EAeG8hjA3lsIIvjL48N5LGBd+Hbacmn2GHHofxD0pvh09hAHhvIYwN5bCCPDeSxgTw2kMXxl8cG8tjAu/BMPPIpRsWIZ2s/y1OFBbGBPDaQxwby2EAeG8hjA3lsIIvjL48N5LGBd+EkHvkUm2rDugvreKqwIDaQxwby2EAeG8hjA3lsII8NZHH85bGBPDbwLnw7LfkUO+w4VnBMejN8GhvIYwN5bCCPDeSxgTw2kMcGsjj+8thAHht4F56JRz7FpJgQXzceJsUkvSk+iw3ksYE8NpDHBvLYQB4byGMDWRx/eWwgjw28CyfxyKdYVSu+PvM1rKpVelN8FhvIYwN5bCCPDeSxgTw2kMcGsjj+8thAHht4F76dlnyKHXakFaZJb4ZPYwN5bCCPDeSxgTw2kMcG8thAFsdfHhvIYwPvwjPxyKeYFBPG1RvHU4UFsYE8NpDHBvLYQB4byGMDeWwgi+Mvjw3ksYF34SQe+RSLasGC9AWwqBbpTfFZbCCPDeSxgTw2kMcG8thAHhvI4vjLYwN5bOBd+HZa8ikqVJy3nJfeDJ/GBvLYQB4byGMDeWwgjw3ksYEsjr88NpDHBt6FZ+KRTzEpJkysP5GnCgtiA3lsII8N5LGBPDaQxwby2EAWx18eG8hjA+/CSTzyKWbVjA9TP4RZNUtvis9iA3lsII8N5LGBPDaQxwby2EAWx18eG8hjA+/CSTzyOYX2QulN8HlsII8N5LGBPDaQxwby2EAeG8ji+MtjA3ls4D04iUc+xaSYMC6aV96RxAby2EAeG8hjA3lsII8N5LGBLI6/PDaQxwbehZN45FPMqhnTTkzjqcKC2EAeG8hjA3lsII8N5LGBPDaQxfGXxwby2MC7cBKPfI6fzk96E3weG8hjA3lsII8N5LGBPDaQxwayOP7y2EAeG3gPTuKRTzEpJsTXjeepwoLYQB4byGMDeWwgjw3ksYE8NpDF8ZfHBvLYwLsYpDeAyJ3MqhlTjk+R3gyfxgby2EAeG8hjA3lsII8N5LGBLI6/PDaQxwbehWfikU9RoKCmsSYUKNKb4rPYQB4byGMDeWwgjw3ksYE8NpDF8ZfHBvLYwLtwEo98ilExYmjkUBgVo/Sm+Cw2kMcG8thAHhvIYwN5bCCPDWRx/OWxgTw28C58Oy35FLNqxrST06Q3w6exgTw2kMcG8thAHhvIYwN5bCCL4y+PDeSxgXcRPRNvy5YtuPfeexEZGQlFUfDNN984fV1VVUyaNAmRkZEICAhA165dceDAAad1CgsL8eKLL6JmzZqoWrUq+vXrh9OnTzutk5WVhUGDBiE4OBjBwcEYNGgQLl265LROamoq7r33XlStWhU1a9ZEfHw8zGbnSyzv378fXbp0QUBAAKKiovDmm29CVdVKGw9yPR10iPKLgo4noYphA3lsII8N5LGBPDaQxwby2EAWx18eG8hjA+8iWik/Px+tWrXC7NmzS/z6u+++ixkzZmD27NnYvXs3IiIiEBsbi9zcXG2dUaNGYeXKlfjyyy+xdetW5OXloW/fvrDZbNo6AwYMQHJyMtasWYM1a9YgOTkZgwYN0r5us9nQp08f5OfnY+vWrfjyyy/x9ddfY8yYMdo6OTk5iI2NRWRkJHbv3o1Zs2Zh+vTpmDFjhgtGhlzFoBjwYPiDMCg8CVUKG8hjA3lsII8N5LGBPDaQxwayOP7y2EAeG3gX0Uq9e/dG7969S/yaqqp4//33MXHiRPTv3x8AsGjRIoSHh+OLL77As88+i+zsbHz22WdYvHgxevToAQBYsmQJ6tSpg/Xr16Nnz544dOgQ1qxZgx07dqBdu3YAgHnz5qFDhw44fPgwmjRpgoSEBBw8eBCnTp1CZGQkAOC9997DkCFDMGXKFAQFBWHp0qW4cuUKFi5cCD8/PzRv3hxHjhzBjBkzMHr0aCgKPwTSG5hVMz5M/VB6M3waG8hjA3lsII8N5LGBPDaQxwayOP7y2EAeG3gXjz1f8vjx48jMzERcXJx2m5+fH7p06YJt27YBABITE2GxWJzWiYyMRPPmzbV1tm/fjuDgYG0CDwDat2+P4OBgp3WaN2+uTeABQM+ePVFYWIjExERtnS5dusDPz89pnfT0dJw4caLU/SgsLEROTo7THwCw2+3a/5e0bLPZKrTseDvv1ctWq7XYsqqqxZYBFFt2nMF49bLdbq/Qckn7oaoq9Ho9gKIZfj2Klo2KUTtdt7Rlk2JyWnZcLcekmLTxLWlZgaIt66BzWvZT/NAgoAEMMGgf3KmDTlvWQ6/9C8TVywbF4LTs2I9K2yeTyWWdVFWFwSCwT6V08lf80SCgAfTQl9qppDYu72Q0uvT+ZDQK7FMpnfwVfzQMaOg07qU1K+v+VGmdFL02Tq583DOZ3LhP5XTyU/xwa8Ct2vd25eNehfZJZyjWwBXHJ5PJjftUTieTYtIaeMLxyagzag2u95hbVidHA6POjftUTicjjGhUpRF00HnE8cmkM2kNXPHcyNHArftUTicDDGhcpTF0f/xP+vhk0pm0fxh3xXNYRwO9IvR8r4Q2OujQpEoT6KDziOOTUWeETle07IrXGo77hNjzvb90MsCABgEN4K/4e8zxyaAYtNdPrnhN6Ph7bt+nUjo5Gvgpfh5zfNIreu310/Ucc8vrZLfbtfuZW5/vldLJpJjQIKABTIrJY45POp3Oabxc8dzIE+dYKsJjJ/EyMzMBAOHh4U63h4eHa1/LzMyEyWRCjRo1ylwnLCys2PcPCwtzWuevP6dGjRowmUxlruP4b8c6JXn77be1z+ILDg5GnTp1AECb+Dt16hROnToFoGjiMj09HQBw9OhRnDlzBgBw5MgRnD9/HgBw6NAhZGVlAQBSUlKQnZ0NANi3bx/y8vIAAElJSSgoKAAA7NmzB2azGTabDXv27IHNZoPZbMaePXsAAAUFBUhKSgIA5OXlYd++fQCA7OxspKSkACj6TMFDhw4BAM6fP48jR44AAM6cOYOjR48CANLT03H8+PFi+5SXl4dOnToBAPrd0g9tg9sCAB4KfwgtA1sCAJ6o9QSaVG0CAHgq6ilEB0QDAEbUGYFafrUAAC/VfQmhxlAAwLjocQjUB8KkmDAuehxMigmB+kCMix4HAAg1huKlui8BAGr51cKIOiMAANEB0Xgq6inEhsaiabWmeKLWEwCAloEt8VD4QwCAtsFt0e+WfgCATtU7oWdoTwBA1xpd0bVGVwBAz9Ce6FS9kvdp3DjtzlvZnQoKCtCvn8A+ldJpbPRYxIbGIswUVmYnAGhStYn7Oj31FCwWC4DKvz9ZLBY89ZTAPpXSKb5ePPre0hd6RX/D96dK2adaRfuUm5vrssc9u92OcePcuE8V6PRQ+EPQK3q3PO6Vu0/RRft0+fLlEh/LK+v49NJLLyHU3037VE6nXjV7YWDkQOgVvWccn5oW7ZPZbL7uY25ZnQoLC4v2qbF7j7lldboj+A48HfU09IreI45P49oU7ZPNZnPJc6P8/Pyifarrxn0qp1ODKg3wfJ3noVf0HnF8eqnVSwgNLdonVzyHdfxjetswoed7JXSqbqiOMdFjoFf0nnF8avwEmjQp2idXvNZwHCeig4Se7/2lU5R/FGJDYxFfL959x9zy9qluT+31kyteE164cAEmkwmBRjc/3yulU6vAVogNjXX7a8Iy9ymsrfb66XqOueV1ysrKQq1aAs/3SunULaQbYkNj0atmL485PkVHR2tjdyPzEd4yx/L777+johTVQ67MoCgKVq5cifvvvx8AsG3bNnTq1Anp6enaLzgADB8+HKdOncKaNWvwxRdfYOjQodoTU4fY2Fg0bNgQc+bMwdSpU7Fo0SIcPnzYaZ1GjRph2LBheO211/DMM8/g5MmTWLt2rdM6JpMJn3/+OR577DHExcWhfv36mDt3rvb1tLQ01K5dG9u3b0f79u1L3K/CwkKn7cvJyUGdOnWQlZWF6tWr//mvUTqd07LNZoOiKOUu63Q6KIritGy1WqHX652WgaInpVcvGwwGbTbYsWy326HX652WHf9yWd5ySfuRmJiIdu3awTbMBkPUHz8PNhgVI2yqDXbYS102KSZYVau2bFEtUKHCpJhgVosuOlLSsgIFRsUIs2qG4wwLx7Je0cOiWkpd1uOPcVOtTsuOf6lwLDv24+rl696ndBWmhSZs27YNt99+e6V3SkxMRPv27WF9ygp9pJv2yds6pdthXGDE9u3bERMTU+n3p8TERHTo0AGWoRboIj3od89TOqWrsM0tOgi2adPGJY97e/fuRceOHWEeYoYS6UG/e57SKVOBdY7VqUFlH5+SkpKK7gdDLFAjPeR3z5M6ZephmWPBnj170Lp16+s65pbVKTk5GW3btoVxhBG2CA/63fOkTpkmmOcUPQlv1apVpT83SkpKQtu2bWF41gC1lgf97nlSp0wTLHOL7gctW7as9Oewjgb6Z/VQIj3od8+TOmUaYfvUht27d6NVq1aV/lojMTERd9xxB3TP6KCP8qDfPU/qlGGAOl/Frl270KpVq0p/TehogGcAU5QH/e55UqcMPZTPFOzcuROtW7e+5mNueZ327NmDdu3awf60HaYoD/rd85ROaWbo5uuwa9cuxMTE3NB8hLfMsWRnZyMkJATZ2dkICgpCWTz2kwsjIiIAFJ3ldvUk3tmzZ7Uz4CIiImA2m5GVleV0Nt7Zs2fRsWNHbR3HbOvVzp075/R9du7c6fT1rKwsWCwWp3X+esbd2bNnARQ/W/Bqfn5+Tm/BdXCcPuv4/78uO34RrmfZcepvRZYVRXFadnyfq5dL28aKLDt++YGiBwYHi2opd9lxB7/WZRWqtmyH3WkZKtC0alMczj+s/Sw77LCrf5w+Cxvwx7T21ctXb3tpyze0T2YzFEVx6gFUTifHA43b96mUZatq1RqU1snRo7Rll3SyWLS38Lji/uQ4y8+t+1RKJ6tqxd+q/s2pwV/Xqcj9qdI6/XG74+AJVP7jnqIo2hXH3bJPJSxf3cOm2tCkahOnxyLANY97FdqnP95Zc3UDVxyfrr7qu/Tvnl21aw084fjkeJJZWcffvzZwPL5Z7G7cp3I6qVDRuEpjHM4/7BHHJ7O9aNlVz420t4m6c5/K6QQAt1a5FYfzD3vE8clsN2vf3xXPYR0NbKrQ870SlnXQoWGVhloD6eOTxW7RjgmueK3haCL2fO8vnXTQac9L1T9+gPTxyapagT/eWeeK14RX3y/cuk8lLDsmmhwN7H/88kkfn2yqDbAWH6/Kem509eSSW5/vldKppAbSxye73a49Zt/I8yFvmWO5+meVx2PfTlu/fn1ERERg3bp12m1msxmbN2/WJuhiYmJgNBqd1snIyEBKSoq2TocOHZCdnY1du3Zp6+zcuRPZ2dlO66SkpCAjI0NbJyEhAX5+foiJidHW2bJli9MLkISEBERGRiI6OrryB4BcQq/o0S64nfYZXOR+bCCPDeSxgTw2kMcG8thAHhvI4vjLYwN5bOBdRCfx8vLykJycjOTkZABF71dOTk5GamoqFEXBqFGjMHXqVKxcuRIpKSkYMmQIqlSpggEDBgAAgoODMWzYMIwZMwYbNmxAUlISBg4ciBYtWmhXq23atCl69eqF4cOHY8eOHdixYweGDx+Ovn37ap/3EBcXh2bNmmHQoEFISkrChg0bMHbsWAwfPlw7lXHAgAHw8/PDkCFDkJKSgpUrV2Lq1Km8Mq2XsagWLExf6PSvBuRebCCPDeSxgTw2kMcG8thAHhvI4vjLYwN5bOBdRCfxHJ+906ZNGwDA6NGj0aZNG/zjH/8AALzyyisYNWoURo4cibZt2yItLQ0JCQkIDAzUvsfMmTNx//3345FHHkGnTp1QpUoV/O9//3M6HXHp0qVo0aIF4uLiEBcXh5YtW2Lx4sXa1/V6PVavXg1/f3906tQJjzzyCO6//35Mnz5dWyc4OBjr1q3D6dOn0bZtW4wcORKjR4/G6NGjXT1MVIl00KF1YGvoPPck1JseG8hjA3lsII8N5LGBPDaQxwayOP7y2EAeG3gX0c/E69q1q3aZ3pIoioJJkyZh0qRJpa7j7++PWbNmYdasWaWuExISgiVLlpS5LXXr1sV3331X5jotWrTAli1bylyHPJte0aNp1aY4kHdA+3wAci82kMcG8thAHhvIYwN5bCCPDWRx/OWxgTw28C4ee2ELIlewqBYsy1wmvRk+jQ3ksYE8NpDHBvLYQB4byGMDWRx/eWwgjw28C8+XJJ+ixx8f2gl+aKcUNpDHBvLYQB4byGMDeWwgjw1kcfzlsYE8NvAunMQjn6IoCqL8ongxEkFsII8N5LGBPDaQxwby2EAeG8ji+MtjA3ls4F34dlryKVbVihVnV0hvhk9jA3lsII8N5LGBPDaQxwby2EAWx18eG8hjA+/CM/HIp+ihx13V7+KpwoLYQB4byGMDeWwgjw3ksYE8NpDF8ZfHBvLYwLtwEo98iqIoCDQE8lRhQWwgjw3ksYE8NpDHBvLYQB4byOL4y2MDeWzgXfh2WvIpVtWK1edXS2+GT2MDeWwgjw3ksYE8NpDHBvLYQBbHXx4byGMD78Iz8cinGBQDeoT0gEHh/LUUNpDHBvLYQB4byGMDeWwgjw1kcfzlsYE8NvAunMQjIiIiIiIiIiLycJxqJZ9iVa1Yf3G99Gb4NDaQxwby2EAeG8hjA3lsII8NZHH85bGBPDbwLjwTj3yKQTGgT80+PFVYEBvIYwN5bCCPDeSxgTw2kMcGsjj+8thAHht4F07ikU9RVRW51lyoqiq9KT6LDeSxgTw2kMcG8thAHhvIYwNZHH95bCCPDbwLp1rJp9hgw5ZLW6Q3w6exgTw2kMcG8thAHhvIYwN5bCCL4y+PDeSxgXfhmXjkUwyKAf3D+vNUYUFsII8N5LGBPDaQxwby2EAeG8ji+MtjA3ls4F04iUc+RVVVpBWm8VRhQWwgjw3ksYE8NpDHBvLYQB4byOL4y2MDeWzgXTjVSj7FBht2Zu+U3gyfxgby2EAeG8hjA3lsII8N5LGBLI6/PDaQxwbehWfikU8xKkY8HvE4jIpRelN8FhvIYwN5bCCPDeSxgTw2kMcGsjj+8thAHht4F07ikU+xqTYcyj8Em2qT3hSfxQby2EAeG8hjA3lsII8N5LGBLI6/PDaQxwbehW+nJZ9ihx3JucnSm+HT2EAeG8hjA3lsII8N5LGBPDaQxfGXxwby2MC78Ew88ilGxYghkUN4qrAgNpDHBvLYQB4byGMDeWwgjw1kcfzlsYE8NvAunMQjn2JTiz60k6cKy2EDeWwgjw3ksYE8NpDHBvLYQBbHXx4byGMD78K305JPscOOQ/mHpDfDp7GBPDaQxwby2EAeG8hjA3lsIIvjL48N5LGBd+GZeORTjIoRz9Z+lqcKC2IDeWwgjw3ksYE8NpDHBvLYQBbHXx4byGMD78JJPPIpNtWGdRfW8VRhQWwgjw3ksYE8NpDHBvLYQB4byOL4y2MDeWzgXfh2WvIpdthxrOCY9Gb4NDaQxwby2EAeG8hjA3lsII8NZHH85bGBPDbwLjwTj3yKSTEhvm48TIpJelN8FhvIYwN5bCCPDeSxgTw2kMcGsjj+8thAHht4F07ikU+xqlZ8feZrWFWr9Kb4LDaQxwby2EAeG8hjA3lsII8NZHH85bGBPDbwLnw7LfkUO+xIK0yT3gyfxgby2EAeG8hjA3lsII8N5LGBLI6/PDaQxwbehWfikU8xKSaMqzeOpwoLYgN5bCCPDeSxgTw2kMcG8thAFsdfHhvIYwPvwkk88ikW1YIF6QtgUS3Sm+Kz2EAeG8hjA3lsII8N5LGBPDaQxfGXxwby2MC78O205FNUqDhvOS+9GT6NDeSxgTw2kMcG8thAHhvIYwNZHH95bCCPDbwLz8Qjn2JSTJhYfyJPFRbEBvLYQB4byGMDeWwgjw3ksYEsjr88NpDHBt6Fk3jkU8yqGR+mfgizapbeFJ/FBvLYQB4byGMDeWwgjw3ksYEsjr88NpDHBt6Fk3jkcwrthdKb4PPYQB4byGMDeWwgjw3ksYE8NpDF8ZfHBvLYwHtwEo98ikkxYVw0r7wjiQ3ksYE8NpDHBvLYQB4byGMDWRx/eWwgjw28CyfxyKeYVTOmnZjGU4UFsYE8NpDHBvLYQB4byGMDeWwgi+Mvjw3ksYF34SQe+Rw/nZ/0Jvg8NpDHBvLYQB4byGMDeWwgjw1kcfzlsYE8NvAenMQjn2JSTIivG89ThQWxgTw2kMcG8thAHhvIYwN5bCCL4y+PDeSxgXcxSG8AkTuZVTOmHJ8ivRk+jQ3ksYE8NpDHBvLYQB4byGMDWRx/eWwgjw28C8/EI5+iQEFNY00oUKQ3xWexgTw2kMcG8thAHhvIYwN5bCCL4y+PDeSxgXfhJB75FKNixNDIoTAqRulN8VlsII8N5LGBPDaQxwby2EAeG8ji+MtjA3ls4F34dlryKWbVjGknp0lvhk9jA3lsII8N5LGBPDaQxwby2EAWx18eG8hjA+/CM/HIp+igQ5RfFHT81RfDBvLYQB4byGMDeWwgjw3ksYEsjr88NpDHBt6FlcinGBQDHgx/EAaFJ6FKYQN5bCCPDeSxgTw2kMcG8thAFsdfHhvIYwPvwkrkU8yqGR+mfii9GT6NDeSxgTw2kMcG8thAHhvIYwNZHH95bCCPDbwLz8Qjn6KDDg0CGvBUYUFsII8N5LGBPDaQxwby2EAeG8ji+MtjA3ls4F1YiXyKXtEjNjQWekUvvSk+iw3ksYE8NpDHBvLYQB4byGMDWRx/eWwgjw28C99OSz7Folow9/Rc6c3waWwgjw3ksYE8NpDHBvLYQB4byOL4y2MDeWzgXXgmHvkUHXRoWrUpTxUWxAby2EAeG8hjA3lsII8N5LGBLI6/PDaQxwbehZXIp+gVPdoFt+OpwoLYQB4byGMDeWwgjw3ksYE8NpDF8ZfHBvLYwLvw7bTkUyyqBQvTF0pvhk9jA3lsII8N5LGBPDaQxwby2EAWx18eG8hjA+/CM/HIp+igQ+vA1jxVWBAbyGMDeWwgjw3ksYE8NpDHBrI4/vLYQB4beBdWIp+iV/RoWrUpTxUWxAby2EAeG8hjA3lsII8N5LGBLI6/PDaQxwbehW+nJZ9iUS1YlrlMejN8GhvIYwN5bCCPDeSxgTw2kMcGsjj+8thAHht4F56JRz5Fjz8+tBP8VwYpbCCPDeSxgTw2kMcG8thAHhvI4vjLYwN5bOBdOIlHPkVRFET5RUFRFOlN8VlsII8N5LGBPDaQxwby2EAeG8ji+MtjA3ls4F34dlryKVbVihVnV0hvhk9jA3lsII8N5LGBPDaQxwby2EAWx18eG8hjA+/CM/HIp+ihx13V7+KpwoLYQB4byGMDeWwgjw3ksYE8NpDF8ZfHBvLYwLtwEo98iqIoCDQE8lRhQWwgjw3ksYE8NpDHBvLYQB4byOL4y2MDeWzgXfh2WvIpVtWK1edXS2+GT2MDeWwgjw3ksYE8NpDHBvLYQBbHXx4byGMD78Iz8a7Dxx9/jPr168Pf3x8xMTH46aefpDeJKsigGNAjpAcMCuevpbCBPDaQxwby2EAeG8hjA3lsIIvjL48N5LGBd+Ek3jVavnw5Ro0ahYkTJyIpKQl33nknevfujdTUVOlNIyIiIiIiIiKimxQn8a7RjBkzMGzYMDz99NNo2rQp3n//fdSpUweffPKJ9KZRBVhVK9ZfXA+rapXeFJ/FBvLYQB4byGMDeWwgjw3ksYEsjr88NpDHBt6F50teA7PZjMTERLz22mtOt8fFxWHbtm0l/p3CwkIUFhZq/52dnQ0AuHTpEgDAbrcDAHQ6ndOyzWaDoijlLut0OiiK4rRstVqh1+udlgHAZrM5LRsMBqiq6rRst9uh1+udlu12O1RVLXe5pP3Izc0tui3DDr31j++r2mHQGWBTbVBVtfiy3QYVKow6I6x2q7ZssVsA4JqWFSgw6Azasp/eD3dF3oVNaZugQoXVboWiKNAreljtVuiUP8bTbitahgKbaoNe+WPc/lhWUbQfel0l7NMFwGg0Ijc3F9nZ2ZXeKTc3F3q9HrYMG3QWN+1TGW0C9AG4M/JObDy9EYqilNhJr9MXa+PSTudVGAwG5ObmIicnp9LvT7m5uTAYDLBmWKFY3LRPZXRyNNhwegN0iu6670+V1umCCjvsyM3NxaVLl1zyuJebmwuj0QhLhgUwu2Gfyunkr/dHl8guWH96vfb9XPW4V6F9uqjABptTg8o+PuXl5ZXYQOp3z0/nh65RXbH+9HpAgfjxSZ+lhxVW5ObmIisr67qOuWV1ys3NBQAYzhhgs7hpn8rpZNKZ0L12d6w7tQ4qVPHjk/GSERZYkJubi4sXL1b6cyNHA/0ZPVSLm/apnE5GxYgedXog4VQC7LCLH58cDfLy8nDx4sVKfw7raKDL1EGxuvn5Xik99IoecXXikHAqATbVJn58MmQZYFNsyMvLQ1ZWVqW/1sjJyQEAKJkK9FY3P98roRNUoFvtbvgp/ScU2Apc/rhXoX3K0kPVqVqDyn5N6GiADMBodePzvVI6KVDQLaobtqRvQaG90COOT7qLOih6BXl5edrr9sp8bpSTkwNFUaBmqCU2cPfvnkExoEtUF2xO2wyLapE/Pp2zQFEU7bXZjcxHeMsci2OeSFVVlEdRK7IWAQDS09MRFRWFn3/+GR07dtRunzp1KhYtWoTDhw8X+zuTJk3C5MmT3bmZRERERERERETkRU6dOoXatWuXuQ7PxLsOf730sqqqpV6Oefz48Rg9erT233a7HRcvXkRoaCgv4SwgJycHderUwalTpxAUFCS9OT6JDeSxgTw2kMcG8thAHhvIYwNZHH95bCCPDeSpqorc3FxERkaWuy4n8a5BzZo1odfrkZmZ6XT72bNnER4eXuLf8fPzg5+fn9Nt1atXd9UmUgUFBQXxAUoYG8hjA3lsII8N5LGBPDaQxwayOP7y2EAeG8gKDg6u0Hq8sMU1MJlMiImJwbp165xuX7dundPba4mIiIiIiIiIiCoTz8S7RqNHj8agQYPQtm1bdOjQAZ9++ilSU1MxYsQI6U0jIiIiIiIiIqKbFCfxrtGjjz6KCxcu4M0330RGRgaaN2+O77//HvXq1ZPeNKoAPz8/vPHGG8Xe4kzuwwby2EAeG8hjA3lsII8N5LGBLI6/PDaQxwbehVenJSIiIiIiIiIi8nD8TDwiIiIiIiIiIiIPx0k8IiIiIiIiIiIiD8dJPCIiIiIiIiIiIg/HSTwiIiIiIiIiIiIPx0k88jpvv/027rjjDgQGBiIsLAz3338/Dh8+7LSOqqqYNGkSIiMjERAQgK5du+LAgQNO63z66afo2rUrgoKCoCgKLl265PT1EydOYNiwYahfvz4CAgLQsGFDvPHGGzCbza7eRY/nrgYA0K9fP9StWxf+/v6oVasWBg0ahPT0dFfunsdz5/g7FBYWonXr1lAUBcnJyS7YK+/izgbR0dFQFMXpz2uvvebK3fMK7r4frF69Gu3atUNAQABq1qyJ/v37u2rXvIa7Gvz444/F7gOOP7t373b1bno0d94Pjhw5gvvuuw81a9ZEUFAQOnXqhE2bNrly97yCOxvs3bsXsbGxqF69OkJDQ/HMM88gLy/PlbvnFSqjwcWLF/Hiiy+iSZMmqFKlCurWrYv4+HhkZ2c7fZ+srCwMGjQIwcHBCA4OxqBBg8p8/uQr3NlgypQp6NixI6pUqYLq1au7Y/c8nrvGn6+PPQMn8cjrbN68Gc8//zx27NiBdevWwWq1Ii4uDvn5+do67777LmbMmIHZs2dj9+7diIiIQGxsLHJzc7V1Ll++jF69emHChAkl/pxff/0Vdrsdc+fOxYEDBzBz5kzMmTOn1PV9ibsaAEC3bt3w1Vdf4fDhw/j6669x9OhRPPTQQy7dP0/nzvF3eOWVVxAZGemS/fFG7m7w5ptvIiMjQ/vz+uuvu2zfvIU7G3z99dcYNGgQhg4din379uHnn3/GgAEDXLp/3sBdDTp27Oj0+5+RkYGnn34a0dHRaNu2rcv305O5837Qp08fWK1WbNy4EYmJiWjdujX69u2LzMxMl+6jp3NXg/T0dPTo0QO33nordu7ciTVr1uDAgQMYMmSIq3fR41VGg/T0dKSnp2P69OnYv38/Fi5ciDVr1mDYsGFOP2vAgAFITk7GmjVrsGbNGiQnJ2PQoEFu3V9P5M4GZrMZDz/8MJ577jm37qMnc9f48/Wxh1CJvNzZs2dVAOrmzZtVVVVVu92uRkREqO+88462zpUrV9Tg4GB1zpw5xf7+pk2bVABqVlZWuT/r3XffVevXr19p236zcGeDVatWqYqiqGazudK239u5evy///579W9/+5t64MABFYCalJTkit3waq5sUK9ePXXmzJmu2vSbhqsaWCwWNSoqSp0/f75Lt/9m4K5jgdlsVsPCwtQ333yzUrf/ZuCqBufOnVMBqFu2bNFuy8nJUQGo69evd83OeClXNZg7d64aFham2mw27bakpCQVgPrbb7+5Zme81I02cPjqq69Uk8mkWiwWVVVV9eDBgyoAdceOHdo627dvVwGov/76q4v2xju5qsHVFixYoAYHB1f6tt8M3DH+Dnx97H48E4+8nuMU35CQEADA8ePHkZmZibi4OG0dPz8/dOnSBdu2bbvhn+X4OfQndzW4ePEili5dio4dO8JoNN7YRt9EXDn+Z86cwfDhw7F48WJUqVKl8jb6JuPq+8C//vUvhIaGonXr1pgyZQrftlACVzXYu3cv0tLSoNPp0KZNG9SqVQu9e/cu9lY4ct+x4Ntvv8X58+d5BlIJXNUgNDQUTZs2xeeff478/HxYrVbMnTsX4eHhiImJqdyd8HKualBYWAiTyQSd7s+XbwEBAQCArVu3Vsam3zQqq0F2djaCgoJgMBgAANu3b0dwcDDatWunrdO+fXsEBwff8GuMm42rGlDFuHP8+frY/TiJR15NVVWMHj0anTt3RvPmzQFAe1tHeHi407rh4eE39JaPo0ePYtasWRgxYsT1b/BNyB0NXn31VVStWhWhoaFITU3FqlWrbnzDbxKuHH9VVTFkyBCMGDHC59+yVhZX3wdeeuklfPnll9i0aRNeeOEFvP/++xg5cmTlbPxNwpUNjh07BgCYNGkSXn/9dXz33XeoUaMGunTpgosXL1bSHng/dx6PP/vsM/Ts2RN16tS5/g2+CbmygaIoWLduHZKSkhAYGAh/f3/MnDkTa9as4WdSXcWVDbp3747MzExMmzYNZrMZWVlZ2lvYMjIyKmkPvF9lNbhw4QLeeustPPvss9ptmZmZCAsLK7ZuWFiYz7+t/GqubEDlc+f48/WxDE7ikVd74YUX8Msvv2DZsmXFvqYoitN/q6pa7LaKSk9PR69evfDwww/j6aefvq7vcbNyR4Nx48YhKSkJCQkJ0Ov1GDx4MFRVve5tvpm4cvxnzZqFnJwcjB8//oa382bm6vvAyy+/jC5duqBly5Z4+umnMWfOHHz22We4cOHCDW33zcSVDex2OwBg4sSJePDBBxETE4MFCxZAURT85z//ubENv4m463h8+vRprF27tthnJJFrG6iqipEjRyIsLAw//fQTdu3ahfvuuw99+/blBNJVXNngtttuw6JFi/Dee++hSpUqiIiIQIMGDRAeHg69Xn/D236zqIwGOTk56NOnD5o1a4Y33nijzO9R1vfxVa5uQGVz1/jz9bEcTuKR13rxxRfx7bffYtOmTahdu7Z2e0REBAAU+1eFs2fPFvvXh4pIT09Ht27d0KFDB3z66ac3ttE3GXc1qFmzJho3bozY2Fh8+eWX+P7777Fjx44b2/ibgKvHf+PGjdixYwf8/PxgMBhw6623AgDatm2LJ598shL2wPu56z5wtfbt2wMAfv/99xv6PjcLVzeoVasWAKBZs2babX5+fmjQoAFSU1NvZNNvGu68HyxYsAChoaHo16/f9W/wTcgdx4PvvvsOX375JTp16oTbb78dH3/8MQICArBo0aLK2Qkv5477wYABA5CZmYm0tDRcuHABkyZNwrlz51C/fv0b34GbQGU0yM3NRa9evVCtWjWsXLnS6eNbIiIicObMmWI/99y5czd8bL9ZuLoBlc1d48/Xx7I4iUdeR1VVvPDCC1ixYgU2btxY7IlL/fr1ERERgXXr1mm3mc1mbN68GR07drymn5WWloauXbvi9ttvx4IFC5w+h8SXubNBST8bKPpsGF/lrvH/8MMPsW/fPiQnJyM5ORnff/89AGD58uWYMmVK5eyMl5K8DyQlJQH4c3LJV7mrQUxMDPz8/HD48GHtNovFghMnTqBevXo3viNezN33A1VV7ey5ywAAA+NJREFUsWDBAgwePJgv6v7grgaXL18GgGLPg3Q6nXa2qq+SOB6Eh4ejWrVqWL58Ofz9/REbG3tD++DtKqtBTk4O4uLiYDKZ8O2338Lf39/p+3To0AHZ2dnYtWuXdtvOnTuRnZ19w8d2b+euBlQyd44/Xx97ABdeNIPIJZ577jk1ODhY/fHHH9WMjAztz+XLl7V13nnnHTU4OFhdsWKFun//fvXxxx9Xa9Wqpebk5GjrZGRkqElJSeq8efO0K64lJSWpFy5cUFVVVdPS0tRbb71V7d69u3r69Gmnn+Xr3NVg586d6qxZs9SkpCT1xIkT6saNG9XOnTurDRs2VK9cueL2/fYU7hr/vzp+/DivTvsHdzXYtm2bOmPGDDUpKUk9duyYunz5cjUyMlLt16+f2/fZ07jzfvDSSy+pUVFR6tq1a9Vff/1VHTZsmBoWFqZevHjRrfvsadz9WLR+/XoVgHrw4EG37aOnc1eDc+fOqaGhoWr//v3V5ORk9fDhw+rYsWNVo9GoJicnu32/PYk77wezZs1SExMT1cOHD6uzZ89WAwIC1A8++MCt++uJKqNBTk6O2q5dO7VFixbq77//7vR9rFar9n169eqltmzZUt2+fbu6fft2tUWLFmrfvn3dvs+exp0NTp48qSYlJamTJ09Wq1WrpiYlJalJSUlqbm6u2/fbU7hr/Pn62DNwEo+8DoAS/yxYsEBbx263q2+88YYaERGh+vn5qXfddZe6f/9+p+/zxhtvlPl9FixYUOrP8nXuavDLL7+o3bp1U0NCQlQ/Pz81OjpaHTFihHr69Gk37q3ncdf4/xUn8f7krgaJiYlqu3bt1ODgYNXf319t0qSJ+sYbb6j5+flu3FvP5M77gdlsVseMGaOGhYWpgYGBao8ePdSUlBQ37anncvdj0eOPP6527NjRDXvmPdzZYPfu3WpcXJwaEhKiBgYGqu3bt1e///57N+2p53Jng0GDBqkhISGqyWRSW7ZsqX7++edu2kvPVhkNNm3aVOr3OX78uLbehQsX1CeeeEINDAxUAwMD1SeeeELNyspy3856KHc2ePLJJ0tcZ9OmTe7bYQ/jrvHn62PPoKgqPx2eiIiIiIiIiIjIk/ENzERERERERERERB6Ok3hEREREREREREQejpN4REREREREREREHo6TeERERERERERERB6Ok3hEREREREREREQejpN4REREREREREREHo6TeERERERERERERB6Ok3hEREREREREREQejpN4REREREREREREHo6TeERERERERERERB6Ok3hEREREREREREQejpN4REREREREREREHu7/AaZpEAzaL319AAAAAElFTkSuQmCC",
      "text/plain": [
       "<Figure size 1500x600 with 1 Axes>"
      ]
     },
     "metadata": {},
     "output_type": "display_data"
    }
   ],
   "source": [
    "# Homelessness Change in the US since 2012\n",
    "# Set values for X, Y axis and bar width\n",
    "fig = plt.figure(figsize=(15,6))\n",
    "x = usa_homelesess_df[\"Year\"]\n",
    "y = usa_homelesess_df[\"Total Number of US homelesess\"]\n",
    "bar_width = 0.75\n",
    "edgecolor = 'black'\n",
    "\n",
    "# Plot Bar Chart        \n",
    "bars = plt.bar(x, y, bar_width, color=\"g\", ec=edgecolor, lw=1)\n",
    "\n",
    "# Set Graph Properties\n",
    "plt.ylabel('Homelessness Count')\n",
    "plt.title('HUD Homeless Count in the US since 2012') \n",
    "plt.grid(True,linestyle=':', alpha=0.7)\n",
    "plt.xlim(2011, x.max()+1)\n",
    "plt.xticks(x, usa_homelesess_df[\"Year\"])\n",
    "\n",
    "# Set the bar value inside each bar\n",
    "for bar in bars:\n",
    "        height = bar.get_height()\n",
    "        plt.text(bar.get_x() + bar.get_width()/2., 0.5*height,\n",
    "                '%s' % (str(int(height))),\n",
    "                ha='center', va='bottom', color=\"white\")\n",
    "# Save the figure\n",
    "plt.savefig(\"../Outputs/Homelesess_Summary.png\")\n",
    "\n",
    "# Show graph\n",
    "plt.show()"
   ]
  },
  {
   "cell_type": "code",
   "execution_count": 13,
   "id": "57d6c954-4c09-45ed-91dc-a54bee75befe",
   "metadata": {},
   "outputs": [
    {
     "name": "stdin",
     "output_type": "stream",
     "text": [
      "Enter state code :  DC\n"
     ]
    },
    {
     "data": {
      "image/png": "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",
      "text/plain": [
       "<Figure size 640x480 with 1 Axes>"
      ]
     },
     "metadata": {},
     "output_type": "display_data"
    }
   ],
>>>>>>> c8947ef58c7ae3a68254309445e111221c5575e5
   "source": [
    "#Enter state code to plot graph\n",
    "state_value = input('Enter state code : ')\n",
    "# Collect the homelesess number\n",
    "average_homelesess = homelesess_df_yearly[[str(year) for year in range(2012, 2023)]].mean()\n",
    "\n",
    "# Collect the years where data was collected\n",
    "years = average_homelesess.keys()\n",
    "# Plot the homelesess values for a single state\n",
    "state_one = plt.plot(years, homelesess_df_yearly.loc[state_value,[\"2012\",\"2013\",\"2014\",\"2015\",\"2016\",\"2017\",\n",
    "                                                                  \"2018\",\"2019\",\"2020\",\"2021\",\"2022\"]],\n",
    "                                             color=\"blue\",label=homelesess_df_yearly.loc[state_value])\n",
    "\n",
    "# Create a legend for our chart\n",
    "#plt.legend(handles=[state_one], loc=\"best\")\n",
    "plt.legend(title = state_value, loc=\"best\")\n",
    "plt.title(f\"Number of Homelesess for State {state_value} per Year\")\n",
    "plt.xlabel(\"Years\")\n",
    "plt.ylabel(\"Number of Homelesess\")\n",
    "plt.savefig(\"../Outputs/HUD_state_graph\")\n",
    "# Show the chart\n",
    "plt.show()"
   ]
  },
  {
   "cell_type": "code",
<<<<<<< HEAD
   "execution_count": 8,
   "id": "c85b5a08-9e08-4e94-8a66-5621f96bffc1",
=======
   "execution_count": null,
   "id": "6cb345f1-424a-4a23-846e-c417e88d4c00",
>>>>>>> c8947ef58c7ae3a68254309445e111221c5575e5
   "metadata": {},
   "outputs": [
    {
     "data": {
      "text/html": [
       "<div>\n",
       "<style scoped>\n",
       "    .dataframe tbody tr th:only-of-type {\n",
       "        vertical-align: middle;\n",
       "    }\n",
       "\n",
       "    .dataframe tbody tr th {\n",
       "        vertical-align: top;\n",
       "    }\n",
       "\n",
       "    .dataframe thead th {\n",
       "        text-align: right;\n",
       "    }\n",
       "</style>\n",
       "<table border=\"1\" class=\"dataframe\">\n",
       "  <thead>\n",
       "    <tr style=\"text-align: right;\">\n",
       "      <th></th>\n",
       "      <th>2010</th>\n",
       "      <th>2011</th>\n",
       "      <th>2012</th>\n",
       "      <th>2013</th>\n",
       "      <th>2014</th>\n",
       "      <th>2015</th>\n",
       "      <th>2016</th>\n",
       "      <th>2017</th>\n",
       "      <th>2018</th>\n",
       "      <th>2019</th>\n",
       "      <th>2020</th>\n",
       "      <th>2021</th>\n",
       "      <th>2022</th>\n",
       "    </tr>\n",
       "    <tr>\n",
       "      <th>State</th>\n",
       "      <th></th>\n",
       "      <th></th>\n",
       "      <th></th>\n",
       "      <th></th>\n",
       "      <th></th>\n",
       "      <th></th>\n",
       "      <th></th>\n",
       "      <th></th>\n",
       "      <th></th>\n",
       "      <th></th>\n",
       "      <th></th>\n",
       "      <th></th>\n",
       "      <th></th>\n",
       "    </tr>\n",
       "  </thead>\n",
       "  <tbody>\n",
       "    <tr>\n",
       "      <th>AK</th>\n",
       "      <td>1745</td>\n",
       "      <td>1856</td>\n",
       "      <td>1908</td>\n",
       "      <td>1909</td>\n",
       "      <td>1957</td>\n",
       "      <td>1940</td>\n",
       "      <td>1903</td>\n",
       "      <td>1900</td>\n",
       "      <td>1967</td>\n",
       "      <td>2016</td>\n",
       "      <td>1990</td>\n",
       "      <td>2340</td>\n",
       "      <td>2420</td>\n",
       "    </tr>\n",
       "    <tr>\n",
       "      <th>AL</th>\n",
       "      <td>1003</td>\n",
       "      <td>947</td>\n",
       "      <td>945</td>\n",
       "      <td>1022</td>\n",
       "      <td>1103</td>\n",
       "      <td>958</td>\n",
       "      <td>1016</td>\n",
       "      <td>1007</td>\n",
       "      <td>1042</td>\n",
       "      <td>1068</td>\n",
       "      <td>1054</td>\n",
       "      <td>1240</td>\n",
       "      <td>1282</td>\n",
       "    </tr>\n",
       "    <tr>\n",
       "      <th>AR</th>\n",
       "      <td>809</td>\n",
       "      <td>850</td>\n",
       "      <td>929</td>\n",
       "      <td>953</td>\n",
       "      <td>1075</td>\n",
       "      <td>1045</td>\n",
       "      <td>1081</td>\n",
       "      <td>1083</td>\n",
       "      <td>1121</td>\n",
       "      <td>1149</td>\n",
       "      <td>1134</td>\n",
       "      <td>1334</td>\n",
       "      <td>1379</td>\n",
       "    </tr>\n",
       "    <tr>\n",
       "      <th>AZ</th>\n",
       "      <td>1218</td>\n",
       "      <td>1162</td>\n",
       "      <td>1201</td>\n",
       "      <td>1210</td>\n",
       "      <td>1222</td>\n",
       "      <td>1227</td>\n",
       "      <td>1260</td>\n",
       "      <td>1263</td>\n",
       "      <td>1307</td>\n",
       "      <td>1340</td>\n",
       "      <td>1323</td>\n",
       "      <td>1556</td>\n",
       "      <td>1609</td>\n",
       "    </tr>\n",
       "    <tr>\n",
       "      <th>CA</th>\n",
       "      <td>2059</td>\n",
       "      <td>2013</td>\n",
       "      <td>2031</td>\n",
       "      <td>2132</td>\n",
       "      <td>2237</td>\n",
       "      <td>2345</td>\n",
       "      <td>2465</td>\n",
       "      <td>2469</td>\n",
       "      <td>2555</td>\n",
       "      <td>2619</td>\n",
       "      <td>2585</td>\n",
       "      <td>3040</td>\n",
       "      <td>3143</td>\n",
       "    </tr>\n",
       "  </tbody>\n",
       "</table>\n",
       "</div>"
      ],
      "text/plain": [
       "0      2010  2011  2012  2013  2014  2015  2016  2017  2018  2019  2020  2021  \\\n",
       "State                                                                           \n",
       "AK     1745  1856  1908  1909  1957  1940  1903  1900  1967  2016  1990  2340   \n",
       "AL     1003   947   945  1022  1103   958  1016  1007  1042  1068  1054  1240   \n",
       "AR      809   850   929   953  1075  1045  1081  1083  1121  1149  1134  1334   \n",
       "AZ     1218  1162  1201  1210  1222  1227  1260  1263  1307  1340  1323  1556   \n",
       "CA     2059  2013  2031  2132  2237  2345  2465  2469  2555  2619  2585  3040   \n",
       "\n",
       "0      2022  \n",
       "State        \n",
       "AK     2420  \n",
       "AL     1282  \n",
       "AR     1379  \n",
       "AZ     1609  \n",
       "CA     3143  "
      ]
     },
     "execution_count": 8,
     "metadata": {},
     "output_type": "execute_result"
    }
   ],
   "source": [
    "# Rental file \n",
    "rent_data = Path(\"../Resources/Rental_USA_csv.csv\")\n",
    "rent_df = pd.read_csv(rent_data)\n",
    "rent_df.columns = rent_df.iloc[0]\n",
    "rent_df.drop(0, inplace=True)\n",
    "rent_df.set_index(\"State\", inplace=True)\n",
    "rent_df.head()"
   ]
  },
  {
   "cell_type": "code",
   "execution_count": 9,
   "id": "4f291552",
   "metadata": {},
   "outputs": [
    {
     "data": {
      "text/html": [
       "<div>\n",
       "<style scoped>\n",
       "    .dataframe tbody tr th:only-of-type {\n",
       "        vertical-align: middle;\n",
       "    }\n",
       "\n",
       "    .dataframe tbody tr th {\n",
       "        vertical-align: top;\n",
       "    }\n",
       "\n",
       "    .dataframe thead th {\n",
       "        text-align: right;\n",
       "    }\n",
       "</style>\n",
       "<table border=\"1\" class=\"dataframe\">\n",
       "  <thead>\n",
       "    <tr style=\"text-align: right;\">\n",
       "      <th></th>\n",
       "      <th>2022</th>\n",
       "      <th>2021</th>\n",
       "      <th>2020</th>\n",
       "      <th>2019</th>\n",
       "      <th>2018</th>\n",
       "      <th>2017</th>\n",
       "      <th>2016</th>\n",
       "      <th>2015</th>\n",
       "      <th>2014</th>\n",
       "      <th>2013</th>\n",
       "      <th>2012</th>\n",
       "      <th>2011</th>\n",
       "      <th>2010</th>\n",
       "    </tr>\n",
       "    <tr>\n",
       "      <th>State</th>\n",
       "      <th></th>\n",
       "      <th></th>\n",
       "      <th></th>\n",
       "      <th></th>\n",
       "      <th></th>\n",
       "      <th></th>\n",
       "      <th></th>\n",
       "      <th></th>\n",
       "      <th></th>\n",
       "      <th></th>\n",
       "      <th></th>\n",
       "      <th></th>\n",
       "      <th></th>\n",
       "    </tr>\n",
       "  </thead>\n",
       "  <tbody>\n",
       "    <tr>\n",
       "      <th>AK</th>\n",
       "      <td>2420</td>\n",
       "      <td>2340</td>\n",
       "      <td>1990</td>\n",
       "      <td>2016</td>\n",
       "      <td>1967</td>\n",
       "      <td>1900</td>\n",
       "      <td>1903</td>\n",
       "      <td>1940</td>\n",
       "      <td>1957</td>\n",
       "      <td>1909</td>\n",
       "      <td>1908</td>\n",
       "      <td>1856</td>\n",
       "      <td>1745</td>\n",
       "    </tr>\n",
       "    <tr>\n",
       "      <th>AL</th>\n",
       "      <td>1282</td>\n",
       "      <td>1240</td>\n",
       "      <td>1054</td>\n",
       "      <td>1068</td>\n",
       "      <td>1042</td>\n",
       "      <td>1007</td>\n",
       "      <td>1016</td>\n",
       "      <td>958</td>\n",
       "      <td>1103</td>\n",
       "      <td>1022</td>\n",
       "      <td>945</td>\n",
       "      <td>947</td>\n",
       "      <td>1003</td>\n",
       "    </tr>\n",
       "    <tr>\n",
       "      <th>AR</th>\n",
       "      <td>1379</td>\n",
       "      <td>1334</td>\n",
       "      <td>1134</td>\n",
       "      <td>1149</td>\n",
       "      <td>1121</td>\n",
       "      <td>1083</td>\n",
       "      <td>1081</td>\n",
       "      <td>1045</td>\n",
       "      <td>1075</td>\n",
       "      <td>953</td>\n",
       "      <td>929</td>\n",
       "      <td>850</td>\n",
       "      <td>809</td>\n",
       "    </tr>\n",
       "    <tr>\n",
       "      <th>AZ</th>\n",
       "      <td>1609</td>\n",
       "      <td>1556</td>\n",
       "      <td>1323</td>\n",
       "      <td>1340</td>\n",
       "      <td>1307</td>\n",
       "      <td>1263</td>\n",
       "      <td>1260</td>\n",
       "      <td>1227</td>\n",
       "      <td>1222</td>\n",
       "      <td>1210</td>\n",
       "      <td>1201</td>\n",
       "      <td>1162</td>\n",
       "      <td>1218</td>\n",
       "    </tr>\n",
       "    <tr>\n",
       "      <th>CA</th>\n",
       "      <td>3143</td>\n",
       "      <td>3040</td>\n",
       "      <td>2585</td>\n",
       "      <td>2619</td>\n",
       "      <td>2555</td>\n",
       "      <td>2469</td>\n",
       "      <td>2465</td>\n",
       "      <td>2345</td>\n",
       "      <td>2237</td>\n",
       "      <td>2132</td>\n",
       "      <td>2031</td>\n",
       "      <td>2013</td>\n",
       "      <td>2059</td>\n",
       "    </tr>\n",
       "    <tr>\n",
       "      <th>CO</th>\n",
       "      <td>2523</td>\n",
       "      <td>2440</td>\n",
       "      <td>2075</td>\n",
       "      <td>2102</td>\n",
       "      <td>2051</td>\n",
       "      <td>1982</td>\n",
       "      <td>1993</td>\n",
       "      <td>1977</td>\n",
       "      <td>1761</td>\n",
       "      <td>1640</td>\n",
       "      <td>1498</td>\n",
       "      <td>1480</td>\n",
       "      <td>1344</td>\n",
       "    </tr>\n",
       "    <tr>\n",
       "      <th>CT</th>\n",
       "      <td>2427</td>\n",
       "      <td>2347</td>\n",
       "      <td>1996</td>\n",
       "      <td>2022</td>\n",
       "      <td>1973</td>\n",
       "      <td>1906</td>\n",
       "      <td>1910</td>\n",
       "      <td>1904</td>\n",
       "      <td>1775</td>\n",
       "      <td>1832</td>\n",
       "      <td>1745</td>\n",
       "      <td>1741</td>\n",
       "      <td>1728</td>\n",
       "    </tr>\n",
       "    <tr>\n",
       "      <th>DC</th>\n",
       "      <td>3271</td>\n",
       "      <td>3163</td>\n",
       "      <td>2690</td>\n",
       "      <td>2725</td>\n",
       "      <td>2659</td>\n",
       "      <td>2569</td>\n",
       "      <td>2560</td>\n",
       "      <td>2534</td>\n",
       "      <td>2452</td>\n",
       "      <td>2488</td>\n",
       "      <td>2397</td>\n",
       "      <td>2335</td>\n",
       "      <td>2203</td>\n",
       "    </tr>\n",
       "    <tr>\n",
       "      <th>DE</th>\n",
       "      <td>1460</td>\n",
       "      <td>1412</td>\n",
       "      <td>1201</td>\n",
       "      <td>1217</td>\n",
       "      <td>1187</td>\n",
       "      <td>1147</td>\n",
       "      <td>1150</td>\n",
       "      <td>1107</td>\n",
       "      <td>1155</td>\n",
       "      <td>1158</td>\n",
       "      <td>1207</td>\n",
       "      <td>1220</td>\n",
       "      <td>1285</td>\n",
       "    </tr>\n",
       "    <tr>\n",
       "      <th>FL</th>\n",
       "      <td>2278</td>\n",
       "      <td>2203</td>\n",
       "      <td>1873</td>\n",
       "      <td>1898</td>\n",
       "      <td>1852</td>\n",
       "      <td>1789</td>\n",
       "      <td>1786</td>\n",
       "      <td>1717</td>\n",
       "      <td>1621</td>\n",
       "      <td>1583</td>\n",
       "      <td>1457</td>\n",
       "      <td>1454</td>\n",
       "      <td>1430</td>\n",
       "    </tr>\n",
       "    <tr>\n",
       "      <th>GA</th>\n",
       "      <td>1833</td>\n",
       "      <td>1773</td>\n",
       "      <td>1508</td>\n",
       "      <td>1528</td>\n",
       "      <td>1491</td>\n",
       "      <td>1441</td>\n",
       "      <td>1438</td>\n",
       "      <td>1385</td>\n",
       "      <td>1335</td>\n",
       "      <td>1260</td>\n",
       "      <td>1219</td>\n",
       "      <td>1231</td>\n",
       "      <td>1250</td>\n",
       "    </tr>\n",
       "    <tr>\n",
       "      <th>HI</th>\n",
       "      <td>3052</td>\n",
       "      <td>2952</td>\n",
       "      <td>2510</td>\n",
       "      <td>2543</td>\n",
       "      <td>2481</td>\n",
       "      <td>2397</td>\n",
       "      <td>2400</td>\n",
       "      <td>2495</td>\n",
       "      <td>2341</td>\n",
       "      <td>2257</td>\n",
       "      <td>2134</td>\n",
       "      <td>2141</td>\n",
       "      <td>2088</td>\n",
       "    </tr>\n",
       "    <tr>\n",
       "      <th>IA</th>\n",
       "      <td>1513</td>\n",
       "      <td>1463</td>\n",
       "      <td>1244</td>\n",
       "      <td>1260</td>\n",
       "      <td>1229</td>\n",
       "      <td>1187</td>\n",
       "      <td>1211</td>\n",
       "      <td>1236</td>\n",
       "      <td>1187</td>\n",
       "      <td>1179</td>\n",
       "      <td>1158</td>\n",
       "      <td>1193</td>\n",
       "      <td>1187</td>\n",
       "    </tr>\n",
       "    <tr>\n",
       "      <th>ID</th>\n",
       "      <td>1471</td>\n",
       "      <td>1423</td>\n",
       "      <td>1210</td>\n",
       "      <td>1226</td>\n",
       "      <td>1196</td>\n",
       "      <td>1156</td>\n",
       "      <td>1150</td>\n",
       "      <td>1110</td>\n",
       "      <td>1097</td>\n",
       "      <td>1004</td>\n",
       "      <td>1016</td>\n",
       "      <td>1003</td>\n",
       "      <td>963</td>\n",
       "    </tr>\n",
       "    <tr>\n",
       "      <th>IL</th>\n",
       "      <td>2278</td>\n",
       "      <td>2203</td>\n",
       "      <td>1873</td>\n",
       "      <td>1898</td>\n",
       "      <td>1852</td>\n",
       "      <td>1789</td>\n",
       "      <td>1786</td>\n",
       "      <td>1781</td>\n",
       "      <td>1834</td>\n",
       "      <td>1708</td>\n",
       "      <td>1619</td>\n",
       "      <td>1676</td>\n",
       "      <td>1776</td>\n",
       "    </tr>\n",
       "    <tr>\n",
       "      <th>IN</th>\n",
       "      <td>1557</td>\n",
       "      <td>1506</td>\n",
       "      <td>1281</td>\n",
       "      <td>1298</td>\n",
       "      <td>1266</td>\n",
       "      <td>1223</td>\n",
       "      <td>1233</td>\n",
       "      <td>1193</td>\n",
       "      <td>1251</td>\n",
       "      <td>1183</td>\n",
       "      <td>1168</td>\n",
       "      <td>1215</td>\n",
       "      <td>1115</td>\n",
       "    </tr>\n",
       "    <tr>\n",
       "      <th>KS</th>\n",
       "      <td>1742</td>\n",
       "      <td>1685</td>\n",
       "      <td>1433</td>\n",
       "      <td>1452</td>\n",
       "      <td>1417</td>\n",
       "      <td>1369</td>\n",
       "      <td>1358</td>\n",
       "      <td>1391</td>\n",
       "      <td>1409</td>\n",
       "      <td>1350</td>\n",
       "      <td>1327</td>\n",
       "      <td>1265</td>\n",
       "      <td>1097</td>\n",
       "    </tr>\n",
       "    <tr>\n",
       "      <th>KY</th>\n",
       "      <td>1563</td>\n",
       "      <td>1512</td>\n",
       "      <td>1286</td>\n",
       "      <td>1303</td>\n",
       "      <td>1271</td>\n",
       "      <td>1228</td>\n",
       "      <td>1237</td>\n",
       "      <td>1243</td>\n",
       "      <td>1213</td>\n",
       "      <td>1175</td>\n",
       "      <td>1018</td>\n",
       "      <td>1137</td>\n",
       "      <td>1125</td>\n",
       "    </tr>\n",
       "    <tr>\n",
       "      <th>LA</th>\n",
       "      <td>1715</td>\n",
       "      <td>1659</td>\n",
       "      <td>1411</td>\n",
       "      <td>1430</td>\n",
       "      <td>1395</td>\n",
       "      <td>1348</td>\n",
       "      <td>1347</td>\n",
       "      <td>1421</td>\n",
       "      <td>1376</td>\n",
       "      <td>1461</td>\n",
       "      <td>1345</td>\n",
       "      <td>1177</td>\n",
       "      <td>1201</td>\n",
       "    </tr>\n",
       "    <tr>\n",
       "      <th>MA</th>\n",
       "      <td>3372</td>\n",
       "      <td>3261</td>\n",
       "      <td>2773</td>\n",
       "      <td>2810</td>\n",
       "      <td>2741</td>\n",
       "      <td>2648</td>\n",
       "      <td>2658</td>\n",
       "      <td>2614</td>\n",
       "      <td>2607</td>\n",
       "      <td>2511</td>\n",
       "      <td>2390</td>\n",
       "      <td>2226</td>\n",
       "      <td>2036</td>\n",
       "    </tr>\n",
       "    <tr>\n",
       "      <th>MD</th>\n",
       "      <td>2554</td>\n",
       "      <td>2470</td>\n",
       "      <td>2100</td>\n",
       "      <td>2128</td>\n",
       "      <td>2076</td>\n",
       "      <td>2006</td>\n",
       "      <td>2007</td>\n",
       "      <td>1968</td>\n",
       "      <td>1948</td>\n",
       "      <td>1920</td>\n",
       "      <td>1818</td>\n",
       "      <td>1861</td>\n",
       "      <td>1840</td>\n",
       "    </tr>\n",
       "    <tr>\n",
       "      <th>ME</th>\n",
       "      <td>1488</td>\n",
       "      <td>1439</td>\n",
       "      <td>1224</td>\n",
       "      <td>1240</td>\n",
       "      <td>1210</td>\n",
       "      <td>1169</td>\n",
       "      <td>1192</td>\n",
       "      <td>1157</td>\n",
       "      <td>1119</td>\n",
       "      <td>1065</td>\n",
       "      <td>925</td>\n",
       "      <td>883</td>\n",
       "      <td>854</td>\n",
       "    </tr>\n",
       "    <tr>\n",
       "      <th>MI</th>\n",
       "      <td>1843</td>\n",
       "      <td>1782</td>\n",
       "      <td>1515</td>\n",
       "      <td>1535</td>\n",
       "      <td>1498</td>\n",
       "      <td>1447</td>\n",
       "      <td>1456</td>\n",
       "      <td>1438</td>\n",
       "      <td>1371</td>\n",
       "      <td>1361</td>\n",
       "      <td>1333</td>\n",
       "      <td>1317</td>\n",
       "      <td>1276</td>\n",
       "    </tr>\n",
       "    <tr>\n",
       "      <th>MN</th>\n",
       "      <td>2150</td>\n",
       "      <td>2079</td>\n",
       "      <td>1768</td>\n",
       "      <td>1791</td>\n",
       "      <td>1747</td>\n",
       "      <td>1688</td>\n",
       "      <td>1682</td>\n",
       "      <td>1636</td>\n",
       "      <td>1596</td>\n",
       "      <td>1586</td>\n",
       "      <td>1537</td>\n",
       "      <td>1518</td>\n",
       "      <td>1493</td>\n",
       "    </tr>\n",
       "    <tr>\n",
       "      <th>MS</th>\n",
       "      <td>1563</td>\n",
       "      <td>1512</td>\n",
       "      <td>1286</td>\n",
       "      <td>1303</td>\n",
       "      <td>1271</td>\n",
       "      <td>1228</td>\n",
       "      <td>1221</td>\n",
       "      <td>1176</td>\n",
       "      <td>1113</td>\n",
       "      <td>1032</td>\n",
       "      <td>906</td>\n",
       "      <td>1095</td>\n",
       "      <td>1030</td>\n",
       "    </tr>\n",
       "    <tr>\n",
       "      <th>MT</th>\n",
       "      <td>1437</td>\n",
       "      <td>1390</td>\n",
       "      <td>1182</td>\n",
       "      <td>1198</td>\n",
       "      <td>1169</td>\n",
       "      <td>1129</td>\n",
       "      <td>1126</td>\n",
       "      <td>1113</td>\n",
       "      <td>977</td>\n",
       "      <td>1078</td>\n",
       "      <td>1065</td>\n",
       "      <td>1133</td>\n",
       "      <td>1107</td>\n",
       "    </tr>\n",
       "    <tr>\n",
       "      <th>NC</th>\n",
       "      <td>1614</td>\n",
       "      <td>1561</td>\n",
       "      <td>1327</td>\n",
       "      <td>1344</td>\n",
       "      <td>1311</td>\n",
       "      <td>1267</td>\n",
       "      <td>1262</td>\n",
       "      <td>1250</td>\n",
       "      <td>1198</td>\n",
       "      <td>1202</td>\n",
       "      <td>1182</td>\n",
       "      <td>1056</td>\n",
       "      <td>1083</td>\n",
       "    </tr>\n",
       "    <tr>\n",
       "      <th>ND</th>\n",
       "      <td>1557</td>\n",
       "      <td>1506</td>\n",
       "      <td>1281</td>\n",
       "      <td>1298</td>\n",
       "      <td>1266</td>\n",
       "      <td>1223</td>\n",
       "      <td>1245</td>\n",
       "      <td>1275</td>\n",
       "      <td>1294</td>\n",
       "      <td>1241</td>\n",
       "      <td>1135</td>\n",
       "      <td>924</td>\n",
       "      <td>913</td>\n",
       "    </tr>\n",
       "    <tr>\n",
       "      <th>NE</th>\n",
       "      <td>1614</td>\n",
       "      <td>1561</td>\n",
       "      <td>1327</td>\n",
       "      <td>1344</td>\n",
       "      <td>1311</td>\n",
       "      <td>1267</td>\n",
       "      <td>1272</td>\n",
       "      <td>1249</td>\n",
       "      <td>1179</td>\n",
       "      <td>1092</td>\n",
       "      <td>1009</td>\n",
       "      <td>1083</td>\n",
       "      <td>1062</td>\n",
       "    </tr>\n",
       "    <tr>\n",
       "      <th>NH</th>\n",
       "      <td>2182</td>\n",
       "      <td>2110</td>\n",
       "      <td>1794</td>\n",
       "      <td>1818</td>\n",
       "      <td>1774</td>\n",
       "      <td>1714</td>\n",
       "      <td>1715</td>\n",
       "      <td>1684</td>\n",
       "      <td>1516</td>\n",
       "      <td>1496</td>\n",
       "      <td>1395</td>\n",
       "      <td>1340</td>\n",
       "      <td>1327</td>\n",
       "    </tr>\n",
       "    <tr>\n",
       "      <th>NJ</th>\n",
       "      <td>3019</td>\n",
       "      <td>2920</td>\n",
       "      <td>2483</td>\n",
       "      <td>2516</td>\n",
       "      <td>2455</td>\n",
       "      <td>2372</td>\n",
       "      <td>2363</td>\n",
       "      <td>2156</td>\n",
       "      <td>2058</td>\n",
       "      <td>1977</td>\n",
       "      <td>2066</td>\n",
       "      <td>2156</td>\n",
       "      <td>2080</td>\n",
       "    </tr>\n",
       "    <tr>\n",
       "      <th>NM</th>\n",
       "      <td>1141</td>\n",
       "      <td>1103</td>\n",
       "      <td>938</td>\n",
       "      <td>950</td>\n",
       "      <td>927</td>\n",
       "      <td>896</td>\n",
       "      <td>895</td>\n",
       "      <td>1084</td>\n",
       "      <td>1047</td>\n",
       "      <td>1009</td>\n",
       "      <td>980</td>\n",
       "      <td>1048</td>\n",
       "      <td>1066</td>\n",
       "    </tr>\n",
       "    <tr>\n",
       "      <th>NV</th>\n",
       "      <td>1815</td>\n",
       "      <td>1755</td>\n",
       "      <td>1492</td>\n",
       "      <td>1512</td>\n",
       "      <td>1475</td>\n",
       "      <td>1425</td>\n",
       "      <td>1432</td>\n",
       "      <td>1293</td>\n",
       "      <td>1255</td>\n",
       "      <td>1197</td>\n",
       "      <td>1165</td>\n",
       "      <td>1171</td>\n",
       "      <td>1227</td>\n",
       "    </tr>\n",
       "    <tr>\n",
       "      <th>NY</th>\n",
       "      <td>1937</td>\n",
       "      <td>1873</td>\n",
       "      <td>1593</td>\n",
       "      <td>1614</td>\n",
       "      <td>1575</td>\n",
       "      <td>1522</td>\n",
       "      <td>1539</td>\n",
       "      <td>1491</td>\n",
       "      <td>1593</td>\n",
       "      <td>1593</td>\n",
       "      <td>1545</td>\n",
       "      <td>1457</td>\n",
       "      <td>1430</td>\n",
       "    </tr>\n",
       "    <tr>\n",
       "      <th>OH</th>\n",
       "      <td>1507</td>\n",
       "      <td>1457</td>\n",
       "      <td>1239</td>\n",
       "      <td>1255</td>\n",
       "      <td>1224</td>\n",
       "      <td>1183</td>\n",
       "      <td>1184</td>\n",
       "      <td>1189</td>\n",
       "      <td>1146</td>\n",
       "      <td>1129</td>\n",
       "      <td>1077</td>\n",
       "      <td>1013</td>\n",
       "      <td>1085</td>\n",
       "    </tr>\n",
       "    <tr>\n",
       "      <th>OK</th>\n",
       "      <td>1229</td>\n",
       "      <td>1189</td>\n",
       "      <td>1011</td>\n",
       "      <td>1024</td>\n",
       "      <td>999</td>\n",
       "      <td>965</td>\n",
       "      <td>970</td>\n",
       "      <td>965</td>\n",
       "      <td>968</td>\n",
       "      <td>938</td>\n",
       "      <td>904</td>\n",
       "      <td>897</td>\n",
       "      <td>896</td>\n",
       "    </tr>\n",
       "    <tr>\n",
       "      <th>OR</th>\n",
       "      <td>2252</td>\n",
       "      <td>2178</td>\n",
       "      <td>1852</td>\n",
       "      <td>1876</td>\n",
       "      <td>1830</td>\n",
       "      <td>1768</td>\n",
       "      <td>1779</td>\n",
       "      <td>1654</td>\n",
       "      <td>1529</td>\n",
       "      <td>1454</td>\n",
       "      <td>1332</td>\n",
       "      <td>1307</td>\n",
       "      <td>1304</td>\n",
       "    </tr>\n",
       "    <tr>\n",
       "      <th>PA</th>\n",
       "      <td>1763</td>\n",
       "      <td>1705</td>\n",
       "      <td>1450</td>\n",
       "      <td>1469</td>\n",
       "      <td>1433</td>\n",
       "      <td>1385</td>\n",
       "      <td>1381</td>\n",
       "      <td>1399</td>\n",
       "      <td>1358</td>\n",
       "      <td>1331</td>\n",
       "      <td>1333</td>\n",
       "      <td>1322</td>\n",
       "      <td>1252</td>\n",
       "    </tr>\n",
       "    <tr>\n",
       "      <th>RI</th>\n",
       "      <td>2346</td>\n",
       "      <td>2269</td>\n",
       "      <td>1929</td>\n",
       "      <td>1954</td>\n",
       "      <td>1906</td>\n",
       "      <td>1842</td>\n",
       "      <td>1853</td>\n",
       "      <td>1844</td>\n",
       "      <td>1643</td>\n",
       "      <td>1620</td>\n",
       "      <td>1566</td>\n",
       "      <td>1534</td>\n",
       "      <td>1640</td>\n",
       "    </tr>\n",
       "    <tr>\n",
       "      <th>SC</th>\n",
       "      <td>1418</td>\n",
       "      <td>1371</td>\n",
       "      <td>1166</td>\n",
       "      <td>1181</td>\n",
       "      <td>1152</td>\n",
       "      <td>1113</td>\n",
       "      <td>1126</td>\n",
       "      <td>1172</td>\n",
       "      <td>1152</td>\n",
       "      <td>1048</td>\n",
       "      <td>1088</td>\n",
       "      <td>997</td>\n",
       "      <td>1113</td>\n",
       "    </tr>\n",
       "    <tr>\n",
       "      <th>SD</th>\n",
       "      <td>1584</td>\n",
       "      <td>1532</td>\n",
       "      <td>1303</td>\n",
       "      <td>1320</td>\n",
       "      <td>1288</td>\n",
       "      <td>1244</td>\n",
       "      <td>1220</td>\n",
       "      <td>1229</td>\n",
       "      <td>1170</td>\n",
       "      <td>1043</td>\n",
       "      <td>1049</td>\n",
       "      <td>1179</td>\n",
       "      <td>1178</td>\n",
       "    </tr>\n",
       "    <tr>\n",
       "      <th>TN</th>\n",
       "      <td>1955</td>\n",
       "      <td>1891</td>\n",
       "      <td>1608</td>\n",
       "      <td>1629</td>\n",
       "      <td>1589</td>\n",
       "      <td>1535</td>\n",
       "      <td>1535</td>\n",
       "      <td>1468</td>\n",
       "      <td>1341</td>\n",
       "      <td>1265</td>\n",
       "      <td>1167</td>\n",
       "      <td>1165</td>\n",
       "      <td>1156</td>\n",
       "    </tr>\n",
       "    <tr>\n",
       "      <th>TX</th>\n",
       "      <td>2117</td>\n",
       "      <td>2047</td>\n",
       "      <td>1741</td>\n",
       "      <td>1764</td>\n",
       "      <td>1721</td>\n",
       "      <td>1663</td>\n",
       "      <td>1670</td>\n",
       "      <td>1651</td>\n",
       "      <td>1634</td>\n",
       "      <td>1507</td>\n",
       "      <td>1435</td>\n",
       "      <td>1391</td>\n",
       "      <td>1317</td>\n",
       "    </tr>\n",
       "    <tr>\n",
       "      <th>UT</th>\n",
       "      <td>1918</td>\n",
       "      <td>1855</td>\n",
       "      <td>1577</td>\n",
       "      <td>1598</td>\n",
       "      <td>1559</td>\n",
       "      <td>1506</td>\n",
       "      <td>1524</td>\n",
       "      <td>1446</td>\n",
       "      <td>1375</td>\n",
       "      <td>1411</td>\n",
       "      <td>1275</td>\n",
       "      <td>1284</td>\n",
       "      <td>1212</td>\n",
       "    </tr>\n",
       "    <tr>\n",
       "      <th>VA</th>\n",
       "      <td>1956</td>\n",
       "      <td>1892</td>\n",
       "      <td>1609</td>\n",
       "      <td>1630</td>\n",
       "      <td>1590</td>\n",
       "      <td>1536</td>\n",
       "      <td>1536</td>\n",
       "      <td>1544</td>\n",
       "      <td>1535</td>\n",
       "      <td>1498</td>\n",
       "      <td>1495</td>\n",
       "      <td>1469</td>\n",
       "      <td>1441</td>\n",
       "    </tr>\n",
       "    <tr>\n",
       "      <th>VT</th>\n",
       "      <td>1903</td>\n",
       "      <td>1840</td>\n",
       "      <td>1565</td>\n",
       "      <td>1586</td>\n",
       "      <td>1547</td>\n",
       "      <td>1495</td>\n",
       "      <td>1494</td>\n",
       "      <td>1447</td>\n",
       "      <td>1390</td>\n",
       "      <td>1428</td>\n",
       "      <td>1315</td>\n",
       "      <td>1407</td>\n",
       "      <td>1315</td>\n",
       "    </tr>\n",
       "    <tr>\n",
       "      <th>WA</th>\n",
       "      <td>2399</td>\n",
       "      <td>2320</td>\n",
       "      <td>1973</td>\n",
       "      <td>1999</td>\n",
       "      <td>1950</td>\n",
       "      <td>1884</td>\n",
       "      <td>1882</td>\n",
       "      <td>1748</td>\n",
       "      <td>1679</td>\n",
       "      <td>1598</td>\n",
       "      <td>1516</td>\n",
       "      <td>1490</td>\n",
       "      <td>1472</td>\n",
       "    </tr>\n",
       "    <tr>\n",
       "      <th>WI</th>\n",
       "      <td>1888</td>\n",
       "      <td>1826</td>\n",
       "      <td>1553</td>\n",
       "      <td>1573</td>\n",
       "      <td>1535</td>\n",
       "      <td>1483</td>\n",
       "      <td>1475</td>\n",
       "      <td>1460</td>\n",
       "      <td>1373</td>\n",
       "      <td>1371</td>\n",
       "      <td>1374</td>\n",
       "      <td>1311</td>\n",
       "      <td>1037</td>\n",
       "    </tr>\n",
       "    <tr>\n",
       "      <th>WV</th>\n",
       "      <td>1287</td>\n",
       "      <td>1245</td>\n",
       "      <td>1059</td>\n",
       "      <td>1073</td>\n",
       "      <td>1047</td>\n",
       "      <td>1012</td>\n",
       "      <td>1008</td>\n",
       "      <td>1010</td>\n",
       "      <td>970</td>\n",
       "      <td>951</td>\n",
       "      <td>1005</td>\n",
       "      <td>935</td>\n",
       "      <td>1003</td>\n",
       "    </tr>\n",
       "  </tbody>\n",
       "</table>\n",
       "</div>"
      ],
      "text/plain": [
       "0      2022  2021  2020  2019  2018  2017  2016  2015  2014  2013  2012  2011  \\\n",
       "State                                                                           \n",
       "AK     2420  2340  1990  2016  1967  1900  1903  1940  1957  1909  1908  1856   \n",
       "AL     1282  1240  1054  1068  1042  1007  1016   958  1103  1022   945   947   \n",
       "AR     1379  1334  1134  1149  1121  1083  1081  1045  1075   953   929   850   \n",
       "AZ     1609  1556  1323  1340  1307  1263  1260  1227  1222  1210  1201  1162   \n",
       "CA     3143  3040  2585  2619  2555  2469  2465  2345  2237  2132  2031  2013   \n",
       "CO     2523  2440  2075  2102  2051  1982  1993  1977  1761  1640  1498  1480   \n",
       "CT     2427  2347  1996  2022  1973  1906  1910  1904  1775  1832  1745  1741   \n",
       "DC     3271  3163  2690  2725  2659  2569  2560  2534  2452  2488  2397  2335   \n",
       "DE     1460  1412  1201  1217  1187  1147  1150  1107  1155  1158  1207  1220   \n",
       "FL     2278  2203  1873  1898  1852  1789  1786  1717  1621  1583  1457  1454   \n",
       "GA     1833  1773  1508  1528  1491  1441  1438  1385  1335  1260  1219  1231   \n",
       "HI     3052  2952  2510  2543  2481  2397  2400  2495  2341  2257  2134  2141   \n",
       "IA     1513  1463  1244  1260  1229  1187  1211  1236  1187  1179  1158  1193   \n",
       "ID     1471  1423  1210  1226  1196  1156  1150  1110  1097  1004  1016  1003   \n",
       "IL     2278  2203  1873  1898  1852  1789  1786  1781  1834  1708  1619  1676   \n",
       "IN     1557  1506  1281  1298  1266  1223  1233  1193  1251  1183  1168  1215   \n",
       "KS     1742  1685  1433  1452  1417  1369  1358  1391  1409  1350  1327  1265   \n",
       "KY     1563  1512  1286  1303  1271  1228  1237  1243  1213  1175  1018  1137   \n",
       "LA     1715  1659  1411  1430  1395  1348  1347  1421  1376  1461  1345  1177   \n",
       "MA     3372  3261  2773  2810  2741  2648  2658  2614  2607  2511  2390  2226   \n",
       "MD     2554  2470  2100  2128  2076  2006  2007  1968  1948  1920  1818  1861   \n",
       "ME     1488  1439  1224  1240  1210  1169  1192  1157  1119  1065   925   883   \n",
       "MI     1843  1782  1515  1535  1498  1447  1456  1438  1371  1361  1333  1317   \n",
       "MN     2150  2079  1768  1791  1747  1688  1682  1636  1596  1586  1537  1518   \n",
       "MS     1563  1512  1286  1303  1271  1228  1221  1176  1113  1032   906  1095   \n",
       "MT     1437  1390  1182  1198  1169  1129  1126  1113   977  1078  1065  1133   \n",
       "NC     1614  1561  1327  1344  1311  1267  1262  1250  1198  1202  1182  1056   \n",
       "ND     1557  1506  1281  1298  1266  1223  1245  1275  1294  1241  1135   924   \n",
       "NE     1614  1561  1327  1344  1311  1267  1272  1249  1179  1092  1009  1083   \n",
       "NH     2182  2110  1794  1818  1774  1714  1715  1684  1516  1496  1395  1340   \n",
       "NJ     3019  2920  2483  2516  2455  2372  2363  2156  2058  1977  2066  2156   \n",
       "NM     1141  1103   938   950   927   896   895  1084  1047  1009   980  1048   \n",
       "NV     1815  1755  1492  1512  1475  1425  1432  1293  1255  1197  1165  1171   \n",
       "NY     1937  1873  1593  1614  1575  1522  1539  1491  1593  1593  1545  1457   \n",
       "OH     1507  1457  1239  1255  1224  1183  1184  1189  1146  1129  1077  1013   \n",
       "OK     1229  1189  1011  1024   999   965   970   965   968   938   904   897   \n",
       "OR     2252  2178  1852  1876  1830  1768  1779  1654  1529  1454  1332  1307   \n",
       "PA     1763  1705  1450  1469  1433  1385  1381  1399  1358  1331  1333  1322   \n",
       "RI     2346  2269  1929  1954  1906  1842  1853  1844  1643  1620  1566  1534   \n",
       "SC     1418  1371  1166  1181  1152  1113  1126  1172  1152  1048  1088   997   \n",
       "SD     1584  1532  1303  1320  1288  1244  1220  1229  1170  1043  1049  1179   \n",
       "TN     1955  1891  1608  1629  1589  1535  1535  1468  1341  1265  1167  1165   \n",
       "TX     2117  2047  1741  1764  1721  1663  1670  1651  1634  1507  1435  1391   \n",
       "UT     1918  1855  1577  1598  1559  1506  1524  1446  1375  1411  1275  1284   \n",
       "VA     1956  1892  1609  1630  1590  1536  1536  1544  1535  1498  1495  1469   \n",
       "VT     1903  1840  1565  1586  1547  1495  1494  1447  1390  1428  1315  1407   \n",
       "WA     2399  2320  1973  1999  1950  1884  1882  1748  1679  1598  1516  1490   \n",
       "WI     1888  1826  1553  1573  1535  1483  1475  1460  1373  1371  1374  1311   \n",
       "WV     1287  1245  1059  1073  1047  1012  1008  1010   970   951  1005   935   \n",
       "\n",
       "0      2010  \n",
       "State        \n",
       "AK     1745  \n",
       "AL     1003  \n",
       "AR      809  \n",
       "AZ     1218  \n",
       "CA     2059  \n",
       "CO     1344  \n",
       "CT     1728  \n",
       "DC     2203  \n",
       "DE     1285  \n",
       "FL     1430  \n",
       "GA     1250  \n",
       "HI     2088  \n",
       "IA     1187  \n",
       "ID      963  \n",
       "IL     1776  \n",
       "IN     1115  \n",
       "KS     1097  \n",
       "KY     1125  \n",
       "LA     1201  \n",
       "MA     2036  \n",
       "MD     1840  \n",
       "ME      854  \n",
       "MI     1276  \n",
       "MN     1493  \n",
       "MS     1030  \n",
       "MT     1107  \n",
       "NC     1083  \n",
       "ND      913  \n",
       "NE     1062  \n",
       "NH     1327  \n",
       "NJ     2080  \n",
       "NM     1066  \n",
       "NV     1227  \n",
       "NY     1430  \n",
       "OH     1085  \n",
       "OK      896  \n",
       "OR     1304  \n",
       "PA     1252  \n",
       "RI     1640  \n",
       "SC     1113  \n",
       "SD     1178  \n",
       "TN     1156  \n",
       "TX     1317  \n",
       "UT     1212  \n",
       "VA     1441  \n",
       "VT     1315  \n",
       "WA     1472  \n",
       "WI     1037  \n",
       "WV     1003  "
      ]
     },
     "execution_count": 9,
     "metadata": {},
     "output_type": "execute_result"
    }
   ],
   "source": [
    "rent_df= rent_df[rent_df.columns[::-1]] \n",
    "rent_df"
   ]
  },
  {
   "cell_type": "code",
   "execution_count": 10,
   "id": "ed6aa865",
   "metadata": {},
   "outputs": [],
   "source": [
    "rent_df.columns = [str(col) + '_rental' for col in rent_df.columns]\n",
    "\n"
   ]
  },
  {
   "cell_type": "code",
   "execution_count": 11,
   "id": "00ef6c2b",
   "metadata": {},
   "outputs": [],
   "source": [
    "homelesess_df_yearly.columns = [str(col) + '_homelesess' for col in homelesess_df_yearly.columns]"
   ]
  },
  {
   "cell_type": "code",
   "execution_count": 12,
   "id": "90b28987",
   "metadata": {},
   "outputs": [
    {
     "data": {
      "text/html": [
       "<div>\n",
       "<style scoped>\n",
       "    .dataframe tbody tr th:only-of-type {\n",
       "        vertical-align: middle;\n",
       "    }\n",
       "\n",
       "    .dataframe tbody tr th {\n",
       "        vertical-align: top;\n",
       "    }\n",
       "\n",
       "    .dataframe thead th {\n",
       "        text-align: right;\n",
       "    }\n",
       "</style>\n",
       "<table border=\"1\" class=\"dataframe\">\n",
       "  <thead>\n",
       "    <tr style=\"text-align: right;\">\n",
       "      <th></th>\n",
       "      <th>2022_homelesess</th>\n",
       "      <th>2021_homelesess</th>\n",
       "      <th>2020_homelesess</th>\n",
       "      <th>2019_homelesess</th>\n",
       "      <th>2018_homelesess</th>\n",
       "      <th>2017_homelesess</th>\n",
       "      <th>2016_homelesess</th>\n",
       "      <th>2015_homelesess</th>\n",
       "      <th>2014_homelesess</th>\n",
       "      <th>2013_homelesess</th>\n",
       "      <th>2012_homelesess</th>\n",
       "    </tr>\n",
       "    <tr>\n",
       "      <th>State</th>\n",
       "      <th></th>\n",
       "      <th></th>\n",
       "      <th></th>\n",
       "      <th></th>\n",
       "      <th></th>\n",
       "      <th></th>\n",
       "      <th></th>\n",
       "      <th></th>\n",
       "      <th></th>\n",
       "      <th></th>\n",
       "      <th></th>\n",
       "    </tr>\n",
       "  </thead>\n",
       "  <tbody>\n",
       "    <tr>\n",
       "      <th>AK</th>\n",
       "      <td>2320</td>\n",
       "      <td>1949</td>\n",
       "      <td>1949</td>\n",
       "      <td>1907</td>\n",
       "      <td>2016</td>\n",
       "      <td>1845</td>\n",
       "      <td>1940.0</td>\n",
       "      <td>1956.0</td>\n",
       "      <td>1784.0</td>\n",
       "      <td>1946.0</td>\n",
       "      <td>1913.0</td>\n",
       "    </tr>\n",
       "    <tr>\n",
       "      <th>AL</th>\n",
       "      <td>3752</td>\n",
       "      <td>2556</td>\n",
       "      <td>3351</td>\n",
       "      <td>3261</td>\n",
       "      <td>3434</td>\n",
       "      <td>3793</td>\n",
       "      <td>4111.0</td>\n",
       "      <td>3970.0</td>\n",
       "      <td>4561.0</td>\n",
       "      <td>4689.0</td>\n",
       "      <td>5209.0</td>\n",
       "    </tr>\n",
       "    <tr>\n",
       "      <th>AR</th>\n",
       "      <td>2459</td>\n",
       "      <td>2139</td>\n",
       "      <td>2366</td>\n",
       "      <td>2717</td>\n",
       "      <td>2712</td>\n",
       "      <td>2467</td>\n",
       "      <td>2463.0</td>\n",
       "      <td>2560.0</td>\n",
       "      <td>2936.0</td>\n",
       "      <td>3812.0</td>\n",
       "      <td>4214.0</td>\n",
       "    </tr>\n",
       "    <tr>\n",
       "      <th>AZ</th>\n",
       "      <td>13553</td>\n",
       "      <td>5460</td>\n",
       "      <td>10979</td>\n",
       "      <td>10007</td>\n",
       "      <td>9865</td>\n",
       "      <td>8947</td>\n",
       "      <td>9707.0</td>\n",
       "      <td>9896.0</td>\n",
       "      <td>10495.0</td>\n",
       "      <td>10562.0</td>\n",
       "      <td>11302.0</td>\n",
       "    </tr>\n",
       "    <tr>\n",
       "      <th>CA</th>\n",
       "      <td>171521</td>\n",
       "      <td>57468</td>\n",
       "      <td>161548</td>\n",
       "      <td>151278</td>\n",
       "      <td>129972</td>\n",
       "      <td>131532</td>\n",
       "      <td>118142.0</td>\n",
       "      <td>115738.0</td>\n",
       "      <td>113952.0</td>\n",
       "      <td>118552.0</td>\n",
       "      <td>120098.0</td>\n",
       "    </tr>\n",
       "  </tbody>\n",
       "</table>\n",
       "</div>"
      ],
      "text/plain": [
       "      2022_homelesess 2021_homelesess 2020_homelesess 2019_homelesess  \\\n",
       "State                                                                   \n",
       "AK               2320            1949            1949            1907   \n",
       "AL               3752            2556            3351            3261   \n",
       "AR               2459            2139            2366            2717   \n",
       "AZ              13553            5460           10979           10007   \n",
       "CA             171521           57468          161548          151278   \n",
       "\n",
       "      2018_homelesess 2017_homelesess 2016_homelesess 2015_homelesess  \\\n",
       "State                                                                   \n",
       "AK               2016            1845          1940.0          1956.0   \n",
       "AL               3434            3793          4111.0          3970.0   \n",
       "AR               2712            2467          2463.0          2560.0   \n",
       "AZ               9865            8947          9707.0          9896.0   \n",
       "CA             129972          131532        118142.0        115738.0   \n",
       "\n",
       "      2014_homelesess 2013_homelesess 2012_homelesess  \n",
       "State                                                  \n",
       "AK             1784.0          1946.0          1913.0  \n",
       "AL             4561.0          4689.0          5209.0  \n",
       "AR             2936.0          3812.0          4214.0  \n",
       "AZ            10495.0         10562.0         11302.0  \n",
       "CA           113952.0        118552.0        120098.0  "
      ]
     },
     "execution_count": 12,
     "metadata": {},
     "output_type": "execute_result"
    }
   ],
   "source": [
    "homelesess_df_yearly.head()"
   ]
  },
  {
   "cell_type": "code",
   "execution_count": 13,
   "id": "d6b9cda8",
   "metadata": {},
   "outputs": [
    {
     "data": {
      "text/html": [
       "<div>\n",
       "<style scoped>\n",
       "    .dataframe tbody tr th:only-of-type {\n",
       "        vertical-align: middle;\n",
       "    }\n",
       "\n",
       "    .dataframe tbody tr th {\n",
       "        vertical-align: top;\n",
       "    }\n",
       "\n",
       "    .dataframe thead th {\n",
       "        text-align: right;\n",
       "    }\n",
       "</style>\n",
       "<table border=\"1\" class=\"dataframe\">\n",
       "  <thead>\n",
       "    <tr style=\"text-align: right;\">\n",
       "      <th></th>\n",
       "      <th>2022_rental</th>\n",
       "      <th>2021_rental</th>\n",
       "      <th>2020_rental</th>\n",
       "      <th>2019_rental</th>\n",
       "      <th>2018_rental</th>\n",
       "      <th>2017_rental</th>\n",
       "      <th>2016_rental</th>\n",
       "      <th>2015_rental</th>\n",
       "      <th>2014_rental</th>\n",
       "      <th>2013_rental</th>\n",
       "      <th>2012_rental</th>\n",
       "      <th>2011_rental</th>\n",
       "      <th>2010_rental</th>\n",
       "    </tr>\n",
       "    <tr>\n",
       "      <th>State</th>\n",
       "      <th></th>\n",
       "      <th></th>\n",
       "      <th></th>\n",
       "      <th></th>\n",
       "      <th></th>\n",
       "      <th></th>\n",
       "      <th></th>\n",
       "      <th></th>\n",
       "      <th></th>\n",
       "      <th></th>\n",
       "      <th></th>\n",
       "      <th></th>\n",
       "      <th></th>\n",
       "    </tr>\n",
       "  </thead>\n",
       "  <tbody>\n",
       "    <tr>\n",
       "      <th>AK</th>\n",
       "      <td>2420</td>\n",
       "      <td>2340</td>\n",
       "      <td>1990</td>\n",
       "      <td>2016</td>\n",
       "      <td>1967</td>\n",
       "      <td>1900</td>\n",
       "      <td>1903</td>\n",
       "      <td>1940</td>\n",
       "      <td>1957</td>\n",
       "      <td>1909</td>\n",
       "      <td>1908</td>\n",
       "      <td>1856</td>\n",
       "      <td>1745</td>\n",
       "    </tr>\n",
       "    <tr>\n",
       "      <th>AL</th>\n",
       "      <td>1282</td>\n",
       "      <td>1240</td>\n",
       "      <td>1054</td>\n",
       "      <td>1068</td>\n",
       "      <td>1042</td>\n",
       "      <td>1007</td>\n",
       "      <td>1016</td>\n",
       "      <td>958</td>\n",
       "      <td>1103</td>\n",
       "      <td>1022</td>\n",
       "      <td>945</td>\n",
       "      <td>947</td>\n",
       "      <td>1003</td>\n",
       "    </tr>\n",
       "    <tr>\n",
       "      <th>AR</th>\n",
       "      <td>1379</td>\n",
       "      <td>1334</td>\n",
       "      <td>1134</td>\n",
       "      <td>1149</td>\n",
       "      <td>1121</td>\n",
       "      <td>1083</td>\n",
       "      <td>1081</td>\n",
       "      <td>1045</td>\n",
       "      <td>1075</td>\n",
       "      <td>953</td>\n",
       "      <td>929</td>\n",
       "      <td>850</td>\n",
       "      <td>809</td>\n",
       "    </tr>\n",
       "    <tr>\n",
       "      <th>AZ</th>\n",
       "      <td>1609</td>\n",
       "      <td>1556</td>\n",
       "      <td>1323</td>\n",
       "      <td>1340</td>\n",
       "      <td>1307</td>\n",
       "      <td>1263</td>\n",
       "      <td>1260</td>\n",
       "      <td>1227</td>\n",
       "      <td>1222</td>\n",
       "      <td>1210</td>\n",
       "      <td>1201</td>\n",
       "      <td>1162</td>\n",
       "      <td>1218</td>\n",
       "    </tr>\n",
       "    <tr>\n",
       "      <th>CA</th>\n",
       "      <td>3143</td>\n",
       "      <td>3040</td>\n",
       "      <td>2585</td>\n",
       "      <td>2619</td>\n",
       "      <td>2555</td>\n",
       "      <td>2469</td>\n",
       "      <td>2465</td>\n",
       "      <td>2345</td>\n",
       "      <td>2237</td>\n",
       "      <td>2132</td>\n",
       "      <td>2031</td>\n",
       "      <td>2013</td>\n",
       "      <td>2059</td>\n",
       "    </tr>\n",
       "  </tbody>\n",
       "</table>\n",
       "</div>"
      ],
      "text/plain": [
       "       2022_rental  2021_rental  2020_rental  2019_rental  2018_rental  \\\n",
       "State                                                                    \n",
       "AK            2420         2340         1990         2016         1967   \n",
       "AL            1282         1240         1054         1068         1042   \n",
       "AR            1379         1334         1134         1149         1121   \n",
       "AZ            1609         1556         1323         1340         1307   \n",
       "CA            3143         3040         2585         2619         2555   \n",
       "\n",
       "       2017_rental  2016_rental  2015_rental  2014_rental  2013_rental  \\\n",
       "State                                                                    \n",
       "AK            1900         1903         1940         1957         1909   \n",
       "AL            1007         1016          958         1103         1022   \n",
       "AR            1083         1081         1045         1075          953   \n",
       "AZ            1263         1260         1227         1222         1210   \n",
       "CA            2469         2465         2345         2237         2132   \n",
       "\n",
       "       2012_rental  2011_rental  2010_rental  \n",
       "State                                         \n",
       "AK            1908         1856         1745  \n",
       "AL             945          947         1003  \n",
       "AR             929          850          809  \n",
       "AZ            1201         1162         1218  \n",
       "CA            2031         2013         2059  "
      ]
     },
     "execution_count": 13,
     "metadata": {},
     "output_type": "execute_result"
    }
   ],
   "source": [
    "rent_df.head()"
   ]
  },
  {
   "cell_type": "code",
   "execution_count": 14,
   "id": "e9cb71f6",
   "metadata": {},
   "outputs": [
    {
     "data": {
      "text/html": [
       "<div>\n",
       "<style scoped>\n",
       "    .dataframe tbody tr th:only-of-type {\n",
       "        vertical-align: middle;\n",
       "    }\n",
       "\n",
       "    .dataframe tbody tr th {\n",
       "        vertical-align: top;\n",
       "    }\n",
       "\n",
       "    .dataframe thead th {\n",
       "        text-align: right;\n",
       "    }\n",
       "</style>\n",
       "<table border=\"1\" class=\"dataframe\">\n",
       "  <thead>\n",
       "    <tr style=\"text-align: right;\">\n",
       "      <th></th>\n",
       "      <th>2022_homelesess</th>\n",
       "      <th>2021_homelesess</th>\n",
       "      <th>2020_homelesess</th>\n",
       "      <th>2019_homelesess</th>\n",
       "      <th>2018_homelesess</th>\n",
       "      <th>2017_homelesess</th>\n",
       "      <th>2016_homelesess</th>\n",
       "      <th>2015_homelesess</th>\n",
       "      <th>2014_homelesess</th>\n",
       "      <th>2013_homelesess</th>\n",
       "      <th>...</th>\n",
       "      <th>2019_rental</th>\n",
       "      <th>2018_rental</th>\n",
       "      <th>2017_rental</th>\n",
       "      <th>2016_rental</th>\n",
       "      <th>2015_rental</th>\n",
       "      <th>2014_rental</th>\n",
       "      <th>2013_rental</th>\n",
       "      <th>2012_rental</th>\n",
       "      <th>2011_rental</th>\n",
       "      <th>2010_rental</th>\n",
       "    </tr>\n",
       "    <tr>\n",
       "      <th>State</th>\n",
       "      <th></th>\n",
       "      <th></th>\n",
       "      <th></th>\n",
       "      <th></th>\n",
       "      <th></th>\n",
       "      <th></th>\n",
       "      <th></th>\n",
       "      <th></th>\n",
       "      <th></th>\n",
       "      <th></th>\n",
       "      <th></th>\n",
       "      <th></th>\n",
       "      <th></th>\n",
       "      <th></th>\n",
       "      <th></th>\n",
       "      <th></th>\n",
       "      <th></th>\n",
       "      <th></th>\n",
       "      <th></th>\n",
       "      <th></th>\n",
       "      <th></th>\n",
       "    </tr>\n",
       "  </thead>\n",
       "  <tbody>\n",
       "    <tr>\n",
       "      <th>AK</th>\n",
       "      <td>2320</td>\n",
       "      <td>1949</td>\n",
       "      <td>1949</td>\n",
       "      <td>1907</td>\n",
       "      <td>2016</td>\n",
       "      <td>1845</td>\n",
       "      <td>1940.0</td>\n",
       "      <td>1956.0</td>\n",
       "      <td>1784.0</td>\n",
       "      <td>1946.0</td>\n",
       "      <td>...</td>\n",
       "      <td>2016.0</td>\n",
       "      <td>1967.0</td>\n",
       "      <td>1900.0</td>\n",
       "      <td>1903.0</td>\n",
       "      <td>1940.0</td>\n",
       "      <td>1957.0</td>\n",
       "      <td>1909.0</td>\n",
       "      <td>1908.0</td>\n",
       "      <td>1856.0</td>\n",
       "      <td>1745.0</td>\n",
       "    </tr>\n",
       "    <tr>\n",
       "      <th>AL</th>\n",
       "      <td>3752</td>\n",
       "      <td>2556</td>\n",
       "      <td>3351</td>\n",
       "      <td>3261</td>\n",
       "      <td>3434</td>\n",
       "      <td>3793</td>\n",
       "      <td>4111.0</td>\n",
       "      <td>3970.0</td>\n",
       "      <td>4561.0</td>\n",
       "      <td>4689.0</td>\n",
       "      <td>...</td>\n",
       "      <td>1068.0</td>\n",
       "      <td>1042.0</td>\n",
       "      <td>1007.0</td>\n",
       "      <td>1016.0</td>\n",
       "      <td>958.0</td>\n",
       "      <td>1103.0</td>\n",
       "      <td>1022.0</td>\n",
       "      <td>945.0</td>\n",
       "      <td>947.0</td>\n",
       "      <td>1003.0</td>\n",
       "    </tr>\n",
       "    <tr>\n",
       "      <th>AR</th>\n",
       "      <td>2459</td>\n",
       "      <td>2139</td>\n",
       "      <td>2366</td>\n",
       "      <td>2717</td>\n",
       "      <td>2712</td>\n",
       "      <td>2467</td>\n",
       "      <td>2463.0</td>\n",
       "      <td>2560.0</td>\n",
       "      <td>2936.0</td>\n",
       "      <td>3812.0</td>\n",
       "      <td>...</td>\n",
       "      <td>1149.0</td>\n",
       "      <td>1121.0</td>\n",
       "      <td>1083.0</td>\n",
       "      <td>1081.0</td>\n",
       "      <td>1045.0</td>\n",
       "      <td>1075.0</td>\n",
       "      <td>953.0</td>\n",
       "      <td>929.0</td>\n",
       "      <td>850.0</td>\n",
       "      <td>809.0</td>\n",
       "    </tr>\n",
       "    <tr>\n",
       "      <th>AZ</th>\n",
       "      <td>13553</td>\n",
       "      <td>5460</td>\n",
       "      <td>10979</td>\n",
       "      <td>10007</td>\n",
       "      <td>9865</td>\n",
       "      <td>8947</td>\n",
       "      <td>9707.0</td>\n",
       "      <td>9896.0</td>\n",
       "      <td>10495.0</td>\n",
       "      <td>10562.0</td>\n",
       "      <td>...</td>\n",
       "      <td>1340.0</td>\n",
       "      <td>1307.0</td>\n",
       "      <td>1263.0</td>\n",
       "      <td>1260.0</td>\n",
       "      <td>1227.0</td>\n",
       "      <td>1222.0</td>\n",
       "      <td>1210.0</td>\n",
       "      <td>1201.0</td>\n",
       "      <td>1162.0</td>\n",
       "      <td>1218.0</td>\n",
       "    </tr>\n",
       "    <tr>\n",
       "      <th>CA</th>\n",
       "      <td>171521</td>\n",
       "      <td>57468</td>\n",
       "      <td>161548</td>\n",
       "      <td>151278</td>\n",
       "      <td>129972</td>\n",
       "      <td>131532</td>\n",
       "      <td>118142.0</td>\n",
       "      <td>115738.0</td>\n",
       "      <td>113952.0</td>\n",
       "      <td>118552.0</td>\n",
       "      <td>...</td>\n",
       "      <td>2619.0</td>\n",
       "      <td>2555.0</td>\n",
       "      <td>2469.0</td>\n",
       "      <td>2465.0</td>\n",
       "      <td>2345.0</td>\n",
       "      <td>2237.0</td>\n",
       "      <td>2132.0</td>\n",
       "      <td>2031.0</td>\n",
       "      <td>2013.0</td>\n",
       "      <td>2059.0</td>\n",
       "    </tr>\n",
       "  </tbody>\n",
       "</table>\n",
       "<p>5 rows × 24 columns</p>\n",
       "</div>"
      ],
      "text/plain": [
       "      2022_homelesess 2021_homelesess 2020_homelesess 2019_homelesess  \\\n",
       "State                                                                   \n",
       "AK               2320            1949            1949            1907   \n",
       "AL               3752            2556            3351            3261   \n",
       "AR               2459            2139            2366            2717   \n",
       "AZ              13553            5460           10979           10007   \n",
       "CA             171521           57468          161548          151278   \n",
       "\n",
       "      2018_homelesess 2017_homelesess 2016_homelesess 2015_homelesess  \\\n",
       "State                                                                   \n",
       "AK               2016            1845          1940.0          1956.0   \n",
       "AL               3434            3793          4111.0          3970.0   \n",
       "AR               2712            2467          2463.0          2560.0   \n",
       "AZ               9865            8947          9707.0          9896.0   \n",
       "CA             129972          131532        118142.0        115738.0   \n",
       "\n",
       "      2014_homelesess 2013_homelesess  ... 2019_rental  2018_rental  \\\n",
       "State                                  ...                            \n",
       "AK             1784.0          1946.0  ...      2016.0       1967.0   \n",
       "AL             4561.0          4689.0  ...      1068.0       1042.0   \n",
       "AR             2936.0          3812.0  ...      1149.0       1121.0   \n",
       "AZ            10495.0         10562.0  ...      1340.0       1307.0   \n",
       "CA           113952.0        118552.0  ...      2619.0       2555.0   \n",
       "\n",
       "       2017_rental  2016_rental  2015_rental  2014_rental  2013_rental  \\\n",
       "State                                                                    \n",
       "AK          1900.0       1903.0       1940.0       1957.0       1909.0   \n",
       "AL          1007.0       1016.0        958.0       1103.0       1022.0   \n",
       "AR          1083.0       1081.0       1045.0       1075.0        953.0   \n",
       "AZ          1263.0       1260.0       1227.0       1222.0       1210.0   \n",
       "CA          2469.0       2465.0       2345.0       2237.0       2132.0   \n",
       "\n",
       "       2012_rental  2011_rental  2010_rental  \n",
       "State                                         \n",
       "AK          1908.0       1856.0       1745.0  \n",
       "AL           945.0        947.0       1003.0  \n",
       "AR           929.0        850.0        809.0  \n",
       "AZ          1201.0       1162.0       1218.0  \n",
       "CA          2031.0       2013.0       2059.0  \n",
       "\n",
       "[5 rows x 24 columns]"
      ]
     },
     "execution_count": 14,
     "metadata": {},
     "output_type": "execute_result"
    }
   ],
   "source": [
    "merge_DF = pd.merge(homelesess_df_yearly, rent_df, on = \"State\", how =\"left\")\n",
    "merge_DF.head()"
   ]
  },
  {
   "cell_type": "code",
   "execution_count": 15,
   "id": "19ee0ad8",
   "metadata": {},
   "outputs": [
    {
     "data": {
      "text/plain": [
       "Index(['2022_homelesess', '2021_homelesess', '2020_homelesess',\n",
       "       '2019_homelesess', '2018_homelesess', '2017_homelesess',\n",
       "       '2016_homelesess', '2015_homelesess', '2014_homelesess',\n",
       "       '2013_homelesess', '2012_homelesess', '2022_rental', '2021_rental',\n",
       "       '2020_rental', '2019_rental', '2018_rental', '2017_rental',\n",
       "       '2016_rental', '2015_rental', '2014_rental', '2013_rental',\n",
       "       '2012_rental', '2011_rental', '2010_rental'],\n",
       "      dtype='object')"
      ]
     },
     "execution_count": 15,
     "metadata": {},
     "output_type": "execute_result"
    }
   ],
   "source": [
    "merge_DF.columns"
   ]
  },
  {
   "cell_type": "code",
   "execution_count": 16,
   "id": "fd6708b6",
   "metadata": {},
   "outputs": [
    {
     "name": "stdout",
     "output_type": "stream",
     "text": [
      "<class 'pandas.core.frame.DataFrame'>\n",
      "Index: 55 entries, AK to WY\n",
      "Data columns (total 24 columns):\n",
      " #   Column           Non-Null Count  Dtype  \n",
      "---  ------           --------------  -----  \n",
      " 0   2022_homelesess  55 non-null     object \n",
      " 1   2021_homelesess  55 non-null     object \n",
      " 2   2020_homelesess  55 non-null     object \n",
      " 3   2019_homelesess  55 non-null     object \n",
      " 4   2018_homelesess  55 non-null     object \n",
      " 5   2017_homelesess  55 non-null     object \n",
      " 6   2016_homelesess  54 non-null     object \n",
      " 7   2015_homelesess  54 non-null     object \n",
      " 8   2014_homelesess  54 non-null     object \n",
      " 9   2013_homelesess  54 non-null     object \n",
      " 10  2012_homelesess  54 non-null     object \n",
      " 11  2022_rental      49 non-null     float64\n",
      " 12  2021_rental      49 non-null     float64\n",
      " 13  2020_rental      49 non-null     float64\n",
      " 14  2019_rental      49 non-null     float64\n",
      " 15  2018_rental      49 non-null     float64\n",
      " 16  2017_rental      49 non-null     float64\n",
      " 17  2016_rental      49 non-null     float64\n",
      " 18  2015_rental      49 non-null     float64\n",
      " 19  2014_rental      49 non-null     float64\n",
      " 20  2013_rental      49 non-null     float64\n",
      " 21  2012_rental      49 non-null     float64\n",
      " 22  2011_rental      49 non-null     float64\n",
      " 23  2010_rental      49 non-null     float64\n",
      "dtypes: float64(13), object(11)\n",
      "memory usage: 10.7+ KB\n"
     ]
    }
   ],
   "source": [
    "merge_DF.info()"
   ]
  },
  {
   "cell_type": "code",
   "execution_count": 17,
   "id": "fa29f2ff",
   "metadata": {},
   "outputs": [],
   "source": [
    "del merge_DF[\"2010_rental\"]\n",
    "del merge_DF[\"2011_rental\"]\n"
   ]
  },
  {
   "cell_type": "code",
   "execution_count": 18,
   "id": "33a278d8",
   "metadata": {},
   "outputs": [
    {
     "name": "stdout",
     "output_type": "stream",
     "text": [
      "<class 'pandas.core.frame.DataFrame'>\n",
      "Index: 55 entries, AK to WY\n",
      "Data columns (total 22 columns):\n",
      " #   Column           Non-Null Count  Dtype  \n",
      "---  ------           --------------  -----  \n",
      " 0   2022_homelesess  55 non-null     object \n",
      " 1   2021_homelesess  55 non-null     object \n",
      " 2   2020_homelesess  55 non-null     object \n",
      " 3   2019_homelesess  55 non-null     object \n",
      " 4   2018_homelesess  55 non-null     object \n",
      " 5   2017_homelesess  55 non-null     object \n",
      " 6   2016_homelesess  54 non-null     object \n",
      " 7   2015_homelesess  54 non-null     object \n",
      " 8   2014_homelesess  54 non-null     object \n",
      " 9   2013_homelesess  54 non-null     object \n",
      " 10  2012_homelesess  54 non-null     object \n",
      " 11  2022_rental      49 non-null     float64\n",
      " 12  2021_rental      49 non-null     float64\n",
      " 13  2020_rental      49 non-null     float64\n",
      " 14  2019_rental      49 non-null     float64\n",
      " 15  2018_rental      49 non-null     float64\n",
      " 16  2017_rental      49 non-null     float64\n",
      " 17  2016_rental      49 non-null     float64\n",
      " 18  2015_rental      49 non-null     float64\n",
      " 19  2014_rental      49 non-null     float64\n",
      " 20  2013_rental      49 non-null     float64\n",
      " 21  2012_rental      49 non-null     float64\n",
      "dtypes: float64(11), object(11)\n",
      "memory usage: 9.9+ KB\n"
     ]
    }
   ],
   "source": [
    "merge_DF.info()"
   ]
  },
  {
   "cell_type": "code",
   "execution_count": 19,
   "id": "0ba9f54f",
   "metadata": {},
   "outputs": [
    {
     "name": "stdout",
     "output_type": "stream",
     "text": [
      "<class 'pandas.core.frame.DataFrame'>\n",
      "Index: 49 entries, AK to WV\n",
      "Data columns (total 22 columns):\n",
      " #   Column           Non-Null Count  Dtype  \n",
      "---  ------           --------------  -----  \n",
      " 0   2022_homelesess  49 non-null     object \n",
      " 1   2021_homelesess  49 non-null     object \n",
      " 2   2020_homelesess  49 non-null     object \n",
      " 3   2019_homelesess  49 non-null     object \n",
      " 4   2018_homelesess  49 non-null     object \n",
      " 5   2017_homelesess  49 non-null     object \n",
      " 6   2016_homelesess  49 non-null     object \n",
      " 7   2015_homelesess  49 non-null     object \n",
      " 8   2014_homelesess  49 non-null     object \n",
      " 9   2013_homelesess  49 non-null     object \n",
      " 10  2012_homelesess  49 non-null     object \n",
      " 11  2022_rental      49 non-null     float64\n",
      " 12  2021_rental      49 non-null     float64\n",
      " 13  2020_rental      49 non-null     float64\n",
      " 14  2019_rental      49 non-null     float64\n",
      " 15  2018_rental      49 non-null     float64\n",
      " 16  2017_rental      49 non-null     float64\n",
      " 17  2016_rental      49 non-null     float64\n",
      " 18  2015_rental      49 non-null     float64\n",
      " 19  2014_rental      49 non-null     float64\n",
      " 20  2013_rental      49 non-null     float64\n",
      " 21  2012_rental      49 non-null     float64\n",
      "dtypes: float64(11), object(11)\n",
      "memory usage: 8.8+ KB\n"
     ]
    }
   ],
   "source": [
    "merge_DF.dropna(how ='any',inplace=True)\n",
    "merge_DF.info()\n"
   ]
  },
  {
   "cell_type": "code",
   "execution_count": 20,
   "id": "1e028bcb",
   "metadata": {},
   "outputs": [],
   "source": [
    "merge_DF.to_csv(\"../Resources/merge_file.csv\")"
   ]
  },
  {
   "cell_type": "code",
   "execution_count": 21,
   "id": "1bde5d43",
   "metadata": {},
   "outputs": [
    {
     "data": {
      "text/html": [
       "<div>\n",
       "<style scoped>\n",
       "    .dataframe tbody tr th:only-of-type {\n",
       "        vertical-align: middle;\n",
       "    }\n",
       "\n",
       "    .dataframe tbody tr th {\n",
       "        vertical-align: top;\n",
       "    }\n",
       "\n",
       "    .dataframe thead th {\n",
       "        text-align: right;\n",
       "    }\n",
       "</style>\n",
       "<table border=\"1\" class=\"dataframe\">\n",
       "  <thead>\n",
       "    <tr style=\"text-align: right;\">\n",
       "      <th></th>\n",
       "      <th>State</th>\n",
       "      <th>2022_homelesess</th>\n",
       "      <th>2021_homelesess</th>\n",
       "      <th>2020_homelesess</th>\n",
       "      <th>2019_homelesess</th>\n",
       "      <th>2018_homelesess</th>\n",
       "      <th>2017_homelesess</th>\n",
       "      <th>2016_homelesess</th>\n",
       "      <th>2015_homelesess</th>\n",
       "      <th>2014_homelesess</th>\n",
       "      <th>...</th>\n",
       "      <th>2021_rental</th>\n",
       "      <th>2020_rental</th>\n",
       "      <th>2019_rental</th>\n",
       "      <th>2018_rental</th>\n",
       "      <th>2017_rental</th>\n",
       "      <th>2016_rental</th>\n",
       "      <th>2015_rental</th>\n",
       "      <th>2014_rental</th>\n",
       "      <th>2013_rental</th>\n",
       "      <th>2012_rental</th>\n",
       "    </tr>\n",
       "  </thead>\n",
       "  <tbody>\n",
       "    <tr>\n",
       "      <th>0</th>\n",
       "      <td>AK</td>\n",
       "      <td>2320</td>\n",
       "      <td>1949</td>\n",
       "      <td>1949</td>\n",
       "      <td>1907</td>\n",
       "      <td>2016</td>\n",
       "      <td>1845</td>\n",
       "      <td>1940.0</td>\n",
       "      <td>1956.0</td>\n",
       "      <td>1784.0</td>\n",
       "      <td>...</td>\n",
       "      <td>2340.0</td>\n",
       "      <td>1990.0</td>\n",
       "      <td>2016.0</td>\n",
       "      <td>1967.0</td>\n",
       "      <td>1900.0</td>\n",
       "      <td>1903.0</td>\n",
       "      <td>1940.0</td>\n",
       "      <td>1957.0</td>\n",
       "      <td>1909.0</td>\n",
       "      <td>1908.0</td>\n",
       "    </tr>\n",
       "    <tr>\n",
       "      <th>1</th>\n",
       "      <td>AL</td>\n",
       "      <td>3752</td>\n",
       "      <td>2556</td>\n",
       "      <td>3351</td>\n",
       "      <td>3261</td>\n",
       "      <td>3434</td>\n",
       "      <td>3793</td>\n",
       "      <td>4111.0</td>\n",
       "      <td>3970.0</td>\n",
       "      <td>4561.0</td>\n",
       "      <td>...</td>\n",
       "      <td>1240.0</td>\n",
       "      <td>1054.0</td>\n",
       "      <td>1068.0</td>\n",
       "      <td>1042.0</td>\n",
       "      <td>1007.0</td>\n",
       "      <td>1016.0</td>\n",
       "      <td>958.0</td>\n",
       "      <td>1103.0</td>\n",
       "      <td>1022.0</td>\n",
       "      <td>945.0</td>\n",
       "    </tr>\n",
       "    <tr>\n",
       "      <th>2</th>\n",
       "      <td>AR</td>\n",
       "      <td>2459</td>\n",
       "      <td>2139</td>\n",
       "      <td>2366</td>\n",
       "      <td>2717</td>\n",
       "      <td>2712</td>\n",
       "      <td>2467</td>\n",
       "      <td>2463.0</td>\n",
       "      <td>2560.0</td>\n",
       "      <td>2936.0</td>\n",
       "      <td>...</td>\n",
       "      <td>1334.0</td>\n",
       "      <td>1134.0</td>\n",
       "      <td>1149.0</td>\n",
       "      <td>1121.0</td>\n",
       "      <td>1083.0</td>\n",
       "      <td>1081.0</td>\n",
       "      <td>1045.0</td>\n",
       "      <td>1075.0</td>\n",
       "      <td>953.0</td>\n",
       "      <td>929.0</td>\n",
       "    </tr>\n",
       "    <tr>\n",
       "      <th>3</th>\n",
       "      <td>AZ</td>\n",
       "      <td>13553</td>\n",
       "      <td>5460</td>\n",
       "      <td>10979</td>\n",
       "      <td>10007</td>\n",
       "      <td>9865</td>\n",
       "      <td>8947</td>\n",
       "      <td>9707.0</td>\n",
       "      <td>9896.0</td>\n",
       "      <td>10495.0</td>\n",
       "      <td>...</td>\n",
       "      <td>1556.0</td>\n",
       "      <td>1323.0</td>\n",
       "      <td>1340.0</td>\n",
       "      <td>1307.0</td>\n",
       "      <td>1263.0</td>\n",
       "      <td>1260.0</td>\n",
       "      <td>1227.0</td>\n",
       "      <td>1222.0</td>\n",
       "      <td>1210.0</td>\n",
       "      <td>1201.0</td>\n",
       "    </tr>\n",
       "    <tr>\n",
       "      <th>4</th>\n",
       "      <td>CA</td>\n",
       "      <td>171521</td>\n",
       "      <td>57468</td>\n",
       "      <td>161548</td>\n",
       "      <td>151278</td>\n",
       "      <td>129972</td>\n",
       "      <td>131532</td>\n",
       "      <td>118142.0</td>\n",
       "      <td>115738.0</td>\n",
       "      <td>113952.0</td>\n",
       "      <td>...</td>\n",
       "      <td>3040.0</td>\n",
       "      <td>2585.0</td>\n",
       "      <td>2619.0</td>\n",
       "      <td>2555.0</td>\n",
       "      <td>2469.0</td>\n",
       "      <td>2465.0</td>\n",
       "      <td>2345.0</td>\n",
       "      <td>2237.0</td>\n",
       "      <td>2132.0</td>\n",
       "      <td>2031.0</td>\n",
       "    </tr>\n",
       "  </tbody>\n",
       "</table>\n",
       "<p>5 rows × 23 columns</p>\n",
       "</div>"
      ],
      "text/plain": [
       "  State  2022_homelesess  2021_homelesess  2020_homelesess  2019_homelesess  \\\n",
       "0    AK             2320             1949             1949             1907   \n",
       "1    AL             3752             2556             3351             3261   \n",
       "2    AR             2459             2139             2366             2717   \n",
       "3    AZ            13553             5460            10979            10007   \n",
       "4    CA           171521            57468           161548           151278   \n",
       "\n",
       "   2018_homelesess  2017_homelesess  2016_homelesess  2015_homelesess  \\\n",
       "0             2016             1845           1940.0           1956.0   \n",
       "1             3434             3793           4111.0           3970.0   \n",
       "2             2712             2467           2463.0           2560.0   \n",
       "3             9865             8947           9707.0           9896.0   \n",
       "4           129972           131532         118142.0         115738.0   \n",
       "\n",
       "   2014_homelesess  ...  2021_rental  2020_rental  2019_rental  2018_rental  \\\n",
       "0           1784.0  ...       2340.0       1990.0       2016.0       1967.0   \n",
       "1           4561.0  ...       1240.0       1054.0       1068.0       1042.0   \n",
       "2           2936.0  ...       1334.0       1134.0       1149.0       1121.0   \n",
       "3          10495.0  ...       1556.0       1323.0       1340.0       1307.0   \n",
       "4         113952.0  ...       3040.0       2585.0       2619.0       2555.0   \n",
       "\n",
       "   2017_rental  2016_rental  2015_rental  2014_rental  2013_rental  \\\n",
       "0       1900.0       1903.0       1940.0       1957.0       1909.0   \n",
       "1       1007.0       1016.0        958.0       1103.0       1022.0   \n",
       "2       1083.0       1081.0       1045.0       1075.0        953.0   \n",
       "3       1263.0       1260.0       1227.0       1222.0       1210.0   \n",
       "4       2469.0       2465.0       2345.0       2237.0       2132.0   \n",
       "\n",
       "   2012_rental  \n",
       "0       1908.0  \n",
       "1        945.0  \n",
       "2        929.0  \n",
       "3       1201.0  \n",
       "4       2031.0  \n",
       "\n",
       "[5 rows x 23 columns]"
      ]
     },
     "execution_count": 21,
     "metadata": {},
     "output_type": "execute_result"
    }
   ],
   "source": [
    "merge_data = Path(\"../Resources/merge_file.csv\")\n",
    "merge_df = pd.read_csv(merge_data)\n",
    "merge_df.head()"
   ]
  },
  {
   "cell_type": "code",
   "execution_count": 23,
   "id": "52525ab3",
   "metadata": {},
   "outputs": [
    {
     "data": {
      "text/plain": [
       "[0.7032699158867,\n",
       " -0.5401698082906344,\n",
       " -0.7293032649055923,\n",
       " -0.08116113854907588,\n",
       " 0.08526594988822515,\n",
       " -0.5864216882578707,\n",
       " -0.8126363860373677,\n",
       " -0.8896202899457616,\n",
       " 0.9092862387030219,\n",
       " -0.8913837656671405,\n",
       " -0.8197139746785923,\n",
       " -0.5795651198821752,\n",
       " -0.6602339034331199,\n",
       " 0.08358068871767334,\n",
       " -0.8510344810226538,\n",
       " -0.6951466484234711,\n",
       " -0.5368653080975704,\n",
       " -0.7538956786956933,\n",
       " 0.11610161214340858,\n",
       " -0.6845013714734712,\n",
       " -0.9314993679703446,\n",
       " 0.3535260061994191,\n",
       " -0.8039070726308136,\n",
       " -0.39066272481941383,\n",
       " -0.8897765018130165,\n",
       " -0.16098280106915572,\n",
       " -0.7018029831238649,\n",
       " -0.3217265790093112,\n",
       " -0.9023937506823502,\n",
       " 0.41719035826646456,\n",
       " -0.7828607145369638,\n",
       " -0.04304561761185524,\n",
       " -0.49334961426540697,\n",
       " -0.4336043393658582,\n",
       " -0.6957100125021061,\n",
       " -0.7621767668600055,\n",
       " -0.007925107999305755,\n",
       " -0.8310621459897568,\n",
       " 0.3137332761197743,\n",
       " -0.7113902122450045,\n",
       " 0.3546001332873305,\n",
       " -0.29039288728404006,\n",
       " -0.7234249758266915,\n",
       " 0.3119717148045225,\n",
       " -0.42629004206038074,\n",
       " 0.8066778702686939,\n",
       " 0.04069925957383439,\n",
       " -0.7707820771200911,\n",
       " -0.575877402505886]"
      ]
     },
     "execution_count": 23,
     "metadata": {},
     "output_type": "execute_result"
    }
   ],
   "source": [
    "state_correlation = []\n",
    "p_value_correlation = []\n",
    "\n",
    "for k in merge_df[\"State\"].index:\n",
    "    homelesess = merge_df.iloc[k,1:12].values\n",
    "    rental_price=merge_df.iloc[k,12:24].values\n",
    "    pe_slope, pe_int, pe_r, pe_p, pe_std_err = linregress(homelesess.astype(int), rental_price.astype(int))\n",
    "    state_correlation.append(pe_r)\n",
    "    p_value_correlation.append(pe_p)\n",
    "    \n",
    "state_correlation\n",
    "    "
   ]
  },
  {
   "cell_type": "code",
   "execution_count": 35,
   "id": "de4bc3d4",
   "metadata": {},
   "outputs": [
    {
     "data": {
      "application/vnd.plotly.v1+json": {
       "config": {
        "plotlyServerURL": "https://plot.ly"
       },
       "data": [
        {
         "coloraxis": "coloraxis",
         "geo": "geo",
         "hovertemplate": "locations=%{location}<br>color=%{z}<extra></extra>",
         "locationmode": "USA-states",
         "locations": [
          "AK",
          "AL",
          "AR",
          "AZ",
          "CA",
          "CO",
          "CT",
          "DC",
          "DE",
          "FL",
          "GA",
          "HI",
          "IA",
          "ID",
          "IL",
          "IN",
          "KS",
          "KY",
          "LA",
          "MA",
          "MD",
          "ME",
          "MI",
          "MN",
          "MS",
          "MT",
          "NC",
          "ND",
          "NE",
          "NH",
          "NJ",
          "NM",
          "NV",
          "NY",
          "OH",
          "OK",
          "OR",
          "PA",
          "RI",
          "SC",
          "SD",
          "TN",
          "TX",
          "UT",
          "VA",
          "VT",
          "WA",
          "WI",
          "WV"
         ],
         "name": "",
         "type": "choropleth",
         "z": [
          0.7032699158867,
          -0.5401698082906344,
          -0.7293032649055923,
          -0.08116113854907588,
          0.08526594988822515,
          -0.5864216882578707,
          -0.8126363860373677,
          -0.8896202899457616,
          0.9092862387030219,
          -0.8913837656671405,
          -0.8197139746785923,
          -0.5795651198821752,
          -0.6602339034331199,
          0.08358068871767334,
          -0.8510344810226538,
          -0.6951466484234711,
          -0.5368653080975704,
          -0.7538956786956933,
          0.11610161214340858,
          -0.6845013714734712,
          -0.9314993679703446,
          0.3535260061994191,
          -0.8039070726308136,
          -0.39066272481941383,
          -0.8897765018130165,
          -0.16098280106915572,
          -0.7018029831238649,
          -0.3217265790093112,
          -0.9023937506823502,
          0.41719035826646456,
          -0.7828607145369638,
          -0.04304561761185524,
          -0.49334961426540697,
          -0.4336043393658582,
          -0.6957100125021061,
          -0.7621767668600055,
          -0.007925107999305755,
          -0.8310621459897568,
          0.3137332761197743,
          -0.7113902122450045,
          0.3546001332873305,
          -0.29039288728404006,
          -0.7234249758266915,
          0.3119717148045225,
          -0.42629004206038074,
          0.8066778702686939,
          0.04069925957383439,
          -0.7707820771200911,
          -0.575877402505886
         ]
        }
       ],
       "layout": {
        "coloraxis": {
         "colorbar": {
          "title": {
           "text": "Correlation Coefficients"
          }
         },
         "colorscale": [
          [
           0,
           "#440154"
          ],
          [
           0.1111111111111111,
           "#482878"
          ],
          [
           0.2222222222222222,
           "#3e4989"
          ],
          [
           0.3333333333333333,
           "#31688e"
          ],
          [
           0.4444444444444444,
           "#26828e"
          ],
          [
           0.5555555555555556,
           "#1f9e89"
          ],
          [
           0.6666666666666666,
           "#35b779"
          ],
          [
           0.7777777777777778,
           "#6ece58"
          ],
          [
           0.8888888888888888,
           "#b5de2b"
          ],
          [
           1,
           "#fde725"
          ]
         ]
        },
        "geo": {
         "center": {},
         "domain": {
          "x": [
           0,
           1
          ],
          "y": [
           0,
           1
          ]
         },
         "scope": "usa"
        },
        "legend": {
         "tracegroupgap": 0
        },
        "margin": {
         "b": 50,
         "l": 60,
         "r": 60,
         "t": 50
        },
        "template": {
         "data": {
          "bar": [
           {
            "error_x": {
             "color": "#2a3f5f"
            },
            "error_y": {
             "color": "#2a3f5f"
            },
            "marker": {
             "line": {
              "color": "#E5ECF6",
              "width": 0.5
             },
             "pattern": {
              "fillmode": "overlay",
              "size": 10,
              "solidity": 0.2
             }
            },
            "type": "bar"
           }
          ],
          "barpolar": [
           {
            "marker": {
             "line": {
              "color": "#E5ECF6",
              "width": 0.5
             },
             "pattern": {
              "fillmode": "overlay",
              "size": 10,
              "solidity": 0.2
             }
            },
            "type": "barpolar"
           }
          ],
          "carpet": [
           {
            "aaxis": {
             "endlinecolor": "#2a3f5f",
             "gridcolor": "white",
             "linecolor": "white",
             "minorgridcolor": "white",
             "startlinecolor": "#2a3f5f"
            },
            "baxis": {
             "endlinecolor": "#2a3f5f",
             "gridcolor": "white",
             "linecolor": "white",
             "minorgridcolor": "white",
             "startlinecolor": "#2a3f5f"
            },
            "type": "carpet"
           }
          ],
          "choropleth": [
           {
            "colorbar": {
             "outlinewidth": 0,
             "ticks": ""
            },
            "type": "choropleth"
           }
          ],
          "contour": [
           {
            "colorbar": {
             "outlinewidth": 0,
             "ticks": ""
            },
            "colorscale": [
             [
              0,
              "#0d0887"
             ],
             [
              0.1111111111111111,
              "#46039f"
             ],
             [
              0.2222222222222222,
              "#7201a8"
             ],
             [
              0.3333333333333333,
              "#9c179e"
             ],
             [
              0.4444444444444444,
              "#bd3786"
             ],
             [
              0.5555555555555556,
              "#d8576b"
             ],
             [
              0.6666666666666666,
              "#ed7953"
             ],
             [
              0.7777777777777778,
              "#fb9f3a"
             ],
             [
              0.8888888888888888,
              "#fdca26"
             ],
             [
              1,
              "#f0f921"
             ]
            ],
            "type": "contour"
           }
          ],
          "contourcarpet": [
           {
            "colorbar": {
             "outlinewidth": 0,
             "ticks": ""
            },
            "type": "contourcarpet"
           }
          ],
          "heatmap": [
           {
            "colorbar": {
             "outlinewidth": 0,
             "ticks": ""
            },
            "colorscale": [
             [
              0,
              "#0d0887"
             ],
             [
              0.1111111111111111,
              "#46039f"
             ],
             [
              0.2222222222222222,
              "#7201a8"
             ],
             [
              0.3333333333333333,
              "#9c179e"
             ],
             [
              0.4444444444444444,
              "#bd3786"
             ],
             [
              0.5555555555555556,
              "#d8576b"
             ],
             [
              0.6666666666666666,
              "#ed7953"
             ],
             [
              0.7777777777777778,
              "#fb9f3a"
             ],
             [
              0.8888888888888888,
              "#fdca26"
             ],
             [
              1,
              "#f0f921"
             ]
            ],
            "type": "heatmap"
           }
          ],
          "heatmapgl": [
           {
            "colorbar": {
             "outlinewidth": 0,
             "ticks": ""
            },
            "colorscale": [
             [
              0,
              "#0d0887"
             ],
             [
              0.1111111111111111,
              "#46039f"
             ],
             [
              0.2222222222222222,
              "#7201a8"
             ],
             [
              0.3333333333333333,
              "#9c179e"
             ],
             [
              0.4444444444444444,
              "#bd3786"
             ],
             [
              0.5555555555555556,
              "#d8576b"
             ],
             [
              0.6666666666666666,
              "#ed7953"
             ],
             [
              0.7777777777777778,
              "#fb9f3a"
             ],
             [
              0.8888888888888888,
              "#fdca26"
             ],
             [
              1,
              "#f0f921"
             ]
            ],
            "type": "heatmapgl"
           }
          ],
          "histogram": [
           {
            "marker": {
             "pattern": {
              "fillmode": "overlay",
              "size": 10,
              "solidity": 0.2
             }
            },
            "type": "histogram"
           }
          ],
          "histogram2d": [
           {
            "colorbar": {
             "outlinewidth": 0,
             "ticks": ""
            },
            "colorscale": [
             [
              0,
              "#0d0887"
             ],
             [
              0.1111111111111111,
              "#46039f"
             ],
             [
              0.2222222222222222,
              "#7201a8"
             ],
             [
              0.3333333333333333,
              "#9c179e"
             ],
             [
              0.4444444444444444,
              "#bd3786"
             ],
             [
              0.5555555555555556,
              "#d8576b"
             ],
             [
              0.6666666666666666,
              "#ed7953"
             ],
             [
              0.7777777777777778,
              "#fb9f3a"
             ],
             [
              0.8888888888888888,
              "#fdca26"
             ],
             [
              1,
              "#f0f921"
             ]
            ],
            "type": "histogram2d"
           }
          ],
          "histogram2dcontour": [
           {
            "colorbar": {
             "outlinewidth": 0,
             "ticks": ""
            },
            "colorscale": [
             [
              0,
              "#0d0887"
             ],
             [
              0.1111111111111111,
              "#46039f"
             ],
             [
              0.2222222222222222,
              "#7201a8"
             ],
             [
              0.3333333333333333,
              "#9c179e"
             ],
             [
              0.4444444444444444,
              "#bd3786"
             ],
             [
              0.5555555555555556,
              "#d8576b"
             ],
             [
              0.6666666666666666,
              "#ed7953"
             ],
             [
              0.7777777777777778,
              "#fb9f3a"
             ],
             [
              0.8888888888888888,
              "#fdca26"
             ],
             [
              1,
              "#f0f921"
             ]
            ],
            "type": "histogram2dcontour"
           }
          ],
          "mesh3d": [
           {
            "colorbar": {
             "outlinewidth": 0,
             "ticks": ""
            },
            "type": "mesh3d"
           }
          ],
          "parcoords": [
           {
            "line": {
             "colorbar": {
              "outlinewidth": 0,
              "ticks": ""
             }
            },
            "type": "parcoords"
           }
          ],
          "pie": [
           {
            "automargin": true,
            "type": "pie"
           }
          ],
          "scatter": [
           {
            "fillpattern": {
             "fillmode": "overlay",
             "size": 10,
             "solidity": 0.2
            },
            "type": "scatter"
           }
          ],
          "scatter3d": [
           {
            "line": {
             "colorbar": {
              "outlinewidth": 0,
              "ticks": ""
             }
            },
            "marker": {
             "colorbar": {
              "outlinewidth": 0,
              "ticks": ""
             }
            },
            "type": "scatter3d"
           }
          ],
          "scattercarpet": [
           {
            "marker": {
             "colorbar": {
              "outlinewidth": 0,
              "ticks": ""
             }
            },
            "type": "scattercarpet"
           }
          ],
          "scattergeo": [
           {
            "marker": {
             "colorbar": {
              "outlinewidth": 0,
              "ticks": ""
             }
            },
            "type": "scattergeo"
           }
          ],
          "scattergl": [
           {
            "marker": {
             "colorbar": {
              "outlinewidth": 0,
              "ticks": ""
             }
            },
            "type": "scattergl"
           }
          ],
          "scattermapbox": [
           {
            "marker": {
             "colorbar": {
              "outlinewidth": 0,
              "ticks": ""
             }
            },
            "type": "scattermapbox"
           }
          ],
          "scatterpolar": [
           {
            "marker": {
             "colorbar": {
              "outlinewidth": 0,
              "ticks": ""
             }
            },
            "type": "scatterpolar"
           }
          ],
          "scatterpolargl": [
           {
            "marker": {
             "colorbar": {
              "outlinewidth": 0,
              "ticks": ""
             }
            },
            "type": "scatterpolargl"
           }
          ],
          "scatterternary": [
           {
            "marker": {
             "colorbar": {
              "outlinewidth": 0,
              "ticks": ""
             }
            },
            "type": "scatterternary"
           }
          ],
          "surface": [
           {
            "colorbar": {
             "outlinewidth": 0,
             "ticks": ""
            },
            "colorscale": [
             [
              0,
              "#0d0887"
             ],
             [
              0.1111111111111111,
              "#46039f"
             ],
             [
              0.2222222222222222,
              "#7201a8"
             ],
             [
              0.3333333333333333,
              "#9c179e"
             ],
             [
              0.4444444444444444,
              "#bd3786"
             ],
             [
              0.5555555555555556,
              "#d8576b"
             ],
             [
              0.6666666666666666,
              "#ed7953"
             ],
             [
              0.7777777777777778,
              "#fb9f3a"
             ],
             [
              0.8888888888888888,
              "#fdca26"
             ],
             [
              1,
              "#f0f921"
             ]
            ],
            "type": "surface"
           }
          ],
          "table": [
           {
            "cells": {
             "fill": {
              "color": "#EBF0F8"
             },
             "line": {
              "color": "white"
             }
            },
            "header": {
             "fill": {
              "color": "#C8D4E3"
             },
             "line": {
              "color": "white"
             }
            },
            "type": "table"
           }
          ]
         },
         "layout": {
          "annotationdefaults": {
           "arrowcolor": "#2a3f5f",
           "arrowhead": 0,
           "arrowwidth": 1
          },
          "autotypenumbers": "strict",
          "coloraxis": {
           "colorbar": {
            "outlinewidth": 0,
            "ticks": ""
           }
          },
          "colorscale": {
           "diverging": [
            [
             0,
             "#8e0152"
            ],
            [
             0.1,
             "#c51b7d"
            ],
            [
             0.2,
             "#de77ae"
            ],
            [
             0.3,
             "#f1b6da"
            ],
            [
             0.4,
             "#fde0ef"
            ],
            [
             0.5,
             "#f7f7f7"
            ],
            [
             0.6,
             "#e6f5d0"
            ],
            [
             0.7,
             "#b8e186"
            ],
            [
             0.8,
             "#7fbc41"
            ],
            [
             0.9,
             "#4d9221"
            ],
            [
             1,
             "#276419"
            ]
           ],
           "sequential": [
            [
             0,
             "#0d0887"
            ],
            [
             0.1111111111111111,
             "#46039f"
            ],
            [
             0.2222222222222222,
             "#7201a8"
            ],
            [
             0.3333333333333333,
             "#9c179e"
            ],
            [
             0.4444444444444444,
             "#bd3786"
            ],
            [
             0.5555555555555556,
             "#d8576b"
            ],
            [
             0.6666666666666666,
             "#ed7953"
            ],
            [
             0.7777777777777778,
             "#fb9f3a"
            ],
            [
             0.8888888888888888,
             "#fdca26"
            ],
            [
             1,
             "#f0f921"
            ]
           ],
           "sequentialminus": [
            [
             0,
             "#0d0887"
            ],
            [
             0.1111111111111111,
             "#46039f"
            ],
            [
             0.2222222222222222,
             "#7201a8"
            ],
            [
             0.3333333333333333,
             "#9c179e"
            ],
            [
             0.4444444444444444,
             "#bd3786"
            ],
            [
             0.5555555555555556,
             "#d8576b"
            ],
            [
             0.6666666666666666,
             "#ed7953"
            ],
            [
             0.7777777777777778,
             "#fb9f3a"
            ],
            [
             0.8888888888888888,
             "#fdca26"
            ],
            [
             1,
             "#f0f921"
            ]
           ]
          },
          "colorway": [
           "#636efa",
           "#EF553B",
           "#00cc96",
           "#ab63fa",
           "#FFA15A",
           "#19d3f3",
           "#FF6692",
           "#B6E880",
           "#FF97FF",
           "#FECB52"
          ],
          "font": {
           "color": "#2a3f5f"
          },
          "geo": {
           "bgcolor": "white",
           "lakecolor": "white",
           "landcolor": "#E5ECF6",
           "showlakes": true,
           "showland": true,
           "subunitcolor": "white"
          },
          "hoverlabel": {
           "align": "left"
          },
          "hovermode": "closest",
          "mapbox": {
           "style": "light"
          },
          "paper_bgcolor": "white",
          "plot_bgcolor": "#E5ECF6",
          "polar": {
           "angularaxis": {
            "gridcolor": "white",
            "linecolor": "white",
            "ticks": ""
           },
           "bgcolor": "#E5ECF6",
           "radialaxis": {
            "gridcolor": "white",
            "linecolor": "white",
            "ticks": ""
           }
          },
          "scene": {
           "xaxis": {
            "backgroundcolor": "#E5ECF6",
            "gridcolor": "white",
            "gridwidth": 2,
            "linecolor": "white",
            "showbackground": true,
            "ticks": "",
            "zerolinecolor": "white"
           },
           "yaxis": {
            "backgroundcolor": "#E5ECF6",
            "gridcolor": "white",
            "gridwidth": 2,
            "linecolor": "white",
            "showbackground": true,
            "ticks": "",
            "zerolinecolor": "white"
           },
           "zaxis": {
            "backgroundcolor": "#E5ECF6",
            "gridcolor": "white",
            "gridwidth": 2,
            "linecolor": "white",
            "showbackground": true,
            "ticks": "",
            "zerolinecolor": "white"
           }
          },
          "shapedefaults": {
           "line": {
            "color": "#2a3f5f"
           }
          },
          "ternary": {
           "aaxis": {
            "gridcolor": "white",
            "linecolor": "white",
            "ticks": ""
           },
           "baxis": {
            "gridcolor": "white",
            "linecolor": "white",
            "ticks": ""
           },
           "bgcolor": "#E5ECF6",
           "caxis": {
            "gridcolor": "white",
            "linecolor": "white",
            "ticks": ""
           }
          },
          "title": {
           "x": 0.05
          },
          "xaxis": {
           "automargin": true,
           "gridcolor": "white",
           "linecolor": "white",
           "ticks": "",
           "title": {
            "standoff": 15
           },
           "zerolinecolor": "white",
           "zerolinewidth": 2
          },
          "yaxis": {
           "automargin": true,
           "gridcolor": "white",
           "linecolor": "white",
           "ticks": "",
           "title": {
            "standoff": 15
           },
           "zerolinecolor": "white",
           "zerolinewidth": 2
          }
         }
        }
       }
      }
     },
     "metadata": {},
     "output_type": "display_data"
    }
   ],
   "source": [
    "fig = px.choropleth(locations=merge_df[\"State\"], locationmode=\"USA-states\", \n",
    "                    color=state_correlation, scope=\"usa\", \n",
    "                    color_continuous_scale=\"Viridis\")\n",
    "fig.update_layout(margin=dict(l=60, r=60, t=50, b=50))\n",
    "fig.layout.coloraxis.colorbar.title = 'Correlation Coefficients'\n",
    "fig.show()"
   ]
  },
  {
   "cell_type": "code",
   "execution_count": 27,
   "id": "6d4b3d87",
   "metadata": {},
   "outputs": [],
   "source": [
    "def linear_regression_plot(x, y):\n",
    "    # Perform linear regression\n",
    "    pe_slope, pe_int, pe_r, pe_p, pe_std_err = linregress(x, y.astype(int))\n",
    "    regression_line = pe_slope * np.array(x) + pe_int\n",
    "\n",
    "    print(f'The r-value is: {round(pe_r,2)}')\n",
    "\n",
    "    # Plotting\n",
    "    plt.scatter(x, y, label='Data Points')\n",
    "    plt.plot(x, regression_line, color='red', label='Linear Regression')\n",
    "    plt.annotate(f'y = {round(pe_slope,2)}x + {round(pe_int,2)}', xy=(min(x)+5,min(y)), \n",
    "                 xycoords='data', color='red', size=15)"
   ]
  },
  {
   "cell_type": "code",
   "execution_count": 39,
   "id": "e3b149bf",
   "metadata": {},
   "outputs": [
    {
     "name": "stdout",
     "output_type": "stream",
     "text": [
      "The r-value is: 0.09\n"
     ]
    },
    {
     "data": {
      "image/png": "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",
      "text/plain": [
       "<Figure size 640x480 with 1 Axes>"
      ]
     },
     "metadata": {},
     "output_type": "display_data"
    }
   ],
   "source": [
    "ca_idx = merge_df.loc[merge_df[\"State\"]=='CA'].index\n",
    "ca_idx = ca_idx[0]\n",
    "homelesess_CA = merge_df.iloc[ca_idx,1:12].values\n",
    "rental_price_CA=merge_df.iloc[ca_idx,12:24].values\n",
    "linear_regression_plot(homelesess_CA.astype(int), rental_price_CA.astype(int))\n",
    "plt.title(\"California\")\n",
    "plt.xlabel(\"Homelesess\")\n",
    "plt.ylabel(\"Rental price\")\n",
    "plt.show()"
   ]
  },
  {
   "cell_type": "code",
   "execution_count": 44,
   "id": "7d888025",
   "metadata": {},
   "outputs": [
    {
     "name": "stdout",
     "output_type": "stream",
     "text": [
      "The r-value is: -0.93\n"
     ]
    },
    {
     "data": {
      "image/png": "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",
      "text/plain": [
       "<Figure size 640x480 with 1 Axes>"
      ]
     },
     "metadata": {},
     "output_type": "display_data"
    }
   ],
   "source": [
    "val_min = min(state_correlation)\n",
    "idx= state_correlation.index(val_min)\n",
    "idx\n",
    "homelesess_CA = merge_df.iloc[idx,1:12].values\n",
    "rental_price_CA=merge_df.iloc[idx,12:24].values\n",
    "linear_regression_plot(homelesess_CA.astype(int), rental_price_CA.astype(int))\n",
    "plt.title(\"California\")\n",
    "plt.xlabel(\"Homelesess\")\n",
    "plt.ylabel(\"Rental price\")\n",
    "plt.show()"
   ]
  }
 ],
 "metadata": {
  "kernelspec": {
   "display_name": "Python 3 (ipykernel)",
   "language": "python",
   "name": "python3"
  },
  "language_info": {
   "codemirror_mode": {
    "name": "ipython",
    "version": 3
   },
   "file_extension": ".py",
   "mimetype": "text/x-python",
   "name": "python",
   "nbconvert_exporter": "python",
   "pygments_lexer": "ipython3",
   "version": "3.9.18"
  }
 },
 "nbformat": 4,
 "nbformat_minor": 5
}
